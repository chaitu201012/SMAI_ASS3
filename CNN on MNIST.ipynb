{
  "nbformat": 4,
  "nbformat_minor": 0,
  "metadata": {
    "colab": {
      "name": "Deep_ques2.ipynb",
      "provenance": [],
      "collapsed_sections": [
        "90j6aOGvdW4M",
        "qmeQ0ggEAsG2",
        "phu3-QJsKDI1",
        "EvFgwykwAsG6",
        "T5_pfGTCp3EE",
        "2BC0790iAsG7",
        "qYVbpXuxqG6S",
        "W6FZrNJiqW1i",
        "bQFEyJE9tBLV",
        "ZiDFc7_kwPOf",
        "bX1Tu_I5w5ao",
        "qLP2UC5j1kvf",
        "TaJEU5vghyJH",
        "f4BCPgjZizeG",
        "t3wmUpSYF-Zx",
        "pyxx5L2Ritxr"
      ]
    },
    "kernelspec": {
      "display_name": "Python 3",
      "name": "python3"
    },
    "language_info": {
      "name": "python"
    },
    "widgets": {
      "application/vnd.jupyter.widget-state+json": {
        "6b2cdd9c96424fca92a0e96e451c1563": {
          "model_module": "@jupyter-widgets/controls",
          "model_name": "HBoxModel",
          "state": {
            "_view_name": "HBoxView",
            "_dom_classes": [],
            "_model_name": "HBoxModel",
            "_view_module": "@jupyter-widgets/controls",
            "_model_module_version": "1.5.0",
            "_view_count": null,
            "_view_module_version": "1.5.0",
            "box_style": "",
            "layout": "IPY_MODEL_dd6068d6a2d84194b7d8401afe2d3be3",
            "_model_module": "@jupyter-widgets/controls",
            "children": [
              "IPY_MODEL_4132b543a9f44ff4b4bc0224fab5f974",
              "IPY_MODEL_55edf21468b345bdbe6120c167196140"
            ]
          }
        },
        "dd6068d6a2d84194b7d8401afe2d3be3": {
          "model_module": "@jupyter-widgets/base",
          "model_name": "LayoutModel",
          "state": {
            "_view_name": "LayoutView",
            "grid_template_rows": null,
            "right": null,
            "justify_content": null,
            "_view_module": "@jupyter-widgets/base",
            "overflow": null,
            "_model_module_version": "1.2.0",
            "_view_count": null,
            "flex_flow": null,
            "width": null,
            "min_width": null,
            "border": null,
            "align_items": null,
            "bottom": null,
            "_model_module": "@jupyter-widgets/base",
            "top": null,
            "grid_column": null,
            "overflow_y": null,
            "overflow_x": null,
            "grid_auto_flow": null,
            "grid_area": null,
            "grid_template_columns": null,
            "flex": null,
            "_model_name": "LayoutModel",
            "justify_items": null,
            "grid_row": null,
            "max_height": null,
            "align_content": null,
            "visibility": null,
            "align_self": null,
            "height": null,
            "min_height": null,
            "padding": null,
            "grid_auto_rows": null,
            "grid_gap": null,
            "max_width": null,
            "order": null,
            "_view_module_version": "1.2.0",
            "grid_template_areas": null,
            "object_position": null,
            "object_fit": null,
            "grid_auto_columns": null,
            "margin": null,
            "display": null,
            "left": null
          }
        },
        "4132b543a9f44ff4b4bc0224fab5f974": {
          "model_module": "@jupyter-widgets/controls",
          "model_name": "FloatProgressModel",
          "state": {
            "_view_name": "ProgressView",
            "style": "IPY_MODEL_aad1af0fad0b4e84a8feaded5cff6327",
            "_dom_classes": [],
            "description": "",
            "_model_name": "FloatProgressModel",
            "bar_style": "success",
            "max": 9912422,
            "_view_module": "@jupyter-widgets/controls",
            "_model_module_version": "1.5.0",
            "value": 9912422,
            "_view_count": null,
            "_view_module_version": "1.5.0",
            "orientation": "horizontal",
            "min": 0,
            "description_tooltip": null,
            "_model_module": "@jupyter-widgets/controls",
            "layout": "IPY_MODEL_d2faf9c969194624a6173ff703e70598"
          }
        },
        "55edf21468b345bdbe6120c167196140": {
          "model_module": "@jupyter-widgets/controls",
          "model_name": "HTMLModel",
          "state": {
            "_view_name": "HTMLView",
            "style": "IPY_MODEL_d5d1b2e556b446c6849a5dcdbb3491e1",
            "_dom_classes": [],
            "description": "",
            "_model_name": "HTMLModel",
            "placeholder": "​",
            "_view_module": "@jupyter-widgets/controls",
            "_model_module_version": "1.5.0",
            "value": " 9913344/? [00:10&lt;00:00, 977441.29it/s]",
            "_view_count": null,
            "_view_module_version": "1.5.0",
            "description_tooltip": null,
            "_model_module": "@jupyter-widgets/controls",
            "layout": "IPY_MODEL_d3c2df7075d54caba9084be393f5f16a"
          }
        },
        "aad1af0fad0b4e84a8feaded5cff6327": {
          "model_module": "@jupyter-widgets/controls",
          "model_name": "ProgressStyleModel",
          "state": {
            "_view_name": "StyleView",
            "_model_name": "ProgressStyleModel",
            "description_width": "initial",
            "_view_module": "@jupyter-widgets/base",
            "_model_module_version": "1.5.0",
            "_view_count": null,
            "_view_module_version": "1.2.0",
            "bar_color": null,
            "_model_module": "@jupyter-widgets/controls"
          }
        },
        "d2faf9c969194624a6173ff703e70598": {
          "model_module": "@jupyter-widgets/base",
          "model_name": "LayoutModel",
          "state": {
            "_view_name": "LayoutView",
            "grid_template_rows": null,
            "right": null,
            "justify_content": null,
            "_view_module": "@jupyter-widgets/base",
            "overflow": null,
            "_model_module_version": "1.2.0",
            "_view_count": null,
            "flex_flow": null,
            "width": null,
            "min_width": null,
            "border": null,
            "align_items": null,
            "bottom": null,
            "_model_module": "@jupyter-widgets/base",
            "top": null,
            "grid_column": null,
            "overflow_y": null,
            "overflow_x": null,
            "grid_auto_flow": null,
            "grid_area": null,
            "grid_template_columns": null,
            "flex": null,
            "_model_name": "LayoutModel",
            "justify_items": null,
            "grid_row": null,
            "max_height": null,
            "align_content": null,
            "visibility": null,
            "align_self": null,
            "height": null,
            "min_height": null,
            "padding": null,
            "grid_auto_rows": null,
            "grid_gap": null,
            "max_width": null,
            "order": null,
            "_view_module_version": "1.2.0",
            "grid_template_areas": null,
            "object_position": null,
            "object_fit": null,
            "grid_auto_columns": null,
            "margin": null,
            "display": null,
            "left": null
          }
        },
        "d5d1b2e556b446c6849a5dcdbb3491e1": {
          "model_module": "@jupyter-widgets/controls",
          "model_name": "DescriptionStyleModel",
          "state": {
            "_view_name": "StyleView",
            "_model_name": "DescriptionStyleModel",
            "description_width": "",
            "_view_module": "@jupyter-widgets/base",
            "_model_module_version": "1.5.0",
            "_view_count": null,
            "_view_module_version": "1.2.0",
            "_model_module": "@jupyter-widgets/controls"
          }
        },
        "d3c2df7075d54caba9084be393f5f16a": {
          "model_module": "@jupyter-widgets/base",
          "model_name": "LayoutModel",
          "state": {
            "_view_name": "LayoutView",
            "grid_template_rows": null,
            "right": null,
            "justify_content": null,
            "_view_module": "@jupyter-widgets/base",
            "overflow": null,
            "_model_module_version": "1.2.0",
            "_view_count": null,
            "flex_flow": null,
            "width": null,
            "min_width": null,
            "border": null,
            "align_items": null,
            "bottom": null,
            "_model_module": "@jupyter-widgets/base",
            "top": null,
            "grid_column": null,
            "overflow_y": null,
            "overflow_x": null,
            "grid_auto_flow": null,
            "grid_area": null,
            "grid_template_columns": null,
            "flex": null,
            "_model_name": "LayoutModel",
            "justify_items": null,
            "grid_row": null,
            "max_height": null,
            "align_content": null,
            "visibility": null,
            "align_self": null,
            "height": null,
            "min_height": null,
            "padding": null,
            "grid_auto_rows": null,
            "grid_gap": null,
            "max_width": null,
            "order": null,
            "_view_module_version": "1.2.0",
            "grid_template_areas": null,
            "object_position": null,
            "object_fit": null,
            "grid_auto_columns": null,
            "margin": null,
            "display": null,
            "left": null
          }
        },
        "d8a942d9445f47199af53112ce9ab37d": {
          "model_module": "@jupyter-widgets/controls",
          "model_name": "HBoxModel",
          "state": {
            "_view_name": "HBoxView",
            "_dom_classes": [],
            "_model_name": "HBoxModel",
            "_view_module": "@jupyter-widgets/controls",
            "_model_module_version": "1.5.0",
            "_view_count": null,
            "_view_module_version": "1.5.0",
            "box_style": "",
            "layout": "IPY_MODEL_40bf870e917f4e0c855325cb6442083c",
            "_model_module": "@jupyter-widgets/controls",
            "children": [
              "IPY_MODEL_e3764524cfd64d409e97c4bbe2e0efd8",
              "IPY_MODEL_a97f4d2cbbb34030991eb8e3befb9317"
            ]
          }
        },
        "40bf870e917f4e0c855325cb6442083c": {
          "model_module": "@jupyter-widgets/base",
          "model_name": "LayoutModel",
          "state": {
            "_view_name": "LayoutView",
            "grid_template_rows": null,
            "right": null,
            "justify_content": null,
            "_view_module": "@jupyter-widgets/base",
            "overflow": null,
            "_model_module_version": "1.2.0",
            "_view_count": null,
            "flex_flow": null,
            "width": null,
            "min_width": null,
            "border": null,
            "align_items": null,
            "bottom": null,
            "_model_module": "@jupyter-widgets/base",
            "top": null,
            "grid_column": null,
            "overflow_y": null,
            "overflow_x": null,
            "grid_auto_flow": null,
            "grid_area": null,
            "grid_template_columns": null,
            "flex": null,
            "_model_name": "LayoutModel",
            "justify_items": null,
            "grid_row": null,
            "max_height": null,
            "align_content": null,
            "visibility": null,
            "align_self": null,
            "height": null,
            "min_height": null,
            "padding": null,
            "grid_auto_rows": null,
            "grid_gap": null,
            "max_width": null,
            "order": null,
            "_view_module_version": "1.2.0",
            "grid_template_areas": null,
            "object_position": null,
            "object_fit": null,
            "grid_auto_columns": null,
            "margin": null,
            "display": null,
            "left": null
          }
        },
        "e3764524cfd64d409e97c4bbe2e0efd8": {
          "model_module": "@jupyter-widgets/controls",
          "model_name": "FloatProgressModel",
          "state": {
            "_view_name": "ProgressView",
            "style": "IPY_MODEL_961b421e811141849399716da2f8241e",
            "_dom_classes": [],
            "description": "",
            "_model_name": "FloatProgressModel",
            "bar_style": "success",
            "max": 28881,
            "_view_module": "@jupyter-widgets/controls",
            "_model_module_version": "1.5.0",
            "value": 28881,
            "_view_count": null,
            "_view_module_version": "1.5.0",
            "orientation": "horizontal",
            "min": 0,
            "description_tooltip": null,
            "_model_module": "@jupyter-widgets/controls",
            "layout": "IPY_MODEL_b2ec394e123d4bc8bfd87286a3490f84"
          }
        },
        "a97f4d2cbbb34030991eb8e3befb9317": {
          "model_module": "@jupyter-widgets/controls",
          "model_name": "HTMLModel",
          "state": {
            "_view_name": "HTMLView",
            "style": "IPY_MODEL_2b84c723f99a428a993dafd8a12cb51a",
            "_dom_classes": [],
            "description": "",
            "_model_name": "HTMLModel",
            "placeholder": "​",
            "_view_module": "@jupyter-widgets/controls",
            "_model_module_version": "1.5.0",
            "value": " 29696/? [00:04&lt;00:00, 6078.36it/s]",
            "_view_count": null,
            "_view_module_version": "1.5.0",
            "description_tooltip": null,
            "_model_module": "@jupyter-widgets/controls",
            "layout": "IPY_MODEL_8caedfc2032843e9888aa8fd2655c63c"
          }
        },
        "961b421e811141849399716da2f8241e": {
          "model_module": "@jupyter-widgets/controls",
          "model_name": "ProgressStyleModel",
          "state": {
            "_view_name": "StyleView",
            "_model_name": "ProgressStyleModel",
            "description_width": "initial",
            "_view_module": "@jupyter-widgets/base",
            "_model_module_version": "1.5.0",
            "_view_count": null,
            "_view_module_version": "1.2.0",
            "bar_color": null,
            "_model_module": "@jupyter-widgets/controls"
          }
        },
        "b2ec394e123d4bc8bfd87286a3490f84": {
          "model_module": "@jupyter-widgets/base",
          "model_name": "LayoutModel",
          "state": {
            "_view_name": "LayoutView",
            "grid_template_rows": null,
            "right": null,
            "justify_content": null,
            "_view_module": "@jupyter-widgets/base",
            "overflow": null,
            "_model_module_version": "1.2.0",
            "_view_count": null,
            "flex_flow": null,
            "width": null,
            "min_width": null,
            "border": null,
            "align_items": null,
            "bottom": null,
            "_model_module": "@jupyter-widgets/base",
            "top": null,
            "grid_column": null,
            "overflow_y": null,
            "overflow_x": null,
            "grid_auto_flow": null,
            "grid_area": null,
            "grid_template_columns": null,
            "flex": null,
            "_model_name": "LayoutModel",
            "justify_items": null,
            "grid_row": null,
            "max_height": null,
            "align_content": null,
            "visibility": null,
            "align_self": null,
            "height": null,
            "min_height": null,
            "padding": null,
            "grid_auto_rows": null,
            "grid_gap": null,
            "max_width": null,
            "order": null,
            "_view_module_version": "1.2.0",
            "grid_template_areas": null,
            "object_position": null,
            "object_fit": null,
            "grid_auto_columns": null,
            "margin": null,
            "display": null,
            "left": null
          }
        },
        "2b84c723f99a428a993dafd8a12cb51a": {
          "model_module": "@jupyter-widgets/controls",
          "model_name": "DescriptionStyleModel",
          "state": {
            "_view_name": "StyleView",
            "_model_name": "DescriptionStyleModel",
            "description_width": "",
            "_view_module": "@jupyter-widgets/base",
            "_model_module_version": "1.5.0",
            "_view_count": null,
            "_view_module_version": "1.2.0",
            "_model_module": "@jupyter-widgets/controls"
          }
        },
        "8caedfc2032843e9888aa8fd2655c63c": {
          "model_module": "@jupyter-widgets/base",
          "model_name": "LayoutModel",
          "state": {
            "_view_name": "LayoutView",
            "grid_template_rows": null,
            "right": null,
            "justify_content": null,
            "_view_module": "@jupyter-widgets/base",
            "overflow": null,
            "_model_module_version": "1.2.0",
            "_view_count": null,
            "flex_flow": null,
            "width": null,
            "min_width": null,
            "border": null,
            "align_items": null,
            "bottom": null,
            "_model_module": "@jupyter-widgets/base",
            "top": null,
            "grid_column": null,
            "overflow_y": null,
            "overflow_x": null,
            "grid_auto_flow": null,
            "grid_area": null,
            "grid_template_columns": null,
            "flex": null,
            "_model_name": "LayoutModel",
            "justify_items": null,
            "grid_row": null,
            "max_height": null,
            "align_content": null,
            "visibility": null,
            "align_self": null,
            "height": null,
            "min_height": null,
            "padding": null,
            "grid_auto_rows": null,
            "grid_gap": null,
            "max_width": null,
            "order": null,
            "_view_module_version": "1.2.0",
            "grid_template_areas": null,
            "object_position": null,
            "object_fit": null,
            "grid_auto_columns": null,
            "margin": null,
            "display": null,
            "left": null
          }
        },
        "cc171e1f2d534050a5bfa79c274b99aa": {
          "model_module": "@jupyter-widgets/controls",
          "model_name": "HBoxModel",
          "state": {
            "_view_name": "HBoxView",
            "_dom_classes": [],
            "_model_name": "HBoxModel",
            "_view_module": "@jupyter-widgets/controls",
            "_model_module_version": "1.5.0",
            "_view_count": null,
            "_view_module_version": "1.5.0",
            "box_style": "",
            "layout": "IPY_MODEL_47687017611149ccae561f3481845fba",
            "_model_module": "@jupyter-widgets/controls",
            "children": [
              "IPY_MODEL_62d4e9f54fc54fd494e7ba59ce415911",
              "IPY_MODEL_4746dc2402b5435b8faa629e4a17c7ae"
            ]
          }
        },
        "47687017611149ccae561f3481845fba": {
          "model_module": "@jupyter-widgets/base",
          "model_name": "LayoutModel",
          "state": {
            "_view_name": "LayoutView",
            "grid_template_rows": null,
            "right": null,
            "justify_content": null,
            "_view_module": "@jupyter-widgets/base",
            "overflow": null,
            "_model_module_version": "1.2.0",
            "_view_count": null,
            "flex_flow": null,
            "width": null,
            "min_width": null,
            "border": null,
            "align_items": null,
            "bottom": null,
            "_model_module": "@jupyter-widgets/base",
            "top": null,
            "grid_column": null,
            "overflow_y": null,
            "overflow_x": null,
            "grid_auto_flow": null,
            "grid_area": null,
            "grid_template_columns": null,
            "flex": null,
            "_model_name": "LayoutModel",
            "justify_items": null,
            "grid_row": null,
            "max_height": null,
            "align_content": null,
            "visibility": null,
            "align_self": null,
            "height": null,
            "min_height": null,
            "padding": null,
            "grid_auto_rows": null,
            "grid_gap": null,
            "max_width": null,
            "order": null,
            "_view_module_version": "1.2.0",
            "grid_template_areas": null,
            "object_position": null,
            "object_fit": null,
            "grid_auto_columns": null,
            "margin": null,
            "display": null,
            "left": null
          }
        },
        "62d4e9f54fc54fd494e7ba59ce415911": {
          "model_module": "@jupyter-widgets/controls",
          "model_name": "FloatProgressModel",
          "state": {
            "_view_name": "ProgressView",
            "style": "IPY_MODEL_1c424a6231274d6ea44570f4691a9102",
            "_dom_classes": [],
            "description": "",
            "_model_name": "FloatProgressModel",
            "bar_style": "success",
            "max": 1648877,
            "_view_module": "@jupyter-widgets/controls",
            "_model_module_version": "1.5.0",
            "value": 1648877,
            "_view_count": null,
            "_view_module_version": "1.5.0",
            "orientation": "horizontal",
            "min": 0,
            "description_tooltip": null,
            "_model_module": "@jupyter-widgets/controls",
            "layout": "IPY_MODEL_e441bb0edead4a4da60420d329a00f94"
          }
        },
        "4746dc2402b5435b8faa629e4a17c7ae": {
          "model_module": "@jupyter-widgets/controls",
          "model_name": "HTMLModel",
          "state": {
            "_view_name": "HTMLView",
            "style": "IPY_MODEL_2de9a7ca62ec4dfc8d3cfeeac57e8cef",
            "_dom_classes": [],
            "description": "",
            "_model_name": "HTMLModel",
            "placeholder": "​",
            "_view_module": "@jupyter-widgets/controls",
            "_model_module_version": "1.5.0",
            "value": " 1649664/? [00:02&lt;00:00, 722133.66it/s]",
            "_view_count": null,
            "_view_module_version": "1.5.0",
            "description_tooltip": null,
            "_model_module": "@jupyter-widgets/controls",
            "layout": "IPY_MODEL_428ab9e7a2194f698143a016d37bd166"
          }
        },
        "1c424a6231274d6ea44570f4691a9102": {
          "model_module": "@jupyter-widgets/controls",
          "model_name": "ProgressStyleModel",
          "state": {
            "_view_name": "StyleView",
            "_model_name": "ProgressStyleModel",
            "description_width": "initial",
            "_view_module": "@jupyter-widgets/base",
            "_model_module_version": "1.5.0",
            "_view_count": null,
            "_view_module_version": "1.2.0",
            "bar_color": null,
            "_model_module": "@jupyter-widgets/controls"
          }
        },
        "e441bb0edead4a4da60420d329a00f94": {
          "model_module": "@jupyter-widgets/base",
          "model_name": "LayoutModel",
          "state": {
            "_view_name": "LayoutView",
            "grid_template_rows": null,
            "right": null,
            "justify_content": null,
            "_view_module": "@jupyter-widgets/base",
            "overflow": null,
            "_model_module_version": "1.2.0",
            "_view_count": null,
            "flex_flow": null,
            "width": null,
            "min_width": null,
            "border": null,
            "align_items": null,
            "bottom": null,
            "_model_module": "@jupyter-widgets/base",
            "top": null,
            "grid_column": null,
            "overflow_y": null,
            "overflow_x": null,
            "grid_auto_flow": null,
            "grid_area": null,
            "grid_template_columns": null,
            "flex": null,
            "_model_name": "LayoutModel",
            "justify_items": null,
            "grid_row": null,
            "max_height": null,
            "align_content": null,
            "visibility": null,
            "align_self": null,
            "height": null,
            "min_height": null,
            "padding": null,
            "grid_auto_rows": null,
            "grid_gap": null,
            "max_width": null,
            "order": null,
            "_view_module_version": "1.2.0",
            "grid_template_areas": null,
            "object_position": null,
            "object_fit": null,
            "grid_auto_columns": null,
            "margin": null,
            "display": null,
            "left": null
          }
        },
        "2de9a7ca62ec4dfc8d3cfeeac57e8cef": {
          "model_module": "@jupyter-widgets/controls",
          "model_name": "DescriptionStyleModel",
          "state": {
            "_view_name": "StyleView",
            "_model_name": "DescriptionStyleModel",
            "description_width": "",
            "_view_module": "@jupyter-widgets/base",
            "_model_module_version": "1.5.0",
            "_view_count": null,
            "_view_module_version": "1.2.0",
            "_model_module": "@jupyter-widgets/controls"
          }
        },
        "428ab9e7a2194f698143a016d37bd166": {
          "model_module": "@jupyter-widgets/base",
          "model_name": "LayoutModel",
          "state": {
            "_view_name": "LayoutView",
            "grid_template_rows": null,
            "right": null,
            "justify_content": null,
            "_view_module": "@jupyter-widgets/base",
            "overflow": null,
            "_model_module_version": "1.2.0",
            "_view_count": null,
            "flex_flow": null,
            "width": null,
            "min_width": null,
            "border": null,
            "align_items": null,
            "bottom": null,
            "_model_module": "@jupyter-widgets/base",
            "top": null,
            "grid_column": null,
            "overflow_y": null,
            "overflow_x": null,
            "grid_auto_flow": null,
            "grid_area": null,
            "grid_template_columns": null,
            "flex": null,
            "_model_name": "LayoutModel",
            "justify_items": null,
            "grid_row": null,
            "max_height": null,
            "align_content": null,
            "visibility": null,
            "align_self": null,
            "height": null,
            "min_height": null,
            "padding": null,
            "grid_auto_rows": null,
            "grid_gap": null,
            "max_width": null,
            "order": null,
            "_view_module_version": "1.2.0",
            "grid_template_areas": null,
            "object_position": null,
            "object_fit": null,
            "grid_auto_columns": null,
            "margin": null,
            "display": null,
            "left": null
          }
        },
        "6321fbe36e344f1fb6b2291bf11f4bad": {
          "model_module": "@jupyter-widgets/controls",
          "model_name": "HBoxModel",
          "state": {
            "_view_name": "HBoxView",
            "_dom_classes": [],
            "_model_name": "HBoxModel",
            "_view_module": "@jupyter-widgets/controls",
            "_model_module_version": "1.5.0",
            "_view_count": null,
            "_view_module_version": "1.5.0",
            "box_style": "",
            "layout": "IPY_MODEL_6441e34d318f4b63b175b9fdf26ca9ea",
            "_model_module": "@jupyter-widgets/controls",
            "children": [
              "IPY_MODEL_ee2d8c183912436281e4d2ff73d8073c",
              "IPY_MODEL_912e6c33466e49b7b17047790a731a3a"
            ]
          }
        },
        "6441e34d318f4b63b175b9fdf26ca9ea": {
          "model_module": "@jupyter-widgets/base",
          "model_name": "LayoutModel",
          "state": {
            "_view_name": "LayoutView",
            "grid_template_rows": null,
            "right": null,
            "justify_content": null,
            "_view_module": "@jupyter-widgets/base",
            "overflow": null,
            "_model_module_version": "1.2.0",
            "_view_count": null,
            "flex_flow": null,
            "width": null,
            "min_width": null,
            "border": null,
            "align_items": null,
            "bottom": null,
            "_model_module": "@jupyter-widgets/base",
            "top": null,
            "grid_column": null,
            "overflow_y": null,
            "overflow_x": null,
            "grid_auto_flow": null,
            "grid_area": null,
            "grid_template_columns": null,
            "flex": null,
            "_model_name": "LayoutModel",
            "justify_items": null,
            "grid_row": null,
            "max_height": null,
            "align_content": null,
            "visibility": null,
            "align_self": null,
            "height": null,
            "min_height": null,
            "padding": null,
            "grid_auto_rows": null,
            "grid_gap": null,
            "max_width": null,
            "order": null,
            "_view_module_version": "1.2.0",
            "grid_template_areas": null,
            "object_position": null,
            "object_fit": null,
            "grid_auto_columns": null,
            "margin": null,
            "display": null,
            "left": null
          }
        },
        "ee2d8c183912436281e4d2ff73d8073c": {
          "model_module": "@jupyter-widgets/controls",
          "model_name": "FloatProgressModel",
          "state": {
            "_view_name": "ProgressView",
            "style": "IPY_MODEL_1121867ba1b048efb4f7d8058703be39",
            "_dom_classes": [],
            "description": "",
            "_model_name": "FloatProgressModel",
            "bar_style": "success",
            "max": 4542,
            "_view_module": "@jupyter-widgets/controls",
            "_model_module_version": "1.5.0",
            "value": 4542,
            "_view_count": null,
            "_view_module_version": "1.5.0",
            "orientation": "horizontal",
            "min": 0,
            "description_tooltip": null,
            "_model_module": "@jupyter-widgets/controls",
            "layout": "IPY_MODEL_d1b923b7141d42e4a2d1ae3f46934367"
          }
        },
        "912e6c33466e49b7b17047790a731a3a": {
          "model_module": "@jupyter-widgets/controls",
          "model_name": "HTMLModel",
          "state": {
            "_view_name": "HTMLView",
            "style": "IPY_MODEL_f5daed3ff82d4ad484f1c8f3100640b3",
            "_dom_classes": [],
            "description": "",
            "_model_name": "HTMLModel",
            "placeholder": "​",
            "_view_module": "@jupyter-widgets/controls",
            "_model_module_version": "1.5.0",
            "value": " 5120/? [00:00&lt;00:00, 7172.27it/s]",
            "_view_count": null,
            "_view_module_version": "1.5.0",
            "description_tooltip": null,
            "_model_module": "@jupyter-widgets/controls",
            "layout": "IPY_MODEL_91728a0fa5954df6a92dc7ee10098d94"
          }
        },
        "1121867ba1b048efb4f7d8058703be39": {
          "model_module": "@jupyter-widgets/controls",
          "model_name": "ProgressStyleModel",
          "state": {
            "_view_name": "StyleView",
            "_model_name": "ProgressStyleModel",
            "description_width": "initial",
            "_view_module": "@jupyter-widgets/base",
            "_model_module_version": "1.5.0",
            "_view_count": null,
            "_view_module_version": "1.2.0",
            "bar_color": null,
            "_model_module": "@jupyter-widgets/controls"
          }
        },
        "d1b923b7141d42e4a2d1ae3f46934367": {
          "model_module": "@jupyter-widgets/base",
          "model_name": "LayoutModel",
          "state": {
            "_view_name": "LayoutView",
            "grid_template_rows": null,
            "right": null,
            "justify_content": null,
            "_view_module": "@jupyter-widgets/base",
            "overflow": null,
            "_model_module_version": "1.2.0",
            "_view_count": null,
            "flex_flow": null,
            "width": null,
            "min_width": null,
            "border": null,
            "align_items": null,
            "bottom": null,
            "_model_module": "@jupyter-widgets/base",
            "top": null,
            "grid_column": null,
            "overflow_y": null,
            "overflow_x": null,
            "grid_auto_flow": null,
            "grid_area": null,
            "grid_template_columns": null,
            "flex": null,
            "_model_name": "LayoutModel",
            "justify_items": null,
            "grid_row": null,
            "max_height": null,
            "align_content": null,
            "visibility": null,
            "align_self": null,
            "height": null,
            "min_height": null,
            "padding": null,
            "grid_auto_rows": null,
            "grid_gap": null,
            "max_width": null,
            "order": null,
            "_view_module_version": "1.2.0",
            "grid_template_areas": null,
            "object_position": null,
            "object_fit": null,
            "grid_auto_columns": null,
            "margin": null,
            "display": null,
            "left": null
          }
        },
        "f5daed3ff82d4ad484f1c8f3100640b3": {
          "model_module": "@jupyter-widgets/controls",
          "model_name": "DescriptionStyleModel",
          "state": {
            "_view_name": "StyleView",
            "_model_name": "DescriptionStyleModel",
            "description_width": "",
            "_view_module": "@jupyter-widgets/base",
            "_model_module_version": "1.5.0",
            "_view_count": null,
            "_view_module_version": "1.2.0",
            "_model_module": "@jupyter-widgets/controls"
          }
        },
        "91728a0fa5954df6a92dc7ee10098d94": {
          "model_module": "@jupyter-widgets/base",
          "model_name": "LayoutModel",
          "state": {
            "_view_name": "LayoutView",
            "grid_template_rows": null,
            "right": null,
            "justify_content": null,
            "_view_module": "@jupyter-widgets/base",
            "overflow": null,
            "_model_module_version": "1.2.0",
            "_view_count": null,
            "flex_flow": null,
            "width": null,
            "min_width": null,
            "border": null,
            "align_items": null,
            "bottom": null,
            "_model_module": "@jupyter-widgets/base",
            "top": null,
            "grid_column": null,
            "overflow_y": null,
            "overflow_x": null,
            "grid_auto_flow": null,
            "grid_area": null,
            "grid_template_columns": null,
            "flex": null,
            "_model_name": "LayoutModel",
            "justify_items": null,
            "grid_row": null,
            "max_height": null,
            "align_content": null,
            "visibility": null,
            "align_self": null,
            "height": null,
            "min_height": null,
            "padding": null,
            "grid_auto_rows": null,
            "grid_gap": null,
            "max_width": null,
            "order": null,
            "_view_module_version": "1.2.0",
            "grid_template_areas": null,
            "object_position": null,
            "object_fit": null,
            "grid_auto_columns": null,
            "margin": null,
            "display": null,
            "left": null
          }
        }
      }
    }
  },
  "cells": [
    {
      "cell_type": "markdown",
      "metadata": {
        "id": "_0WXqFnT-gdE"
      },
      "source": [
        "# Objective \n",
        "We will implement a fully functioning under complete autoencoder for \n",
        "feature learning using MNIST data set\n"
      ]
    },
    {
      "cell_type": "markdown",
      "metadata": {
        "id": "90j6aOGvdW4M"
      },
      "source": [
        "### Necessary Imports"
      ]
    },
    {
      "cell_type": "code",
      "metadata": {
        "id": "WarPSc6bdVyr"
      },
      "source": [
        "import torch\n",
        "import torch.nn as nn\n",
        "import torch.nn.functional as F\n",
        "from torch.utils.data import DataLoader\n",
        "from torchvision import datasets, transforms\n",
        "from torchvision.utils import make_grid\n",
        "import torch.utils.data\n",
        "from torch.autograd import Variable\n",
        "from torchsummary import summary\n",
        "from torchvision.utils import save_image\n",
        "from sklearn.decomposition import PCA\n",
        "from sklearn.preprocessing import StandardScaler\n",
        "\n",
        "import numpy as np\n",
        "import pandas as pd\n",
        "import seaborn as sn  # for heatmaps\n",
        "from sklearn.metrics import confusion_matrix\n",
        "import matplotlib.pyplot as plt\n",
        "%matplotlib inline"
      ],
      "execution_count": null,
      "outputs": []
    },
    {
      "cell_type": "code",
      "metadata": {
        "id": "Y4nEm6dmAsGv"
      },
      "source": [
        "transform = transforms.ToTensor()"
      ],
      "execution_count": null,
      "outputs": []
    },
    {
      "cell_type": "markdown",
      "metadata": {
        "id": "b1ywqbEHI0hk"
      },
      "source": [
        "## Data Preprocessing "
      ]
    },
    {
      "cell_type": "markdown",
      "metadata": {
        "id": "qnovpiCXAsGw"
      },
      "source": [
        "### Load the training set"
      ]
    },
    {
      "cell_type": "code",
      "metadata": {
        "colab": {
          "base_uri": "https://localhost:8080/",
          "height": 896,
          "referenced_widgets": [
            "6b2cdd9c96424fca92a0e96e451c1563",
            "dd6068d6a2d84194b7d8401afe2d3be3",
            "4132b543a9f44ff4b4bc0224fab5f974",
            "55edf21468b345bdbe6120c167196140",
            "aad1af0fad0b4e84a8feaded5cff6327",
            "d2faf9c969194624a6173ff703e70598",
            "d5d1b2e556b446c6849a5dcdbb3491e1",
            "d3c2df7075d54caba9084be393f5f16a",
            "d8a942d9445f47199af53112ce9ab37d",
            "40bf870e917f4e0c855325cb6442083c",
            "e3764524cfd64d409e97c4bbe2e0efd8",
            "a97f4d2cbbb34030991eb8e3befb9317",
            "961b421e811141849399716da2f8241e",
            "b2ec394e123d4bc8bfd87286a3490f84",
            "2b84c723f99a428a993dafd8a12cb51a",
            "8caedfc2032843e9888aa8fd2655c63c",
            "cc171e1f2d534050a5bfa79c274b99aa",
            "47687017611149ccae561f3481845fba",
            "62d4e9f54fc54fd494e7ba59ce415911",
            "4746dc2402b5435b8faa629e4a17c7ae",
            "1c424a6231274d6ea44570f4691a9102",
            "e441bb0edead4a4da60420d329a00f94",
            "2de9a7ca62ec4dfc8d3cfeeac57e8cef",
            "428ab9e7a2194f698143a016d37bd166",
            "6321fbe36e344f1fb6b2291bf11f4bad",
            "6441e34d318f4b63b175b9fdf26ca9ea",
            "ee2d8c183912436281e4d2ff73d8073c",
            "912e6c33466e49b7b17047790a731a3a",
            "1121867ba1b048efb4f7d8058703be39",
            "d1b923b7141d42e4a2d1ae3f46934367",
            "f5daed3ff82d4ad484f1c8f3100640b3",
            "91728a0fa5954df6a92dc7ee10098d94"
          ]
        },
        "id": "goxIq9GWAsGw",
        "outputId": "f07ccf66-3e55-48cd-e4d9-a4b20b7f0f6c"
      },
      "source": [
        "train_data = datasets.MNIST(root='../Data', train=True, download=True, transform=transform)\n",
        "train_data"
      ],
      "execution_count": null,
      "outputs": [
        {
          "output_type": "stream",
          "text": [
            "Downloading http://yann.lecun.com/exdb/mnist/train-images-idx3-ubyte.gz\n",
            "Failed to download (trying next):\n",
            "HTTP Error 503: Service Unavailable\n",
            "\n",
            "Downloading https://ossci-datasets.s3.amazonaws.com/mnist/train-images-idx3-ubyte.gz\n",
            "Downloading https://ossci-datasets.s3.amazonaws.com/mnist/train-images-idx3-ubyte.gz to ../Data/MNIST/raw/train-images-idx3-ubyte.gz\n"
          ],
          "name": "stdout"
        },
        {
          "output_type": "display_data",
          "data": {
            "application/vnd.jupyter.widget-view+json": {
              "model_id": "6b2cdd9c96424fca92a0e96e451c1563",
              "version_minor": 0,
              "version_major": 2
            },
            "text/plain": [
              "HBox(children=(FloatProgress(value=0.0, max=9912422.0), HTML(value='')))"
            ]
          },
          "metadata": {
            "tags": []
          }
        },
        {
          "output_type": "stream",
          "text": [
            "\n",
            "Extracting ../Data/MNIST/raw/train-images-idx3-ubyte.gz to ../Data/MNIST/raw\n",
            "\n",
            "Downloading http://yann.lecun.com/exdb/mnist/train-labels-idx1-ubyte.gz\n",
            "Failed to download (trying next):\n",
            "HTTP Error 503: Service Unavailable\n",
            "\n",
            "Downloading https://ossci-datasets.s3.amazonaws.com/mnist/train-labels-idx1-ubyte.gz\n",
            "Downloading https://ossci-datasets.s3.amazonaws.com/mnist/train-labels-idx1-ubyte.gz to ../Data/MNIST/raw/train-labels-idx1-ubyte.gz\n"
          ],
          "name": "stdout"
        },
        {
          "output_type": "display_data",
          "data": {
            "application/vnd.jupyter.widget-view+json": {
              "model_id": "d8a942d9445f47199af53112ce9ab37d",
              "version_minor": 0,
              "version_major": 2
            },
            "text/plain": [
              "HBox(children=(FloatProgress(value=0.0, max=28881.0), HTML(value='')))"
            ]
          },
          "metadata": {
            "tags": []
          }
        },
        {
          "output_type": "stream",
          "text": [
            "\n",
            "Extracting ../Data/MNIST/raw/train-labels-idx1-ubyte.gz to ../Data/MNIST/raw\n",
            "\n",
            "Downloading http://yann.lecun.com/exdb/mnist/t10k-images-idx3-ubyte.gz\n",
            "Downloading http://yann.lecun.com/exdb/mnist/t10k-images-idx3-ubyte.gz to ../Data/MNIST/raw/t10k-images-idx3-ubyte.gz\n",
            "Failed to download (trying next):\n",
            "HTTP Error 503: Service Unavailable\n",
            "\n",
            "Downloading https://ossci-datasets.s3.amazonaws.com/mnist/t10k-images-idx3-ubyte.gz\n",
            "Downloading https://ossci-datasets.s3.amazonaws.com/mnist/t10k-images-idx3-ubyte.gz to ../Data/MNIST/raw/t10k-images-idx3-ubyte.gz\n"
          ],
          "name": "stdout"
        },
        {
          "output_type": "display_data",
          "data": {
            "application/vnd.jupyter.widget-view+json": {
              "model_id": "cc171e1f2d534050a5bfa79c274b99aa",
              "version_minor": 0,
              "version_major": 2
            },
            "text/plain": [
              "HBox(children=(FloatProgress(value=0.0, max=1648877.0), HTML(value='')))"
            ]
          },
          "metadata": {
            "tags": []
          }
        },
        {
          "output_type": "stream",
          "text": [
            "\n",
            "Extracting ../Data/MNIST/raw/t10k-images-idx3-ubyte.gz to ../Data/MNIST/raw\n",
            "\n",
            "Downloading http://yann.lecun.com/exdb/mnist/t10k-labels-idx1-ubyte.gz\n",
            "Downloading http://yann.lecun.com/exdb/mnist/t10k-labels-idx1-ubyte.gz to ../Data/MNIST/raw/t10k-labels-idx1-ubyte.gz\n"
          ],
          "name": "stdout"
        },
        {
          "output_type": "display_data",
          "data": {
            "application/vnd.jupyter.widget-view+json": {
              "model_id": "6321fbe36e344f1fb6b2291bf11f4bad",
              "version_minor": 0,
              "version_major": 2
            },
            "text/plain": [
              "HBox(children=(FloatProgress(value=0.0, max=4542.0), HTML(value='')))"
            ]
          },
          "metadata": {
            "tags": []
          }
        },
        {
          "output_type": "stream",
          "text": [
            "\n",
            "Extracting ../Data/MNIST/raw/t10k-labels-idx1-ubyte.gz to ../Data/MNIST/raw\n",
            "\n",
            "Processing...\n",
            "Done!\n"
          ],
          "name": "stdout"
        },
        {
          "output_type": "stream",
          "text": [
            "/usr/local/lib/python3.7/dist-packages/torchvision/datasets/mnist.py:502: UserWarning: The given NumPy array is not writeable, and PyTorch does not support non-writeable tensors. This means you can write to the underlying (supposedly non-writeable) NumPy array using the tensor. You may want to copy the array to protect its data or make it writeable before converting it to a tensor. This type of warning will be suppressed for the rest of this program. (Triggered internally at  /pytorch/torch/csrc/utils/tensor_numpy.cpp:143.)\n",
            "  return torch.from_numpy(parsed.astype(m[2], copy=False)).view(*s)\n"
          ],
          "name": "stderr"
        },
        {
          "output_type": "execute_result",
          "data": {
            "text/plain": [
              "Dataset MNIST\n",
              "    Number of datapoints: 60000\n",
              "    Root location: ../Data\n",
              "    Split: Train\n",
              "    StandardTransform\n",
              "Transform: ToTensor()"
            ]
          },
          "metadata": {
            "tags": []
          },
          "execution_count": 3
        }
      ]
    },
    {
      "cell_type": "markdown",
      "metadata": {
        "id": "x9xeokz6AsGx"
      },
      "source": [
        "### Load the test set\n",
        "There's a companion set of MNIST data containing 10,000 records accessible by setting train=False. As before, torchvision will only download this once, and in the future will look for the local copy."
      ]
    },
    {
      "cell_type": "code",
      "metadata": {
        "colab": {
          "base_uri": "https://localhost:8080/"
        },
        "id": "43pu7HCMAsGy",
        "outputId": "393a6321-a2a8-424a-be8c-af6fba61d198"
      },
      "source": [
        "test_data = datasets.MNIST(root='../Data', train=False, download=True, transform=transform)\n",
        "test_data"
      ],
      "execution_count": null,
      "outputs": [
        {
          "output_type": "execute_result",
          "data": {
            "text/plain": [
              "Dataset MNIST\n",
              "    Number of datapoints: 10000\n",
              "    Root location: ../Data\n",
              "    Split: Test\n",
              "    StandardTransform\n",
              "Transform: ToTensor()"
            ]
          },
          "metadata": {
            "tags": []
          },
          "execution_count": 4
        }
      ]
    },
    {
      "cell_type": "code",
      "metadata": {
        "colab": {
          "base_uri": "https://localhost:8080/"
        },
        "id": "NEBpUsN8Lz7e",
        "outputId": "9cbce1f0-7719-4654-8bec-615232488954"
      },
      "source": [
        "model_data=train_data+test_data\n",
        "total_count=len(model_data)\n",
        "total_count"
      ],
      "execution_count": null,
      "outputs": [
        {
          "output_type": "execute_result",
          "data": {
            "text/plain": [
              "70000"
            ]
          },
          "metadata": {
            "tags": []
          },
          "execution_count": 5
        }
      ]
    },
    {
      "cell_type": "markdown",
      "metadata": {
        "id": "-8N9b9BQNPGg"
      },
      "source": [
        "### Split 70:30"
      ]
    },
    {
      "cell_type": "code",
      "metadata": {
        "id": "aFGOn3SGNOSg"
      },
      "source": [
        "train_count = int(0.7 * total_count) \n",
        "test_count = int(0.3 * total_count)"
      ],
      "execution_count": null,
      "outputs": []
    },
    {
      "cell_type": "code",
      "metadata": {
        "colab": {
          "base_uri": "https://localhost:8080/"
        },
        "id": "z4_VpIUNNmyI",
        "outputId": "c85da43b-d143-4863-aa52-eefa29af0419"
      },
      "source": [
        "train_data, test_data = torch.utils.data.random_split(model_data, (train_count, test_count))\n",
        "print(len(train_data))\n",
        "print(len(test_data))\n",
        "type(train_data)"
      ],
      "execution_count": null,
      "outputs": [
        {
          "output_type": "stream",
          "text": [
            "49000\n",
            "21000\n"
          ],
          "name": "stdout"
        },
        {
          "output_type": "execute_result",
          "data": {
            "text/plain": [
              "torch.utils.data.dataset.Subset"
            ]
          },
          "metadata": {
            "tags": []
          },
          "execution_count": 7
        }
      ]
    },
    {
      "cell_type": "code",
      "metadata": {
        "colab": {
          "base_uri": "https://localhost:8080/"
        },
        "id": "g3oJu3FoAsGz",
        "scrolled": false,
        "outputId": "b5d0ec45-8b6d-4291-9a16-7e8e0d963dc9"
      },
      "source": [
        "train_data[0]"
      ],
      "execution_count": null,
      "outputs": [
        {
          "output_type": "execute_result",
          "data": {
            "text/plain": [
              "(tensor([[[0.0000, 0.0000, 0.0000, 0.0000, 0.0000, 0.0000, 0.0000, 0.0000,\n",
              "           0.0000, 0.0000, 0.0000, 0.0000, 0.0000, 0.0000, 0.0000, 0.0000,\n",
              "           0.0000, 0.0000, 0.0000, 0.0000, 0.0000, 0.0000, 0.0000, 0.0000,\n",
              "           0.0000, 0.0000, 0.0000, 0.0000],\n",
              "          [0.0000, 0.0000, 0.0000, 0.0000, 0.0000, 0.0000, 0.0000, 0.0000,\n",
              "           0.0000, 0.0000, 0.0000, 0.0000, 0.0000, 0.0000, 0.0000, 0.0000,\n",
              "           0.0000, 0.0000, 0.0000, 0.0000, 0.0000, 0.0000, 0.0000, 0.0000,\n",
              "           0.0000, 0.0000, 0.0000, 0.0000],\n",
              "          [0.0000, 0.0000, 0.0000, 0.0000, 0.0000, 0.0000, 0.0000, 0.0000,\n",
              "           0.0000, 0.0000, 0.0000, 0.0000, 0.0000, 0.0000, 0.0000, 0.0000,\n",
              "           0.0000, 0.0000, 0.0000, 0.0000, 0.0000, 0.0000, 0.0000, 0.0000,\n",
              "           0.0000, 0.0000, 0.0000, 0.0000],\n",
              "          [0.0000, 0.0000, 0.0000, 0.0000, 0.0000, 0.0000, 0.0000, 0.0000,\n",
              "           0.0000, 0.0000, 0.0000, 0.0000, 0.0000, 0.0000, 0.0000, 0.0000,\n",
              "           0.0000, 0.0000, 0.0000, 0.0000, 0.0000, 0.0000, 0.0000, 0.0000,\n",
              "           0.0000, 0.0000, 0.0000, 0.0000],\n",
              "          [0.0000, 0.0000, 0.0000, 0.0000, 0.0000, 0.0000, 0.0000, 0.0000,\n",
              "           0.0000, 0.0000, 0.0000, 0.0000, 0.0000, 0.0000, 0.0000, 0.0000,\n",
              "           0.3961, 1.0000, 0.1882, 0.0000, 0.0000, 0.0000, 0.0000, 0.0000,\n",
              "           0.0000, 0.0000, 0.0000, 0.0000],\n",
              "          [0.0000, 0.0000, 0.0000, 0.0000, 0.0000, 0.0000, 0.0000, 0.0000,\n",
              "           0.0000, 0.0000, 0.0000, 0.0000, 0.0000, 0.0000, 0.0000, 0.2667,\n",
              "           0.9765, 0.9922, 0.1882, 0.0000, 0.0000, 0.0000, 0.0000, 0.0000,\n",
              "           0.0000, 0.0000, 0.0000, 0.0000],\n",
              "          [0.0000, 0.0000, 0.0000, 0.0000, 0.0000, 0.0000, 0.0000, 0.0000,\n",
              "           0.0000, 0.0000, 0.0000, 0.0000, 0.0000, 0.0000, 0.0000, 0.5490,\n",
              "           0.9922, 0.9922, 0.1882, 0.0000, 0.0000, 0.0000, 0.0000, 0.0000,\n",
              "           0.0000, 0.0000, 0.0000, 0.0000],\n",
              "          [0.0000, 0.0000, 0.0000, 0.0000, 0.0000, 0.0000, 0.0000, 0.0000,\n",
              "           0.0000, 0.0000, 0.0000, 0.0000, 0.0000, 0.0000, 0.1294, 0.9098,\n",
              "           0.9922, 0.9922, 0.1882, 0.0000, 0.0000, 0.0000, 0.0000, 0.0000,\n",
              "           0.0000, 0.0000, 0.0000, 0.0000],\n",
              "          [0.0000, 0.0000, 0.0000, 0.0000, 0.0000, 0.0000, 0.0000, 0.0000,\n",
              "           0.0000, 0.0000, 0.0000, 0.0000, 0.0000, 0.0000, 0.5294, 0.9922,\n",
              "           0.9922, 0.9922, 0.1882, 0.0000, 0.0000, 0.0000, 0.0000, 0.0000,\n",
              "           0.0000, 0.0000, 0.0000, 0.0000],\n",
              "          [0.0000, 0.0000, 0.0000, 0.0000, 0.0000, 0.0000, 0.0000, 0.0000,\n",
              "           0.0000, 0.0000, 0.0000, 0.0000, 0.0000, 0.0000, 0.6353, 0.9922,\n",
              "           0.9922, 0.7843, 0.0196, 0.0000, 0.0000, 0.0000, 0.0000, 0.0000,\n",
              "           0.0000, 0.0000, 0.0000, 0.0000],\n",
              "          [0.0000, 0.0000, 0.0000, 0.0000, 0.0000, 0.0000, 0.0000, 0.0000,\n",
              "           0.0000, 0.0000, 0.0000, 0.0000, 0.0000, 0.0000, 0.6353, 0.9922,\n",
              "           0.9922, 0.4980, 0.0000, 0.0000, 0.0000, 0.0000, 0.0000, 0.0000,\n",
              "           0.0000, 0.0000, 0.0000, 0.0000],\n",
              "          [0.0000, 0.0000, 0.0000, 0.0000, 0.0000, 0.0000, 0.0000, 0.0000,\n",
              "           0.0000, 0.0000, 0.0000, 0.0000, 0.0000, 0.0235, 0.7569, 0.9922,\n",
              "           0.9294, 0.0784, 0.0000, 0.0000, 0.0000, 0.0000, 0.0000, 0.0000,\n",
              "           0.0000, 0.0000, 0.0000, 0.0000],\n",
              "          [0.0000, 0.0000, 0.0000, 0.0000, 0.0000, 0.0000, 0.0000, 0.0000,\n",
              "           0.0000, 0.0000, 0.0000, 0.0000, 0.0000, 0.0941, 0.9922, 0.9922,\n",
              "           0.9098, 0.0000, 0.0000, 0.0000, 0.0000, 0.0000, 0.0000, 0.0000,\n",
              "           0.0000, 0.0000, 0.0000, 0.0000],\n",
              "          [0.0000, 0.0000, 0.0000, 0.0000, 0.0000, 0.0000, 0.0000, 0.0000,\n",
              "           0.0000, 0.0000, 0.0000, 0.0000, 0.0000, 0.5765, 0.9922, 0.9922,\n",
              "           0.9098, 0.0000, 0.0000, 0.0000, 0.0000, 0.0000, 0.0000, 0.0000,\n",
              "           0.0000, 0.0000, 0.0000, 0.0000],\n",
              "          [0.0000, 0.0000, 0.0000, 0.0000, 0.0000, 0.0000, 0.0000, 0.0000,\n",
              "           0.0000, 0.0000, 0.0000, 0.0000, 0.0000, 0.9137, 0.9922, 0.9922,\n",
              "           0.5725, 0.0000, 0.0000, 0.0000, 0.0000, 0.0000, 0.0000, 0.0000,\n",
              "           0.0000, 0.0000, 0.0000, 0.0000],\n",
              "          [0.0000, 0.0000, 0.0000, 0.0000, 0.0000, 0.0000, 0.0000, 0.0000,\n",
              "           0.0000, 0.0000, 0.0000, 0.0000, 0.0314, 0.9216, 0.9922, 0.9922,\n",
              "           0.4510, 0.0000, 0.0000, 0.0000, 0.0000, 0.0000, 0.0000, 0.0000,\n",
              "           0.0000, 0.0000, 0.0000, 0.0000],\n",
              "          [0.0000, 0.0000, 0.0000, 0.0000, 0.0000, 0.0000, 0.0000, 0.0000,\n",
              "           0.0000, 0.0000, 0.0000, 0.0000, 0.4431, 0.9922, 0.9922, 0.9098,\n",
              "           0.0471, 0.0000, 0.0000, 0.0000, 0.0000, 0.0000, 0.0000, 0.0000,\n",
              "           0.0000, 0.0000, 0.0000, 0.0000],\n",
              "          [0.0000, 0.0000, 0.0000, 0.0000, 0.0000, 0.0000, 0.0000, 0.0000,\n",
              "           0.0000, 0.0000, 0.0000, 0.0000, 0.7647, 0.9922, 0.9922, 0.6314,\n",
              "           0.0000, 0.0000, 0.0000, 0.0000, 0.0000, 0.0000, 0.0000, 0.0000,\n",
              "           0.0000, 0.0000, 0.0000, 0.0000],\n",
              "          [0.0000, 0.0000, 0.0000, 0.0000, 0.0000, 0.0000, 0.0000, 0.0000,\n",
              "           0.0000, 0.0000, 0.0000, 0.0235, 0.7882, 0.9922, 0.9922, 0.5882,\n",
              "           0.0000, 0.0000, 0.0000, 0.0000, 0.0000, 0.0000, 0.0000, 0.0000,\n",
              "           0.0000, 0.0000, 0.0000, 0.0000],\n",
              "          [0.0000, 0.0000, 0.0000, 0.0000, 0.0000, 0.0000, 0.0000, 0.0000,\n",
              "           0.0000, 0.0000, 0.0000, 0.1922, 0.9922, 0.9922, 0.9922, 0.2118,\n",
              "           0.0000, 0.0000, 0.0000, 0.0000, 0.0000, 0.0000, 0.0000, 0.0000,\n",
              "           0.0000, 0.0000, 0.0000, 0.0000],\n",
              "          [0.0000, 0.0000, 0.0000, 0.0000, 0.0000, 0.0000, 0.0000, 0.0000,\n",
              "           0.0000, 0.0000, 0.0000, 0.1922, 0.9922, 0.9922, 0.9059, 0.1255,\n",
              "           0.0000, 0.0000, 0.0000, 0.0000, 0.0000, 0.0000, 0.0000, 0.0000,\n",
              "           0.0000, 0.0000, 0.0000, 0.0000],\n",
              "          [0.0000, 0.0000, 0.0000, 0.0000, 0.0000, 0.0000, 0.0000, 0.0000,\n",
              "           0.0000, 0.0000, 0.0000, 0.1922, 0.9922, 0.9922, 0.7804, 0.0000,\n",
              "           0.0000, 0.0000, 0.0000, 0.0000, 0.0000, 0.0000, 0.0000, 0.0000,\n",
              "           0.0000, 0.0000, 0.0000, 0.0000],\n",
              "          [0.0000, 0.0000, 0.0000, 0.0000, 0.0000, 0.0000, 0.0000, 0.0000,\n",
              "           0.0000, 0.0000, 0.0000, 0.4941, 0.9922, 0.9922, 0.4863, 0.0000,\n",
              "           0.0000, 0.0000, 0.0000, 0.0000, 0.0000, 0.0000, 0.0000, 0.0000,\n",
              "           0.0000, 0.0000, 0.0000, 0.0000],\n",
              "          [0.0000, 0.0000, 0.0000, 0.0000, 0.0000, 0.0000, 0.0000, 0.0000,\n",
              "           0.0000, 0.0000, 0.0000, 0.4353, 0.9922, 0.7569, 0.0549, 0.0000,\n",
              "           0.0000, 0.0000, 0.0000, 0.0000, 0.0000, 0.0000, 0.0000, 0.0000,\n",
              "           0.0000, 0.0000, 0.0000, 0.0000],\n",
              "          [0.0000, 0.0000, 0.0000, 0.0000, 0.0000, 0.0000, 0.0000, 0.0000,\n",
              "           0.0000, 0.0000, 0.0000, 0.0000, 0.0000, 0.0000, 0.0000, 0.0000,\n",
              "           0.0000, 0.0000, 0.0000, 0.0000, 0.0000, 0.0000, 0.0000, 0.0000,\n",
              "           0.0000, 0.0000, 0.0000, 0.0000],\n",
              "          [0.0000, 0.0000, 0.0000, 0.0000, 0.0000, 0.0000, 0.0000, 0.0000,\n",
              "           0.0000, 0.0000, 0.0000, 0.0000, 0.0000, 0.0000, 0.0000, 0.0000,\n",
              "           0.0000, 0.0000, 0.0000, 0.0000, 0.0000, 0.0000, 0.0000, 0.0000,\n",
              "           0.0000, 0.0000, 0.0000, 0.0000],\n",
              "          [0.0000, 0.0000, 0.0000, 0.0000, 0.0000, 0.0000, 0.0000, 0.0000,\n",
              "           0.0000, 0.0000, 0.0000, 0.0000, 0.0000, 0.0000, 0.0000, 0.0000,\n",
              "           0.0000, 0.0000, 0.0000, 0.0000, 0.0000, 0.0000, 0.0000, 0.0000,\n",
              "           0.0000, 0.0000, 0.0000, 0.0000],\n",
              "          [0.0000, 0.0000, 0.0000, 0.0000, 0.0000, 0.0000, 0.0000, 0.0000,\n",
              "           0.0000, 0.0000, 0.0000, 0.0000, 0.0000, 0.0000, 0.0000, 0.0000,\n",
              "           0.0000, 0.0000, 0.0000, 0.0000, 0.0000, 0.0000, 0.0000, 0.0000,\n",
              "           0.0000, 0.0000, 0.0000, 0.0000]]]), 1)"
            ]
          },
          "metadata": {
            "tags": []
          },
          "execution_count": 8
        }
      ]
    },
    {
      "cell_type": "markdown",
      "metadata": {
        "id": "pkX4AX8RAsGz"
      },
      "source": [
        "Calling the first record from <tt>train_data</tt> returns a two-item tuple. The first item is our 28x28 tensor representing the image. The second is a label, in this case the number \"5\"."
      ]
    },
    {
      "cell_type": "code",
      "metadata": {
        "colab": {
          "base_uri": "https://localhost:8080/"
        },
        "id": "ce8pl7rwAsGz",
        "outputId": "ae16faf2-8490-4ace-d9c4-92b4bec0dc4c"
      },
      "source": [
        "image, label = train_data[0]\n",
        "print('Shape:', image.shape, '\\nLabel:', label)"
      ],
      "execution_count": null,
      "outputs": [
        {
          "output_type": "stream",
          "text": [
            "Shape: torch.Size([1, 28, 28]) \n",
            "Label: 1\n"
          ],
          "name": "stdout"
        }
      ]
    },
    {
      "cell_type": "markdown",
      "metadata": {
        "id": "IGohAH1mAsG0"
      },
      "source": [
        "### View the image\n",
        "Matplotlib can interpret pixel values through a variety of <a href='https://matplotlib.org/tutorials/colors/colormaps.html'>colormaps</a>."
      ]
    },
    {
      "cell_type": "code",
      "metadata": {
        "colab": {
          "base_uri": "https://localhost:8080/",
          "height": 265
        },
        "id": "9E99XQ3lAsG0",
        "outputId": "62a76738-6853-4717-8bed-c2fbb411fff8"
      },
      "source": [
        "plt.imshow(train_data[0][0].reshape((28,28)), cmap=\"gray\");"
      ],
      "execution_count": null,
      "outputs": [
        {
          "output_type": "display_data",
          "data": {
            "image/png": "[encoded data removed]",
            "text/plain": [
              "<Figure size 432x288 with 1 Axes>"
            ]
          },
          "metadata": {
            "tags": [],
            "needs_background": "light"
          }
        }
      ]
    },
    {
      "cell_type": "code",
      "metadata": {
        "colab": {
          "base_uri": "https://localhost:8080/",
          "height": 265
        },
        "id": "hkUpwhyVAsG1",
        "outputId": "2ed7fd3b-3436-4871-b275-c82c907fb8ba"
      },
      "source": [
        "plt.imshow(train_data[0][0].reshape((28,28)), cmap=\"gist_yarg\");"
      ],
      "execution_count": null,
      "outputs": [
        {
          "output_type": "display_data",
          "data": {
            "image/png": "[encoded data removed]",
            "text/plain": [
              "<Figure size 432x288 with 1 Axes>"
            ]
          },
          "metadata": {
            "tags": [],
            "needs_background": "light"
          }
        }
      ]
    },
    {
      "cell_type": "code",
      "metadata": {
        "id": "sTdM61r8AsG1"
      },
      "source": [
        "torch.manual_seed(101)  # for consistent results\n",
        "\n",
        "train_loader = DataLoader(train_data, batch_size=100, shuffle=True)\n",
        "\n",
        "test_loader = DataLoader(test_data, batch_size=500, shuffle=False)"
      ],
      "execution_count": null,
      "outputs": []
    },
    {
      "cell_type": "markdown",
      "metadata": {
        "id": "qmeQ0ggEAsG2"
      },
      "source": [
        "### View a batch of images\n"
      ]
    },
    {
      "cell_type": "code",
      "metadata": {
        "colab": {
          "base_uri": "https://localhost:8080/"
        },
        "id": "cEq_bUx8AsG3",
        "outputId": "0acf59fa-e367-468a-96aa-6efc3205aece"
      },
      "source": [
        "from torchvision.utils import make_grid\n",
        "np.set_printoptions(formatter=dict(int=lambda x: f'{x:4}')) # to widen the printed array\n",
        "\n",
        "# Grab the first batch of images\n",
        "for images,labels in train_loader: \n",
        "    break\n",
        "\n",
        "# Print the first 12 labels\n",
        "print('Labels: ', labels[:12].numpy())\n",
        "\n",
        "# Print the first 12 images\n",
        "im = make_grid(images[:12], nrow=12)  # the default nrow is 8\n",
        "plt.figure(figsize=(10,4))\n",
        "# We need to transpose the images from CWH to WHC\n",
        "plt.imshow(np.transpose(im.numpy(), (1, 2, 0)));"
      ],
      "execution_count": null,
      "outputs": [
        {
          "output_type": "stream",
          "text": [
            "Labels:  [   7    4    1    9    4    6    8    6    4    9    1    0]\n"
          ],
          "name": "stdout"
        },
        {
          "output_type": "display_data",
          "data": {
            "image/png": "[encoded data removed]",
            "text/plain": [
              "<Figure size 720x288 with 1 Axes>"
            ]
          },
          "metadata": {
            "tags": [],
            "needs_background": "light"
          }
        }
      ]
    },
    {
      "cell_type": "markdown",
      "metadata": {
        "id": "phu3-QJsKDI1"
      },
      "source": [
        "## Defining the Auto encoder "
      ]
    },
    {
      "cell_type": "code",
      "metadata": {
        "id": "66xbmo8vKHWs"
      },
      "source": [
        "class SAE(nn.Module):\n",
        "    def __init__(self, in_sz=784, out_sz=56, layers=[120,84]):\n",
        "        super().__init__()\n",
        "        self.fc1 = nn.Linear(in_sz,layers[0])\n",
        "        self.fc2 = nn.Linear(layers[0],layers[1])  #self.fc3 = nn.Linear(layers[1],layers[2])\n",
        "        self.fc3 = nn.Linear(layers[1],out_sz)\n",
        "        \n",
        "        self.fc4 = nn.Linear(out_sz,layers[1])     #self.fc6 = nn.Linear(layers[2],layers[1])\n",
        "        self.fc5 = nn.Linear(layers[1],layers[0])\n",
        "        self.fc6 = nn.Linear(layers[0],in_sz)\n",
        "        \n",
        "\n",
        "    \n",
        "    def forward(self,X):\n",
        "        X = F.relu(self.fc1(X))\n",
        "        X = F.relu(self.fc2(X))\n",
        "        X = F.relu(self.fc3(X))\n",
        "        self.output=X\n",
        "        X = F.relu(self.fc4(X))\n",
        "        X = F.relu(self.fc5(X))\n",
        "        X = self.fc6(X)\n",
        "        self.reconstruct=X\n",
        "        \n",
        "        \n",
        "        return F.log_softmax(X, dim=1)\n",
        "\n",
        "    def get_output(self):\n",
        "        return self.output\n",
        "    def get_reconstruct(self):\n",
        "        return self.reconstruct"
      ],
      "execution_count": null,
      "outputs": []
    },
    {
      "cell_type": "code",
      "metadata": {
        "colab": {
          "base_uri": "https://localhost:8080/"
        },
        "id": "5bEt5qMMQ5xn",
        "outputId": "7228c375-a237-4d1a-ef8b-42f210584b7b"
      },
      "source": [
        "torch.manual_seed(101)\n",
        "model = SAE()\n",
        "model"
      ],
      "execution_count": null,
      "outputs": [
        {
          "output_type": "execute_result",
          "data": {
            "text/plain": [
              "SAE(\n",
              "  (fc1): Linear(in_features=784, out_features=120, bias=True)\n",
              "  (fc2): Linear(in_features=120, out_features=84, bias=True)\n",
              "  (fc3): Linear(in_features=84, out_features=56, bias=True)\n",
              "  (fc4): Linear(in_features=56, out_features=84, bias=True)\n",
              "  (fc5): Linear(in_features=84, out_features=120, bias=True)\n",
              "  (fc6): Linear(in_features=120, out_features=784, bias=True)\n",
              ")"
            ]
          },
          "metadata": {
            "tags": []
          },
          "execution_count": 31
        }
      ]
    },
    {
      "cell_type": "markdown",
      "metadata": {
        "id": "EvFgwykwAsG6"
      },
      "source": [
        "## Count the model parameters\n",
        "This optional step shows that the number of trainable parameters in our model matches the equation above."
      ]
    },
    {
      "cell_type": "code",
      "metadata": {
        "id": "9V25EdWhAsG6"
      },
      "source": [
        "def count_parameters(model):\n",
        "    params = [p.numel() for p in model.parameters() if p.requires_grad]\n",
        "    for item in params:\n",
        "        print(f'{item:>6}')\n",
        "    print(f'______\\n{sum(params):>6}')"
      ],
      "execution_count": null,
      "outputs": []
    },
    {
      "cell_type": "markdown",
      "metadata": {
        "id": "T5_pfGTCp3EE"
      },
      "source": [
        "## Supporting functions"
      ]
    },
    {
      "cell_type": "code",
      "metadata": {
        "id": "N5AF_N5BbYE8"
      },
      "source": [
        "def plot_loss(train_losses,test_losses):\n",
        "  plt.plot(train_losses, label='training loss')\n",
        "  plt.plot(test_losses, label='test reconstruction loss')\n",
        "  plt.title('Loss at the end of each epoch')\n",
        "  plt.legend();"
      ],
      "execution_count": null,
      "outputs": []
    },
    {
      "cell_type": "code",
      "metadata": {
        "id": "wgaZ3aH6bahl"
      },
      "source": [
        "def plot_accuracy(train_correct,test_correct):\n",
        "  plt.plot([t/49000 for t in train_correct], label='training accuracy')\n",
        "  plt.plot([t/21000 for t in test_correct], label='test reconstruction accuracy')\n",
        "  plt.title('Accuracy at the end of each epoch')\n",
        "  plt.legend();"
      ],
      "execution_count": null,
      "outputs": []
    },
    {
      "cell_type": "markdown",
      "metadata": {
        "id": "UlJJpyu9AsG9"
      },
      "source": [
        "### Train the model\n"
      ]
    },
    {
      "cell_type": "code",
      "metadata": {
        "id": "25gT1GmRLINz"
      },
      "source": [
        "def get_device():\n",
        "    if torch.cuda.is_available():\n",
        "        device = 'cuda:0'\n",
        "    else:\n",
        "        device = 'cpu'\n",
        "    return device"
      ],
      "execution_count": null,
      "outputs": []
    },
    {
      "cell_type": "code",
      "metadata": {
        "id": "rvRSAuXUAsG9"
      },
      "source": [
        "\n",
        "def train_loss_accuracy(train_loader,model):\n",
        "\n",
        "  import time\n",
        "  start_time = time.time()\n",
        "\n",
        "  epochs = 10\n",
        "  train_losses = []\n",
        "  test_losses = []\n",
        "  train_correct = []\n",
        "  test_correct = []\n",
        "  \n",
        "  \n",
        "\n",
        "  for i in range(epochs):\n",
        "      trn_corr = 0\n",
        "      tst_corr = 0\n",
        "      \n",
        "      # Run the training batches\n",
        "      for b, (X_train, y_train) in enumerate(train_loader):\n",
        "          b+=1\n",
        "          # Apply the model\n",
        "          y_pred= model(X_train.view(100, -1))  # Here we flatten X_train\n",
        "          loss = criterion(y_pred, y_train)\n",
        "  \n",
        "          # Tally the number of correct predictions\n",
        "          predicted = torch.max(y_pred.data, 1)[1]\n",
        "          batch_corr = (predicted == y_train).sum()\n",
        "          trn_corr += batch_corr\n",
        "          \n",
        "          # Update parameters\n",
        "          optimizer.zero_grad()\n",
        "          loss.backward()\n",
        "          optimizer.step()\n",
        "          \n",
        "          # Print interim results\n",
        "          if b%200 == 0:\n",
        "              print(f'epoch: {i:2}  batch: {b:4} [{100*b:6}/49000]  loss: {loss.item():10.8f}  \\\n",
        "  accuracy: {trn_corr.item()*100/(100*b):7.3f}%')\n",
        "      \n",
        "      # Update train loss & accuracy for the epoch\n",
        "      train_losses.append(loss)\n",
        "      train_correct.append(trn_corr)\n",
        "      # Run the testing batches\n",
        "      with torch.no_grad():\n",
        "          for b, (X_test, y_test) in enumerate(test_loader):\n",
        "\n",
        "              # Apply the model\n",
        "              y_val = model(X_test.view(500, -1))  # Here we flatten X_test\n",
        "\n",
        "              # Tally the number of correct predictions\n",
        "              predicted = torch.max(y_val.data, 1)[1] \n",
        "              tst_corr += (predicted == y_test).sum()\n",
        "      \n",
        "      # Update test loss & accuracy for the epoch\n",
        "      loss = criterion(y_val, y_test)\n",
        "      test_losses.append(loss)\n",
        "      test_correct.append(tst_corr)\n",
        "          \n",
        "  print(f'\\nDuration: {time.time() - start_time:.0f} seconds') # print the time elapsed  \n",
        "\n",
        "\n",
        "  return train_losses,train_correct,test_losses,test_correct    #,final_outputs    "
      ],
      "execution_count": null,
      "outputs": []
    },
    {
      "cell_type": "code",
      "metadata": {
        "id": "LJGhBLRoX03M"
      },
      "source": [
        "def save_train_dataset(train_loader,model,hidden_neurons):\n",
        "  train_outputs = np.empty((0,hidden_neurons), float)\n",
        "  target_train= np.empty((0,1), int)\n",
        "  # Run the training batches\n",
        "  for b, (X_train, y_train) in enumerate(train_loader):\n",
        "      #print(y_train)\n",
        "\n",
        "      b+=1\n",
        "      # Apply the model\n",
        "      y_pred= model(X_train.view(100, -1))  # Here we flatten X_train\n",
        "      target_train = np.append(target_train,y_train.numpy().reshape(-1,1),axis=0)\n",
        "      \n",
        "      outputs=model.get_output()\n",
        "      outputs = outputs.cpu().data\n",
        "      train_outputs = np.append( train_outputs, outputs.numpy(), axis=0)  \n",
        "    \n",
        "  np.save('train.npy', train_outputs)\n",
        "  np.save('train-labels.npy', target_train)"
      ],
      "execution_count": null,
      "outputs": []
    },
    {
      "cell_type": "code",
      "metadata": {
        "id": "GNtx1pzuYW5W"
      },
      "source": [
        "def save_test_dataset(test_loader,model,hidden_neurons):\n",
        "  test_outputs =  np.empty((0,hidden_neurons),float)\n",
        "  test_target= np.empty((0,1), int)\n",
        "  \n",
        "  # Run the training batches\n",
        "  for b, (X_test, y_test) in enumerate(test_loader):\n",
        "      b+=1\n",
        "      # Apply the model\n",
        "      y_pred= model(X_test.view(500, -1))  # Here we flatten X_train\n",
        "      test_target = np.append(test_target,y_test.numpy().reshape(-1,1),axis=0)\n",
        "      \n",
        "      outputs=model.get_output()\n",
        "      outputs = outputs.cpu().data\n",
        "      test_outputs = np.append( test_outputs, outputs.numpy(), axis=0)  \n",
        "     \n",
        "  np.save('test.npy', test_outputs)\n",
        "  np.save('test-labels.npy', test_target)"
      ],
      "execution_count": null,
      "outputs": []
    },
    {
      "cell_type": "code",
      "metadata": {
        "id": "FSp5W1mAa9gd"
      },
      "source": [
        "# Run the testing batches\n",
        "def test_loss_accuracy(test_data,model):\n",
        "  \n",
        "  test_load_all = DataLoader(test_data, batch_size=21000, shuffle=False)\n",
        "  test_losses=[]\n",
        "  with torch.no_grad():\n",
        "    correct = 0\n",
        "    for X_test, y_test in test_load_all:\n",
        "        y_val = model(X_test.view(len(X_test), -1))  # pass in a flattened view of X_test\n",
        "       \n",
        "        predicted = torch.max(y_val,1)[1]\n",
        "        correct += (predicted == y_test).sum()\n",
        "        loss = criterion(y_val, y_test)\n",
        "\n",
        "        test_losses.append(loss)\n",
        "  print(f'Test accuracy: {correct.item()}/{len(test_data)} = {correct.item()*100/(len(test_data)):7.3f}%')\n",
        "  return  (correct.item()*100/(len(test_data)),test_losses)"
      ],
      "execution_count": null,
      "outputs": []
    },
    {
      "cell_type": "markdown",
      "metadata": {
        "id": "VEq9MY3kAsG7"
      },
      "source": [
        "## Define loss function & optimizer"
      ]
    },
    {
      "cell_type": "code",
      "metadata": {
        "id": "dnYJ1BFJAsG7"
      },
      "source": [
        "criterion = nn.CrossEntropyLoss()\n",
        "optimizer = torch.optim.Adam(model.parameters(), lr=model0.01)"
      ],
      "execution_count": null,
      "outputs": []
    },
    {
      "cell_type": "markdown",
      "metadata": {
        "id": "2BC0790iAsG7"
      },
      "source": [
        "### Flatten the training data\n",
        "The batch tensors fed in by DataLoader have a shape of [100, 1, 28, 28]:"
      ]
    },
    {
      "cell_type": "code",
      "metadata": {
        "colab": {
          "base_uri": "https://localhost:8080/"
        },
        "id": "O-EWeecUAsG8",
        "outputId": "16dc7cd3-91f4-4124-b23c-c64a534c3f8d"
      },
      "source": [
        "# Load the first batch, print its shape\n",
        "for images, labels in train_loader:\n",
        "    print('Batch shape:', images.size())\n",
        "    break\n",
        "    \n",
        "# EQUIVALENT TO:\n",
        "# dataiter = iter(train_loader)\n",
        "# images, labels = dataiter.next()\n",
        "# print('Batch shape:', images.size())"
      ],
      "execution_count": null,
      "outputs": [
        {
          "output_type": "stream",
          "text": [
            "Batch shape: torch.Size([100, 1, 28, 28])\n"
          ],
          "name": "stdout"
        }
      ]
    },
    {
      "cell_type": "markdown",
      "metadata": {
        "id": "qYVbpXuxqG6S"
      },
      "source": [
        "## Basic Implementation"
      ]
    },
    {
      "cell_type": "markdown",
      "metadata": {
        "id": "LZh4XQEVAsG8"
      },
      "source": [
        "We can flatten them using <tt>.view()</tt>"
      ]
    },
    {
      "cell_type": "code",
      "metadata": {
        "colab": {
          "base_uri": "https://localhost:8080/"
        },
        "id": "apGikum2AsG8",
        "outputId": "959861d6-46af-420e-e0f4-316e5b45c945"
      },
      "source": [
        "\n",
        "images.view(100,-1).size()"
      ],
      "execution_count": null,
      "outputs": [
        {
          "output_type": "execute_result",
          "data": {
            "text/plain": [
              "torch.Size([100, 784])"
            ]
          },
          "metadata": {
            "tags": []
          },
          "execution_count": 29
        }
      ]
    },
    {
      "cell_type": "code",
      "metadata": {
        "colab": {
          "base_uri": "https://localhost:8080/"
        },
        "id": "Mfw7PN4OYpbr",
        "outputId": "a3762946-17b1-4ec9-c87b-18fb5e364fa2"
      },
      "source": [
        "train_losses,train_correct,test_losses,test_correct = train_loss_accuracy(train_loader,model)"
      ],
      "execution_count": null,
      "outputs": [
        {
          "output_type": "stream",
          "text": [
            "epoch:  0  batch:  200 [ 20000/49000]  loss: 0.17689985    accuracy:  65.660%\n",
            "epoch:  0  batch:  400 [ 40000/49000]  loss: 0.14311151    accuracy:  78.935%\n",
            "epoch:  1  batch:  200 [ 20000/49000]  loss: 0.07012110    accuracy:  94.535%\n",
            "epoch:  1  batch:  400 [ 40000/49000]  loss: 0.16639262    accuracy:  94.782%\n",
            "epoch:  2  batch:  200 [ 20000/49000]  loss: 0.14477083    accuracy:  96.020%\n",
            "epoch:  2  batch:  400 [ 40000/49000]  loss: 0.04095319    accuracy:  95.905%\n",
            "epoch:  3  batch:  200 [ 20000/49000]  loss: 0.37693605    accuracy:  96.240%\n",
            "epoch:  3  batch:  400 [ 40000/49000]  loss: 0.21902426    accuracy:  96.280%\n",
            "epoch:  4  batch:  200 [ 20000/49000]  loss: 0.06181435    accuracy:  96.740%\n",
            "epoch:  4  batch:  400 [ 40000/49000]  loss: 0.02644430    accuracy:  96.645%\n",
            "epoch:  5  batch:  200 [ 20000/49000]  loss: 0.06310299    accuracy:  97.130%\n",
            "epoch:  5  batch:  400 [ 40000/49000]  loss: 0.05204427    accuracy:  97.108%\n",
            "epoch:  6  batch:  200 [ 20000/49000]  loss: 0.23725463    accuracy:  97.340%\n",
            "epoch:  6  batch:  400 [ 40000/49000]  loss: 0.30235711    accuracy:  96.940%\n",
            "epoch:  7  batch:  200 [ 20000/49000]  loss: 0.11922263    accuracy:  97.210%\n",
            "epoch:  7  batch:  400 [ 40000/49000]  loss: 0.14429452    accuracy:  97.180%\n",
            "epoch:  8  batch:  200 [ 20000/49000]  loss: 0.05106055    accuracy:  97.260%\n",
            "epoch:  8  batch:  400 [ 40000/49000]  loss: 0.14614351    accuracy:  97.347%\n",
            "epoch:  9  batch:  200 [ 20000/49000]  loss: 0.01689543    accuracy:  97.655%\n",
            "epoch:  9  batch:  400 [ 40000/49000]  loss: 0.05972351    accuracy:  97.567%\n",
            "\n",
            "Duration: 162 seconds\n"
          ],
          "name": "stdout"
        }
      ]
    },
    {
      "cell_type": "code",
      "metadata": {
        "id": "nSRUcD3HLMsF"
      },
      "source": [
        "save_train_dataset(train_loader,model,56)"
      ],
      "execution_count": null,
      "outputs": []
    },
    {
      "cell_type": "code",
      "metadata": {
        "id": "jRYEQ2Skn7v7"
      },
      "source": [
        "save_test_dataset(test_loader,model,56)"
      ],
      "execution_count": null,
      "outputs": []
    },
    {
      "cell_type": "code",
      "metadata": {
        "colab": {
          "base_uri": "https://localhost:8080/"
        },
        "id": "rsZzqXd2mSvf",
        "outputId": "95c0b689-c39d-4400-f61e-78c24b3a8c4b"
      },
      "source": [
        "train=np.load('train.npy')\n",
        "print(len(train))\n",
        "\n",
        "train_labels=np.load('train-labels.npy')\n",
        "print(len(train_labels))\n",
        "\n",
        "print(train[0])\n",
        "print(train_labels[0:10])\n"
      ],
      "execution_count": null,
      "outputs": [
        {
          "output_type": "stream",
          "text": [
            "49000\n",
            "49000\n",
            "[ 0.          0.          0.          0.          0.          0.\n",
            "  0.          3.79492307  0.          0.         56.29275894  0.\n",
            "  0.          0.          0.          0.          0.          0.\n",
            "  0.          0.          0.          0.          0.          0.\n",
            "  0.          0.          0.          0.          0.          0.\n",
            "  0.         13.21927643  0.          0.          0.          0.\n",
            "  0.          0.          6.70122671  0.          0.          0.\n",
            "  0.          0.          0.          0.          0.          0.\n",
            "  0.          0.          0.          0.          0.          0.\n",
            "  0.          0.        ]\n",
            "[[7.]\n",
            " [1.]\n",
            " [4.]\n",
            " [1.]\n",
            " [9.]\n",
            " [5.]\n",
            " [0.]\n",
            " [0.]\n",
            " [6.]\n",
            " [1.]]\n"
          ],
          "name": "stdout"
        }
      ]
    },
    {
      "cell_type": "code",
      "metadata": {
        "colab": {
          "base_uri": "https://localhost:8080/"
        },
        "id": "uQea33AYoAlM",
        "outputId": "86938bb1-6088-4b49-eae7-ebc7bc99b25e"
      },
      "source": [
        "test=np.load('test.npy')\n",
        "print(len(test))\n",
        "\n",
        "test_labels=np.load('test-labels.npy')\n",
        "print(len(test_labels))\n",
        "\n",
        "print(test[0])\n",
        "print(test_labels[0:10])"
      ],
      "execution_count": null,
      "outputs": [
        {
          "output_type": "stream",
          "text": [
            "21000\n",
            "21000\n",
            "[ 0.          0.          0.          0.          0.          0.\n",
            "  0.          0.          0.          4.15441895  0.          0.\n",
            "  0.          0.          0.          0.          0.          0.\n",
            "  0.          0.         14.05968475  0.          0.          0.\n",
            "  0.          0.          0.          0.          0.          0.\n",
            "  0.          7.96925116 37.116436   77.45285034  0.          0.\n",
            "  0.          0.         37.77600479  0.          0.          0.\n",
            "  0.          0.          0.          0.          0.          0.\n",
            "  0.          0.          0.          0.          0.         52.39165115\n",
            "  2.68930316  0.        ]\n",
            "[[   3]\n",
            " [   0]\n",
            " [   4]\n",
            " [   2]\n",
            " [   4]\n",
            " [   8]\n",
            " [   0]\n",
            " [   2]\n",
            " [   4]\n",
            " [   7]]\n"
          ],
          "name": "stdout"
        }
      ]
    },
    {
      "cell_type": "code",
      "metadata": {
        "colab": {
          "base_uri": "https://localhost:8080/"
        },
        "id": "9maWZLSQgc2l",
        "outputId": "cbc34913-0430-48c9-e6a1-6dd53b38cf71"
      },
      "source": [
        "losses=[i.item() for i in train_losses]\n",
        "print('Average training loss: {}'.format(np.mean(np.array(losses))))"
      ],
      "execution_count": null,
      "outputs": [
        {
          "output_type": "stream",
          "text": [
            "Average training loss: 0.14897979535162448\n"
          ],
          "name": "stdout"
        }
      ]
    },
    {
      "cell_type": "code",
      "metadata": {
        "colab": {
          "base_uri": "https://localhost:8080/",
          "height": 281
        },
        "id": "6ssUiDnUu0fD",
        "outputId": "48b0eb4a-fa53-4be4-93d1-14326239879e"
      },
      "source": [
        "plot_loss(train_losses,test_losses)"
      ],
      "execution_count": null,
      "outputs": [
        {
          "output_type": "display_data",
          "data": {
            "image/png": "[encoded data removed]",
            "text/plain": [
              "<Figure size 432x288 with 1 Axes>"
            ]
          },
          "metadata": {
            "tags": []
          }
        }
      ]
    },
    {
      "cell_type": "code",
      "metadata": {
        "colab": {
          "base_uri": "https://localhost:8080/"
        },
        "id": "H7TKZx5UJCnx",
        "outputId": "89c2e429-4742-445b-f605-86d498501ceb"
      },
      "source": [
        "test_correct"
      ],
      "execution_count": null,
      "outputs": [
        {
          "output_type": "execute_result",
          "data": {
            "text/plain": [
              "[tensor(19548),\n",
              " tensor(19883),\n",
              " tensor(19905),\n",
              " tensor(20209),\n",
              " tensor(20181),\n",
              " tensor(20234),\n",
              " tensor(20195),\n",
              " tensor(20267),\n",
              " tensor(20327),\n",
              " tensor(20274)]"
            ]
          },
          "metadata": {
            "tags": []
          },
          "execution_count": 160
        }
      ]
    },
    {
      "cell_type": "code",
      "metadata": {
        "colab": {
          "base_uri": "https://localhost:8080/"
        },
        "id": "st0wG_ZCJNWw",
        "outputId": "1c2412a8-487e-413a-9508-072ae9f490a0"
      },
      "source": [
        "train_correct"
      ],
      "execution_count": null,
      "outputs": [
        {
          "output_type": "execute_result",
          "data": {
            "text/plain": [
              "[tensor(39290),\n",
              " tensor(46377),\n",
              " tensor(46872),\n",
              " tensor(47243),\n",
              " tensor(47379),\n",
              " tensor(47557),\n",
              " tensor(47676),\n",
              " tensor(47717),\n",
              " tensor(47765),\n",
              " tensor(47698)]"
            ]
          },
          "metadata": {
            "tags": []
          },
          "execution_count": 35
        }
      ]
    },
    {
      "cell_type": "code",
      "metadata": {
        "colab": {
          "base_uri": "https://localhost:8080/",
          "height": 281
        },
        "id": "ITfN9-FIu0fE",
        "outputId": "f937cadc-1341-4467-e5b1-ae81d120bedd"
      },
      "source": [
        "plot_accuracy(train_correct,test_correct)"
      ],
      "execution_count": null,
      "outputs": [
        {
          "output_type": "display_data",
          "data": {
            "image/png": "[encoded data removed]",
            "text/plain": [
              "<Figure size 432x288 with 1 Axes>"
            ]
          },
          "metadata": {
            "tags": []
          }
        }
      ]
    },
    {
      "cell_type": "code",
      "metadata": {
        "colab": {
          "base_uri": "https://localhost:8080/"
        },
        "id": "-wrLEnv5bxHI",
        "outputId": "07775ad8-05ae-4757-c79a-7f1db00e2c59"
      },
      "source": [
        "(test_accuracy,test_loss)=test_loss_accuracy(test_data,model)"
      ],
      "execution_count": null,
      "outputs": [
        {
          "output_type": "stream",
          "text": [
            "Test accuracy: 20378/21000 =  97.038%\n"
          ],
          "name": "stdout"
        }
      ]
    },
    {
      "cell_type": "code",
      "metadata": {
        "colab": {
          "base_uri": "https://localhost:8080/"
        },
        "id": "-I0oSHH4gIDz",
        "outputId": "8d2850ad-0b1a-42d0-ff1e-93f6d13fbf0b"
      },
      "source": [
        "losses=[i.item() for i in test_loss]\n",
        "print('Test loss: {}'.format(np.mean(np.array(losses))))"
      ],
      "execution_count": null,
      "outputs": [
        {
          "output_type": "stream",
          "text": [
            "Test loss: 0.17567941546440125\n"
          ],
          "name": "stdout"
        }
      ]
    },
    {
      "cell_type": "code",
      "metadata": {
        "id": "QO-mtLWMibDr"
      },
      "source": [
        "torch.save(model.state_dict(), 'CIFAR10-BestAutoencoder-Model.pt')"
      ],
      "execution_count": null,
      "outputs": []
    },
    {
      "cell_type": "code",
      "metadata": {
        "colab": {
          "base_uri": "https://localhost:8080/"
        },
        "id": "rodQGGcLjw6v",
        "outputId": "0ca5fc22-5600-460b-d5af-1bf7755584c3"
      },
      "source": [
        "summary(model,(120,784))"
      ],
      "execution_count": null,
      "outputs": [
        {
          "output_type": "stream",
          "text": [
            "----------------------------------------------------------------\n",
            "        Layer (type)               Output Shape         Param #\n",
            "================================================================\n",
            "            Linear-1             [-1, 120, 120]          94,200\n",
            "            Linear-2              [-1, 120, 84]          10,164\n",
            "            Linear-3              [-1, 120, 20]           1,700\n",
            "            Linear-4              [-1, 120, 84]           1,764\n",
            "            Linear-5             [-1, 120, 120]          10,200\n",
            "            Linear-6             [-1, 120, 784]          94,864\n",
            "================================================================\n",
            "Total params: 212,892\n",
            "Trainable params: 212,892\n",
            "Non-trainable params: 0\n",
            "----------------------------------------------------------------\n",
            "Input size (MB): 0.36\n",
            "Forward/backward pass size (MB): 1.11\n",
            "Params size (MB): 0.81\n",
            "Estimated Total Size (MB): 2.28\n",
            "----------------------------------------------------------------\n"
          ],
          "name": "stdout"
        }
      ]
    },
    {
      "cell_type": "markdown",
      "metadata": {
        "id": "W6FZrNJiqW1i"
      },
      "source": [
        "## Variations"
      ]
    },
    {
      "cell_type": "code",
      "metadata": {
        "id": "k7q1gsT_tIjk"
      },
      "source": [
        "hidden_neuron_lst=[20,40,50,60]"
      ],
      "execution_count": null,
      "outputs": []
    },
    {
      "cell_type": "code",
      "metadata": {
        "id": "bi0_mXXItys7"
      },
      "source": [
        "def Plot_test_recons_loss(x,y):\n",
        "  plt.plot(x, y)\n",
        "    \n",
        "  # naming the x axis\n",
        "  plt.xlabel('number of bottleneck hidden neurons ')\n",
        "  # naming the y axis\n",
        "  plt.ylabel('loss')\n",
        "    \n",
        "  # giving a title to my graph\n",
        "  plt.title('Test_reconstructions loss  VS Hidden neurons!')\n",
        "    \n",
        "  # function to show the plot\n",
        "  plt.show()"
      ],
      "execution_count": null,
      "outputs": []
    },
    {
      "cell_type": "markdown",
      "metadata": {
        "id": "bQFEyJE9tBLV"
      },
      "source": [
        "### Adam optimiser"
      ]
    },
    {
      "cell_type": "code",
      "metadata": {
        "colab": {
          "base_uri": "https://localhost:8080/"
        },
        "id": "Qu_xeF-VtZ0k",
        "outputId": "3c0d19b9-4005-4b22-b2f2-c80f5c7f881f"
      },
      "source": [
        "test_Recon_losses=[]\n",
        "for i in hidden_neuron_lst:\n",
        "  torch.manual_seed(101)\n",
        "  modelAdam = SAE(out_sz=i)\n",
        "  print(count_parameters(modelAdam))\n",
        "  criterion = nn.CrossEntropyLoss()\n",
        "  optimizer = torch.optim.Adam(modelAdam.parameters(), lr=0.01)\n",
        "  train_losses,train_correct,test_losses,test_correct = train_loss_accuracy(train_loader,modelAdam)\n",
        "  (test_accuracy,test_loss)=test_loss_accuracy(test_data,modelAdam)\n",
        "  losses=[i.item() for i in test_loss]\n",
        "  test_Recon_losses.append(np.mean(np.array(losses)))"
      ],
      "execution_count": null,
      "outputs": [
        {
          "output_type": "stream",
          "text": [
            " 94080\n",
            "   120\n",
            " 10080\n",
            "    84\n",
            "  1680\n",
            "    20\n",
            "  1680\n",
            "    84\n",
            " 10080\n",
            "   120\n",
            " 94080\n",
            "   784\n",
            "______\n",
            "212892\n",
            "None\n",
            "epoch:  0  batch:  200 [ 20000/49000]  loss: 0.37366095    accuracy:  64.210%\n",
            "epoch:  0  batch:  400 [ 40000/49000]  loss: 0.35386753    accuracy:  78.020%\n",
            "epoch:  1  batch:  200 [ 20000/49000]  loss: 0.22784302    accuracy:  94.445%\n",
            "epoch:  1  batch:  400 [ 40000/49000]  loss: 0.08862063    accuracy:  94.638%\n",
            "epoch:  2  batch:  200 [ 20000/49000]  loss: 0.03031295    accuracy:  95.960%\n",
            "epoch:  2  batch:  400 [ 40000/49000]  loss: 0.17653485    accuracy:  96.005%\n",
            "epoch:  3  batch:  200 [ 20000/49000]  loss: 0.31502625    accuracy:  96.435%\n",
            "epoch:  3  batch:  400 [ 40000/49000]  loss: 0.08746783    accuracy:  96.597%\n",
            "epoch:  4  batch:  200 [ 20000/49000]  loss: 0.11932169    accuracy:  97.110%\n",
            "epoch:  4  batch:  400 [ 40000/49000]  loss: 0.12577893    accuracy:  96.910%\n",
            "epoch:  5  batch:  200 [ 20000/49000]  loss: 0.16077934    accuracy:  96.955%\n",
            "epoch:  5  batch:  400 [ 40000/49000]  loss: 0.03605609    accuracy:  96.953%\n",
            "epoch:  6  batch:  200 [ 20000/49000]  loss: 0.05419496    accuracy:  97.025%\n",
            "epoch:  6  batch:  400 [ 40000/49000]  loss: 0.17760333    accuracy:  97.245%\n",
            "epoch:  7  batch:  200 [ 20000/49000]  loss: 0.09945223    accuracy:  97.105%\n",
            "epoch:  7  batch:  400 [ 40000/49000]  loss: 0.36607075    accuracy:  97.207%\n",
            "epoch:  8  batch:  200 [ 20000/49000]  loss: 0.09790029    accuracy:  97.745%\n",
            "epoch:  8  batch:  400 [ 40000/49000]  loss: 0.10771819    accuracy:  97.578%\n",
            "epoch:  9  batch:  200 [ 20000/49000]  loss: 0.08852169    accuracy:  97.640%\n",
            "epoch:  9  batch:  400 [ 40000/49000]  loss: 0.08004260    accuracy:  97.608%\n",
            "\n",
            "Duration: 151 seconds\n",
            "Test accuracy: 20152/21000 =  95.962%\n",
            " 94080\n",
            "   120\n",
            " 10080\n",
            "    84\n",
            "  3360\n",
            "    40\n",
            "  3360\n",
            "    84\n",
            " 10080\n",
            "   120\n",
            " 94080\n",
            "   784\n",
            "______\n",
            "216272\n",
            "None\n",
            "epoch:  0  batch:  200 [ 20000/49000]  loss: 0.50499368    accuracy:  61.950%\n",
            "epoch:  0  batch:  400 [ 40000/49000]  loss: 0.25423223    accuracy:  76.565%\n",
            "epoch:  1  batch:  200 [ 20000/49000]  loss: 0.10897129    accuracy:  94.105%\n",
            "epoch:  1  batch:  400 [ 40000/49000]  loss: 0.18355463    accuracy:  94.377%\n",
            "epoch:  2  batch:  200 [ 20000/49000]  loss: 0.08690664    accuracy:  95.580%\n",
            "epoch:  2  batch:  400 [ 40000/49000]  loss: 0.07854522    accuracy:  95.545%\n",
            "epoch:  3  batch:  200 [ 20000/49000]  loss: 0.05453916    accuracy:  96.355%\n",
            "epoch:  3  batch:  400 [ 40000/49000]  loss: 0.13134681    accuracy:  96.205%\n",
            "epoch:  4  batch:  200 [ 20000/49000]  loss: 0.15996379    accuracy:  96.315%\n",
            "epoch:  4  batch:  400 [ 40000/49000]  loss: 0.47139063    accuracy:  96.265%\n",
            "epoch:  5  batch:  200 [ 20000/49000]  loss: 0.18012959    accuracy:  96.705%\n",
            "epoch:  5  batch:  400 [ 40000/49000]  loss: 0.18563612    accuracy:  96.868%\n",
            "epoch:  6  batch:  200 [ 20000/49000]  loss: 0.14081301    accuracy:  96.865%\n",
            "epoch:  6  batch:  400 [ 40000/49000]  loss: 0.03450015    accuracy:  97.075%\n",
            "epoch:  7  batch:  200 [ 20000/49000]  loss: 0.11780220    accuracy:  97.390%\n",
            "epoch:  7  batch:  400 [ 40000/49000]  loss: 0.07866619    accuracy:  97.275%\n",
            "epoch:  8  batch:  200 [ 20000/49000]  loss: 0.10807978    accuracy:  97.615%\n",
            "epoch:  8  batch:  400 [ 40000/49000]  loss: 0.11232870    accuracy:  97.535%\n",
            "epoch:  9  batch:  200 [ 20000/49000]  loss: 0.03050874    accuracy:  97.770%\n",
            "epoch:  9  batch:  400 [ 40000/49000]  loss: 0.10609455    accuracy:  97.595%\n",
            "\n",
            "Duration: 148 seconds\n",
            "Test accuracy: 20199/21000 =  96.186%\n",
            " 94080\n",
            "   120\n",
            " 10080\n",
            "    84\n",
            "  4200\n",
            "    50\n",
            "  4200\n",
            "    84\n",
            " 10080\n",
            "   120\n",
            " 94080\n",
            "   784\n",
            "______\n",
            "217962\n",
            "None\n",
            "epoch:  0  batch:  200 [ 20000/49000]  loss: 0.38586390    accuracy:  61.945%\n",
            "epoch:  0  batch:  400 [ 40000/49000]  loss: 0.32024434    accuracy:  76.683%\n",
            "epoch:  1  batch:  200 [ 20000/49000]  loss: 0.23456772    accuracy:  94.725%\n",
            "epoch:  1  batch:  400 [ 40000/49000]  loss: 0.08046860    accuracy:  94.698%\n",
            "epoch:  2  batch:  200 [ 20000/49000]  loss: 0.15506552    accuracy:  95.595%\n",
            "epoch:  2  batch:  400 [ 40000/49000]  loss: 0.08615595    accuracy:  95.615%\n",
            "epoch:  3  batch:  200 [ 20000/49000]  loss: 0.10226528    accuracy:  96.360%\n",
            "epoch:  3  batch:  400 [ 40000/49000]  loss: 0.09160477    accuracy:  96.350%\n",
            "epoch:  4  batch:  200 [ 20000/49000]  loss: 0.16495556    accuracy:  96.650%\n",
            "epoch:  4  batch:  400 [ 40000/49000]  loss: 0.33320683    accuracy:  96.530%\n",
            "epoch:  5  batch:  200 [ 20000/49000]  loss: 0.23693952    accuracy:  97.100%\n",
            "epoch:  5  batch:  400 [ 40000/49000]  loss: 0.21332482    accuracy:  96.975%\n",
            "epoch:  6  batch:  200 [ 20000/49000]  loss: 0.09755275    accuracy:  97.345%\n",
            "epoch:  6  batch:  400 [ 40000/49000]  loss: 0.02703950    accuracy:  97.220%\n",
            "epoch:  7  batch:  200 [ 20000/49000]  loss: 0.08275050    accuracy:  97.210%\n",
            "epoch:  7  batch:  400 [ 40000/49000]  loss: 0.05819843    accuracy:  97.218%\n",
            "epoch:  8  batch:  200 [ 20000/49000]  loss: 0.03130162    accuracy:  97.420%\n",
            "epoch:  8  batch:  400 [ 40000/49000]  loss: 0.23616895    accuracy:  97.228%\n",
            "epoch:  9  batch:  200 [ 20000/49000]  loss: 0.09041126    accuracy:  97.535%\n",
            "epoch:  9  batch:  400 [ 40000/49000]  loss: 0.06473216    accuracy:  97.453%\n",
            "\n",
            "Duration: 166 seconds\n",
            "Test accuracy: 20077/21000 =  95.605%\n",
            " 94080\n",
            "   120\n",
            " 10080\n",
            "    84\n",
            "  5040\n",
            "    60\n",
            "  5040\n",
            "    84\n",
            " 10080\n",
            "   120\n",
            " 94080\n",
            "   784\n",
            "______\n",
            "219652\n",
            "None\n",
            "epoch:  0  batch:  200 [ 20000/49000]  loss: 0.54353696    accuracy:  54.625%\n",
            "epoch:  0  batch:  400 [ 40000/49000]  loss: 0.21774869    accuracy:  73.290%\n",
            "epoch:  1  batch:  200 [ 20000/49000]  loss: 0.19971767    accuracy:  94.505%\n",
            "epoch:  1  batch:  400 [ 40000/49000]  loss: 0.12843560    accuracy:  94.790%\n",
            "epoch:  2  batch:  200 [ 20000/49000]  loss: 0.34659845    accuracy:  95.760%\n",
            "epoch:  2  batch:  400 [ 40000/49000]  loss: 0.05757118    accuracy:  95.767%\n",
            "epoch:  3  batch:  200 [ 20000/49000]  loss: 0.21666297    accuracy:  96.460%\n",
            "epoch:  3  batch:  400 [ 40000/49000]  loss: 0.10457993    accuracy:  96.305%\n",
            "epoch:  4  batch:  200 [ 20000/49000]  loss: 0.06221096    accuracy:  96.615%\n",
            "epoch:  4  batch:  400 [ 40000/49000]  loss: 0.09542353    accuracy:  96.595%\n",
            "epoch:  5  batch:  200 [ 20000/49000]  loss: 0.13627061    accuracy:  97.195%\n",
            "epoch:  5  batch:  400 [ 40000/49000]  loss: 0.14863251    accuracy:  96.995%\n",
            "epoch:  6  batch:  200 [ 20000/49000]  loss: 0.27955461    accuracy:  97.205%\n",
            "epoch:  6  batch:  400 [ 40000/49000]  loss: 0.08666570    accuracy:  97.175%\n",
            "epoch:  7  batch:  200 [ 20000/49000]  loss: 0.07154790    accuracy:  97.495%\n",
            "epoch:  7  batch:  400 [ 40000/49000]  loss: 0.01759621    accuracy:  97.450%\n",
            "epoch:  8  batch:  200 [ 20000/49000]  loss: 0.07757613    accuracy:  97.600%\n",
            "epoch:  8  batch:  400 [ 40000/49000]  loss: 0.11102331    accuracy:  97.418%\n",
            "epoch:  9  batch:  200 [ 20000/49000]  loss: 0.12756306    accuracy:  97.660%\n",
            "epoch:  9  batch:  400 [ 40000/49000]  loss: 0.10180814    accuracy:  97.465%\n",
            "\n",
            "Duration: 153 seconds\n",
            "Test accuracy: 19945/21000 =  94.976%\n"
          ],
          "name": "stdout"
        }
      ]
    },
    {
      "cell_type": "code",
      "metadata": {
        "colab": {
          "base_uri": "https://localhost:8080/",
          "height": 295
        },
        "id": "glenn6I9xjRJ",
        "outputId": "8d552b81-ad59-4fd1-8545-f176ade3f261"
      },
      "source": [
        "Plot_test_recons_loss(hidden_neuron_lst,test_Recon_losses)"
      ],
      "execution_count": null,
      "outputs": [
        {
          "output_type": "display_data",
          "data": {
            "image/png": "[encoded data removed]",
            "text/plain": [
              "<Figure size 432x288 with 1 Axes>"
            ]
          },
          "metadata": {
            "tags": [],
            "needs_background": "light"
          }
        }
      ]
    },
    {
      "cell_type": "markdown",
      "metadata": {
        "id": "ZiDFc7_kwPOf"
      },
      "source": [
        "### RMSProp"
      ]
    },
    {
      "cell_type": "code",
      "metadata": {
        "colab": {
          "base_uri": "https://localhost:8080/"
        },
        "id": "uGj6DQ5xwRCp",
        "outputId": "260ef48a-6320-4676-f34c-07f570d3b2e8"
      },
      "source": [
        "test_Recon_losses=[]\n",
        "for i in hidden_neuron_lst:\n",
        "  torch.manual_seed(101)\n",
        "  modelrms = SAE(out_sz=i)\n",
        "  print(count_parameters(modelrms))\n",
        "  criterion = nn.CrossEntropyLoss()\n",
        "  optimizer = torch.optim.RMSprop(modelrms.parameters(), lr=0.01)\n",
        "  train_losses,train_correct,test_losses,test_correct = train_loss_accuracy(train_loader,modelrms)\n",
        "  (test_accuracy,test_loss)=test_loss_accuracy(test_data,modelrms)\n",
        "  losses=[i.item() for i in test_loss]\n",
        "  test_Recon_losses.append(np.mean(np.array(losses)))"
      ],
      "execution_count": null,
      "outputs": [
        {
          "output_type": "stream",
          "text": [
            " 94080\n",
            "   120\n",
            " 10080\n",
            "    84\n",
            "  1680\n",
            "    20\n",
            "  1680\n",
            "    84\n",
            " 10080\n",
            "   120\n",
            " 94080\n",
            "   784\n",
            "______\n",
            "212892\n",
            "None\n",
            "epoch:  0  batch:  200 [ 20000/49000]  loss: 2.31122398    accuracy:  10.075%\n",
            "epoch:  0  batch:  400 [ 40000/49000]  loss: 2.31729960    accuracy:  10.405%\n",
            "epoch:  1  batch:  200 [ 20000/49000]  loss: 2.30299401    accuracy:  10.850%\n",
            "epoch:  1  batch:  400 [ 40000/49000]  loss: 2.30422497    accuracy:  10.748%\n",
            "epoch:  2  batch:  200 [ 20000/49000]  loss: 2.29952478    accuracy:  11.050%\n",
            "epoch:  2  batch:  400 [ 40000/49000]  loss: 2.30241489    accuracy:  10.790%\n",
            "epoch:  3  batch:  200 [ 20000/49000]  loss: 2.30331945    accuracy:  11.090%\n",
            "epoch:  3  batch:  400 [ 40000/49000]  loss: 2.30927896    accuracy:  11.072%\n",
            "epoch:  4  batch:  200 [ 20000/49000]  loss: 2.29978848    accuracy:  11.160%\n",
            "epoch:  4  batch:  400 [ 40000/49000]  loss: 2.29046774    accuracy:  10.855%\n",
            "epoch:  5  batch:  200 [ 20000/49000]  loss: 2.29743791    accuracy:  11.210%\n",
            "epoch:  5  batch:  400 [ 40000/49000]  loss: 2.30671954    accuracy:  11.307%\n",
            "epoch:  6  batch:  200 [ 20000/49000]  loss: 2.29538536    accuracy:  11.045%\n",
            "epoch:  6  batch:  400 [ 40000/49000]  loss: 2.29733944    accuracy:  11.130%\n",
            "epoch:  7  batch:  200 [ 20000/49000]  loss: 2.29802132    accuracy:  11.160%\n",
            "epoch:  7  batch:  400 [ 40000/49000]  loss: 2.29980564    accuracy:  11.205%\n",
            "epoch:  8  batch:  200 [ 20000/49000]  loss: 2.30565929    accuracy:  11.340%\n",
            "epoch:  8  batch:  400 [ 40000/49000]  loss: 2.30997753    accuracy:  11.270%\n",
            "epoch:  9  batch:  200 [ 20000/49000]  loss: 2.30649638    accuracy:  10.875%\n",
            "epoch:  9  batch:  400 [ 40000/49000]  loss: 2.30270052    accuracy:  11.110%\n",
            "\n",
            "Duration: 81 seconds\n",
            "Test accuracy: 2348/21000 =  11.181%\n",
            " 94080\n",
            "   120\n",
            " 10080\n",
            "    84\n",
            "  3360\n",
            "    40\n",
            "  3360\n",
            "    84\n",
            " 10080\n",
            "   120\n",
            " 94080\n",
            "   784\n",
            "______\n",
            "216272\n",
            "None\n",
            "epoch:  0  batch:  200 [ 20000/49000]  loss: 0.78328776    accuracy:  48.575%\n",
            "epoch:  0  batch:  400 [ 40000/49000]  loss: 0.61975843    accuracy:  64.252%\n",
            "epoch:  1  batch:  200 [ 20000/49000]  loss: 0.55941451    accuracy:  88.385%\n",
            "epoch:  1  batch:  400 [ 40000/49000]  loss: 0.39934933    accuracy:  89.032%\n",
            "epoch:  2  batch:  200 [ 20000/49000]  loss: 0.23914582    accuracy:  91.555%\n",
            "epoch:  2  batch:  400 [ 40000/49000]  loss: 0.32778305    accuracy:  91.632%\n",
            "epoch:  3  batch:  200 [ 20000/49000]  loss: 0.07453446    accuracy:  93.105%\n",
            "epoch:  3  batch:  400 [ 40000/49000]  loss: 0.25572571    accuracy:  92.870%\n",
            "epoch:  4  batch:  200 [ 20000/49000]  loss: 0.20019962    accuracy:  93.075%\n",
            "epoch:  4  batch:  400 [ 40000/49000]  loss: 0.19345717    accuracy:  93.525%\n",
            "epoch:  5  batch:  200 [ 20000/49000]  loss: 0.18407761    accuracy:  94.220%\n",
            "epoch:  5  batch:  400 [ 40000/49000]  loss: 0.11494028    accuracy:  94.022%\n",
            "epoch:  6  batch:  200 [ 20000/49000]  loss: 0.14832103    accuracy:  94.145%\n",
            "epoch:  6  batch:  400 [ 40000/49000]  loss: 0.18126118    accuracy:  94.385%\n",
            "epoch:  7  batch:  200 [ 20000/49000]  loss: 0.14848624    accuracy:  94.645%\n",
            "epoch:  7  batch:  400 [ 40000/49000]  loss: 0.20631331    accuracy:  94.720%\n",
            "epoch:  8  batch:  200 [ 20000/49000]  loss: 0.17074046    accuracy:  94.750%\n",
            "epoch:  8  batch:  400 [ 40000/49000]  loss: 0.09905236    accuracy:  94.715%\n",
            "epoch:  9  batch:  200 [ 20000/49000]  loss: 0.24996859    accuracy:  95.120%\n",
            "epoch:  9  batch:  400 [ 40000/49000]  loss: 0.11075373    accuracy:  95.135%\n",
            "\n",
            "Duration: 117 seconds\n",
            "Test accuracy: 19886/21000 =  94.695%\n",
            " 94080\n",
            "   120\n",
            " 10080\n",
            "    84\n",
            "  4200\n",
            "    50\n",
            "  4200\n",
            "    84\n",
            " 10080\n",
            "   120\n",
            " 94080\n",
            "   784\n",
            "______\n",
            "217962\n",
            "None\n",
            "epoch:  0  batch:  200 [ 20000/49000]  loss: 0.78275651    accuracy:  44.030%\n",
            "epoch:  0  batch:  400 [ 40000/49000]  loss: 0.54144526    accuracy:  61.540%\n",
            "epoch:  1  batch:  200 [ 20000/49000]  loss: 0.51414144    accuracy:  86.785%\n",
            "epoch:  1  batch:  400 [ 40000/49000]  loss: 0.46165925    accuracy:  87.892%\n",
            "epoch:  2  batch:  200 [ 20000/49000]  loss: 0.14324786    accuracy:  91.310%\n",
            "epoch:  2  batch:  400 [ 40000/49000]  loss: 0.23058388    accuracy:  91.605%\n",
            "epoch:  3  batch:  200 [ 20000/49000]  loss: 0.41252610    accuracy:  92.570%\n",
            "epoch:  3  batch:  400 [ 40000/49000]  loss: 0.36798954    accuracy:  92.368%\n",
            "epoch:  4  batch:  200 [ 20000/49000]  loss: 0.29797217    accuracy:  93.040%\n",
            "epoch:  4  batch:  400 [ 40000/49000]  loss: 0.25687757    accuracy:  92.920%\n",
            "epoch:  5  batch:  200 [ 20000/49000]  loss: 0.11408105    accuracy:  93.195%\n",
            "epoch:  5  batch:  400 [ 40000/49000]  loss: 0.13912795    accuracy:  93.290%\n",
            "epoch:  6  batch:  200 [ 20000/49000]  loss: 0.06651054    accuracy:  93.560%\n",
            "epoch:  6  batch:  400 [ 40000/49000]  loss: 0.12312009    accuracy:  93.595%\n",
            "epoch:  7  batch:  200 [ 20000/49000]  loss: 0.22180559    accuracy:  93.650%\n",
            "epoch:  7  batch:  400 [ 40000/49000]  loss: 0.24154598    accuracy:  93.707%\n",
            "epoch:  8  batch:  200 [ 20000/49000]  loss: 0.59553099    accuracy:  94.195%\n",
            "epoch:  8  batch:  400 [ 40000/49000]  loss: 0.30196741    accuracy:  94.060%\n",
            "epoch:  9  batch:  200 [ 20000/49000]  loss: 0.30931184    accuracy:  94.115%\n",
            "epoch:  9  batch:  400 [ 40000/49000]  loss: 0.28728500    accuracy:  94.095%\n",
            "\n",
            "Duration: 115 seconds\n",
            "Test accuracy: 19523/21000 =  92.967%\n",
            " 94080\n",
            "   120\n",
            " 10080\n",
            "    84\n",
            "  5040\n",
            "    60\n",
            "  5040\n",
            "    84\n",
            " 10080\n",
            "   120\n",
            " 94080\n",
            "   784\n",
            "______\n",
            "219652\n",
            "None\n",
            "epoch:  0  batch:  200 [ 20000/49000]  loss: 0.39268234    accuracy:  63.940%\n",
            "epoch:  0  batch:  400 [ 40000/49000]  loss: 0.36903220    accuracy:  76.297%\n",
            "epoch:  1  batch:  200 [ 20000/49000]  loss: 0.16578645    accuracy:  91.560%\n",
            "epoch:  1  batch:  400 [ 40000/49000]  loss: 0.16993245    accuracy:  91.620%\n",
            "epoch:  2  batch:  200 [ 20000/49000]  loss: 0.40740132    accuracy:  93.420%\n",
            "epoch:  2  batch:  400 [ 40000/49000]  loss: 0.36112571    accuracy:  93.653%\n",
            "epoch:  3  batch:  200 [ 20000/49000]  loss: 0.19622140    accuracy:  94.430%\n",
            "epoch:  3  batch:  400 [ 40000/49000]  loss: 0.20373017    accuracy:  94.575%\n",
            "epoch:  4  batch:  200 [ 20000/49000]  loss: 0.09909486    accuracy:  95.045%\n",
            "epoch:  4  batch:  400 [ 40000/49000]  loss: 0.43640450    accuracy:  95.067%\n",
            "epoch:  5  batch:  200 [ 20000/49000]  loss: 0.08991797    accuracy:  95.900%\n",
            "epoch:  5  batch:  400 [ 40000/49000]  loss: 0.11060298    accuracy:  95.782%\n",
            "epoch:  6  batch:  200 [ 20000/49000]  loss: 0.21079507    accuracy:  95.550%\n",
            "epoch:  6  batch:  400 [ 40000/49000]  loss: 0.25798541    accuracy:  95.517%\n",
            "epoch:  7  batch:  200 [ 20000/49000]  loss: 0.35326320    accuracy:  95.995%\n",
            "epoch:  7  batch:  400 [ 40000/49000]  loss: 0.09265979    accuracy:  96.082%\n",
            "epoch:  8  batch:  200 [ 20000/49000]  loss: 0.06593824    accuracy:  96.425%\n",
            "epoch:  8  batch:  400 [ 40000/49000]  loss: 0.08371598    accuracy:  96.240%\n",
            "epoch:  9  batch:  200 [ 20000/49000]  loss: 0.15883860    accuracy:  96.430%\n",
            "epoch:  9  batch:  400 [ 40000/49000]  loss: 0.12762447    accuracy:  96.493%\n",
            "\n",
            "Duration: 121 seconds\n",
            "Test accuracy: 20172/21000 =  96.057%\n"
          ],
          "name": "stdout"
        }
      ]
    },
    {
      "cell_type": "code",
      "metadata": {
        "colab": {
          "base_uri": "https://localhost:8080/",
          "height": 295
        },
        "id": "W03FGIsfwRCq",
        "outputId": "85fde548-5e6c-4aa5-bb8a-75213a116fc1"
      },
      "source": [
        "Plot_test_recons_loss(hidden_neuron_lst,test_Recon_losses)"
      ],
      "execution_count": null,
      "outputs": [
        {
          "output_type": "display_data",
          "data": {
            "image/png": "[encoded data removed]",
            "text/plain": [
              "<Figure size 432x288 with 1 Axes>"
            ]
          },
          "metadata": {
            "tags": [],
            "needs_background": "light"
          }
        }
      ]
    },
    {
      "cell_type": "markdown",
      "metadata": {
        "id": "bX1Tu_I5w5ao"
      },
      "source": [
        "### SGD with momentum"
      ]
    },
    {
      "cell_type": "code",
      "metadata": {
        "colab": {
          "base_uri": "https://localhost:8080/"
        },
        "id": "Iwhfcr0PxGAM",
        "outputId": "bf380595-93f7-4631-b3a0-66a8f32113f7"
      },
      "source": [
        "test_Recon_losses=[]\n",
        "for i in hidden_neuron_lst:\n",
        "  torch.manual_seed(101)\n",
        "  modelSGD = SAE(out_sz=i)\n",
        "  print(count_parameters(modelSGD))\n",
        "  criterion = nn.CrossEntropyLoss()\n",
        "  optimizer = torch.optim.SGD(modelSGD.parameters(), lr=0.01,momentum=0.9)\n",
        "  train_losses,train_correct,test_losses,test_correct = train_loss_accuracy(train_loader,modelSGD)\n",
        "  (test_accuracy,test_loss)=test_loss_accuracy(test_data,modelSGD)\n",
        "  losses=[i.item() for i in test_loss]\n",
        "  test_Recon_losses.append(np.mean(np.array(losses)))"
      ],
      "execution_count": null,
      "outputs": [
        {
          "output_type": "stream",
          "text": [
            " 94080\n",
            "   120\n",
            " 10080\n",
            "    84\n",
            "  1680\n",
            "    20\n",
            "  1680\n",
            "    84\n",
            " 10080\n",
            "   120\n",
            " 94080\n",
            "   784\n",
            "______\n",
            "212892\n",
            "None\n",
            "epoch:  0  batch:  200 [ 20000/49000]  loss: 2.21910548    accuracy:  11.360%\n",
            "epoch:  0  batch:  400 [ 40000/49000]  loss: 1.32351840    accuracy:  23.035%\n",
            "epoch:  1  batch:  200 [ 20000/49000]  loss: 0.47019139    accuracy:  78.750%\n",
            "epoch:  1  batch:  400 [ 40000/49000]  loss: 0.22931373    accuracy:  84.050%\n",
            "epoch:  2  batch:  200 [ 20000/49000]  loss: 0.08771989    accuracy:  93.010%\n",
            "epoch:  2  batch:  400 [ 40000/49000]  loss: 0.19215082    accuracy:  93.720%\n",
            "epoch:  3  batch:  200 [ 20000/49000]  loss: 0.16496211    accuracy:  96.230%\n",
            "epoch:  3  batch:  400 [ 40000/49000]  loss: 0.17926483    accuracy:  96.225%\n",
            "epoch:  4  batch:  200 [ 20000/49000]  loss: 0.02555310    accuracy:  97.130%\n",
            "epoch:  4  batch:  400 [ 40000/49000]  loss: 0.06843333    accuracy:  97.215%\n",
            "epoch:  5  batch:  200 [ 20000/49000]  loss: 0.07770804    accuracy:  97.875%\n",
            "epoch:  5  batch:  400 [ 40000/49000]  loss: 0.04299842    accuracy:  97.843%\n",
            "epoch:  6  batch:  200 [ 20000/49000]  loss: 0.11464493    accuracy:  98.315%\n",
            "epoch:  6  batch:  400 [ 40000/49000]  loss: 0.05104154    accuracy:  98.218%\n",
            "epoch:  7  batch:  200 [ 20000/49000]  loss: 0.02623057    accuracy:  98.570%\n",
            "epoch:  7  batch:  400 [ 40000/49000]  loss: 0.07009912    accuracy:  98.493%\n",
            "epoch:  8  batch:  200 [ 20000/49000]  loss: 0.05008094    accuracy:  98.805%\n",
            "epoch:  8  batch:  400 [ 40000/49000]  loss: 0.03399204    accuracy:  98.660%\n",
            "epoch:  9  batch:  200 [ 20000/49000]  loss: 0.01459679    accuracy:  99.050%\n",
            "epoch:  9  batch:  400 [ 40000/49000]  loss: 0.05209820    accuracy:  98.858%\n",
            "\n",
            "Duration: 79 seconds\n",
            "Test accuracy: 20385/21000 =  97.071%\n",
            " 94080\n",
            "   120\n",
            " 10080\n",
            "    84\n",
            "  3360\n",
            "    40\n",
            "  3360\n",
            "    84\n",
            " 10080\n",
            "   120\n",
            " 94080\n",
            "   784\n",
            "______\n",
            "216272\n",
            "None\n",
            "epoch:  0  batch:  200 [ 20000/49000]  loss: 2.29690742    accuracy:  10.335%\n",
            "epoch:  0  batch:  400 [ 40000/49000]  loss: 1.12805164    accuracy:  22.233%\n",
            "epoch:  1  batch:  200 [ 20000/49000]  loss: 0.68349808    accuracy:  81.385%\n",
            "epoch:  1  batch:  400 [ 40000/49000]  loss: 0.34768668    accuracy:  84.775%\n",
            "epoch:  2  batch:  200 [ 20000/49000]  loss: 0.29297316    accuracy:  92.500%\n",
            "epoch:  2  batch:  400 [ 40000/49000]  loss: 0.21574131    accuracy:  92.868%\n",
            "epoch:  3  batch:  200 [ 20000/49000]  loss: 0.06555014    accuracy:  95.410%\n",
            "epoch:  3  batch:  400 [ 40000/49000]  loss: 0.10424114    accuracy:  95.308%\n",
            "epoch:  4  batch:  200 [ 20000/49000]  loss: 0.09542837    accuracy:  96.575%\n",
            "epoch:  4  batch:  400 [ 40000/49000]  loss: 0.03680231    accuracy:  96.713%\n",
            "epoch:  5  batch:  200 [ 20000/49000]  loss: 0.10559317    accuracy:  97.515%\n",
            "epoch:  5  batch:  400 [ 40000/49000]  loss: 0.05341179    accuracy:  97.373%\n",
            "epoch:  6  batch:  200 [ 20000/49000]  loss: 0.04054243    accuracy:  97.990%\n",
            "epoch:  6  batch:  400 [ 40000/49000]  loss: 0.11303619    accuracy:  97.930%\n",
            "epoch:  7  batch:  200 [ 20000/49000]  loss: 0.02860668    accuracy:  98.360%\n",
            "epoch:  7  batch:  400 [ 40000/49000]  loss: 0.09192834    accuracy:  98.323%\n",
            "epoch:  8  batch:  200 [ 20000/49000]  loss: 0.08731619    accuracy:  98.685%\n",
            "epoch:  8  batch:  400 [ 40000/49000]  loss: 0.00718329    accuracy:  98.600%\n",
            "epoch:  9  batch:  200 [ 20000/49000]  loss: 0.03918199    accuracy:  98.955%\n",
            "epoch:  9  batch:  400 [ 40000/49000]  loss: 0.04649523    accuracy:  98.698%\n",
            "\n",
            "Duration: 78 seconds\n",
            "Test accuracy: 20305/21000 =  96.690%\n",
            " 94080\n",
            "   120\n",
            " 10080\n",
            "    84\n",
            "  4200\n",
            "    50\n",
            "  4200\n",
            "    84\n",
            " 10080\n",
            "   120\n",
            " 94080\n",
            "   784\n",
            "______\n",
            "217962\n",
            "None\n",
            "epoch:  0  batch:  200 [ 20000/49000]  loss: 2.30773306    accuracy:   9.750%\n",
            "epoch:  0  batch:  400 [ 40000/49000]  loss: 1.58442855    accuracy:  19.820%\n",
            "epoch:  1  batch:  200 [ 20000/49000]  loss: 0.42448387    accuracy:  75.040%\n",
            "epoch:  1  batch:  400 [ 40000/49000]  loss: 0.45638928    accuracy:  82.112%\n",
            "epoch:  2  batch:  200 [ 20000/49000]  loss: 0.14255764    accuracy:  93.730%\n",
            "epoch:  2  batch:  400 [ 40000/49000]  loss: 0.24777819    accuracy:  94.195%\n",
            "epoch:  3  batch:  200 [ 20000/49000]  loss: 0.17062414    accuracy:  95.875%\n",
            "epoch:  3  batch:  400 [ 40000/49000]  loss: 0.08002054    accuracy:  95.828%\n",
            "epoch:  4  batch:  200 [ 20000/49000]  loss: 0.08599690    accuracy:  96.820%\n",
            "epoch:  4  batch:  400 [ 40000/49000]  loss: 0.07362666    accuracy:  96.870%\n",
            "epoch:  5  batch:  200 [ 20000/49000]  loss: 0.05837957    accuracy:  97.270%\n",
            "epoch:  5  batch:  400 [ 40000/49000]  loss: 0.02626629    accuracy:  97.310%\n",
            "epoch:  6  batch:  200 [ 20000/49000]  loss: 0.00945391    accuracy:  97.965%\n",
            "epoch:  6  batch:  400 [ 40000/49000]  loss: 0.02623789    accuracy:  97.897%\n",
            "epoch:  7  batch:  200 [ 20000/49000]  loss: 0.03695190    accuracy:  98.330%\n",
            "epoch:  7  batch:  400 [ 40000/49000]  loss: 0.01317903    accuracy:  98.205%\n",
            "epoch:  8  batch:  200 [ 20000/49000]  loss: 0.03613829    accuracy:  98.730%\n",
            "epoch:  8  batch:  400 [ 40000/49000]  loss: 0.02819640    accuracy:  98.567%\n",
            "epoch:  9  batch:  200 [ 20000/49000]  loss: 0.01652824    accuracy:  98.730%\n",
            "epoch:  9  batch:  400 [ 40000/49000]  loss: 0.10294073    accuracy:  98.668%\n",
            "\n",
            "Duration: 79 seconds\n",
            "Test accuracy: 20318/21000 =  96.752%\n",
            " 94080\n",
            "   120\n",
            " 10080\n",
            "    84\n",
            "  5040\n",
            "    60\n",
            "  5040\n",
            "    84\n",
            " 10080\n",
            "   120\n",
            " 94080\n",
            "   784\n",
            "______\n",
            "219652\n",
            "None\n",
            "epoch:  0  batch:  200 [ 20000/49000]  loss: 2.29393363    accuracy:  10.385%\n",
            "epoch:  0  batch:  400 [ 40000/49000]  loss: 1.37990808    accuracy:  19.385%\n",
            "epoch:  1  batch:  200 [ 20000/49000]  loss: 0.57197589    accuracy:  66.350%\n",
            "epoch:  1  batch:  400 [ 40000/49000]  loss: 0.24339274    accuracy:  76.267%\n",
            "epoch:  2  batch:  200 [ 20000/49000]  loss: 0.71993917    accuracy:  92.960%\n",
            "epoch:  2  batch:  400 [ 40000/49000]  loss: 0.35309601    accuracy:  93.550%\n",
            "epoch:  3  batch:  200 [ 20000/49000]  loss: 0.18112592    accuracy:  95.730%\n",
            "epoch:  3  batch:  400 [ 40000/49000]  loss: 0.16503496    accuracy:  95.800%\n",
            "epoch:  4  batch:  200 [ 20000/49000]  loss: 0.08010438    accuracy:  96.775%\n",
            "epoch:  4  batch:  400 [ 40000/49000]  loss: 0.08195826    accuracy:  96.810%\n",
            "epoch:  5  batch:  200 [ 20000/49000]  loss: 0.08085568    accuracy:  97.440%\n",
            "epoch:  5  batch:  400 [ 40000/49000]  loss: 0.06750749    accuracy:  97.345%\n",
            "epoch:  6  batch:  200 [ 20000/49000]  loss: 0.04734350    accuracy:  97.935%\n",
            "epoch:  6  batch:  400 [ 40000/49000]  loss: 0.07361109    accuracy:  97.938%\n",
            "epoch:  7  batch:  200 [ 20000/49000]  loss: 0.13030247    accuracy:  98.315%\n",
            "epoch:  7  batch:  400 [ 40000/49000]  loss: 0.03542120    accuracy:  98.295%\n",
            "epoch:  8  batch:  200 [ 20000/49000]  loss: 0.02878591    accuracy:  98.545%\n",
            "epoch:  8  batch:  400 [ 40000/49000]  loss: 0.05061269    accuracy:  98.480%\n",
            "epoch:  9  batch:  200 [ 20000/49000]  loss: 0.03911618    accuracy:  98.650%\n",
            "epoch:  9  batch:  400 [ 40000/49000]  loss: 0.08744182    accuracy:  98.650%\n",
            "\n",
            "Duration: 79 seconds\n",
            "Test accuracy: 20285/21000 =  96.595%\n"
          ],
          "name": "stdout"
        }
      ]
    },
    {
      "cell_type": "code",
      "metadata": {
        "colab": {
          "base_uri": "https://localhost:8080/",
          "height": 295
        },
        "id": "MYm41VKjxGAg",
        "outputId": "30487b2a-6523-4a0f-ea38-7b800668ad5f"
      },
      "source": [
        "Plot_test_recons_loss(hidden_neuron_lst,test_Recon_losses)"
      ],
      "execution_count": null,
      "outputs": [
        {
          "output_type": "display_data",
          "data": {
            "image/png": "[encoded data removed]",
            "text/plain": [
              "<Figure size 432x288 with 1 Axes>"
            ]
          },
          "metadata": {
            "tags": [],
            "needs_background": "light"
          }
        }
      ]
    },
    {
      "cell_type": "markdown",
      "metadata": {
        "id": "qnexchI_xXz3"
      },
      "source": [
        "### SGD without momentum"
      ]
    },
    {
      "cell_type": "code",
      "metadata": {
        "colab": {
          "base_uri": "https://localhost:8080/"
        },
        "id": "IW5mSE5HxXz4",
        "outputId": "ccd627c1-c26a-407d-f2c9-5f31e6a4db23"
      },
      "source": [
        "test_Recon_losses=[]\n",
        "for i in hidden_neuron_lst:\n",
        "  torch.manual_seed(101)\n",
        "  modelSGD_ = SAE(out_sz=i)\n",
        "  print(count_parameters(modelSGD_))\n",
        "  criterion = nn.CrossEntropyLoss()\n",
        "  optimizer = torch.optim.SGD(modelSGD_.parameters(), lr=0.01,momentum=0)\n",
        "  train_losses,train_correct,test_losses,test_correct = train_loss_accuracy(train_loader,modelSGD_)\n",
        "  (test_accuracy,test_loss)=test_loss_accuracy(test_data,modelSGD_)\n",
        "  losses=[i.item() for i in test_loss]\n",
        "  test_Recon_losses.append(np.mean(np.array(losses)))"
      ],
      "execution_count": null,
      "outputs": [
        {
          "output_type": "stream",
          "text": [
            " 94080\n",
            "   120\n",
            " 10080\n",
            "    84\n",
            "  1680\n",
            "    20\n",
            "  1680\n",
            "    84\n",
            " 10080\n",
            "   120\n",
            " 94080\n",
            "   784\n",
            "______\n",
            "212892\n",
            "None\n",
            "epoch:  0  batch:  200 [ 20000/49000]  loss: 6.29625130    accuracy:   6.980%\n",
            "epoch:  0  batch:  400 [ 40000/49000]  loss: 3.73529267    accuracy:   8.765%\n",
            "epoch:  1  batch:  200 [ 20000/49000]  loss: 2.29302430    accuracy:  10.405%\n",
            "epoch:  1  batch:  400 [ 40000/49000]  loss: 2.29108286    accuracy:  10.807%\n",
            "epoch:  2  batch:  200 [ 20000/49000]  loss: 2.22340679    accuracy:  16.035%\n",
            "epoch:  2  batch:  400 [ 40000/49000]  loss: 2.18903375    accuracy:  17.858%\n",
            "epoch:  3  batch:  200 [ 20000/49000]  loss: 1.95645189    accuracy:  26.045%\n",
            "epoch:  3  batch:  400 [ 40000/49000]  loss: 1.84566879    accuracy:  28.527%\n",
            "epoch:  4  batch:  200 [ 20000/49000]  loss: 1.56694400    accuracy:  37.240%\n",
            "epoch:  4  batch:  400 [ 40000/49000]  loss: 1.49984026    accuracy:  38.672%\n",
            "epoch:  5  batch:  200 [ 20000/49000]  loss: 1.45192277    accuracy:  44.465%\n",
            "epoch:  5  batch:  400 [ 40000/49000]  loss: 1.19786990    accuracy:  45.917%\n",
            "epoch:  6  batch:  200 [ 20000/49000]  loss: 1.52155566    accuracy:  52.010%\n",
            "epoch:  6  batch:  400 [ 40000/49000]  loss: 1.08552206    accuracy:  54.780%\n",
            "epoch:  7  batch:  200 [ 20000/49000]  loss: 1.06487370    accuracy:  64.960%\n",
            "epoch:  7  batch:  400 [ 40000/49000]  loss: 0.76353967    accuracy:  67.698%\n",
            "epoch:  8  batch:  200 [ 20000/49000]  loss: 0.65279889    accuracy:  77.525%\n",
            "epoch:  8  batch:  400 [ 40000/49000]  loss: 0.75509894    accuracy:  79.055%\n",
            "epoch:  9  batch:  200 [ 20000/49000]  loss: 0.49667233    accuracy:  83.910%\n",
            "epoch:  9  batch:  400 [ 40000/49000]  loss: 0.53960383    accuracy:  84.942%\n",
            "\n",
            "Duration: 75 seconds\n",
            "Test accuracy: 18383/21000 =  87.538%\n",
            " 94080\n",
            "   120\n",
            " 10080\n",
            "    84\n",
            "  3360\n",
            "    40\n",
            "  3360\n",
            "    84\n",
            " 10080\n",
            "   120\n",
            " 94080\n",
            "   784\n",
            "______\n",
            "216272\n",
            "None\n",
            "epoch:  0  batch:  200 [ 20000/49000]  loss: 6.29779100    accuracy:   8.135%\n",
            "epoch:  0  batch:  400 [ 40000/49000]  loss: 3.58687711    accuracy:   9.633%\n",
            "epoch:  1  batch:  200 [ 20000/49000]  loss: 2.32876182    accuracy:  10.685%\n",
            "epoch:  1  batch:  400 [ 40000/49000]  loss: 2.28434229    accuracy:  10.795%\n",
            "epoch:  2  batch:  200 [ 20000/49000]  loss: 2.29183125    accuracy:  13.275%\n",
            "epoch:  2  batch:  400 [ 40000/49000]  loss: 2.23767710    accuracy:  14.510%\n",
            "epoch:  3  batch:  200 [ 20000/49000]  loss: 2.14588213    accuracy:  22.055%\n",
            "epoch:  3  batch:  400 [ 40000/49000]  loss: 2.03389144    accuracy:  23.395%\n",
            "epoch:  4  batch:  200 [ 20000/49000]  loss: 1.91660798    accuracy:  32.560%\n",
            "epoch:  4  batch:  400 [ 40000/49000]  loss: 1.54606628    accuracy:  35.275%\n",
            "epoch:  5  batch:  200 [ 20000/49000]  loss: 1.36214054    accuracy:  44.330%\n",
            "epoch:  5  batch:  400 [ 40000/49000]  loss: 1.13577354    accuracy:  49.275%\n",
            "epoch:  6  batch:  200 [ 20000/49000]  loss: 0.83111352    accuracy:  65.895%\n",
            "epoch:  6  batch:  400 [ 40000/49000]  loss: 0.76719010    accuracy:  68.013%\n",
            "epoch:  7  batch:  200 [ 20000/49000]  loss: 0.75095636    accuracy:  74.500%\n",
            "epoch:  7  batch:  400 [ 40000/49000]  loss: 0.59638858    accuracy:  75.192%\n",
            "epoch:  8  batch:  200 [ 20000/49000]  loss: 0.63721275    accuracy:  78.935%\n",
            "epoch:  8  batch:  400 [ 40000/49000]  loss: 0.55449325    accuracy:  80.097%\n",
            "epoch:  9  batch:  200 [ 20000/49000]  loss: 0.50691438    accuracy:  83.575%\n",
            "epoch:  9  batch:  400 [ 40000/49000]  loss: 0.43900928    accuracy:  84.228%\n",
            "\n",
            "Duration: 74 seconds\n",
            "Test accuracy: 17838/21000 =  84.943%\n",
            " 94080\n",
            "   120\n",
            " 10080\n",
            "    84\n",
            "  4200\n",
            "    50\n",
            "  4200\n",
            "    84\n",
            " 10080\n",
            "   120\n",
            " 94080\n",
            "   784\n",
            "______\n",
            "217962\n",
            "None\n",
            "epoch:  0  batch:  200 [ 20000/49000]  loss: 6.32245302    accuracy:   6.395%\n",
            "epoch:  0  batch:  400 [ 40000/49000]  loss: 3.13538575    accuracy:   8.217%\n",
            "epoch:  1  batch:  200 [ 20000/49000]  loss: 2.31058979    accuracy:  10.480%\n",
            "epoch:  1  batch:  400 [ 40000/49000]  loss: 2.31881809    accuracy:  10.900%\n",
            "epoch:  2  batch:  200 [ 20000/49000]  loss: 2.24271703    accuracy:  13.275%\n",
            "epoch:  2  batch:  400 [ 40000/49000]  loss: 2.26356220    accuracy:  14.025%\n",
            "epoch:  3  batch:  200 [ 20000/49000]  loss: 2.22185135    accuracy:  20.815%\n",
            "epoch:  3  batch:  400 [ 40000/49000]  loss: 2.07354832    accuracy:  23.060%\n",
            "epoch:  4  batch:  200 [ 20000/49000]  loss: 1.85498393    accuracy:  31.280%\n",
            "epoch:  4  batch:  400 [ 40000/49000]  loss: 1.77255940    accuracy:  33.590%\n",
            "epoch:  5  batch:  200 [ 20000/49000]  loss: 1.39923215    accuracy:  41.075%\n",
            "epoch:  5  batch:  400 [ 40000/49000]  loss: 1.31270444    accuracy:  42.485%\n",
            "epoch:  6  batch:  200 [ 20000/49000]  loss: 1.02369440    accuracy:  52.460%\n",
            "epoch:  6  batch:  400 [ 40000/49000]  loss: 1.06725740    accuracy:  56.460%\n",
            "epoch:  7  batch:  200 [ 20000/49000]  loss: 0.84612280    accuracy:  70.585%\n",
            "epoch:  7  batch:  400 [ 40000/49000]  loss: 0.60930693    accuracy:  72.365%\n",
            "epoch:  8  batch:  200 [ 20000/49000]  loss: 0.79928881    accuracy:  78.195%\n",
            "epoch:  8  batch:  400 [ 40000/49000]  loss: 0.69181424    accuracy:  78.940%\n",
            "epoch:  9  batch:  200 [ 20000/49000]  loss: 0.61443335    accuracy:  82.930%\n",
            "epoch:  9  batch:  400 [ 40000/49000]  loss: 0.52311617    accuracy:  83.515%\n",
            "\n",
            "Duration: 75 seconds\n",
            "Test accuracy: 18016/21000 =  85.790%\n",
            " 94080\n",
            "   120\n",
            " 10080\n",
            "    84\n",
            "  5040\n",
            "    60\n",
            "  5040\n",
            "    84\n",
            " 10080\n",
            "   120\n",
            " 94080\n",
            "   784\n",
            "______\n",
            "219652\n",
            "None\n",
            "epoch:  0  batch:  200 [ 20000/49000]  loss: 6.28291512    accuracy:   8.765%\n",
            "epoch:  0  batch:  400 [ 40000/49000]  loss: 3.78579593    accuracy:   9.100%\n",
            "epoch:  1  batch:  200 [ 20000/49000]  loss: 2.30964804    accuracy:  10.140%\n",
            "epoch:  1  batch:  400 [ 40000/49000]  loss: 2.27351069    accuracy:  10.818%\n",
            "epoch:  2  batch:  200 [ 20000/49000]  loss: 2.24024558    accuracy:  12.560%\n",
            "epoch:  2  batch:  400 [ 40000/49000]  loss: 2.29897785    accuracy:  13.932%\n",
            "epoch:  3  batch:  200 [ 20000/49000]  loss: 2.22049260    accuracy:  19.085%\n",
            "epoch:  3  batch:  400 [ 40000/49000]  loss: 2.17182183    accuracy:  20.950%\n",
            "epoch:  4  batch:  200 [ 20000/49000]  loss: 2.04453087    accuracy:  26.375%\n",
            "epoch:  4  batch:  400 [ 40000/49000]  loss: 1.86512959    accuracy:  28.310%\n",
            "epoch:  5  batch:  200 [ 20000/49000]  loss: 1.42473662    accuracy:  36.125%\n",
            "epoch:  5  batch:  400 [ 40000/49000]  loss: 1.45392239    accuracy:  37.985%\n",
            "epoch:  6  batch:  200 [ 20000/49000]  loss: 1.58026743    accuracy:  43.055%\n",
            "epoch:  6  batch:  400 [ 40000/49000]  loss: 1.49496198    accuracy:  45.093%\n",
            "epoch:  7  batch:  200 [ 20000/49000]  loss: 1.23137033    accuracy:  51.860%\n",
            "epoch:  7  batch:  400 [ 40000/49000]  loss: 1.16876268    accuracy:  53.675%\n",
            "epoch:  8  batch:  200 [ 20000/49000]  loss: 1.00335896    accuracy:  61.755%\n",
            "epoch:  8  batch:  400 [ 40000/49000]  loss: 0.88804698    accuracy:  64.043%\n",
            "epoch:  9  batch:  200 [ 20000/49000]  loss: 0.74166036    accuracy:  69.770%\n",
            "epoch:  9  batch:  400 [ 40000/49000]  loss: 0.81135750    accuracy:  72.062%\n",
            "\n",
            "Duration: 75 seconds\n",
            "Test accuracy: 15793/21000 =  75.205%\n"
          ],
          "name": "stdout"
        }
      ]
    },
    {
      "cell_type": "code",
      "metadata": {
        "colab": {
          "base_uri": "https://localhost:8080/",
          "height": 295
        },
        "id": "cyXzTvHXxXz6",
        "outputId": "a9230f39-f61a-4697-ca1a-bb64ac7e3555"
      },
      "source": [
        "Plot_test_recons_loss(hidden_neuron_lst,test_Recon_losses)"
      ],
      "execution_count": null,
      "outputs": [
        {
          "output_type": "display_data",
          "data": {
            "image/png": "[encoded data removed]",
            "text/plain": [
              "<Figure size 432x288 with 1 Axes>"
            ]
          },
          "metadata": {
            "tags": [],
            "needs_background": "light"
          }
        }
      ]
    },
    {
      "cell_type": "markdown",
      "metadata": {
        "id": "qLP2UC5j1kvf"
      },
      "source": [
        "## Best Model\n",
        "   Best model is obtianed using Adam at hidden neurons=40"
      ]
    },
    {
      "cell_type": "code",
      "metadata": {
        "colab": {
          "base_uri": "https://localhost:8080/"
        },
        "id": "D5qaKA3x1jjd",
        "outputId": "801b09c9-cc56-41d9-f561-dc548ff64cad"
      },
      "source": [
        "torch.manual_seed(101)\n",
        "modelAdam = SAE(out_sz=40)\n",
        "print(count_parameters(modelAdam))\n",
        "criterion = nn.CrossEntropyLoss()\n",
        "optimizer = torch.optim.Adam(modelAdam.parameters(), lr=0.01)\n",
        "train_losses,train_correct,test_losses,test_correct = train_loss_accuracy(train_loader,modelAdam)\n",
        "#(test_accuracy,test_loss)=test_loss_accuracy(test_data,modelAdam)\n",
        "#losses=[i.item() for i in test_loss]\n",
        "#test_Recon_losses.append(np.mean(np.array(losses)))"
      ],
      "execution_count": null,
      "outputs": [
        {
          "output_type": "stream",
          "text": [
            " 94080\n",
            "   120\n",
            " 10080\n",
            "    84\n",
            "  3360\n",
            "    40\n",
            "  3360\n",
            "    84\n",
            " 10080\n",
            "   120\n",
            " 94080\n",
            "   784\n",
            "______\n",
            "216272\n",
            "None\n",
            "epoch:  0  batch:  200 [ 20000/49000]  loss: 0.35225362    accuracy:  60.420%\n",
            "epoch:  0  batch:  400 [ 40000/49000]  loss: 0.25161517    accuracy:  76.030%\n",
            "epoch:  1  batch:  200 [ 20000/49000]  loss: 0.26678234    accuracy:  94.600%\n",
            "epoch:  1  batch:  400 [ 40000/49000]  loss: 0.11704984    accuracy:  94.692%\n",
            "epoch:  2  batch:  200 [ 20000/49000]  loss: 0.06050238    accuracy:  95.815%\n",
            "epoch:  2  batch:  400 [ 40000/49000]  loss: 0.26113871    accuracy:  95.757%\n",
            "epoch:  3  batch:  200 [ 20000/49000]  loss: 0.03884675    accuracy:  96.070%\n",
            "epoch:  3  batch:  400 [ 40000/49000]  loss: 0.20373708    accuracy:  96.302%\n",
            "epoch:  4  batch:  200 [ 20000/49000]  loss: 0.08479146    accuracy:  96.590%\n",
            "epoch:  4  batch:  400 [ 40000/49000]  loss: 0.07600765    accuracy:  96.515%\n",
            "epoch:  5  batch:  200 [ 20000/49000]  loss: 0.26502919    accuracy:  97.005%\n",
            "epoch:  5  batch:  400 [ 40000/49000]  loss: 0.09214786    accuracy:  96.865%\n",
            "epoch:  6  batch:  200 [ 20000/49000]  loss: 0.21753535    accuracy:  97.035%\n",
            "epoch:  6  batch:  400 [ 40000/49000]  loss: 0.18515886    accuracy:  97.028%\n",
            "epoch:  7  batch:  200 [ 20000/49000]  loss: 0.11813170    accuracy:  97.485%\n",
            "epoch:  7  batch:  400 [ 40000/49000]  loss: 0.08967026    accuracy:  97.330%\n",
            "epoch:  8  batch:  200 [ 20000/49000]  loss: 0.20044900    accuracy:  97.355%\n",
            "epoch:  8  batch:  400 [ 40000/49000]  loss: 0.11487498    accuracy:  97.365%\n",
            "epoch:  9  batch:  200 [ 20000/49000]  loss: 0.02202761    accuracy:  97.285%\n",
            "epoch:  9  batch:  400 [ 40000/49000]  loss: 0.11816631    accuracy:  97.465%\n",
            "\n",
            "Duration: 147 seconds\n"
          ],
          "name": "stdout"
        }
      ]
    },
    {
      "cell_type": "code",
      "metadata": {
        "colab": {
          "base_uri": "https://localhost:8080/"
        },
        "id": "f_Lt5X2V17LB",
        "outputId": "2334a741-e3f2-4231-e54e-814aee93a432"
      },
      "source": [
        "losses=[i.item() for i in train_losses]\n",
        "print('Average training loss: {}'.format(np.mean(np.array(losses))))"
      ],
      "execution_count": null,
      "outputs": [
        {
          "output_type": "stream",
          "text": [
            "Average training loss: 0.1166729487478733\n"
          ],
          "name": "stdout"
        }
      ]
    },
    {
      "cell_type": "code",
      "metadata": {
        "colab": {
          "base_uri": "https://localhost:8080/",
          "height": 281
        },
        "id": "xCsOmM4A17LM",
        "outputId": "2b236575-175f-4ad3-fc89-da653f92b404"
      },
      "source": [
        "plot_loss(train_losses,test_losses)"
      ],
      "execution_count": null,
      "outputs": [
        {
          "output_type": "display_data",
          "data": {
            "image/png": "[encoded data removed]",
            "text/plain": [
              "<Figure size 432x288 with 1 Axes>"
            ]
          },
          "metadata": {
            "tags": [],
            "needs_background": "light"
          }
        }
      ]
    },
    {
      "cell_type": "code",
      "metadata": {
        "colab": {
          "base_uri": "https://localhost:8080/",
          "height": 281
        },
        "id": "e_KmDdaV17LO",
        "outputId": "3d29a57e-5b47-49ca-f930-2615e1ddaaae"
      },
      "source": [
        "plot_accuracy(train_correct,test_correct)"
      ],
      "execution_count": null,
      "outputs": [
        {
          "output_type": "display_data",
          "data": {
            "image/png": "[encoded data removed]",
            "text/plain": [
              "<Figure size 432x288 with 1 Axes>"
            ]
          },
          "metadata": {
            "tags": [],
            "needs_background": "light"
          }
        }
      ]
    },
    {
      "cell_type": "code",
      "metadata": {
        "colab": {
          "base_uri": "https://localhost:8080/"
        },
        "id": "v8R1Pc2u17LP",
        "outputId": "9f39ed6b-39ef-49b0-aa2b-b3e445f3f8ab"
      },
      "source": [
        "(test_accuracy,test_loss)=test_loss_accuracy(test_data,model)"
      ],
      "execution_count": null,
      "outputs": [
        {
          "output_type": "stream",
          "text": [
            "Test accuracy: 20180/21000 =  96.095%\n"
          ],
          "name": "stdout"
        }
      ]
    },
    {
      "cell_type": "code",
      "metadata": {
        "colab": {
          "base_uri": "https://localhost:8080/"
        },
        "id": "PrDdXIIx17LQ",
        "outputId": "c85ceff8-4d9d-477c-ab34-6ceafaafb474"
      },
      "source": [
        "losses=[i.item() for i in test_loss]\n",
        "print('Test loss: {}'.format(np.mean(np.array(losses))))"
      ],
      "execution_count": null,
      "outputs": [
        {
          "output_type": "stream",
          "text": [
            "Test loss: 0.17765840888023376\n"
          ],
          "name": "stdout"
        }
      ]
    },
    {
      "cell_type": "code",
      "metadata": {
        "id": "bTOuOEpOM7sQ"
      },
      "source": [
        "save_train_dataset(train_loader,modelAdam,40)"
      ],
      "execution_count": null,
      "outputs": []
    },
    {
      "cell_type": "code",
      "metadata": {
        "id": "9RtbTJ3PM7sS"
      },
      "source": [
        "save_test_dataset(test_loader,modelAdam,40)"
      ],
      "execution_count": null,
      "outputs": []
    },
    {
      "cell_type": "code",
      "metadata": {
        "id": "zBfs67px17LR"
      },
      "source": [
        "torch.save(model.state_dict(), 'CIFAR10-BestSAE-Model.pt')"
      ],
      "execution_count": null,
      "outputs": []
    },
    {
      "cell_type": "code",
      "metadata": {
        "colab": {
          "base_uri": "https://localhost:8080/"
        },
        "id": "MJLrDMXH17LS",
        "outputId": "c5263f9a-9776-4d56-b0a2-57f667e002c0"
      },
      "source": [
        "summary(model,(120,784))"
      ],
      "execution_count": null,
      "outputs": [
        {
          "output_type": "stream",
          "text": [
            "----------------------------------------------------------------\n",
            "        Layer (type)               Output Shape         Param #\n",
            "================================================================\n",
            "            Linear-1             [-1, 120, 120]          94,200\n",
            "            Linear-2              [-1, 120, 84]          10,164\n",
            "            Linear-3              [-1, 120, 56]           4,760\n",
            "            Linear-4              [-1, 120, 84]           4,788\n",
            "            Linear-5             [-1, 120, 120]          10,200\n",
            "            Linear-6             [-1, 120, 784]          94,864\n",
            "================================================================\n",
            "Total params: 218,976\n",
            "Trainable params: 218,976\n",
            "Non-trainable params: 0\n",
            "----------------------------------------------------------------\n",
            "Input size (MB): 0.36\n",
            "Forward/backward pass size (MB): 1.14\n",
            "Params size (MB): 0.84\n",
            "Estimated Total Size (MB): 2.34\n",
            "----------------------------------------------------------------\n"
          ],
          "name": "stdout"
        }
      ]
    },
    {
      "cell_type": "code",
      "metadata": {
        "id": "0HTX9BJcEK_q"
      },
      "source": [
        "test_outputs =  np.empty((0,784),float)\n",
        "test_target= np.empty((0,1), int)\n",
        "\n",
        "# Run the training batches\n",
        "for b, (X_test, y_test) in enumerate(test_loader):\n",
        "    b+=1\n",
        "    # Apply the model\n",
        "    y_pred= modelAdam(X_test.view(500, -1))  # Here we flatten X_train\n",
        "    test_target = np.append(test_target,y_test.numpy().reshape(-1,1),axis=0)\n",
        "    \n",
        "    outputs=modelAdam.get_reconstruct()\n",
        "    outputs = outputs.cpu().data\n",
        "    test_outputs = np.append( test_outputs, outputs.numpy(), axis=0)"
      ],
      "execution_count": null,
      "outputs": []
    },
    {
      "cell_type": "code",
      "metadata": {
        "colab": {
          "base_uri": "https://localhost:8080/"
        },
        "id": "zwGWKqO6E3YY",
        "outputId": "e5016e8b-3347-4303-d2bd-153abcc1ac38"
      },
      "source": [
        "test_outputs.shape"
      ],
      "execution_count": null,
      "outputs": [
        {
          "output_type": "execute_result",
          "data": {
            "text/plain": [
              "(21000, 784)"
            ]
          },
          "metadata": {
            "tags": []
          },
          "execution_count": 48
        }
      ]
    },
    {
      "cell_type": "code",
      "metadata": {
        "id": "cglY4Wn-HyMa"
      },
      "source": [
        "test_outputs=test_outputs/len(test_outputs)"
      ],
      "execution_count": null,
      "outputs": []
    },
    {
      "cell_type": "markdown",
      "metadata": {
        "id": "b-CpTiGO2RJM"
      },
      "source": [
        "## Pca Reconstruction for the best model"
      ]
    },
    {
      "cell_type": "markdown",
      "metadata": {
        "id": "9n4-s0aT28bU"
      },
      "source": [
        "#### Preparing the data set for PCA\n",
        "     https://stackoverflow.com/questions/54897646/pytorch-datasets-converting-entire-dataset-to-numpy/54904668"
      ]
    },
    {
      "cell_type": "markdown",
      "metadata": {
        "id": "TaJEU5vghyJH"
      },
      "source": [
        "### Alternate way of getting data"
      ]
    },
    {
      "cell_type": "code",
      "metadata": {
        "id": "kEhZ2bDv3CBB"
      },
      "source": [
        "\n",
        "loader_train = DataLoader(train_data, batch_size=len(train_data))\n",
        "loader_test = DataLoader(test_data, batch_size=len(test_data))\n",
        "\n",
        "X_train = next(iter(loader_train))[0].numpy()\n",
        "y_train=next(iter(loader_train))[1].numpy()\n",
        "\n",
        "X_test = next(iter(loader_test))[0].numpy()\n",
        "y_test = next(iter(loader_test))[1].numpy()\n"
      ],
      "execution_count": null,
      "outputs": []
    },
    {
      "cell_type": "code",
      "metadata": {
        "colab": {
          "base_uri": "https://localhost:8080/"
        },
        "id": "rKOxDxk1C6dm",
        "outputId": "c2adc28c-2bbd-486d-ea5b-e44c0313ec2d"
      },
      "source": [
        "X_train.shape"
      ],
      "execution_count": null,
      "outputs": [
        {
          "output_type": "execute_result",
          "data": {
            "text/plain": [
              "(49000, 1, 28, 28)"
            ]
          },
          "metadata": {
            "tags": []
          },
          "execution_count": 51
        }
      ]
    },
    {
      "cell_type": "code",
      "metadata": {
        "colab": {
          "base_uri": "https://localhost:8080/"
        },
        "id": "OFs8hfR7AZiN",
        "outputId": "d38ac41c-b18a-4cf9-f09c-cc8e3f0761e7"
      },
      "source": [
        "X_train=X_train.reshape(49000,784)\n",
        "X_train.shape"
      ],
      "execution_count": null,
      "outputs": [
        {
          "output_type": "execute_result",
          "data": {
            "text/plain": [
              "(49000, 784)"
            ]
          },
          "metadata": {
            "tags": []
          },
          "execution_count": 52
        }
      ]
    },
    {
      "cell_type": "code",
      "metadata": {
        "id": "_EVBKcWbAi3f"
      },
      "source": [
        "X_test=X_test.reshape(21000,784)"
      ],
      "execution_count": null,
      "outputs": []
    },
    {
      "cell_type": "code",
      "metadata": {
        "colab": {
          "base_uri": "https://localhost:8080/"
        },
        "id": "8rgZDSZfBZqY",
        "outputId": "557da168-2988-4065-91f4-e22039b36aa3"
      },
      "source": [
        "print(X_train.shape)\n",
        "print(X_test.shape)\n",
        "print(y_train.shape)\n",
        "print(y_test.shape)\n",
        "y_test"
      ],
      "execution_count": null,
      "outputs": [
        {
          "output_type": "stream",
          "text": [
            "(49000, 784)\n",
            "(21000, 784)\n",
            "(49000,)\n",
            "(21000,)\n"
          ],
          "name": "stdout"
        },
        {
          "output_type": "execute_result",
          "data": {
            "text/plain": [
              "array([   3,    3,    8, ...,    0,    6,    7])"
            ]
          },
          "metadata": {
            "tags": []
          },
          "execution_count": 54
        }
      ]
    },
    {
      "cell_type": "markdown",
      "metadata": {
        "id": "GoH9NyVNh4jr"
      },
      "source": [
        "### Defining n_components in PCA"
      ]
    },
    {
      "cell_type": "code",
      "metadata": {
        "id": "HwEZalxT2IsN"
      },
      "source": [
        "from sklearn.decomposition import PCA\n",
        "pca = PCA(n_components=40)\n",
        "lower_dimensional_data = pca.fit_transform(X_test)"
      ],
      "execution_count": null,
      "outputs": []
    },
    {
      "cell_type": "code",
      "metadata": {
        "colab": {
          "base_uri": "https://localhost:8080/"
        },
        "id": "a2_tw7mMEmbw",
        "outputId": "b5f5d1fe-9c33-4822-8b21-20ea2ca4413c"
      },
      "source": [
        "pca.n_components_"
      ],
      "execution_count": null,
      "outputs": [
        {
          "output_type": "execute_result",
          "data": {
            "text/plain": [
              "40"
            ]
          },
          "metadata": {
            "tags": []
          },
          "execution_count": 235
        }
      ]
    },
    {
      "cell_type": "markdown",
      "metadata": {
        "id": "f4BCPgjZizeG"
      },
      "source": [
        "#### Pca Inverse transform"
      ]
    },
    {
      "cell_type": "code",
      "metadata": {
        "id": "UINn0cLsOp3c"
      },
      "source": [
        "#lower_dimensional_data=test"
      ],
      "execution_count": null,
      "outputs": []
    },
    {
      "cell_type": "code",
      "metadata": {
        "id": "oIsNEdboErSV"
      },
      "source": [
        "approximation = pca.inverse_transform(lower_dimensional_data)\n",
        "approximation+=X_test.mean()"
      ],
      "execution_count": null,
      "outputs": []
    },
    {
      "cell_type": "code",
      "metadata": {
        "colab": {
          "base_uri": "https://localhost:8080/"
        },
        "id": "MAklcpDTE0j-",
        "outputId": "63fb24a9-89f7-4757-f181-e311ec2aab6a"
      },
      "source": [
        "approximation.shape"
      ],
      "execution_count": null,
      "outputs": [
        {
          "output_type": "execute_result",
          "data": {
            "text/plain": [
              "(21000, 784)"
            ]
          },
          "metadata": {
            "tags": []
          },
          "execution_count": 251
        }
      ]
    },
    {
      "cell_type": "code",
      "metadata": {
        "id": "HgouINtaPcKP"
      },
      "source": [
        "\n",
        "a = approximation\n",
        "test = torch.from_numpy(a)\n"
      ],
      "execution_count": null,
      "outputs": []
    },
    {
      "cell_type": "code",
      "metadata": {
        "colab": {
          "base_uri": "https://localhost:8080/"
        },
        "id": "23QEy1dVUkUV",
        "outputId": "ed2c6f61-a839-42a4-8232-ae61bdeae512"
      },
      "source": [
        "test=test.type(torch.FloatTensor)\n",
        "y_test=torch.from_numpy(y_test)\n",
        "y_test"
      ],
      "execution_count": null,
      "outputs": [
        {
          "output_type": "execute_result",
          "data": {
            "text/plain": [
              "tensor([5, 9, 2,  ..., 0, 4, 3])"
            ]
          },
          "metadata": {
            "tags": []
          },
          "execution_count": 260
        }
      ]
    },
    {
      "cell_type": "code",
      "metadata": {
        "colab": {
          "base_uri": "https://localhost:8080/"
        },
        "id": "g5VpHmm2XQzD",
        "outputId": "2486c364-c6ed-4041-d64d-75ddfc81779c"
      },
      "source": [
        "test.view(len(test), -1).size()"
      ],
      "execution_count": null,
      "outputs": [
        {
          "output_type": "execute_result",
          "data": {
            "text/plain": [
              "torch.Size([21000, 784])"
            ]
          },
          "metadata": {
            "tags": []
          },
          "execution_count": 261
        }
      ]
    },
    {
      "cell_type": "code",
      "metadata": {
        "colab": {
          "base_uri": "https://localhost:8080/"
        },
        "id": "EkeSyotHO7DK",
        "outputId": "2e703545-6b0d-45f2-b575-75dfe3043126"
      },
      "source": [
        "\n",
        "test_losses=[]\n",
        "with torch.no_grad():\n",
        "  correct = 0\n",
        "  y_val = model(test)# pass in a flattened view of X_test\n",
        "  \n",
        "  predicted = torch.max(y_val,1)[1]\n",
        "  correct += (predicted == y_test).sum()\n",
        "  print(y_val)\n",
        "  print(y_test)\n",
        "  loss = criterion(y_val, y_test)\n",
        "  test_losses.append(loss)\n",
        "print(f'Test accuracy: {correct.item()}/{len(test_data)} = {correct.item()*100/(len(test_data)):7.3f}%')\n"
      ],
      "execution_count": null,
      "outputs": [
        {
          "output_type": "stream",
          "text": [
            "tensor([[-1.8346e+01, -2.6128e+01, -2.6789e+01,  ..., -1.6968e+02,\n",
            "         -1.5481e+02, -1.6464e+02],\n",
            "        [-1.2929e+01, -1.5565e+01, -1.7636e+01,  ..., -4.3507e+01,\n",
            "         -5.1477e+01, -4.7921e+01],\n",
            "        [-6.3811e+01, -4.7083e+01, -4.7684e-07,  ..., -1.6453e+02,\n",
            "         -2.1363e+02, -1.9265e+02],\n",
            "        ...,\n",
            "        [-6.2232e-04, -1.3817e+01, -1.0349e+01,  ..., -1.8678e+02,\n",
            "         -1.7537e+02, -1.8125e+02],\n",
            "        [-1.8115e+01, -1.6204e+01, -1.1606e+01,  ..., -9.0412e+01,\n",
            "         -9.2020e+01, -8.8515e+01],\n",
            "        [-2.7930e+01, -1.8948e+01, -1.1795e+01,  ..., -7.3240e+01,\n",
            "         -7.7773e+01, -7.3804e+01]])\n",
            "tensor([5, 9, 2,  ..., 0, 4, 3])\n",
            "Test accuracy: 19942/21000 =  94.962%\n"
          ],
          "name": "stdout"
        }
      ]
    },
    {
      "cell_type": "code",
      "metadata": {
        "colab": {
          "base_uri": "https://localhost:8080/"
        },
        "id": "-Wjc9ffwmrGh",
        "outputId": "f1a18cfd-6d5e-42c9-a335-ad90de01e3ae"
      },
      "source": [
        "loss = 0\n",
        "for i in range(len(X_test)):\n",
        "  loss+=((X_test[i] - approximation[i]) ** 2).mean()\n",
        "loss/len(X_test)"
      ],
      "execution_count": null,
      "outputs": [
        {
          "output_type": "execute_result",
          "data": {
            "text/plain": [
              "0.03156550066075509"
            ]
          },
          "metadata": {
            "tags": []
          },
          "execution_count": 262
        }
      ]
    },
    {
      "cell_type": "markdown",
      "metadata": {
        "id": "t3wmUpSYF-Zx"
      },
      "source": [
        "#### Calculating the Auto encoder loss"
      ]
    },
    {
      "cell_type": "code",
      "metadata": {
        "colab": {
          "base_uri": "https://localhost:8080/"
        },
        "id": "LfkfHpRaGECD",
        "outputId": "8083746a-1dab-46dd-aa95-c1326731877c"
      },
      "source": [
        "test_outputs\n",
        "loss = 0\n",
        "for i in range(len(X_test)):\n",
        "  loss+=((X_test[i] - test_outputs[i]) ** 2).mean()\n",
        "loss/len(X_test)"
      ],
      "execution_count": null,
      "outputs": [
        {
          "output_type": "execute_result",
          "data": {
            "text/plain": [
              "0.11300697556314498"
            ]
          },
          "metadata": {
            "tags": []
          },
          "execution_count": 59
        }
      ]
    },
    {
      "cell_type": "markdown",
      "metadata": {
        "id": "L40q-0vQjgkW"
      },
      "source": [
        "### Observation:\n",
        "  As we can see from the above two impplementations that loss of best optimiser autoencoder Adam is 0.1776 on test data is comparitvely less than the loss in pca reconstruction loss which is 0.218"
      ]
    },
    {
      "cell_type": "markdown",
      "metadata": {
        "id": "pyxx5L2Ritxr"
      },
      "source": [
        "#### Additional useful code"
      ]
    },
    {
      "cell_type": "code",
      "metadata": {
        "colab": {
          "base_uri": "https://localhost:8080/"
        },
        "id": "NWS7ZhoEM7sT",
        "outputId": "21a2f51f-6b7c-4422-e9fe-b0959f93176f"
      },
      "source": [
        "train=np.load('train.npy')\n",
        "print(len(train))\n",
        "\n",
        "train_labels=np.load('train-labels.npy')\n",
        "print(len(train_labels))\n",
        "\n",
        "print(train[0])\n",
        "\n"
      ],
      "execution_count": null,
      "outputs": [
        {
          "output_type": "stream",
          "text": [
            "49000\n",
            "49000\n",
            "[ 0.          0.          0.          0.          0.          0.\n",
            "  0.          0.         13.00463295  0.         40.74394226  0.\n",
            "  0.          0.          0.          0.          0.          0.\n",
            "  0.          0.          6.00007248  0.          0.          0.\n",
            "  0.          0.          0.          0.          0.          0.\n",
            "  0.          0.          0.          8.37154865  0.          0.\n",
            " 21.28633308  0.          0.          0.        ]\n"
          ],
          "name": "stdout"
        }
      ]
    },
    {
      "cell_type": "code",
      "metadata": {
        "colab": {
          "base_uri": "https://localhost:8080/"
        },
        "id": "GtWPNjkRM7sV",
        "outputId": "ef7488eb-68e7-4197-ecbf-0aa409b1bc7d"
      },
      "source": [
        "test=np.load('test.npy')\n",
        "print(len(test))\n",
        "\n",
        "test_labels=np.load('test-labels.npy')\n",
        "print(len(test_labels))\n",
        "\n",
        "print(test[0])\n"
      ],
      "execution_count": null,
      "outputs": [
        {
          "output_type": "stream",
          "text": [
            "21000\n",
            "21000\n",
            "[ 0.          0.          0.          0.          0.          0.\n",
            "  0.          0.          0.          0.          0.          0.\n",
            "  0.          0.          0.          0.          0.          0.\n",
            " 23.8663826  15.17771339  0.          0.          0.          0.\n",
            "  0.          0.         22.32218361  0.          0.          0.\n",
            "  0.          0.          0.          0.         18.48301506  0.\n",
            "  0.          0.          0.          0.        ]\n"
          ],
          "name": "stdout"
        }
      ]
    },
    {
      "cell_type": "code",
      "metadata": {
        "id": "m7bpST0hjNHH"
      },
      "source": [
        "y_test=test_labels.reshape(1,21000)\n",
        "y_test=y_test[0]\n",
        "y_test"
      ],
      "execution_count": null,
      "outputs": []
    }
  ]
}
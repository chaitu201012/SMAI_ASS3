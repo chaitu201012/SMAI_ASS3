{
  "nbformat": 4,
  "nbformat_minor": 0,
  "metadata": {
    "colab": {
      "name": "Deep-ques3.ipynb",
      "provenance": [],
      "collapsed_sections": [
        "90j6aOGvdW4M",
        "qnovpiCXAsGw",
        "x9xeokz6AsGx",
        "-8N9b9BQNPGg",
        "IGohAH1mAsG0",
        "qmeQ0ggEAsG2",
        "T5_pfGTCp3EE",
        "UlJJpyu9AsG9",
        "cNr1zJo0TSXl",
        "pGeORkmEUXOw",
        "Rjg4o7zobyFL",
        "4o87hTQ2cwvW",
        "1PNPWAIsdJyz",
        "PXuDkygtzV1Q",
        "MxmcQeie0Ufh",
        "cFLInfwO0eX1"
      ]
    },
    "kernelspec": {
      "name": "python3",
      "display_name": "Python 3"
    },
    "language_info": {
      "name": "python"
    },
    "widgets": {
      "application/vnd.jupyter.widget-state+json": {
        "025d3f4865f34f2d9788f0ffeb9324f3": {
          "model_module": "@jupyter-widgets/controls",
          "model_name": "HBoxModel",
          "state": {
            "_view_name": "HBoxView",
            "_dom_classes": [],
            "_model_name": "HBoxModel",
            "_view_module": "@jupyter-widgets/controls",
            "_model_module_version": "1.5.0",
            "_view_count": null,
            "_view_module_version": "1.5.0",
            "box_style": "",
            "layout": "IPY_MODEL_ede030d96137484a8edb4759f8c7979c",
            "_model_module": "@jupyter-widgets/controls",
            "children": [
              "IPY_MODEL_e53a364b265b4cc186a16e7a7310ce69",
              "IPY_MODEL_b2dcfaeaada9446b93d86cc25c27b39a"
            ]
          }
        },
        "ede030d96137484a8edb4759f8c7979c": {
          "model_module": "@jupyter-widgets/base",
          "model_name": "LayoutModel",
          "state": {
            "_view_name": "LayoutView",
            "grid_template_rows": null,
            "right": null,
            "justify_content": null,
            "_view_module": "@jupyter-widgets/base",
            "overflow": null,
            "_model_module_version": "1.2.0",
            "_view_count": null,
            "flex_flow": null,
            "width": null,
            "min_width": null,
            "border": null,
            "align_items": null,
            "bottom": null,
            "_model_module": "@jupyter-widgets/base",
            "top": null,
            "grid_column": null,
            "overflow_y": null,
            "overflow_x": null,
            "grid_auto_flow": null,
            "grid_area": null,
            "grid_template_columns": null,
            "flex": null,
            "_model_name": "LayoutModel",
            "justify_items": null,
            "grid_row": null,
            "max_height": null,
            "align_content": null,
            "visibility": null,
            "align_self": null,
            "height": null,
            "min_height": null,
            "padding": null,
            "grid_auto_rows": null,
            "grid_gap": null,
            "max_width": null,
            "order": null,
            "_view_module_version": "1.2.0",
            "grid_template_areas": null,
            "object_position": null,
            "object_fit": null,
            "grid_auto_columns": null,
            "margin": null,
            "display": null,
            "left": null
          }
        },
        "e53a364b265b4cc186a16e7a7310ce69": {
          "model_module": "@jupyter-widgets/controls",
          "model_name": "FloatProgressModel",
          "state": {
            "_view_name": "ProgressView",
            "style": "IPY_MODEL_45c0670f4c8a4718abff48ec32f5091b",
            "_dom_classes": [],
            "description": "",
            "_model_name": "FloatProgressModel",
            "bar_style": "success",
            "max": 9912422,
            "_view_module": "@jupyter-widgets/controls",
            "_model_module_version": "1.5.0",
            "value": 9912422,
            "_view_count": null,
            "_view_module_version": "1.5.0",
            "orientation": "horizontal",
            "min": 0,
            "description_tooltip": null,
            "_model_module": "@jupyter-widgets/controls",
            "layout": "IPY_MODEL_4bb930b2f74d4650834cd17ab18673b4"
          }
        },
        "b2dcfaeaada9446b93d86cc25c27b39a": {
          "model_module": "@jupyter-widgets/controls",
          "model_name": "HTMLModel",
          "state": {
            "_view_name": "HTMLView",
            "style": "IPY_MODEL_d4ad0d1a965e4c24ab529404389b026c",
            "_dom_classes": [],
            "description": "",
            "_model_name": "HTMLModel",
            "placeholder": "​",
            "_view_module": "@jupyter-widgets/controls",
            "_model_module_version": "1.5.0",
            "value": " 9913344/? [00:06&lt;00:00, 1496751.28it/s]",
            "_view_count": null,
            "_view_module_version": "1.5.0",
            "description_tooltip": null,
            "_model_module": "@jupyter-widgets/controls",
            "layout": "IPY_MODEL_760c989608b743dd98a49d0a6bace290"
          }
        },
        "45c0670f4c8a4718abff48ec32f5091b": {
          "model_module": "@jupyter-widgets/controls",
          "model_name": "ProgressStyleModel",
          "state": {
            "_view_name": "StyleView",
            "_model_name": "ProgressStyleModel",
            "description_width": "initial",
            "_view_module": "@jupyter-widgets/base",
            "_model_module_version": "1.5.0",
            "_view_count": null,
            "_view_module_version": "1.2.0",
            "bar_color": null,
            "_model_module": "@jupyter-widgets/controls"
          }
        },
        "4bb930b2f74d4650834cd17ab18673b4": {
          "model_module": "@jupyter-widgets/base",
          "model_name": "LayoutModel",
          "state": {
            "_view_name": "LayoutView",
            "grid_template_rows": null,
            "right": null,
            "justify_content": null,
            "_view_module": "@jupyter-widgets/base",
            "overflow": null,
            "_model_module_version": "1.2.0",
            "_view_count": null,
            "flex_flow": null,
            "width": null,
            "min_width": null,
            "border": null,
            "align_items": null,
            "bottom": null,
            "_model_module": "@jupyter-widgets/base",
            "top": null,
            "grid_column": null,
            "overflow_y": null,
            "overflow_x": null,
            "grid_auto_flow": null,
            "grid_area": null,
            "grid_template_columns": null,
            "flex": null,
            "_model_name": "LayoutModel",
            "justify_items": null,
            "grid_row": null,
            "max_height": null,
            "align_content": null,
            "visibility": null,
            "align_self": null,
            "height": null,
            "min_height": null,
            "padding": null,
            "grid_auto_rows": null,
            "grid_gap": null,
            "max_width": null,
            "order": null,
            "_view_module_version": "1.2.0",
            "grid_template_areas": null,
            "object_position": null,
            "object_fit": null,
            "grid_auto_columns": null,
            "margin": null,
            "display": null,
            "left": null
          }
        },
        "d4ad0d1a965e4c24ab529404389b026c": {
          "model_module": "@jupyter-widgets/controls",
          "model_name": "DescriptionStyleModel",
          "state": {
            "_view_name": "StyleView",
            "_model_name": "DescriptionStyleModel",
            "description_width": "",
            "_view_module": "@jupyter-widgets/base",
            "_model_module_version": "1.5.0",
            "_view_count": null,
            "_view_module_version": "1.2.0",
            "_model_module": "@jupyter-widgets/controls"
          }
        },
        "760c989608b743dd98a49d0a6bace290": {
          "model_module": "@jupyter-widgets/base",
          "model_name": "LayoutModel",
          "state": {
            "_view_name": "LayoutView",
            "grid_template_rows": null,
            "right": null,
            "justify_content": null,
            "_view_module": "@jupyter-widgets/base",
            "overflow": null,
            "_model_module_version": "1.2.0",
            "_view_count": null,
            "flex_flow": null,
            "width": null,
            "min_width": null,
            "border": null,
            "align_items": null,
            "bottom": null,
            "_model_module": "@jupyter-widgets/base",
            "top": null,
            "grid_column": null,
            "overflow_y": null,
            "overflow_x": null,
            "grid_auto_flow": null,
            "grid_area": null,
            "grid_template_columns": null,
            "flex": null,
            "_model_name": "LayoutModel",
            "justify_items": null,
            "grid_row": null,
            "max_height": null,
            "align_content": null,
            "visibility": null,
            "align_self": null,
            "height": null,
            "min_height": null,
            "padding": null,
            "grid_auto_rows": null,
            "grid_gap": null,
            "max_width": null,
            "order": null,
            "_view_module_version": "1.2.0",
            "grid_template_areas": null,
            "object_position": null,
            "object_fit": null,
            "grid_auto_columns": null,
            "margin": null,
            "display": null,
            "left": null
          }
        },
        "1d8a4b30087a4580afa2a99e48f3f463": {
          "model_module": "@jupyter-widgets/controls",
          "model_name": "HBoxModel",
          "state": {
            "_view_name": "HBoxView",
            "_dom_classes": [],
            "_model_name": "HBoxModel",
            "_view_module": "@jupyter-widgets/controls",
            "_model_module_version": "1.5.0",
            "_view_count": null,
            "_view_module_version": "1.5.0",
            "box_style": "",
            "layout": "IPY_MODEL_a6c9d499d54742c4881e1c34340dc546",
            "_model_module": "@jupyter-widgets/controls",
            "children": [
              "IPY_MODEL_a5e202b09a1a4a8b9f94cea972b2f05e",
              "IPY_MODEL_60683ee7d3244c7ab93cf0b4da02ea8d"
            ]
          }
        },
        "a6c9d499d54742c4881e1c34340dc546": {
          "model_module": "@jupyter-widgets/base",
          "model_name": "LayoutModel",
          "state": {
            "_view_name": "LayoutView",
            "grid_template_rows": null,
            "right": null,
            "justify_content": null,
            "_view_module": "@jupyter-widgets/base",
            "overflow": null,
            "_model_module_version": "1.2.0",
            "_view_count": null,
            "flex_flow": null,
            "width": null,
            "min_width": null,
            "border": null,
            "align_items": null,
            "bottom": null,
            "_model_module": "@jupyter-widgets/base",
            "top": null,
            "grid_column": null,
            "overflow_y": null,
            "overflow_x": null,
            "grid_auto_flow": null,
            "grid_area": null,
            "grid_template_columns": null,
            "flex": null,
            "_model_name": "LayoutModel",
            "justify_items": null,
            "grid_row": null,
            "max_height": null,
            "align_content": null,
            "visibility": null,
            "align_self": null,
            "height": null,
            "min_height": null,
            "padding": null,
            "grid_auto_rows": null,
            "grid_gap": null,
            "max_width": null,
            "order": null,
            "_view_module_version": "1.2.0",
            "grid_template_areas": null,
            "object_position": null,
            "object_fit": null,
            "grid_auto_columns": null,
            "margin": null,
            "display": null,
            "left": null
          }
        },
        "a5e202b09a1a4a8b9f94cea972b2f05e": {
          "model_module": "@jupyter-widgets/controls",
          "model_name": "FloatProgressModel",
          "state": {
            "_view_name": "ProgressView",
            "style": "IPY_MODEL_cca19a90a3b740379b19f9a36e6963e4",
            "_dom_classes": [],
            "description": "",
            "_model_name": "FloatProgressModel",
            "bar_style": "success",
            "max": 28881,
            "_view_module": "@jupyter-widgets/controls",
            "_model_module_version": "1.5.0",
            "value": 28881,
            "_view_count": null,
            "_view_module_version": "1.5.0",
            "orientation": "horizontal",
            "min": 0,
            "description_tooltip": null,
            "_model_module": "@jupyter-widgets/controls",
            "layout": "IPY_MODEL_440647058edb49f9b86bfff67454583c"
          }
        },
        "60683ee7d3244c7ab93cf0b4da02ea8d": {
          "model_module": "@jupyter-widgets/controls",
          "model_name": "HTMLModel",
          "state": {
            "_view_name": "HTMLView",
            "style": "IPY_MODEL_2c97290389d34a67843f4f6d912b2b68",
            "_dom_classes": [],
            "description": "",
            "_model_name": "HTMLModel",
            "placeholder": "​",
            "_view_module": "@jupyter-widgets/controls",
            "_model_module_version": "1.5.0",
            "value": " 29696/? [00:01&lt;00:00, 24176.34it/s]",
            "_view_count": null,
            "_view_module_version": "1.5.0",
            "description_tooltip": null,
            "_model_module": "@jupyter-widgets/controls",
            "layout": "IPY_MODEL_c266b044e7a2441a9ba63330db6151ed"
          }
        },
        "cca19a90a3b740379b19f9a36e6963e4": {
          "model_module": "@jupyter-widgets/controls",
          "model_name": "ProgressStyleModel",
          "state": {
            "_view_name": "StyleView",
            "_model_name": "ProgressStyleModel",
            "description_width": "initial",
            "_view_module": "@jupyter-widgets/base",
            "_model_module_version": "1.5.0",
            "_view_count": null,
            "_view_module_version": "1.2.0",
            "bar_color": null,
            "_model_module": "@jupyter-widgets/controls"
          }
        },
        "440647058edb49f9b86bfff67454583c": {
          "model_module": "@jupyter-widgets/base",
          "model_name": "LayoutModel",
          "state": {
            "_view_name": "LayoutView",
            "grid_template_rows": null,
            "right": null,
            "justify_content": null,
            "_view_module": "@jupyter-widgets/base",
            "overflow": null,
            "_model_module_version": "1.2.0",
            "_view_count": null,
            "flex_flow": null,
            "width": null,
            "min_width": null,
            "border": null,
            "align_items": null,
            "bottom": null,
            "_model_module": "@jupyter-widgets/base",
            "top": null,
            "grid_column": null,
            "overflow_y": null,
            "overflow_x": null,
            "grid_auto_flow": null,
            "grid_area": null,
            "grid_template_columns": null,
            "flex": null,
            "_model_name": "LayoutModel",
            "justify_items": null,
            "grid_row": null,
            "max_height": null,
            "align_content": null,
            "visibility": null,
            "align_self": null,
            "height": null,
            "min_height": null,
            "padding": null,
            "grid_auto_rows": null,
            "grid_gap": null,
            "max_width": null,
            "order": null,
            "_view_module_version": "1.2.0",
            "grid_template_areas": null,
            "object_position": null,
            "object_fit": null,
            "grid_auto_columns": null,
            "margin": null,
            "display": null,
            "left": null
          }
        },
        "2c97290389d34a67843f4f6d912b2b68": {
          "model_module": "@jupyter-widgets/controls",
          "model_name": "DescriptionStyleModel",
          "state": {
            "_view_name": "StyleView",
            "_model_name": "DescriptionStyleModel",
            "description_width": "",
            "_view_module": "@jupyter-widgets/base",
            "_model_module_version": "1.5.0",
            "_view_count": null,
            "_view_module_version": "1.2.0",
            "_model_module": "@jupyter-widgets/controls"
          }
        },
        "c266b044e7a2441a9ba63330db6151ed": {
          "model_module": "@jupyter-widgets/base",
          "model_name": "LayoutModel",
          "state": {
            "_view_name": "LayoutView",
            "grid_template_rows": null,
            "right": null,
            "justify_content": null,
            "_view_module": "@jupyter-widgets/base",
            "overflow": null,
            "_model_module_version": "1.2.0",
            "_view_count": null,
            "flex_flow": null,
            "width": null,
            "min_width": null,
            "border": null,
            "align_items": null,
            "bottom": null,
            "_model_module": "@jupyter-widgets/base",
            "top": null,
            "grid_column": null,
            "overflow_y": null,
            "overflow_x": null,
            "grid_auto_flow": null,
            "grid_area": null,
            "grid_template_columns": null,
            "flex": null,
            "_model_name": "LayoutModel",
            "justify_items": null,
            "grid_row": null,
            "max_height": null,
            "align_content": null,
            "visibility": null,
            "align_self": null,
            "height": null,
            "min_height": null,
            "padding": null,
            "grid_auto_rows": null,
            "grid_gap": null,
            "max_width": null,
            "order": null,
            "_view_module_version": "1.2.0",
            "grid_template_areas": null,
            "object_position": null,
            "object_fit": null,
            "grid_auto_columns": null,
            "margin": null,
            "display": null,
            "left": null
          }
        },
        "b259ef7f8e654bfd874deb8099ba012f": {
          "model_module": "@jupyter-widgets/controls",
          "model_name": "HBoxModel",
          "state": {
            "_view_name": "HBoxView",
            "_dom_classes": [],
            "_model_name": "HBoxModel",
            "_view_module": "@jupyter-widgets/controls",
            "_model_module_version": "1.5.0",
            "_view_count": null,
            "_view_module_version": "1.5.0",
            "box_style": "",
            "layout": "IPY_MODEL_be592d607e6948769617fcd427b4fbbb",
            "_model_module": "@jupyter-widgets/controls",
            "children": [
              "IPY_MODEL_4b2c62ba1af247efb250678206360a87",
              "IPY_MODEL_c392979d115f47a38a2f05e390e131bb"
            ]
          }
        },
        "be592d607e6948769617fcd427b4fbbb": {
          "model_module": "@jupyter-widgets/base",
          "model_name": "LayoutModel",
          "state": {
            "_view_name": "LayoutView",
            "grid_template_rows": null,
            "right": null,
            "justify_content": null,
            "_view_module": "@jupyter-widgets/base",
            "overflow": null,
            "_model_module_version": "1.2.0",
            "_view_count": null,
            "flex_flow": null,
            "width": null,
            "min_width": null,
            "border": null,
            "align_items": null,
            "bottom": null,
            "_model_module": "@jupyter-widgets/base",
            "top": null,
            "grid_column": null,
            "overflow_y": null,
            "overflow_x": null,
            "grid_auto_flow": null,
            "grid_area": null,
            "grid_template_columns": null,
            "flex": null,
            "_model_name": "LayoutModel",
            "justify_items": null,
            "grid_row": null,
            "max_height": null,
            "align_content": null,
            "visibility": null,
            "align_self": null,
            "height": null,
            "min_height": null,
            "padding": null,
            "grid_auto_rows": null,
            "grid_gap": null,
            "max_width": null,
            "order": null,
            "_view_module_version": "1.2.0",
            "grid_template_areas": null,
            "object_position": null,
            "object_fit": null,
            "grid_auto_columns": null,
            "margin": null,
            "display": null,
            "left": null
          }
        },
        "4b2c62ba1af247efb250678206360a87": {
          "model_module": "@jupyter-widgets/controls",
          "model_name": "FloatProgressModel",
          "state": {
            "_view_name": "ProgressView",
            "style": "IPY_MODEL_3e1e8ce4ba284de0b5adf830ed6b262b",
            "_dom_classes": [],
            "description": "",
            "_model_name": "FloatProgressModel",
            "bar_style": "success",
            "max": 1648877,
            "_view_module": "@jupyter-widgets/controls",
            "_model_module_version": "1.5.0",
            "value": 1648877,
            "_view_count": null,
            "_view_module_version": "1.5.0",
            "orientation": "horizontal",
            "min": 0,
            "description_tooltip": null,
            "_model_module": "@jupyter-widgets/controls",
            "layout": "IPY_MODEL_1a5171b151854846b471293c33ef059f"
          }
        },
        "c392979d115f47a38a2f05e390e131bb": {
          "model_module": "@jupyter-widgets/controls",
          "model_name": "HTMLModel",
          "state": {
            "_view_name": "HTMLView",
            "style": "IPY_MODEL_053412c9f4fd4d23838256733a7b2d4c",
            "_dom_classes": [],
            "description": "",
            "_model_name": "HTMLModel",
            "placeholder": "​",
            "_view_module": "@jupyter-widgets/controls",
            "_model_module_version": "1.5.0",
            "value": " 1649664/? [00:00&lt;00:00, 2230230.60it/s]",
            "_view_count": null,
            "_view_module_version": "1.5.0",
            "description_tooltip": null,
            "_model_module": "@jupyter-widgets/controls",
            "layout": "IPY_MODEL_df3c71f1f3fc431c8638fbb4a3342163"
          }
        },
        "3e1e8ce4ba284de0b5adf830ed6b262b": {
          "model_module": "@jupyter-widgets/controls",
          "model_name": "ProgressStyleModel",
          "state": {
            "_view_name": "StyleView",
            "_model_name": "ProgressStyleModel",
            "description_width": "initial",
            "_view_module": "@jupyter-widgets/base",
            "_model_module_version": "1.5.0",
            "_view_count": null,
            "_view_module_version": "1.2.0",
            "bar_color": null,
            "_model_module": "@jupyter-widgets/controls"
          }
        },
        "1a5171b151854846b471293c33ef059f": {
          "model_module": "@jupyter-widgets/base",
          "model_name": "LayoutModel",
          "state": {
            "_view_name": "LayoutView",
            "grid_template_rows": null,
            "right": null,
            "justify_content": null,
            "_view_module": "@jupyter-widgets/base",
            "overflow": null,
            "_model_module_version": "1.2.0",
            "_view_count": null,
            "flex_flow": null,
            "width": null,
            "min_width": null,
            "border": null,
            "align_items": null,
            "bottom": null,
            "_model_module": "@jupyter-widgets/base",
            "top": null,
            "grid_column": null,
            "overflow_y": null,
            "overflow_x": null,
            "grid_auto_flow": null,
            "grid_area": null,
            "grid_template_columns": null,
            "flex": null,
            "_model_name": "LayoutModel",
            "justify_items": null,
            "grid_row": null,
            "max_height": null,
            "align_content": null,
            "visibility": null,
            "align_self": null,
            "height": null,
            "min_height": null,
            "padding": null,
            "grid_auto_rows": null,
            "grid_gap": null,
            "max_width": null,
            "order": null,
            "_view_module_version": "1.2.0",
            "grid_template_areas": null,
            "object_position": null,
            "object_fit": null,
            "grid_auto_columns": null,
            "margin": null,
            "display": null,
            "left": null
          }
        },
        "053412c9f4fd4d23838256733a7b2d4c": {
          "model_module": "@jupyter-widgets/controls",
          "model_name": "DescriptionStyleModel",
          "state": {
            "_view_name": "StyleView",
            "_model_name": "DescriptionStyleModel",
            "description_width": "",
            "_view_module": "@jupyter-widgets/base",
            "_model_module_version": "1.5.0",
            "_view_count": null,
            "_view_module_version": "1.2.0",
            "_model_module": "@jupyter-widgets/controls"
          }
        },
        "df3c71f1f3fc431c8638fbb4a3342163": {
          "model_module": "@jupyter-widgets/base",
          "model_name": "LayoutModel",
          "state": {
            "_view_name": "LayoutView",
            "grid_template_rows": null,
            "right": null,
            "justify_content": null,
            "_view_module": "@jupyter-widgets/base",
            "overflow": null,
            "_model_module_version": "1.2.0",
            "_view_count": null,
            "flex_flow": null,
            "width": null,
            "min_width": null,
            "border": null,
            "align_items": null,
            "bottom": null,
            "_model_module": "@jupyter-widgets/base",
            "top": null,
            "grid_column": null,
            "overflow_y": null,
            "overflow_x": null,
            "grid_auto_flow": null,
            "grid_area": null,
            "grid_template_columns": null,
            "flex": null,
            "_model_name": "LayoutModel",
            "justify_items": null,
            "grid_row": null,
            "max_height": null,
            "align_content": null,
            "visibility": null,
            "align_self": null,
            "height": null,
            "min_height": null,
            "padding": null,
            "grid_auto_rows": null,
            "grid_gap": null,
            "max_width": null,
            "order": null,
            "_view_module_version": "1.2.0",
            "grid_template_areas": null,
            "object_position": null,
            "object_fit": null,
            "grid_auto_columns": null,
            "margin": null,
            "display": null,
            "left": null
          }
        },
        "6c37962104cb45deae1f7dedb6044230": {
          "model_module": "@jupyter-widgets/controls",
          "model_name": "HBoxModel",
          "state": {
            "_view_name": "HBoxView",
            "_dom_classes": [],
            "_model_name": "HBoxModel",
            "_view_module": "@jupyter-widgets/controls",
            "_model_module_version": "1.5.0",
            "_view_count": null,
            "_view_module_version": "1.5.0",
            "box_style": "",
            "layout": "IPY_MODEL_9ff73d7a879f48569318e1db3be767a1",
            "_model_module": "@jupyter-widgets/controls",
            "children": [
              "IPY_MODEL_4eaa953814234e3e93e19c4a4c66472b",
              "IPY_MODEL_f2fb5683e8cc4126b9529e2b980e3cdf"
            ]
          }
        },
        "9ff73d7a879f48569318e1db3be767a1": {
          "model_module": "@jupyter-widgets/base",
          "model_name": "LayoutModel",
          "state": {
            "_view_name": "LayoutView",
            "grid_template_rows": null,
            "right": null,
            "justify_content": null,
            "_view_module": "@jupyter-widgets/base",
            "overflow": null,
            "_model_module_version": "1.2.0",
            "_view_count": null,
            "flex_flow": null,
            "width": null,
            "min_width": null,
            "border": null,
            "align_items": null,
            "bottom": null,
            "_model_module": "@jupyter-widgets/base",
            "top": null,
            "grid_column": null,
            "overflow_y": null,
            "overflow_x": null,
            "grid_auto_flow": null,
            "grid_area": null,
            "grid_template_columns": null,
            "flex": null,
            "_model_name": "LayoutModel",
            "justify_items": null,
            "grid_row": null,
            "max_height": null,
            "align_content": null,
            "visibility": null,
            "align_self": null,
            "height": null,
            "min_height": null,
            "padding": null,
            "grid_auto_rows": null,
            "grid_gap": null,
            "max_width": null,
            "order": null,
            "_view_module_version": "1.2.0",
            "grid_template_areas": null,
            "object_position": null,
            "object_fit": null,
            "grid_auto_columns": null,
            "margin": null,
            "display": null,
            "left": null
          }
        },
        "4eaa953814234e3e93e19c4a4c66472b": {
          "model_module": "@jupyter-widgets/controls",
          "model_name": "FloatProgressModel",
          "state": {
            "_view_name": "ProgressView",
            "style": "IPY_MODEL_3c3618eeb5524284b5dafc510d75a06c",
            "_dom_classes": [],
            "description": "",
            "_model_name": "FloatProgressModel",
            "bar_style": "success",
            "max": 4542,
            "_view_module": "@jupyter-widgets/controls",
            "_model_module_version": "1.5.0",
            "value": 4542,
            "_view_count": null,
            "_view_module_version": "1.5.0",
            "orientation": "horizontal",
            "min": 0,
            "description_tooltip": null,
            "_model_module": "@jupyter-widgets/controls",
            "layout": "IPY_MODEL_d08b8a919ecf4867b20f5cb1e84ec532"
          }
        },
        "f2fb5683e8cc4126b9529e2b980e3cdf": {
          "model_module": "@jupyter-widgets/controls",
          "model_name": "HTMLModel",
          "state": {
            "_view_name": "HTMLView",
            "style": "IPY_MODEL_14311fabe3cf4e33950b3ab9bd1ecb5f",
            "_dom_classes": [],
            "description": "",
            "_model_name": "HTMLModel",
            "placeholder": "​",
            "_view_module": "@jupyter-widgets/controls",
            "_model_module_version": "1.5.0",
            "value": " 5120/? [00:04&lt;00:00, 1234.22it/s]",
            "_view_count": null,
            "_view_module_version": "1.5.0",
            "description_tooltip": null,
            "_model_module": "@jupyter-widgets/controls",
            "layout": "IPY_MODEL_51f5e0a182734fbeb017b8c90f70d819"
          }
        },
        "3c3618eeb5524284b5dafc510d75a06c": {
          "model_module": "@jupyter-widgets/controls",
          "model_name": "ProgressStyleModel",
          "state": {
            "_view_name": "StyleView",
            "_model_name": "ProgressStyleModel",
            "description_width": "initial",
            "_view_module": "@jupyter-widgets/base",
            "_model_module_version": "1.5.0",
            "_view_count": null,
            "_view_module_version": "1.2.0",
            "bar_color": null,
            "_model_module": "@jupyter-widgets/controls"
          }
        },
        "d08b8a919ecf4867b20f5cb1e84ec532": {
          "model_module": "@jupyter-widgets/base",
          "model_name": "LayoutModel",
          "state": {
            "_view_name": "LayoutView",
            "grid_template_rows": null,
            "right": null,
            "justify_content": null,
            "_view_module": "@jupyter-widgets/base",
            "overflow": null,
            "_model_module_version": "1.2.0",
            "_view_count": null,
            "flex_flow": null,
            "width": null,
            "min_width": null,
            "border": null,
            "align_items": null,
            "bottom": null,
            "_model_module": "@jupyter-widgets/base",
            "top": null,
            "grid_column": null,
            "overflow_y": null,
            "overflow_x": null,
            "grid_auto_flow": null,
            "grid_area": null,
            "grid_template_columns": null,
            "flex": null,
            "_model_name": "LayoutModel",
            "justify_items": null,
            "grid_row": null,
            "max_height": null,
            "align_content": null,
            "visibility": null,
            "align_self": null,
            "height": null,
            "min_height": null,
            "padding": null,
            "grid_auto_rows": null,
            "grid_gap": null,
            "max_width": null,
            "order": null,
            "_view_module_version": "1.2.0",
            "grid_template_areas": null,
            "object_position": null,
            "object_fit": null,
            "grid_auto_columns": null,
            "margin": null,
            "display": null,
            "left": null
          }
        },
        "14311fabe3cf4e33950b3ab9bd1ecb5f": {
          "model_module": "@jupyter-widgets/controls",
          "model_name": "DescriptionStyleModel",
          "state": {
            "_view_name": "StyleView",
            "_model_name": "DescriptionStyleModel",
            "description_width": "",
            "_view_module": "@jupyter-widgets/base",
            "_model_module_version": "1.5.0",
            "_view_count": null,
            "_view_module_version": "1.2.0",
            "_model_module": "@jupyter-widgets/controls"
          }
        },
        "51f5e0a182734fbeb017b8c90f70d819": {
          "model_module": "@jupyter-widgets/base",
          "model_name": "LayoutModel",
          "state": {
            "_view_name": "LayoutView",
            "grid_template_rows": null,
            "right": null,
            "justify_content": null,
            "_view_module": "@jupyter-widgets/base",
            "overflow": null,
            "_model_module_version": "1.2.0",
            "_view_count": null,
            "flex_flow": null,
            "width": null,
            "min_width": null,
            "border": null,
            "align_items": null,
            "bottom": null,
            "_model_module": "@jupyter-widgets/base",
            "top": null,
            "grid_column": null,
            "overflow_y": null,
            "overflow_x": null,
            "grid_auto_flow": null,
            "grid_area": null,
            "grid_template_columns": null,
            "flex": null,
            "_model_name": "LayoutModel",
            "justify_items": null,
            "grid_row": null,
            "max_height": null,
            "align_content": null,
            "visibility": null,
            "align_self": null,
            "height": null,
            "min_height": null,
            "padding": null,
            "grid_auto_rows": null,
            "grid_gap": null,
            "max_width": null,
            "order": null,
            "_view_module_version": "1.2.0",
            "grid_template_areas": null,
            "object_position": null,
            "object_fit": null,
            "grid_auto_columns": null,
            "margin": null,
            "display": null,
            "left": null
          }
        },
        "9c71721d1c8c43c29348c236add4871f": {
          "model_module": "@jupyter-widgets/controls",
          "model_name": "HBoxModel",
          "state": {
            "_view_name": "HBoxView",
            "_dom_classes": [],
            "_model_name": "HBoxModel",
            "_view_module": "@jupyter-widgets/controls",
            "_model_module_version": "1.5.0",
            "_view_count": null,
            "_view_module_version": "1.5.0",
            "box_style": "",
            "layout": "IPY_MODEL_c9dfb7b22a9b4ccbaf693f9e2dfb6eea",
            "_model_module": "@jupyter-widgets/controls",
            "children": [
              "IPY_MODEL_6f97ec064a674cbdb41dbb3ee3815e5e",
              "IPY_MODEL_9e23b2469b2c433fa4443af559a1d347"
            ]
          }
        },
        "c9dfb7b22a9b4ccbaf693f9e2dfb6eea": {
          "model_module": "@jupyter-widgets/base",
          "model_name": "LayoutModel",
          "state": {
            "_view_name": "LayoutView",
            "grid_template_rows": null,
            "right": null,
            "justify_content": null,
            "_view_module": "@jupyter-widgets/base",
            "overflow": null,
            "_model_module_version": "1.2.0",
            "_view_count": null,
            "flex_flow": null,
            "width": null,
            "min_width": null,
            "border": null,
            "align_items": null,
            "bottom": null,
            "_model_module": "@jupyter-widgets/base",
            "top": null,
            "grid_column": null,
            "overflow_y": null,
            "overflow_x": null,
            "grid_auto_flow": null,
            "grid_area": null,
            "grid_template_columns": null,
            "flex": null,
            "_model_name": "LayoutModel",
            "justify_items": null,
            "grid_row": null,
            "max_height": null,
            "align_content": null,
            "visibility": null,
            "align_self": null,
            "height": null,
            "min_height": null,
            "padding": null,
            "grid_auto_rows": null,
            "grid_gap": null,
            "max_width": null,
            "order": null,
            "_view_module_version": "1.2.0",
            "grid_template_areas": null,
            "object_position": null,
            "object_fit": null,
            "grid_auto_columns": null,
            "margin": null,
            "display": null,
            "left": null
          }
        },
        "6f97ec064a674cbdb41dbb3ee3815e5e": {
          "model_module": "@jupyter-widgets/controls",
          "model_name": "FloatProgressModel",
          "state": {
            "_view_name": "ProgressView",
            "style": "IPY_MODEL_6380bda9f91d44ac88fd30fccb17401b",
            "_dom_classes": [],
            "description": "",
            "_model_name": "FloatProgressModel",
            "bar_style": "success",
            "max": 9912422,
            "_view_module": "@jupyter-widgets/controls",
            "_model_module_version": "1.5.0",
            "value": 9912422,
            "_view_count": null,
            "_view_module_version": "1.5.0",
            "orientation": "horizontal",
            "min": 0,
            "description_tooltip": null,
            "_model_module": "@jupyter-widgets/controls",
            "layout": "IPY_MODEL_cbe183ec815d48a084039ce5c1de784e"
          }
        },
        "9e23b2469b2c433fa4443af559a1d347": {
          "model_module": "@jupyter-widgets/controls",
          "model_name": "HTMLModel",
          "state": {
            "_view_name": "HTMLView",
            "style": "IPY_MODEL_09d2253b24a1426aa3247773363c47a7",
            "_dom_classes": [],
            "description": "",
            "_model_name": "HTMLModel",
            "placeholder": "​",
            "_view_module": "@jupyter-widgets/controls",
            "_model_module_version": "1.5.0",
            "value": " 9913344/? [00:01&lt;00:00, 6583401.43it/s]",
            "_view_count": null,
            "_view_module_version": "1.5.0",
            "description_tooltip": null,
            "_model_module": "@jupyter-widgets/controls",
            "layout": "IPY_MODEL_2da3d7afbb84473a855dc4424c49b894"
          }
        },
        "6380bda9f91d44ac88fd30fccb17401b": {
          "model_module": "@jupyter-widgets/controls",
          "model_name": "ProgressStyleModel",
          "state": {
            "_view_name": "StyleView",
            "_model_name": "ProgressStyleModel",
            "description_width": "initial",
            "_view_module": "@jupyter-widgets/base",
            "_model_module_version": "1.5.0",
            "_view_count": null,
            "_view_module_version": "1.2.0",
            "bar_color": null,
            "_model_module": "@jupyter-widgets/controls"
          }
        },
        "cbe183ec815d48a084039ce5c1de784e": {
          "model_module": "@jupyter-widgets/base",
          "model_name": "LayoutModel",
          "state": {
            "_view_name": "LayoutView",
            "grid_template_rows": null,
            "right": null,
            "justify_content": null,
            "_view_module": "@jupyter-widgets/base",
            "overflow": null,
            "_model_module_version": "1.2.0",
            "_view_count": null,
            "flex_flow": null,
            "width": null,
            "min_width": null,
            "border": null,
            "align_items": null,
            "bottom": null,
            "_model_module": "@jupyter-widgets/base",
            "top": null,
            "grid_column": null,
            "overflow_y": null,
            "overflow_x": null,
            "grid_auto_flow": null,
            "grid_area": null,
            "grid_template_columns": null,
            "flex": null,
            "_model_name": "LayoutModel",
            "justify_items": null,
            "grid_row": null,
            "max_height": null,
            "align_content": null,
            "visibility": null,
            "align_self": null,
            "height": null,
            "min_height": null,
            "padding": null,
            "grid_auto_rows": null,
            "grid_gap": null,
            "max_width": null,
            "order": null,
            "_view_module_version": "1.2.0",
            "grid_template_areas": null,
            "object_position": null,
            "object_fit": null,
            "grid_auto_columns": null,
            "margin": null,
            "display": null,
            "left": null
          }
        },
        "09d2253b24a1426aa3247773363c47a7": {
          "model_module": "@jupyter-widgets/controls",
          "model_name": "DescriptionStyleModel",
          "state": {
            "_view_name": "StyleView",
            "_model_name": "DescriptionStyleModel",
            "description_width": "",
            "_view_module": "@jupyter-widgets/base",
            "_model_module_version": "1.5.0",
            "_view_count": null,
            "_view_module_version": "1.2.0",
            "_model_module": "@jupyter-widgets/controls"
          }
        },
        "2da3d7afbb84473a855dc4424c49b894": {
          "model_module": "@jupyter-widgets/base",
          "model_name": "LayoutModel",
          "state": {
            "_view_name": "LayoutView",
            "grid_template_rows": null,
            "right": null,
            "justify_content": null,
            "_view_module": "@jupyter-widgets/base",
            "overflow": null,
            "_model_module_version": "1.2.0",
            "_view_count": null,
            "flex_flow": null,
            "width": null,
            "min_width": null,
            "border": null,
            "align_items": null,
            "bottom": null,
            "_model_module": "@jupyter-widgets/base",
            "top": null,
            "grid_column": null,
            "overflow_y": null,
            "overflow_x": null,
            "grid_auto_flow": null,
            "grid_area": null,
            "grid_template_columns": null,
            "flex": null,
            "_model_name": "LayoutModel",
            "justify_items": null,
            "grid_row": null,
            "max_height": null,
            "align_content": null,
            "visibility": null,
            "align_self": null,
            "height": null,
            "min_height": null,
            "padding": null,
            "grid_auto_rows": null,
            "grid_gap": null,
            "max_width": null,
            "order": null,
            "_view_module_version": "1.2.0",
            "grid_template_areas": null,
            "object_position": null,
            "object_fit": null,
            "grid_auto_columns": null,
            "margin": null,
            "display": null,
            "left": null
          }
        },
        "8eaac8cf07cc4e2c944fde38cc20957d": {
          "model_module": "@jupyter-widgets/controls",
          "model_name": "HBoxModel",
          "state": {
            "_view_name": "HBoxView",
            "_dom_classes": [],
            "_model_name": "HBoxModel",
            "_view_module": "@jupyter-widgets/controls",
            "_model_module_version": "1.5.0",
            "_view_count": null,
            "_view_module_version": "1.5.0",
            "box_style": "",
            "layout": "IPY_MODEL_26fa7f48ac374e2a85cbabd320fb35b7",
            "_model_module": "@jupyter-widgets/controls",
            "children": [
              "IPY_MODEL_c7d3b6b7a68d46e18e2790fe71a3867c",
              "IPY_MODEL_5b98def8a9d443cca807aa18a9bb1a6a"
            ]
          }
        },
        "26fa7f48ac374e2a85cbabd320fb35b7": {
          "model_module": "@jupyter-widgets/base",
          "model_name": "LayoutModel",
          "state": {
            "_view_name": "LayoutView",
            "grid_template_rows": null,
            "right": null,
            "justify_content": null,
            "_view_module": "@jupyter-widgets/base",
            "overflow": null,
            "_model_module_version": "1.2.0",
            "_view_count": null,
            "flex_flow": null,
            "width": null,
            "min_width": null,
            "border": null,
            "align_items": null,
            "bottom": null,
            "_model_module": "@jupyter-widgets/base",
            "top": null,
            "grid_column": null,
            "overflow_y": null,
            "overflow_x": null,
            "grid_auto_flow": null,
            "grid_area": null,
            "grid_template_columns": null,
            "flex": null,
            "_model_name": "LayoutModel",
            "justify_items": null,
            "grid_row": null,
            "max_height": null,
            "align_content": null,
            "visibility": null,
            "align_self": null,
            "height": null,
            "min_height": null,
            "padding": null,
            "grid_auto_rows": null,
            "grid_gap": null,
            "max_width": null,
            "order": null,
            "_view_module_version": "1.2.0",
            "grid_template_areas": null,
            "object_position": null,
            "object_fit": null,
            "grid_auto_columns": null,
            "margin": null,
            "display": null,
            "left": null
          }
        },
        "c7d3b6b7a68d46e18e2790fe71a3867c": {
          "model_module": "@jupyter-widgets/controls",
          "model_name": "FloatProgressModel",
          "state": {
            "_view_name": "ProgressView",
            "style": "IPY_MODEL_08ce51d1d4524be0be9f84f4302469d5",
            "_dom_classes": [],
            "description": "",
            "_model_name": "FloatProgressModel",
            "bar_style": "success",
            "max": 28881,
            "_view_module": "@jupyter-widgets/controls",
            "_model_module_version": "1.5.0",
            "value": 28881,
            "_view_count": null,
            "_view_module_version": "1.5.0",
            "orientation": "horizontal",
            "min": 0,
            "description_tooltip": null,
            "_model_module": "@jupyter-widgets/controls",
            "layout": "IPY_MODEL_9524e06e99e244f4a1fd7d5417bfcf82"
          }
        },
        "5b98def8a9d443cca807aa18a9bb1a6a": {
          "model_module": "@jupyter-widgets/controls",
          "model_name": "HTMLModel",
          "state": {
            "_view_name": "HTMLView",
            "style": "IPY_MODEL_72e9a7c507434d00bc47325121cd2da2",
            "_dom_classes": [],
            "description": "",
            "_model_name": "HTMLModel",
            "placeholder": "​",
            "_view_module": "@jupyter-widgets/controls",
            "_model_module_version": "1.5.0",
            "value": " 29696/? [00:01&lt;00:00, 15065.14it/s]",
            "_view_count": null,
            "_view_module_version": "1.5.0",
            "description_tooltip": null,
            "_model_module": "@jupyter-widgets/controls",
            "layout": "IPY_MODEL_a7a3229e0e10440f9a33d6d8069e2f24"
          }
        },
        "08ce51d1d4524be0be9f84f4302469d5": {
          "model_module": "@jupyter-widgets/controls",
          "model_name": "ProgressStyleModel",
          "state": {
            "_view_name": "StyleView",
            "_model_name": "ProgressStyleModel",
            "description_width": "initial",
            "_view_module": "@jupyter-widgets/base",
            "_model_module_version": "1.5.0",
            "_view_count": null,
            "_view_module_version": "1.2.0",
            "bar_color": null,
            "_model_module": "@jupyter-widgets/controls"
          }
        },
        "9524e06e99e244f4a1fd7d5417bfcf82": {
          "model_module": "@jupyter-widgets/base",
          "model_name": "LayoutModel",
          "state": {
            "_view_name": "LayoutView",
            "grid_template_rows": null,
            "right": null,
            "justify_content": null,
            "_view_module": "@jupyter-widgets/base",
            "overflow": null,
            "_model_module_version": "1.2.0",
            "_view_count": null,
            "flex_flow": null,
            "width": null,
            "min_width": null,
            "border": null,
            "align_items": null,
            "bottom": null,
            "_model_module": "@jupyter-widgets/base",
            "top": null,
            "grid_column": null,
            "overflow_y": null,
            "overflow_x": null,
            "grid_auto_flow": null,
            "grid_area": null,
            "grid_template_columns": null,
            "flex": null,
            "_model_name": "LayoutModel",
            "justify_items": null,
            "grid_row": null,
            "max_height": null,
            "align_content": null,
            "visibility": null,
            "align_self": null,
            "height": null,
            "min_height": null,
            "padding": null,
            "grid_auto_rows": null,
            "grid_gap": null,
            "max_width": null,
            "order": null,
            "_view_module_version": "1.2.0",
            "grid_template_areas": null,
            "object_position": null,
            "object_fit": null,
            "grid_auto_columns": null,
            "margin": null,
            "display": null,
            "left": null
          }
        },
        "72e9a7c507434d00bc47325121cd2da2": {
          "model_module": "@jupyter-widgets/controls",
          "model_name": "DescriptionStyleModel",
          "state": {
            "_view_name": "StyleView",
            "_model_name": "DescriptionStyleModel",
            "description_width": "",
            "_view_module": "@jupyter-widgets/base",
            "_model_module_version": "1.5.0",
            "_view_count": null,
            "_view_module_version": "1.2.0",
            "_model_module": "@jupyter-widgets/controls"
          }
        },
        "a7a3229e0e10440f9a33d6d8069e2f24": {
          "model_module": "@jupyter-widgets/base",
          "model_name": "LayoutModel",
          "state": {
            "_view_name": "LayoutView",
            "grid_template_rows": null,
            "right": null,
            "justify_content": null,
            "_view_module": "@jupyter-widgets/base",
            "overflow": null,
            "_model_module_version": "1.2.0",
            "_view_count": null,
            "flex_flow": null,
            "width": null,
            "min_width": null,
            "border": null,
            "align_items": null,
            "bottom": null,
            "_model_module": "@jupyter-widgets/base",
            "top": null,
            "grid_column": null,
            "overflow_y": null,
            "overflow_x": null,
            "grid_auto_flow": null,
            "grid_area": null,
            "grid_template_columns": null,
            "flex": null,
            "_model_name": "LayoutModel",
            "justify_items": null,
            "grid_row": null,
            "max_height": null,
            "align_content": null,
            "visibility": null,
            "align_self": null,
            "height": null,
            "min_height": null,
            "padding": null,
            "grid_auto_rows": null,
            "grid_gap": null,
            "max_width": null,
            "order": null,
            "_view_module_version": "1.2.0",
            "grid_template_areas": null,
            "object_position": null,
            "object_fit": null,
            "grid_auto_columns": null,
            "margin": null,
            "display": null,
            "left": null
          }
        },
        "c8fd2cce352340c181a8e2726f12e865": {
          "model_module": "@jupyter-widgets/controls",
          "model_name": "HBoxModel",
          "state": {
            "_view_name": "HBoxView",
            "_dom_classes": [],
            "_model_name": "HBoxModel",
            "_view_module": "@jupyter-widgets/controls",
            "_model_module_version": "1.5.0",
            "_view_count": null,
            "_view_module_version": "1.5.0",
            "box_style": "",
            "layout": "IPY_MODEL_3136104f73a54724b52479f9e1e5f7f6",
            "_model_module": "@jupyter-widgets/controls",
            "children": [
              "IPY_MODEL_7d10a608bbc74a29af6631499a347e0e",
              "IPY_MODEL_654cacb065784fccb5feca1cfe55dc64"
            ]
          }
        },
        "3136104f73a54724b52479f9e1e5f7f6": {
          "model_module": "@jupyter-widgets/base",
          "model_name": "LayoutModel",
          "state": {
            "_view_name": "LayoutView",
            "grid_template_rows": null,
            "right": null,
            "justify_content": null,
            "_view_module": "@jupyter-widgets/base",
            "overflow": null,
            "_model_module_version": "1.2.0",
            "_view_count": null,
            "flex_flow": null,
            "width": null,
            "min_width": null,
            "border": null,
            "align_items": null,
            "bottom": null,
            "_model_module": "@jupyter-widgets/base",
            "top": null,
            "grid_column": null,
            "overflow_y": null,
            "overflow_x": null,
            "grid_auto_flow": null,
            "grid_area": null,
            "grid_template_columns": null,
            "flex": null,
            "_model_name": "LayoutModel",
            "justify_items": null,
            "grid_row": null,
            "max_height": null,
            "align_content": null,
            "visibility": null,
            "align_self": null,
            "height": null,
            "min_height": null,
            "padding": null,
            "grid_auto_rows": null,
            "grid_gap": null,
            "max_width": null,
            "order": null,
            "_view_module_version": "1.2.0",
            "grid_template_areas": null,
            "object_position": null,
            "object_fit": null,
            "grid_auto_columns": null,
            "margin": null,
            "display": null,
            "left": null
          }
        },
        "7d10a608bbc74a29af6631499a347e0e": {
          "model_module": "@jupyter-widgets/controls",
          "model_name": "FloatProgressModel",
          "state": {
            "_view_name": "ProgressView",
            "style": "IPY_MODEL_dbb0dd3cfc0d4ee0ba9ff3c39dcc4074",
            "_dom_classes": [],
            "description": "",
            "_model_name": "FloatProgressModel",
            "bar_style": "success",
            "max": 1648877,
            "_view_module": "@jupyter-widgets/controls",
            "_model_module_version": "1.5.0",
            "value": 1648877,
            "_view_count": null,
            "_view_module_version": "1.5.0",
            "orientation": "horizontal",
            "min": 0,
            "description_tooltip": null,
            "_model_module": "@jupyter-widgets/controls",
            "layout": "IPY_MODEL_8c6778e746e14d9b88aeae4e7bc757c9"
          }
        },
        "654cacb065784fccb5feca1cfe55dc64": {
          "model_module": "@jupyter-widgets/controls",
          "model_name": "HTMLModel",
          "state": {
            "_view_name": "HTMLView",
            "style": "IPY_MODEL_7b23bd9a5d194fde896c33dcbf5fc09a",
            "_dom_classes": [],
            "description": "",
            "_model_name": "HTMLModel",
            "placeholder": "​",
            "_view_module": "@jupyter-widgets/controls",
            "_model_module_version": "1.5.0",
            "value": " 1649664/? [00:01&lt;00:00, 1461616.02it/s]",
            "_view_count": null,
            "_view_module_version": "1.5.0",
            "description_tooltip": null,
            "_model_module": "@jupyter-widgets/controls",
            "layout": "IPY_MODEL_910cdce6c0094906afaf5b0ac87b38be"
          }
        },
        "dbb0dd3cfc0d4ee0ba9ff3c39dcc4074": {
          "model_module": "@jupyter-widgets/controls",
          "model_name": "ProgressStyleModel",
          "state": {
            "_view_name": "StyleView",
            "_model_name": "ProgressStyleModel",
            "description_width": "initial",
            "_view_module": "@jupyter-widgets/base",
            "_model_module_version": "1.5.0",
            "_view_count": null,
            "_view_module_version": "1.2.0",
            "bar_color": null,
            "_model_module": "@jupyter-widgets/controls"
          }
        },
        "8c6778e746e14d9b88aeae4e7bc757c9": {
          "model_module": "@jupyter-widgets/base",
          "model_name": "LayoutModel",
          "state": {
            "_view_name": "LayoutView",
            "grid_template_rows": null,
            "right": null,
            "justify_content": null,
            "_view_module": "@jupyter-widgets/base",
            "overflow": null,
            "_model_module_version": "1.2.0",
            "_view_count": null,
            "flex_flow": null,
            "width": null,
            "min_width": null,
            "border": null,
            "align_items": null,
            "bottom": null,
            "_model_module": "@jupyter-widgets/base",
            "top": null,
            "grid_column": null,
            "overflow_y": null,
            "overflow_x": null,
            "grid_auto_flow": null,
            "grid_area": null,
            "grid_template_columns": null,
            "flex": null,
            "_model_name": "LayoutModel",
            "justify_items": null,
            "grid_row": null,
            "max_height": null,
            "align_content": null,
            "visibility": null,
            "align_self": null,
            "height": null,
            "min_height": null,
            "padding": null,
            "grid_auto_rows": null,
            "grid_gap": null,
            "max_width": null,
            "order": null,
            "_view_module_version": "1.2.0",
            "grid_template_areas": null,
            "object_position": null,
            "object_fit": null,
            "grid_auto_columns": null,
            "margin": null,
            "display": null,
            "left": null
          }
        },
        "7b23bd9a5d194fde896c33dcbf5fc09a": {
          "model_module": "@jupyter-widgets/controls",
          "model_name": "DescriptionStyleModel",
          "state": {
            "_view_name": "StyleView",
            "_model_name": "DescriptionStyleModel",
            "description_width": "",
            "_view_module": "@jupyter-widgets/base",
            "_model_module_version": "1.5.0",
            "_view_count": null,
            "_view_module_version": "1.2.0",
            "_model_module": "@jupyter-widgets/controls"
          }
        },
        "910cdce6c0094906afaf5b0ac87b38be": {
          "model_module": "@jupyter-widgets/base",
          "model_name": "LayoutModel",
          "state": {
            "_view_name": "LayoutView",
            "grid_template_rows": null,
            "right": null,
            "justify_content": null,
            "_view_module": "@jupyter-widgets/base",
            "overflow": null,
            "_model_module_version": "1.2.0",
            "_view_count": null,
            "flex_flow": null,
            "width": null,
            "min_width": null,
            "border": null,
            "align_items": null,
            "bottom": null,
            "_model_module": "@jupyter-widgets/base",
            "top": null,
            "grid_column": null,
            "overflow_y": null,
            "overflow_x": null,
            "grid_auto_flow": null,
            "grid_area": null,
            "grid_template_columns": null,
            "flex": null,
            "_model_name": "LayoutModel",
            "justify_items": null,
            "grid_row": null,
            "max_height": null,
            "align_content": null,
            "visibility": null,
            "align_self": null,
            "height": null,
            "min_height": null,
            "padding": null,
            "grid_auto_rows": null,
            "grid_gap": null,
            "max_width": null,
            "order": null,
            "_view_module_version": "1.2.0",
            "grid_template_areas": null,
            "object_position": null,
            "object_fit": null,
            "grid_auto_columns": null,
            "margin": null,
            "display": null,
            "left": null
          }
        },
        "08c6d5dbc9e54a159b70bada862e862a": {
          "model_module": "@jupyter-widgets/controls",
          "model_name": "HBoxModel",
          "state": {
            "_view_name": "HBoxView",
            "_dom_classes": [],
            "_model_name": "HBoxModel",
            "_view_module": "@jupyter-widgets/controls",
            "_model_module_version": "1.5.0",
            "_view_count": null,
            "_view_module_version": "1.5.0",
            "box_style": "",
            "layout": "IPY_MODEL_ecc2ca23adfa46e2ad4fa65aa3a7888f",
            "_model_module": "@jupyter-widgets/controls",
            "children": [
              "IPY_MODEL_07f17f3c062943068b54bddc51d11a77",
              "IPY_MODEL_2639bae7547e4d93b465e5591b7d9588"
            ]
          }
        },
        "ecc2ca23adfa46e2ad4fa65aa3a7888f": {
          "model_module": "@jupyter-widgets/base",
          "model_name": "LayoutModel",
          "state": {
            "_view_name": "LayoutView",
            "grid_template_rows": null,
            "right": null,
            "justify_content": null,
            "_view_module": "@jupyter-widgets/base",
            "overflow": null,
            "_model_module_version": "1.2.0",
            "_view_count": null,
            "flex_flow": null,
            "width": null,
            "min_width": null,
            "border": null,
            "align_items": null,
            "bottom": null,
            "_model_module": "@jupyter-widgets/base",
            "top": null,
            "grid_column": null,
            "overflow_y": null,
            "overflow_x": null,
            "grid_auto_flow": null,
            "grid_area": null,
            "grid_template_columns": null,
            "flex": null,
            "_model_name": "LayoutModel",
            "justify_items": null,
            "grid_row": null,
            "max_height": null,
            "align_content": null,
            "visibility": null,
            "align_self": null,
            "height": null,
            "min_height": null,
            "padding": null,
            "grid_auto_rows": null,
            "grid_gap": null,
            "max_width": null,
            "order": null,
            "_view_module_version": "1.2.0",
            "grid_template_areas": null,
            "object_position": null,
            "object_fit": null,
            "grid_auto_columns": null,
            "margin": null,
            "display": null,
            "left": null
          }
        },
        "07f17f3c062943068b54bddc51d11a77": {
          "model_module": "@jupyter-widgets/controls",
          "model_name": "FloatProgressModel",
          "state": {
            "_view_name": "ProgressView",
            "style": "IPY_MODEL_f7e41882c04444148781904c21fa0eba",
            "_dom_classes": [],
            "description": "",
            "_model_name": "FloatProgressModel",
            "bar_style": "success",
            "max": 4542,
            "_view_module": "@jupyter-widgets/controls",
            "_model_module_version": "1.5.0",
            "value": 4542,
            "_view_count": null,
            "_view_module_version": "1.5.0",
            "orientation": "horizontal",
            "min": 0,
            "description_tooltip": null,
            "_model_module": "@jupyter-widgets/controls",
            "layout": "IPY_MODEL_9725439d838741bdae3ad237b4f3f5cd"
          }
        },
        "2639bae7547e4d93b465e5591b7d9588": {
          "model_module": "@jupyter-widgets/controls",
          "model_name": "HTMLModel",
          "state": {
            "_view_name": "HTMLView",
            "style": "IPY_MODEL_26f8d36c58af494e84da7661491c4535",
            "_dom_classes": [],
            "description": "",
            "_model_name": "HTMLModel",
            "placeholder": "​",
            "_view_module": "@jupyter-widgets/controls",
            "_model_module_version": "1.5.0",
            "value": " 5120/? [00:00&lt;00:00, 13171.66it/s]",
            "_view_count": null,
            "_view_module_version": "1.5.0",
            "description_tooltip": null,
            "_model_module": "@jupyter-widgets/controls",
            "layout": "IPY_MODEL_dceb21cbd1704cb6b6669c5644cd975d"
          }
        },
        "f7e41882c04444148781904c21fa0eba": {
          "model_module": "@jupyter-widgets/controls",
          "model_name": "ProgressStyleModel",
          "state": {
            "_view_name": "StyleView",
            "_model_name": "ProgressStyleModel",
            "description_width": "initial",
            "_view_module": "@jupyter-widgets/base",
            "_model_module_version": "1.5.0",
            "_view_count": null,
            "_view_module_version": "1.2.0",
            "bar_color": null,
            "_model_module": "@jupyter-widgets/controls"
          }
        },
        "9725439d838741bdae3ad237b4f3f5cd": {
          "model_module": "@jupyter-widgets/base",
          "model_name": "LayoutModel",
          "state": {
            "_view_name": "LayoutView",
            "grid_template_rows": null,
            "right": null,
            "justify_content": null,
            "_view_module": "@jupyter-widgets/base",
            "overflow": null,
            "_model_module_version": "1.2.0",
            "_view_count": null,
            "flex_flow": null,
            "width": null,
            "min_width": null,
            "border": null,
            "align_items": null,
            "bottom": null,
            "_model_module": "@jupyter-widgets/base",
            "top": null,
            "grid_column": null,
            "overflow_y": null,
            "overflow_x": null,
            "grid_auto_flow": null,
            "grid_area": null,
            "grid_template_columns": null,
            "flex": null,
            "_model_name": "LayoutModel",
            "justify_items": null,
            "grid_row": null,
            "max_height": null,
            "align_content": null,
            "visibility": null,
            "align_self": null,
            "height": null,
            "min_height": null,
            "padding": null,
            "grid_auto_rows": null,
            "grid_gap": null,
            "max_width": null,
            "order": null,
            "_view_module_version": "1.2.0",
            "grid_template_areas": null,
            "object_position": null,
            "object_fit": null,
            "grid_auto_columns": null,
            "margin": null,
            "display": null,
            "left": null
          }
        },
        "26f8d36c58af494e84da7661491c4535": {
          "model_module": "@jupyter-widgets/controls",
          "model_name": "DescriptionStyleModel",
          "state": {
            "_view_name": "StyleView",
            "_model_name": "DescriptionStyleModel",
            "description_width": "",
            "_view_module": "@jupyter-widgets/base",
            "_model_module_version": "1.5.0",
            "_view_count": null,
            "_view_module_version": "1.2.0",
            "_model_module": "@jupyter-widgets/controls"
          }
        },
        "dceb21cbd1704cb6b6669c5644cd975d": {
          "model_module": "@jupyter-widgets/base",
          "model_name": "LayoutModel",
          "state": {
            "_view_name": "LayoutView",
            "grid_template_rows": null,
            "right": null,
            "justify_content": null,
            "_view_module": "@jupyter-widgets/base",
            "overflow": null,
            "_model_module_version": "1.2.0",
            "_view_count": null,
            "flex_flow": null,
            "width": null,
            "min_width": null,
            "border": null,
            "align_items": null,
            "bottom": null,
            "_model_module": "@jupyter-widgets/base",
            "top": null,
            "grid_column": null,
            "overflow_y": null,
            "overflow_x": null,
            "grid_auto_flow": null,
            "grid_area": null,
            "grid_template_columns": null,
            "flex": null,
            "_model_name": "LayoutModel",
            "justify_items": null,
            "grid_row": null,
            "max_height": null,
            "align_content": null,
            "visibility": null,
            "align_self": null,
            "height": null,
            "min_height": null,
            "padding": null,
            "grid_auto_rows": null,
            "grid_gap": null,
            "max_width": null,
            "order": null,
            "_view_module_version": "1.2.0",
            "grid_template_areas": null,
            "object_position": null,
            "object_fit": null,
            "grid_auto_columns": null,
            "margin": null,
            "display": null,
            "left": null
          }
        }
      }
    }
  },
  "cells": [
    {
      "cell_type": "markdown",
      "metadata": {
        "id": "90j6aOGvdW4M"
      },
      "source": [
        "### Necessary Imports"
      ]
    },
    {
      "cell_type": "code",
      "metadata": {
        "id": "WarPSc6bdVyr"
      },
      "source": [
        "import torch\n",
        "import torch.nn as nn\n",
        "import torch.nn.functional as F\n",
        "from torch.utils.data import DataLoader,TensorDataset\n",
        "from torchvision import datasets, transforms\n",
        "from torchvision.utils import make_grid\n",
        "import torch.utils.data\n",
        "from torch.autograd import Variable\n",
        "from torchsummary import summary\n",
        "from torchvision.utils import save_image\n",
        "from sklearn.decomposition import PCA\n",
        "from sklearn.preprocessing import StandardScaler\n",
        "\n",
        "import numpy as np\n",
        "import pandas as pd\n",
        "import seaborn as sn  # for heatmaps\n",
        "from sklearn.metrics import confusion_matrix\n",
        "import matplotlib.pyplot as plt\n",
        "%matplotlib inline"
      ],
      "execution_count": null,
      "outputs": []
    },
    {
      "cell_type": "code",
      "metadata": {
        "id": "Y4nEm6dmAsGv"
      },
      "source": [
        "transform = transforms.ToTensor()"
      ],
      "execution_count": null,
      "outputs": []
    },
    {
      "cell_type": "markdown",
      "metadata": {
        "id": "b1ywqbEHI0hk"
      },
      "source": [
        "## Data Preprocessing "
      ]
    },
    {
      "cell_type": "markdown",
      "metadata": {
        "id": "qnovpiCXAsGw"
      },
      "source": [
        "### Load the training set"
      ]
    },
    {
      "cell_type": "code",
      "metadata": {
        "colab": {
          "base_uri": "https://localhost:8080/",
          "referenced_widgets": [
            "025d3f4865f34f2d9788f0ffeb9324f3",
            "ede030d96137484a8edb4759f8c7979c",
            "e53a364b265b4cc186a16e7a7310ce69",
            "b2dcfaeaada9446b93d86cc25c27b39a",
            "45c0670f4c8a4718abff48ec32f5091b",
            "4bb930b2f74d4650834cd17ab18673b4",
            "d4ad0d1a965e4c24ab529404389b026c",
            "760c989608b743dd98a49d0a6bace290",
            "1d8a4b30087a4580afa2a99e48f3f463",
            "a6c9d499d54742c4881e1c34340dc546",
            "a5e202b09a1a4a8b9f94cea972b2f05e",
            "60683ee7d3244c7ab93cf0b4da02ea8d",
            "cca19a90a3b740379b19f9a36e6963e4",
            "440647058edb49f9b86bfff67454583c",
            "2c97290389d34a67843f4f6d912b2b68",
            "c266b044e7a2441a9ba63330db6151ed",
            "b259ef7f8e654bfd874deb8099ba012f",
            "be592d607e6948769617fcd427b4fbbb",
            "4b2c62ba1af247efb250678206360a87",
            "c392979d115f47a38a2f05e390e131bb",
            "3e1e8ce4ba284de0b5adf830ed6b262b",
            "1a5171b151854846b471293c33ef059f",
            "053412c9f4fd4d23838256733a7b2d4c",
            "df3c71f1f3fc431c8638fbb4a3342163",
            "6c37962104cb45deae1f7dedb6044230",
            "9ff73d7a879f48569318e1db3be767a1",
            "4eaa953814234e3e93e19c4a4c66472b",
            "f2fb5683e8cc4126b9529e2b980e3cdf",
            "3c3618eeb5524284b5dafc510d75a06c",
            "d08b8a919ecf4867b20f5cb1e84ec532",
            "14311fabe3cf4e33950b3ab9bd1ecb5f",
            "51f5e0a182734fbeb017b8c90f70d819"
          ]
        },
        "id": "goxIq9GWAsGw",
        "outputId": "60f855d1-1fd9-4d55-b6bf-7c27fb6fffbb"
      },
      "source": [
        "train_data = datasets.MNIST(root='../Data', train=True, download=True, transform=transform)\n",
        "train_data"
      ],
      "execution_count": null,
      "outputs": [
        {
          "output_type": "stream",
          "text": [
            "Downloading http://yann.lecun.com/exdb/mnist/train-images-idx3-ubyte.gz\n",
            "Failed to download (trying next):\n",
            "HTTP Error 503: Service Unavailable\n",
            "\n",
            "Downloading https://ossci-datasets.s3.amazonaws.com/mnist/train-images-idx3-ubyte.gz\n",
            "Downloading https://ossci-datasets.s3.amazonaws.com/mnist/train-images-idx3-ubyte.gz to ../Data/MNIST/raw/train-images-idx3-ubyte.gz\n"
          ],
          "name": "stdout"
        },
        {
          "output_type": "display_data",
          "data": {
            "application/vnd.jupyter.widget-view+json": {
              "model_id": "025d3f4865f34f2d9788f0ffeb9324f3",
              "version_minor": 0,
              "version_major": 2
            },
            "text/plain": [
              "HBox(children=(FloatProgress(value=0.0, max=9912422.0), HTML(value='')))"
            ]
          },
          "metadata": {
            "tags": []
          }
        },
        {
          "output_type": "stream",
          "text": [
            "\n",
            "Extracting ../Data/MNIST/raw/train-images-idx3-ubyte.gz to ../Data/MNIST/raw\n",
            "\n",
            "Downloading http://yann.lecun.com/exdb/mnist/train-labels-idx1-ubyte.gz\n",
            "Failed to download (trying next):\n",
            "HTTP Error 503: Service Unavailable\n",
            "\n",
            "Downloading https://ossci-datasets.s3.amazonaws.com/mnist/train-labels-idx1-ubyte.gz\n",
            "Downloading https://ossci-datasets.s3.amazonaws.com/mnist/train-labels-idx1-ubyte.gz to ../Data/MNIST/raw/train-labels-idx1-ubyte.gz\n"
          ],
          "name": "stdout"
        },
        {
          "output_type": "display_data",
          "data": {
            "application/vnd.jupyter.widget-view+json": {
              "model_id": "1d8a4b30087a4580afa2a99e48f3f463",
              "version_minor": 0,
              "version_major": 2
            },
            "text/plain": [
              "HBox(children=(FloatProgress(value=0.0, max=28881.0), HTML(value='')))"
            ]
          },
          "metadata": {
            "tags": []
          }
        },
        {
          "output_type": "stream",
          "text": [
            "\n",
            "Extracting ../Data/MNIST/raw/train-labels-idx1-ubyte.gz to ../Data/MNIST/raw\n",
            "\n",
            "Downloading http://yann.lecun.com/exdb/mnist/t10k-images-idx3-ubyte.gz\n",
            "Failed to download (trying next):\n",
            "HTTP Error 503: Service Unavailable\n",
            "\n",
            "Downloading https://ossci-datasets.s3.amazonaws.com/mnist/t10k-images-idx3-ubyte.gz\n",
            "Downloading https://ossci-datasets.s3.amazonaws.com/mnist/t10k-images-idx3-ubyte.gz to ../Data/MNIST/raw/t10k-images-idx3-ubyte.gz\n"
          ],
          "name": "stdout"
        },
        {
          "output_type": "display_data",
          "data": {
            "application/vnd.jupyter.widget-view+json": {
              "model_id": "b259ef7f8e654bfd874deb8099ba012f",
              "version_minor": 0,
              "version_major": 2
            },
            "text/plain": [
              "HBox(children=(FloatProgress(value=0.0, max=1648877.0), HTML(value='')))"
            ]
          },
          "metadata": {
            "tags": []
          }
        },
        {
          "output_type": "stream",
          "text": [
            "\n",
            "Extracting ../Data/MNIST/raw/t10k-images-idx3-ubyte.gz to ../Data/MNIST/raw\n",
            "\n",
            "Downloading http://yann.lecun.com/exdb/mnist/t10k-labels-idx1-ubyte.gz\n",
            "Failed to download (trying next):\n",
            "HTTP Error 503: Service Unavailable\n",
            "\n",
            "Downloading https://ossci-datasets.s3.amazonaws.com/mnist/t10k-labels-idx1-ubyte.gz\n",
            "Downloading https://ossci-datasets.s3.amazonaws.com/mnist/t10k-labels-idx1-ubyte.gz to ../Data/MNIST/raw/t10k-labels-idx1-ubyte.gz\n"
          ],
          "name": "stdout"
        },
        {
          "output_type": "display_data",
          "data": {
            "application/vnd.jupyter.widget-view+json": {
              "model_id": "6c37962104cb45deae1f7dedb6044230",
              "version_minor": 0,
              "version_major": 2
            },
            "text/plain": [
              "HBox(children=(FloatProgress(value=0.0, max=4542.0), HTML(value='')))"
            ]
          },
          "metadata": {
            "tags": []
          }
        },
        {
          "output_type": "stream",
          "text": [
            "\n",
            "Extracting ../Data/MNIST/raw/t10k-labels-idx1-ubyte.gz to ../Data/MNIST/raw\n",
            "\n",
            "Processing...\n",
            "Done!\n"
          ],
          "name": "stdout"
        },
        {
          "output_type": "stream",
          "text": [
            "/usr/local/lib/python3.7/dist-packages/torchvision/datasets/mnist.py:502: UserWarning: The given NumPy array is not writeable, and PyTorch does not support non-writeable tensors. This means you can write to the underlying (supposedly non-writeable) NumPy array using the tensor. You may want to copy the array to protect its data or make it writeable before converting it to a tensor. This type of warning will be suppressed for the rest of this program. (Triggered internally at  /pytorch/torch/csrc/utils/tensor_numpy.cpp:143.)\n",
            "  return torch.from_numpy(parsed.astype(m[2], copy=False)).view(*s)\n"
          ],
          "name": "stderr"
        },
        {
          "output_type": "execute_result",
          "data": {
            "text/plain": [
              "Dataset MNIST\n",
              "    Number of datapoints: 60000\n",
              "    Root location: ../Data\n",
              "    Split: Train\n",
              "    StandardTransform\n",
              "Transform: ToTensor()"
            ]
          },
          "metadata": {
            "tags": []
          },
          "execution_count": 3
        }
      ]
    },
    {
      "cell_type": "markdown",
      "metadata": {
        "id": "x9xeokz6AsGx"
      },
      "source": [
        "### Load the test set\n",
        "There's a companion set of MNIST data containing 10,000 records accessible by setting train=False. As before, torchvision will only download this once, and in the future will look for the local copy."
      ]
    },
    {
      "cell_type": "code",
      "metadata": {
        "colab": {
          "base_uri": "https://localhost:8080/",
          "referenced_widgets": [
            "9c71721d1c8c43c29348c236add4871f",
            "c9dfb7b22a9b4ccbaf693f9e2dfb6eea",
            "6f97ec064a674cbdb41dbb3ee3815e5e",
            "9e23b2469b2c433fa4443af559a1d347",
            "6380bda9f91d44ac88fd30fccb17401b",
            "cbe183ec815d48a084039ce5c1de784e",
            "09d2253b24a1426aa3247773363c47a7",
            "2da3d7afbb84473a855dc4424c49b894",
            "8eaac8cf07cc4e2c944fde38cc20957d",
            "26fa7f48ac374e2a85cbabd320fb35b7",
            "c7d3b6b7a68d46e18e2790fe71a3867c",
            "5b98def8a9d443cca807aa18a9bb1a6a",
            "08ce51d1d4524be0be9f84f4302469d5",
            "9524e06e99e244f4a1fd7d5417bfcf82",
            "72e9a7c507434d00bc47325121cd2da2",
            "a7a3229e0e10440f9a33d6d8069e2f24",
            "c8fd2cce352340c181a8e2726f12e865",
            "3136104f73a54724b52479f9e1e5f7f6",
            "7d10a608bbc74a29af6631499a347e0e",
            "654cacb065784fccb5feca1cfe55dc64",
            "dbb0dd3cfc0d4ee0ba9ff3c39dcc4074",
            "8c6778e746e14d9b88aeae4e7bc757c9",
            "7b23bd9a5d194fde896c33dcbf5fc09a",
            "910cdce6c0094906afaf5b0ac87b38be",
            "08c6d5dbc9e54a159b70bada862e862a",
            "ecc2ca23adfa46e2ad4fa65aa3a7888f",
            "07f17f3c062943068b54bddc51d11a77",
            "2639bae7547e4d93b465e5591b7d9588",
            "f7e41882c04444148781904c21fa0eba",
            "9725439d838741bdae3ad237b4f3f5cd",
            "26f8d36c58af494e84da7661491c4535",
            "dceb21cbd1704cb6b6669c5644cd975d"
          ]
        },
        "id": "43pu7HCMAsGy",
        "outputId": "4bad3915-1ef5-4950-c998-5a3a2681fba3"
      },
      "source": [
        "test_data = datasets.MNIST(root='Data', train=False, download=True, transform=transform)\n",
        "test_data"
      ],
      "execution_count": null,
      "outputs": [
        {
          "output_type": "stream",
          "text": [
            "Downloading http://yann.lecun.com/exdb/mnist/train-images-idx3-ubyte.gz\n",
            "Failed to download (trying next):\n",
            "HTTP Error 503: Service Unavailable\n",
            "\n",
            "Downloading https://ossci-datasets.s3.amazonaws.com/mnist/train-images-idx3-ubyte.gz\n",
            "Downloading https://ossci-datasets.s3.amazonaws.com/mnist/train-images-idx3-ubyte.gz to Data/MNIST/raw/train-images-idx3-ubyte.gz\n"
          ],
          "name": "stdout"
        },
        {
          "output_type": "display_data",
          "data": {
            "application/vnd.jupyter.widget-view+json": {
              "model_id": "9c71721d1c8c43c29348c236add4871f",
              "version_minor": 0,
              "version_major": 2
            },
            "text/plain": [
              "HBox(children=(FloatProgress(value=0.0, max=9912422.0), HTML(value='')))"
            ]
          },
          "metadata": {
            "tags": []
          }
        },
        {
          "output_type": "stream",
          "text": [
            "\n",
            "Extracting Data/MNIST/raw/train-images-idx3-ubyte.gz to Data/MNIST/raw\n",
            "\n",
            "Downloading http://yann.lecun.com/exdb/mnist/train-labels-idx1-ubyte.gz\n",
            "Failed to download (trying next):\n",
            "HTTP Error 503: Service Unavailable\n",
            "\n",
            "Downloading https://ossci-datasets.s3.amazonaws.com/mnist/train-labels-idx1-ubyte.gz\n",
            "Downloading https://ossci-datasets.s3.amazonaws.com/mnist/train-labels-idx1-ubyte.gz to Data/MNIST/raw/train-labels-idx1-ubyte.gz\n"
          ],
          "name": "stdout"
        },
        {
          "output_type": "display_data",
          "data": {
            "application/vnd.jupyter.widget-view+json": {
              "model_id": "8eaac8cf07cc4e2c944fde38cc20957d",
              "version_minor": 0,
              "version_major": 2
            },
            "text/plain": [
              "HBox(children=(FloatProgress(value=0.0, max=28881.0), HTML(value='')))"
            ]
          },
          "metadata": {
            "tags": []
          }
        },
        {
          "output_type": "stream",
          "text": [
            "\n",
            "Extracting Data/MNIST/raw/train-labels-idx1-ubyte.gz to Data/MNIST/raw\n",
            "\n",
            "Downloading http://yann.lecun.com/exdb/mnist/t10k-images-idx3-ubyte.gz\n",
            "Failed to download (trying next):\n",
            "HTTP Error 503: Service Unavailable\n",
            "\n",
            "Downloading https://ossci-datasets.s3.amazonaws.com/mnist/t10k-images-idx3-ubyte.gz\n",
            "Downloading https://ossci-datasets.s3.amazonaws.com/mnist/t10k-images-idx3-ubyte.gz to Data/MNIST/raw/t10k-images-idx3-ubyte.gz\n"
          ],
          "name": "stdout"
        },
        {
          "output_type": "display_data",
          "data": {
            "application/vnd.jupyter.widget-view+json": {
              "model_id": "c8fd2cce352340c181a8e2726f12e865",
              "version_minor": 0,
              "version_major": 2
            },
            "text/plain": [
              "HBox(children=(FloatProgress(value=0.0, max=1648877.0), HTML(value='')))"
            ]
          },
          "metadata": {
            "tags": []
          }
        },
        {
          "output_type": "stream",
          "text": [
            "\n",
            "Extracting Data/MNIST/raw/t10k-images-idx3-ubyte.gz to Data/MNIST/raw\n",
            "\n",
            "Downloading http://yann.lecun.com/exdb/mnist/t10k-labels-idx1-ubyte.gz\n",
            "Failed to download (trying next):\n",
            "HTTP Error 503: Service Unavailable\n",
            "\n",
            "Downloading https://ossci-datasets.s3.amazonaws.com/mnist/t10k-labels-idx1-ubyte.gz\n",
            "Downloading https://ossci-datasets.s3.amazonaws.com/mnist/t10k-labels-idx1-ubyte.gz to Data/MNIST/raw/t10k-labels-idx1-ubyte.gz\n"
          ],
          "name": "stdout"
        },
        {
          "output_type": "display_data",
          "data": {
            "application/vnd.jupyter.widget-view+json": {
              "model_id": "08c6d5dbc9e54a159b70bada862e862a",
              "version_minor": 0,
              "version_major": 2
            },
            "text/plain": [
              "HBox(children=(FloatProgress(value=0.0, max=4542.0), HTML(value='')))"
            ]
          },
          "metadata": {
            "tags": []
          }
        },
        {
          "output_type": "stream",
          "text": [
            "\n",
            "Extracting Data/MNIST/raw/t10k-labels-idx1-ubyte.gz to Data/MNIST/raw\n",
            "\n",
            "Processing...\n",
            "Done!\n"
          ],
          "name": "stdout"
        },
        {
          "output_type": "execute_result",
          "data": {
            "text/plain": [
              "Dataset MNIST\n",
              "    Number of datapoints: 10000\n",
              "    Root location: Data\n",
              "    Split: Test\n",
              "    StandardTransform\n",
              "Transform: ToTensor()"
            ]
          },
          "metadata": {
            "tags": []
          },
          "execution_count": 4
        }
      ]
    },
    {
      "cell_type": "code",
      "metadata": {
        "colab": {
          "base_uri": "https://localhost:8080/"
        },
        "id": "NEBpUsN8Lz7e",
        "outputId": "76099b81-0cab-4cd2-bbbe-9f65790677ec"
      },
      "source": [
        "model_data=train_data+test_data\n",
        "total_count=len(model_data)\n",
        "total_count"
      ],
      "execution_count": null,
      "outputs": [
        {
          "output_type": "execute_result",
          "data": {
            "text/plain": [
              "70000"
            ]
          },
          "metadata": {
            "tags": []
          },
          "execution_count": 5
        }
      ]
    },
    {
      "cell_type": "markdown",
      "metadata": {
        "id": "-8N9b9BQNPGg"
      },
      "source": [
        "### Split 70:30"
      ]
    },
    {
      "cell_type": "code",
      "metadata": {
        "id": "aFGOn3SGNOSg"
      },
      "source": [
        "train_count = int(0.7 * total_count) \n",
        "test_count = int(0.3 * total_count)"
      ],
      "execution_count": null,
      "outputs": []
    },
    {
      "cell_type": "code",
      "metadata": {
        "colab": {
          "base_uri": "https://localhost:8080/"
        },
        "id": "z4_VpIUNNmyI",
        "outputId": "2a22ba8b-6f01-427b-eb70-52290cda5dc6"
      },
      "source": [
        "train_data, test_data = torch.utils.data.random_split(model_data, (train_count, test_count))\n",
        "print(len(train_data))\n",
        "print(len(test_data))\n",
        "type(train_data)"
      ],
      "execution_count": null,
      "outputs": [
        {
          "output_type": "stream",
          "text": [
            "49000\n",
            "21000\n"
          ],
          "name": "stdout"
        },
        {
          "output_type": "execute_result",
          "data": {
            "text/plain": [
              "torch.utils.data.dataset.Subset"
            ]
          },
          "metadata": {
            "tags": []
          },
          "execution_count": 7
        }
      ]
    },
    {
      "cell_type": "code",
      "metadata": {
        "colab": {
          "base_uri": "https://localhost:8080/"
        },
        "id": "g3oJu3FoAsGz",
        "scrolled": false,
        "outputId": "eb93ff06-a7fa-417f-ce90-131209499f44"
      },
      "source": [
        "train_data[0]"
      ],
      "execution_count": null,
      "outputs": [
        {
          "output_type": "execute_result",
          "data": {
            "text/plain": [
              "(tensor([[[0.0000, 0.0000, 0.0000, 0.0000, 0.0000, 0.0000, 0.0000, 0.0000,\n",
              "           0.0000, 0.0000, 0.0000, 0.0000, 0.0000, 0.0000, 0.0000, 0.0000,\n",
              "           0.0000, 0.0000, 0.0000, 0.0000, 0.0000, 0.0000, 0.0000, 0.0000,\n",
              "           0.0000, 0.0000, 0.0000, 0.0000],\n",
              "          [0.0000, 0.0000, 0.0000, 0.0000, 0.0000, 0.0000, 0.0000, 0.0000,\n",
              "           0.0000, 0.0000, 0.0000, 0.0000, 0.0000, 0.0000, 0.0000, 0.0000,\n",
              "           0.0000, 0.0000, 0.0000, 0.0000, 0.0000, 0.0000, 0.0000, 0.0000,\n",
              "           0.0000, 0.0000, 0.0000, 0.0000],\n",
              "          [0.0000, 0.0000, 0.0000, 0.0000, 0.0000, 0.0000, 0.0000, 0.0000,\n",
              "           0.0000, 0.0000, 0.0000, 0.0000, 0.0000, 0.0000, 0.0000, 0.0000,\n",
              "           0.0000, 0.0000, 0.0000, 0.0000, 0.0000, 0.0000, 0.0000, 0.0000,\n",
              "           0.0000, 0.0000, 0.0000, 0.0000],\n",
              "          [0.0000, 0.0000, 0.0000, 0.0000, 0.0000, 0.0000, 0.0000, 0.0000,\n",
              "           0.0000, 0.0000, 0.0000, 0.0000, 0.0000, 0.0000, 0.0000, 0.0000,\n",
              "           0.0000, 0.0000, 0.0000, 0.0000, 0.0000, 0.0000, 0.0000, 0.0000,\n",
              "           0.0000, 0.0000, 0.0000, 0.0000],\n",
              "          [0.0000, 0.0000, 0.0000, 0.0000, 0.0000, 0.0000, 0.0000, 0.0000,\n",
              "           0.0000, 0.0000, 0.0000, 0.0000, 0.0000, 0.0000, 0.0000, 0.0000,\n",
              "           0.0157, 0.7137, 0.6157, 0.0000, 0.0000, 0.0000, 0.0000, 0.0000,\n",
              "           0.0000, 0.0000, 0.0000, 0.0000],\n",
              "          [0.0000, 0.0000, 0.0000, 0.0000, 0.0000, 0.0000, 0.0000, 0.0000,\n",
              "           0.0000, 0.0000, 0.0000, 0.0000, 0.0000, 0.0000, 0.0000, 0.0000,\n",
              "           0.2157, 0.9961, 0.6118, 0.0000, 0.0000, 0.0000, 0.0000, 0.0000,\n",
              "           0.0000, 0.0000, 0.0000, 0.0000],\n",
              "          [0.0000, 0.0000, 0.0000, 0.0000, 0.0000, 0.0000, 0.0000, 0.0000,\n",
              "           0.0000, 0.0000, 0.0000, 0.0000, 0.0000, 0.0000, 0.0000, 0.0000,\n",
              "           0.8863, 0.8941, 0.1569, 0.0000, 0.0000, 0.0000, 0.0000, 0.0000,\n",
              "           0.0000, 0.0000, 0.0000, 0.0000],\n",
              "          [0.0000, 0.0000, 0.0000, 0.0000, 0.0000, 0.0000, 0.0000, 0.0000,\n",
              "           0.0000, 0.0000, 0.0000, 0.0000, 0.0000, 0.0000, 0.0000, 0.2941,\n",
              "           0.9725, 0.6902, 0.0000, 0.0000, 0.0000, 0.0000, 0.0000, 0.0000,\n",
              "           0.0000, 0.0000, 0.0000, 0.0000],\n",
              "          [0.0000, 0.0000, 0.0000, 0.0000, 0.0000, 0.0000, 0.0000, 0.0000,\n",
              "           0.0000, 0.0000, 0.0000, 0.0000, 0.0000, 0.0000, 0.0706, 0.8549,\n",
              "           0.9961, 0.3412, 0.0000, 0.0000, 0.0000, 0.0000, 0.0000, 0.0000,\n",
              "           0.0000, 0.0000, 0.0000, 0.0000],\n",
              "          [0.0000, 0.0000, 0.0000, 0.0000, 0.0000, 0.0000, 0.0000, 0.0000,\n",
              "           0.0000, 0.0000, 0.0000, 0.0000, 0.0000, 0.0000, 0.2157, 0.9961,\n",
              "           0.9569, 0.1804, 0.0000, 0.0000, 0.0000, 0.0000, 0.0000, 0.0000,\n",
              "           0.0000, 0.0000, 0.0000, 0.0000],\n",
              "          [0.0000, 0.0000, 0.0000, 0.0000, 0.0000, 0.0000, 0.0000, 0.0000,\n",
              "           0.0000, 0.0000, 0.0000, 0.0000, 0.0000, 0.0000, 0.2980, 0.9961,\n",
              "           0.6471, 0.0000, 0.0000, 0.0000, 0.0000, 0.0000, 0.0000, 0.0000,\n",
              "           0.0000, 0.0000, 0.0000, 0.0000],\n",
              "          [0.0000, 0.0000, 0.0000, 0.0000, 0.0000, 0.0000, 0.0000, 0.0000,\n",
              "           0.0000, 0.0000, 0.0000, 0.0000, 0.0000, 0.0235, 0.7608, 0.9961,\n",
              "           0.1608, 0.0000, 0.0000, 0.0000, 0.0000, 0.0000, 0.0000, 0.0000,\n",
              "           0.0000, 0.0000, 0.0000, 0.0000],\n",
              "          [0.0000, 0.0000, 0.0000, 0.0000, 0.0000, 0.0000, 0.0000, 0.0000,\n",
              "           0.0000, 0.0000, 0.0000, 0.0000, 0.0000, 0.4588, 0.9961, 0.9765,\n",
              "           0.0588, 0.0000, 0.0000, 0.0000, 0.0000, 0.0000, 0.0000, 0.0000,\n",
              "           0.0000, 0.0000, 0.0000, 0.0000],\n",
              "          [0.0000, 0.0000, 0.0000, 0.0000, 0.0000, 0.0000, 0.0000, 0.0000,\n",
              "           0.0000, 0.0000, 0.0000, 0.0000, 0.0000, 0.5804, 0.9961, 0.3647,\n",
              "           0.0000, 0.0000, 0.0000, 0.0000, 0.0000, 0.0000, 0.0000, 0.0000,\n",
              "           0.0000, 0.0000, 0.0000, 0.0000],\n",
              "          [0.0000, 0.0000, 0.0000, 0.0000, 0.0000, 0.0000, 0.0000, 0.0000,\n",
              "           0.0000, 0.0000, 0.0000, 0.0000, 0.2706, 0.9804, 0.9216, 0.1373,\n",
              "           0.0000, 0.0000, 0.0000, 0.0000, 0.0000, 0.0000, 0.0000, 0.0000,\n",
              "           0.0000, 0.0000, 0.0000, 0.0000],\n",
              "          [0.0000, 0.0000, 0.0000, 0.0000, 0.0000, 0.0000, 0.0000, 0.0000,\n",
              "           0.0000, 0.0000, 0.0000, 0.0000, 0.5608, 0.9961, 0.7843, 0.0000,\n",
              "           0.0000, 0.0000, 0.0000, 0.0000, 0.0000, 0.0000, 0.0000, 0.0000,\n",
              "           0.0000, 0.0000, 0.0000, 0.0000],\n",
              "          [0.0000, 0.0000, 0.0000, 0.0000, 0.0000, 0.0000, 0.0000, 0.0000,\n",
              "           0.0000, 0.0000, 0.0000, 0.0000, 0.4863, 0.9961, 0.7843, 0.0000,\n",
              "           0.0000, 0.0000, 0.0000, 0.0000, 0.0000, 0.0000, 0.0000, 0.0000,\n",
              "           0.0000, 0.0000, 0.0000, 0.0000],\n",
              "          [0.0000, 0.0000, 0.0000, 0.0000, 0.0000, 0.0000, 0.0000, 0.0000,\n",
              "           0.0000, 0.0000, 0.0000, 0.0000, 0.5059, 0.9961, 0.4431, 0.0000,\n",
              "           0.0000, 0.0000, 0.0000, 0.0000, 0.0000, 0.0000, 0.0000, 0.0000,\n",
              "           0.0000, 0.0000, 0.0000, 0.0000],\n",
              "          [0.0000, 0.0000, 0.0000, 0.0000, 0.0000, 0.0000, 0.0000, 0.0000,\n",
              "           0.0000, 0.0000, 0.0000, 0.0235, 0.7922, 0.9647, 0.1686, 0.0000,\n",
              "           0.0000, 0.0000, 0.0000, 0.0000, 0.0000, 0.0000, 0.0000, 0.0000,\n",
              "           0.0000, 0.0000, 0.0000, 0.0000],\n",
              "          [0.0000, 0.0000, 0.0000, 0.0000, 0.0000, 0.0000, 0.0000, 0.0000,\n",
              "           0.0000, 0.0000, 0.0000, 0.1961, 0.9961, 0.9333, 0.0000, 0.0000,\n",
              "           0.0000, 0.0000, 0.0000, 0.0000, 0.0000, 0.0000, 0.0000, 0.0000,\n",
              "           0.0000, 0.0000, 0.0000, 0.0000],\n",
              "          [0.0000, 0.0000, 0.0000, 0.0000, 0.0000, 0.0000, 0.0000, 0.0000,\n",
              "           0.0000, 0.0000, 0.0000, 0.3686, 0.9961, 0.7608, 0.0000, 0.0000,\n",
              "           0.0000, 0.0000, 0.0000, 0.0000, 0.0000, 0.0000, 0.0000, 0.0000,\n",
              "           0.0000, 0.0000, 0.0000, 0.0000],\n",
              "          [0.0000, 0.0000, 0.0000, 0.0000, 0.0000, 0.0000, 0.0000, 0.0000,\n",
              "           0.0000, 0.0000, 0.0000, 0.6196, 0.9961, 0.4549, 0.0000, 0.0000,\n",
              "           0.0000, 0.0000, 0.0000, 0.0000, 0.0000, 0.0000, 0.0000, 0.0000,\n",
              "           0.0000, 0.0000, 0.0000, 0.0000],\n",
              "          [0.0000, 0.0000, 0.0000, 0.0000, 0.0000, 0.0000, 0.0000, 0.0000,\n",
              "           0.0000, 0.0000, 0.0314, 0.8863, 0.9020, 0.0588, 0.0000, 0.0000,\n",
              "           0.0000, 0.0000, 0.0000, 0.0000, 0.0000, 0.0000, 0.0000, 0.0000,\n",
              "           0.0000, 0.0000, 0.0000, 0.0000],\n",
              "          [0.0000, 0.0000, 0.0000, 0.0000, 0.0000, 0.0000, 0.0000, 0.0000,\n",
              "           0.0000, 0.0000, 0.0078, 0.6745, 0.6549, 0.0000, 0.0000, 0.0000,\n",
              "           0.0000, 0.0000, 0.0000, 0.0000, 0.0000, 0.0000, 0.0000, 0.0000,\n",
              "           0.0000, 0.0000, 0.0000, 0.0000],\n",
              "          [0.0000, 0.0000, 0.0000, 0.0000, 0.0000, 0.0000, 0.0000, 0.0000,\n",
              "           0.0000, 0.0000, 0.0000, 0.0000, 0.0000, 0.0000, 0.0000, 0.0000,\n",
              "           0.0000, 0.0000, 0.0000, 0.0000, 0.0000, 0.0000, 0.0000, 0.0000,\n",
              "           0.0000, 0.0000, 0.0000, 0.0000],\n",
              "          [0.0000, 0.0000, 0.0000, 0.0000, 0.0000, 0.0000, 0.0000, 0.0000,\n",
              "           0.0000, 0.0000, 0.0000, 0.0000, 0.0000, 0.0000, 0.0000, 0.0000,\n",
              "           0.0000, 0.0000, 0.0000, 0.0000, 0.0000, 0.0000, 0.0000, 0.0000,\n",
              "           0.0000, 0.0000, 0.0000, 0.0000],\n",
              "          [0.0000, 0.0000, 0.0000, 0.0000, 0.0000, 0.0000, 0.0000, 0.0000,\n",
              "           0.0000, 0.0000, 0.0000, 0.0000, 0.0000, 0.0000, 0.0000, 0.0000,\n",
              "           0.0000, 0.0000, 0.0000, 0.0000, 0.0000, 0.0000, 0.0000, 0.0000,\n",
              "           0.0000, 0.0000, 0.0000, 0.0000],\n",
              "          [0.0000, 0.0000, 0.0000, 0.0000, 0.0000, 0.0000, 0.0000, 0.0000,\n",
              "           0.0000, 0.0000, 0.0000, 0.0000, 0.0000, 0.0000, 0.0000, 0.0000,\n",
              "           0.0000, 0.0000, 0.0000, 0.0000, 0.0000, 0.0000, 0.0000, 0.0000,\n",
              "           0.0000, 0.0000, 0.0000, 0.0000]]]), 1)"
            ]
          },
          "metadata": {
            "tags": []
          },
          "execution_count": 8
        }
      ]
    },
    {
      "cell_type": "markdown",
      "metadata": {
        "id": "pkX4AX8RAsGz"
      },
      "source": [
        "Calling the first record from <tt>train_data</tt> returns a two-item tuple. The first item is our 28x28 tensor representing the image. The second is a label, in this case the number \"5\"."
      ]
    },
    {
      "cell_type": "code",
      "metadata": {
        "colab": {
          "base_uri": "https://localhost:8080/"
        },
        "id": "ce8pl7rwAsGz",
        "outputId": "90266734-7d22-4a5a-9249-b609a79ff665"
      },
      "source": [
        "image, label = train_data[0]\n",
        "print('Shape:', image.shape, '\\nLabel:', label)"
      ],
      "execution_count": null,
      "outputs": [
        {
          "output_type": "stream",
          "text": [
            "Shape: torch.Size([1, 28, 28]) \n",
            "Label: 1\n"
          ],
          "name": "stdout"
        }
      ]
    },
    {
      "cell_type": "markdown",
      "metadata": {
        "id": "IGohAH1mAsG0"
      },
      "source": [
        "### View the image\n",
        "Matplotlib can interpret pixel values through a variety of <a href='https://matplotlib.org/tutorials/colors/colormaps.html'>colormaps</a>."
      ]
    },
    {
      "cell_type": "code",
      "metadata": {
        "colab": {
          "base_uri": "https://localhost:8080/"
        },
        "id": "9E99XQ3lAsG0",
        "outputId": "3fe2c549-f3fa-4530-e4ee-001a49d48dfa"
      },
      "source": [
        "plt.imshow(train_data[0][0].reshape((28,28)), cmap=\"gray\");\n"
      ],
      "execution_count": null,
      "outputs": [
        {
          "output_type": "display_data",
          "data": {
            "image/png": "[encoded data removed]",
            "text/plain": [
              "<Figure size 432x288 with 1 Axes>"
            ]
          },
          "metadata": {
            "tags": [],
            "needs_background": "light"
          }
        }
      ]
    },
    {
      "cell_type": "code",
      "metadata": {
        "colab": {
          "base_uri": "https://localhost:8080/"
        },
        "id": "hkUpwhyVAsG1",
        "outputId": "8a219621-d63b-41cc-db4e-08d06761ac79"
      },
      "source": [
        "plt.imshow(train_data[0][0].reshape((28,28)), cmap=\"gist_yarg\");"
      ],
      "execution_count": null,
      "outputs": [
        {
          "output_type": "display_data",
          "data": {
            "image/png": "[encoded data removed]",
            "text/plain": [
              "<Figure size 432x288 with 1 Axes>"
            ]
          },
          "metadata": {
            "tags": [],
            "needs_background": "light"
          }
        }
      ]
    },
    {
      "cell_type": "code",
      "metadata": {
        "id": "sTdM61r8AsG1"
      },
      "source": [
        "torch.manual_seed(101)  # for consistent results\n",
        "\n",
        "train_loader = DataLoader(train_data, batch_size=100, shuffle=True)\n",
        "\n",
        "test_loader = DataLoader(test_data, batch_size=500, shuffle=False)"
      ],
      "execution_count": null,
      "outputs": []
    },
    {
      "cell_type": "markdown",
      "metadata": {
        "id": "qmeQ0ggEAsG2"
      },
      "source": [
        "### View a batch of images\n"
      ]
    },
    {
      "cell_type": "code",
      "metadata": {
        "colab": {
          "base_uri": "https://localhost:8080/"
        },
        "id": "cEq_bUx8AsG3",
        "outputId": "d52bbb0d-fdb6-4aec-c876-468b5fa43f7b"
      },
      "source": [
        "from torchvision.utils import make_grid\n",
        "np.set_printoptions(formatter=dict(int=lambda x: f'{x:4}')) # to widen the printed array\n",
        "\n",
        "# Grab the first batch of images\n",
        "for images,labels in train_loader: \n",
        "    break\n",
        "\n",
        "# Print the first 12 labels\n",
        "print('Labels: ', labels[:12].numpy())\n",
        "\n",
        "# Print the first 12 images\n",
        "im = make_grid(images[:12], nrow=12)  # the default nrow is 8\n",
        "plt.figure(figsize=(10,4))\n",
        "# We need to transpose the images from CWH to WHC\n",
        "plt.imshow(np.transpose(im.numpy(), (1, 2, 0)));"
      ],
      "execution_count": null,
      "outputs": [
        {
          "output_type": "stream",
          "text": [
            "Labels:  [   1    3    8    6    0    0    6    1    3    4    8    0]\n"
          ],
          "name": "stdout"
        },
        {
          "output_type": "display_data",
          "data": {
            "image/png": "[encoded data removed]",
            "text/plain": [
              "<Figure size 720x288 with 1 Axes>"
            ]
          },
          "metadata": {
            "tags": [],
            "needs_background": "light"
          }
        }
      ]
    },
    {
      "cell_type": "code",
      "metadata": {
        "id": "rAj9d0MTQgUQ",
        "colab": {
          "base_uri": "https://localhost:8080/"
        },
        "outputId": "7ab0d0d6-e4f7-4cf8-9a63-babac9b0adb0"
      },
      "source": [
        "images.view(100,-1).size()"
      ],
      "execution_count": null,
      "outputs": [
        {
          "output_type": "execute_result",
          "data": {
            "text/plain": [
              "torch.Size([100, 784])"
            ]
          },
          "metadata": {
            "tags": []
          },
          "execution_count": 14
        }
      ]
    },
    {
      "cell_type": "markdown",
      "metadata": {
        "id": "T5_pfGTCp3EE"
      },
      "source": [
        "### Supporting functions"
      ]
    },
    {
      "cell_type": "code",
      "metadata": {
        "id": "N5AF_N5BbYE8"
      },
      "source": [
        "def plot_loss(train_losses,test_losses):\n",
        "  plt.plot(train_losses, label='training loss')\n",
        "  plt.plot(test_losses, label='test reconstruction loss')\n",
        "  plt.title('Loss at the end of each epoch')\n",
        "  plt.legend();"
      ],
      "execution_count": null,
      "outputs": []
    },
    {
      "cell_type": "code",
      "metadata": {
        "id": "wgaZ3aH6bahl"
      },
      "source": [
        "def plot_accuracy(train_correct,test_correct):\n",
        "  plt.plot([t/49000 for t in train_correct], label='training accuracy')\n",
        "  plt.plot([t/21000 for t in test_correct], label='test reconstruction accuracy')\n",
        "  plt.title('Accuracy at the end of each epoch')\n",
        "  plt.legend();"
      ],
      "execution_count": null,
      "outputs": []
    },
    {
      "cell_type": "markdown",
      "metadata": {
        "id": "UlJJpyu9AsG9"
      },
      "source": [
        "### Train the model\n"
      ]
    },
    {
      "cell_type": "code",
      "metadata": {
        "id": "25gT1GmRLINz"
      },
      "source": [
        "def get_device():\n",
        "    if torch.cuda.is_available():\n",
        "        device = 'cuda:0'\n",
        "    else:\n",
        "        device = 'cpu'\n",
        "    return device"
      ],
      "execution_count": null,
      "outputs": []
    },
    {
      "cell_type": "code",
      "metadata": {
        "id": "rvRSAuXUAsG9"
      },
      "source": [
        "\n",
        "def train_loss_accuracy(train_loader,model):\n",
        "\n",
        "  import time\n",
        "  start_time = time.time()\n",
        "\n",
        "  epochs = 10\n",
        "  train_losses = []\n",
        "  test_losses = []\n",
        "  train_correct = []\n",
        "  test_correct = []\n",
        "  \n",
        "  \n",
        "\n",
        "  for i in range(epochs):\n",
        "      trn_corr = 0\n",
        "      tst_corr = 0\n",
        "      \n",
        "      # Run the training batches\n",
        "      for b, (X_train, y_train) in enumerate(train_loader):\n",
        "          b+=1\n",
        "          # Apply the model\n",
        "          y_pred= model(X_train.view(100, -1))  # Here we flatten X_train\n",
        "          loss = criterion(y_pred, y_train)\n",
        "  \n",
        "          # Tally the number of correct predictions\n",
        "          predicted = torch.max(y_pred.data, 1)[1]\n",
        "          batch_corr = (predicted == y_train).sum()\n",
        "          trn_corr += batch_corr\n",
        "          \n",
        "          # Update parameters\n",
        "          optimizer.zero_grad()\n",
        "          loss.backward()\n",
        "          optimizer.step()\n",
        "          \n",
        "          # Print interim results\n",
        "          if b%200 == 0:\n",
        "              print(f'epoch: {i:2}  batch: {b:4} [{100*b:6}/49000]  loss: {loss.item():10.8f}  \\\n",
        "  accuracy: {trn_corr.item()*100/(100*b):7.3f}%')\n",
        "      \n",
        "      # Update train loss & accuracy for the epoch\n",
        "      train_losses.append(loss)\n",
        "      train_correct.append(trn_corr)\n",
        "      # Run the testing batches\n",
        "      with torch.no_grad():\n",
        "          for b, (X_test, y_test) in enumerate(test_loader):\n",
        "\n",
        "              # Apply the model\n",
        "              y_val = model(X_test.view(500, -1))  # Here we flatten X_test\n",
        "\n",
        "              # Tally the number of correct predictions\n",
        "              predicted = torch.max(y_val.data, 1)[1] \n",
        "              tst_corr += (predicted == y_test).sum()\n",
        "      \n",
        "      # Update test loss & accuracy for the epoch\n",
        "      loss = criterion(y_val, y_test)\n",
        "      test_losses.append(loss)\n",
        "      test_correct.append(tst_corr)\n",
        "          \n",
        "  print(f'\\nDuration: {time.time() - start_time:.0f} seconds') # print the time elapsed  \n",
        "\n",
        "\n",
        "  return train_losses,train_correct,test_losses,test_correct    #,final_outputs    "
      ],
      "execution_count": null,
      "outputs": []
    },
    {
      "cell_type": "code",
      "metadata": {
        "id": "LJGhBLRoX03M"
      },
      "source": [
        "def save_train_dataset(train_loader,model,hidden_neurons):\n",
        "  train_outputs = np.empty((0,hidden_neurons), float)\n",
        "  target_train= np.empty((0,1), int)\n",
        "  # Run the training batches\n",
        "  for b, (X_train, y_train) in enumerate(train_loader):\n",
        "      #print(y_train)\n",
        "\n",
        "      b+=1\n",
        "      # Apply the model\n",
        "      y_pred= model(X_train.view(100, -1))  # Here we flatten X_train\n",
        "      target_train = np.append(target_train,y_train.numpy().reshape(-1,1),axis=0)\n",
        "      \n",
        "      outputs=model.get_output()\n",
        "      outputs = outputs.cpu().data\n",
        "      train_outputs = np.append( train_outputs, outputs.numpy(), axis=0)  \n",
        "    \n",
        "  np.save('train.npy', train_outputs)\n",
        "  np.save('train-labels.npy', target_train)"
      ],
      "execution_count": null,
      "outputs": []
    },
    {
      "cell_type": "code",
      "metadata": {
        "id": "GNtx1pzuYW5W"
      },
      "source": [
        "def save_test_dataset(test_loader,model,hidden_neurons):\n",
        "  test_outputs =  np.empty((0,hidden_neurons),float)\n",
        "  test_target= np.empty((0,1), int)\n",
        "  \n",
        "  # Run the training batches\n",
        "  for b, (X_test, y_test) in enumerate(test_loader):\n",
        "      b+=1\n",
        "      # Apply the model\n",
        "      y_pred= model(X_test.view(500, -1))  # Here we flatten X_train\n",
        "      test_target = np.append(test_target,y_test.numpy().reshape(-1,1),axis=0)\n",
        "      \n",
        "      outputs=model.get_output()\n",
        "      outputs = outputs.cpu().data\n",
        "      test_outputs = np.append( test_outputs, outputs.numpy(), axis=0)  \n",
        "     \n",
        "  np.save('test.npy', test_outputs)\n",
        "  np.save('test-labels.npy', test_target)"
      ],
      "execution_count": null,
      "outputs": []
    },
    {
      "cell_type": "code",
      "metadata": {
        "id": "FSp5W1mAa9gd"
      },
      "source": [
        "# Run the testing batches\n",
        "def test_loss_accuracy(test_data,model):\n",
        "  \n",
        "  test_load_all = DataLoader(test_data, batch_size=21000, shuffle=False)\n",
        "  test_losses=[]\n",
        "  with torch.no_grad():\n",
        "    correct = 0\n",
        "    for X_test, y_test in test_load_all:\n",
        "        y_val = model(X_test.view(len(X_test), -1))  # pass in a flattened view of X_test\n",
        "       \n",
        "        predicted = torch.max(y_val,1)[1]\n",
        "        correct += (predicted == y_test).sum()\n",
        "        loss = criterion(y_val, y_test)\n",
        "\n",
        "        test_losses.append(loss)\n",
        "  print(f'Test accuracy: {correct.item()}/{len(test_data)} = {correct.item()*100/(len(test_data)):7.3f}%')\n",
        "  return  (correct.item()*100/(len(test_data)),test_losses)"
      ],
      "execution_count": null,
      "outputs": []
    },
    {
      "cell_type": "markdown",
      "metadata": {
        "id": "cNr1zJo0TSXl"
      },
      "source": [
        "### Defining the Model"
      ]
    },
    {
      "cell_type": "code",
      "metadata": {
        "id": "-RqS2ASRXANY"
      },
      "source": [
        "test_accuracies=[]\n",
        "test_losses_terms=[]"
      ],
      "execution_count": null,
      "outputs": []
    },
    {
      "cell_type": "code",
      "metadata": {
        "id": "Z0ofJSq4QgUN"
      },
      "source": [
        "class MultilayerPerceptron(nn.Module):\n",
        "    def __init__(self, in_sz=784, out_sz=10, layers=[256,128,64,32]):\n",
        "        super().__init__()\n",
        "        self.fc1 = nn.Linear(in_sz,layers[0])\n",
        "        self.fc2 = nn.Linear(layers[0],layers[1])\n",
        "        self.fc3 = nn.Linear(layers[1],layers[2])\n",
        "        self.fc4 = nn.Linear(layers[2],layers[3])\n",
        "        self.fc5 = nn.Linear(layers[3],out_sz)\n",
        "    \n",
        "    def forward(self,X):\n",
        "        X = F.relu(self.fc1(X))\n",
        "        X = F.relu(self.fc2(X))\n",
        "        X = F.relu(self.fc3(X))\n",
        "        X = F.relu(self.fc4(X))\n",
        "        X = self.fc5(X)\n",
        "        return F.log_softmax(X, dim=1)"
      ],
      "execution_count": null,
      "outputs": []
    },
    {
      "cell_type": "markdown",
      "metadata": {
        "id": "pGeORkmEUXOw"
      },
      "source": [
        "### Adam Optimiser"
      ]
    },
    {
      "cell_type": "code",
      "metadata": {
        "id": "LHEpyIwoQgUO",
        "colab": {
          "base_uri": "https://localhost:8080/"
        },
        "outputId": "247cf702-8cf6-435f-838b-67b48357e72d"
      },
      "source": [
        "torch.manual_seed(101)\n",
        "modelAdam = MultilayerPerceptron()\n",
        "modelAdam"
      ],
      "execution_count": null,
      "outputs": [
        {
          "output_type": "execute_result",
          "data": {
            "text/plain": [
              "MultilayerPerceptron(\n",
              "  (fc1): Linear(in_features=784, out_features=256, bias=True)\n",
              "  (fc2): Linear(in_features=256, out_features=128, bias=True)\n",
              "  (fc3): Linear(in_features=128, out_features=64, bias=True)\n",
              "  (fc4): Linear(in_features=64, out_features=32, bias=True)\n",
              "  (fc5): Linear(in_features=32, out_features=10, bias=True)\n",
              ")"
            ]
          },
          "metadata": {
            "tags": []
          },
          "execution_count": 163
        }
      ]
    },
    {
      "cell_type": "code",
      "metadata": {
        "id": "v301KamNQgUP"
      },
      "source": [
        "criterion = nn.CrossEntropyLoss()\n",
        "optimizer = torch.optim.Adam(modelAdam.parameters(), lr=0.001)"
      ],
      "execution_count": null,
      "outputs": []
    },
    {
      "cell_type": "code",
      "metadata": {
        "id": "eAEE7esCQgUO"
      },
      "source": [
        "def count_parameters(model):\n",
        "    params = [p.numel() for p in model.parameters() if p.requires_grad]\n",
        "    for item in params:\n",
        "        print(f'{item:>6}')\n",
        "    print(f'______\\n{sum(params):>6}')"
      ],
      "execution_count": null,
      "outputs": []
    },
    {
      "cell_type": "code",
      "metadata": {
        "id": "2dvtzJLBQgUP",
        "colab": {
          "base_uri": "https://localhost:8080/"
        },
        "outputId": "57bfb9aa-648a-4562-9863-759f7f63c5a0"
      },
      "source": [
        "count_parameters(modelAdam)"
      ],
      "execution_count": null,
      "outputs": [
        {
          "output_type": "stream",
          "text": [
            "200704\n",
            "   256\n",
            " 32768\n",
            "   128\n",
            "  8192\n",
            "    64\n",
            "  2048\n",
            "    32\n",
            "   320\n",
            "    10\n",
            "______\n",
            "244522\n"
          ],
          "name": "stdout"
        }
      ]
    },
    {
      "cell_type": "code",
      "metadata": {
        "colab": {
          "base_uri": "https://localhost:8080/"
        },
        "id": "gTrGJANVXWvw",
        "outputId": "241aced8-641a-444a-e8ed-3bac42d972cf"
      },
      "source": [
        "train_losses,train_correct,test_losses,test_correct = train_loss_accuracy(train_loader,modelAdam)"
      ],
      "execution_count": null,
      "outputs": [
        {
          "output_type": "stream",
          "text": [
            "epoch:  0  batch:  200 [ 20000/49000]  loss: 0.54638976    accuracy:  75.785%\n",
            "epoch:  0  batch:  400 [ 40000/49000]  loss: 0.16015981    accuracy:  83.195%\n",
            "epoch:  1  batch:  200 [ 20000/49000]  loss: 0.17800318    accuracy:  94.180%\n",
            "epoch:  1  batch:  400 [ 40000/49000]  loss: 0.11839499    accuracy:  94.530%\n",
            "epoch:  2  batch:  200 [ 20000/49000]  loss: 0.04056558    accuracy:  96.210%\n",
            "epoch:  2  batch:  400 [ 40000/49000]  loss: 0.09582682    accuracy:  96.338%\n",
            "epoch:  3  batch:  200 [ 20000/49000]  loss: 0.05963653    accuracy:  97.360%\n",
            "epoch:  3  batch:  400 [ 40000/49000]  loss: 0.29221302    accuracy:  97.375%\n",
            "epoch:  4  batch:  200 [ 20000/49000]  loss: 0.04916584    accuracy:  97.965%\n",
            "epoch:  4  batch:  400 [ 40000/49000]  loss: 0.07079864    accuracy:  98.002%\n",
            "epoch:  5  batch:  200 [ 20000/49000]  loss: 0.03407855    accuracy:  98.490%\n",
            "epoch:  5  batch:  400 [ 40000/49000]  loss: 0.01872159    accuracy:  98.355%\n",
            "epoch:  6  batch:  200 [ 20000/49000]  loss: 0.06621452    accuracy:  98.755%\n",
            "epoch:  6  batch:  400 [ 40000/49000]  loss: 0.06416468    accuracy:  98.740%\n",
            "epoch:  7  batch:  200 [ 20000/49000]  loss: 0.02397049    accuracy:  98.955%\n",
            "epoch:  7  batch:  400 [ 40000/49000]  loss: 0.01747379    accuracy:  98.968%\n",
            "epoch:  8  batch:  200 [ 20000/49000]  loss: 0.01907124    accuracy:  99.045%\n",
            "epoch:  8  batch:  400 [ 40000/49000]  loss: 0.01138176    accuracy:  99.017%\n",
            "epoch:  9  batch:  200 [ 20000/49000]  loss: 0.00449039    accuracy:  99.380%\n",
            "epoch:  9  batch:  400 [ 40000/49000]  loss: 0.00882085    accuracy:  99.295%\n",
            "\n",
            "Duration: 87 seconds\n"
          ],
          "name": "stdout"
        }
      ]
    },
    {
      "cell_type": "code",
      "metadata": {
        "colab": {
          "base_uri": "https://localhost:8080/",
          "height": 545
        },
        "id": "6ssUiDnUu0fD",
        "outputId": "6c916bfd-f721-4926-a4b4-410334564d85"
      },
      "source": [
        "plot_loss(train_losses,test_losses)"
      ],
      "execution_count": null,
      "outputs": [
        {
          "output_type": "display_data",
          "data": {
            "image/png": "[encoded data removed]",
            "text/plain": [
              "<Figure size 432x288 with 1 Axes>"
            ]
          },
          "metadata": {
            "tags": [],
            "needs_background": "light"
          }
        },
        {
          "output_type": "display_data",
          "data": {
            "image/png": "[encoded data removed]",
            "text/plain": [
              "<Figure size 432x288 with 1 Axes>"
            ]
          },
          "metadata": {
            "tags": [],
            "needs_background": "light"
          }
        }
      ]
    },
    {
      "cell_type": "code",
      "metadata": {
        "colab": {
          "base_uri": "https://localhost:8080/",
          "height": 545
        },
        "id": "65NO40LWXrp4",
        "outputId": "2384e316-4d64-4735-ed2d-fada4acf59dc"
      },
      "source": [
        "plot_accuracy(train_correct,test_correct)"
      ],
      "execution_count": null,
      "outputs": [
        {
          "output_type": "display_data",
          "data": {
            "image/png": "[encoded data removed]",
            "text/plain": [
              "<Figure size 432x288 with 1 Axes>"
            ]
          },
          "metadata": {
            "tags": [],
            "needs_background": "light"
          }
        },
        {
          "output_type": "display_data",
          "data": {
            "image/png": "[encoded data removed]",
            "text/plain": [
              "<Figure size 432x288 with 1 Axes>"
            ]
          },
          "metadata": {
            "tags": [],
            "needs_background": "light"
          }
        }
      ]
    },
    {
      "cell_type": "code",
      "metadata": {
        "colab": {
          "base_uri": "https://localhost:8080/"
        },
        "id": "-wrLEnv5bxHI",
        "outputId": "7c1fca1a-f85b-424a-cc14-f0ba70eeb3f0"
      },
      "source": [
        "(test_accuracy,test_loss)=test_loss_accuracy(test_data,modelAdam)"
      ],
      "execution_count": null,
      "outputs": [
        {
          "output_type": "stream",
          "text": [
            "Test accuracy: 20469/21000 =  97.471%\n"
          ],
          "name": "stdout"
        }
      ]
    },
    {
      "cell_type": "code",
      "metadata": {
        "colab": {
          "base_uri": "https://localhost:8080/"
        },
        "id": "xOry_ZW_bEhN",
        "outputId": "3ecb146e-cda0-403a-c384-93728b8563e5"
      },
      "source": [
        "test_accuracy"
      ],
      "execution_count": null,
      "outputs": [
        {
          "output_type": "execute_result",
          "data": {
            "text/plain": [
              "97.47142857142858"
            ]
          },
          "metadata": {
            "tags": []
          },
          "execution_count": 215
        }
      ]
    },
    {
      "cell_type": "code",
      "metadata": {
        "colab": {
          "base_uri": "https://localhost:8080/"
        },
        "id": "-I0oSHH4gIDz",
        "outputId": "f2bb6055-c101-4c66-f3cd-18b85910ee18"
      },
      "source": [
        "losses=[i.item() for i in test_loss]\n",
        "loss_term=np.mean(np.array(losses))\n",
        "print('Test loss: {}'.format(loss_term))"
      ],
      "execution_count": null,
      "outputs": [
        {
          "output_type": "stream",
          "text": [
            "Test loss: 0.10777304321527481\n"
          ],
          "name": "stdout"
        }
      ]
    },
    {
      "cell_type": "code",
      "metadata": {
        "id": "Y0M_2crTX93T"
      },
      "source": [
        "test_accuracies.append(test_accuracy)\n",
        "test_losses_terms.append(loss_term)"
      ],
      "execution_count": null,
      "outputs": []
    },
    {
      "cell_type": "markdown",
      "metadata": {
        "id": "XpBw6t4cbZ1U"
      },
      "source": [
        "### RMSProp optimizer"
      ]
    },
    {
      "cell_type": "code",
      "metadata": {
        "colab": {
          "base_uri": "https://localhost:8080/"
        },
        "id": "-aXAsWyKbjnw",
        "outputId": "e972b0f5-77e9-4c06-aa42-d2b1ad46c089"
      },
      "source": [
        "torch.manual_seed(101)\n",
        "modelRMS = MultilayerPerceptron()\n",
        "modelRMS"
      ],
      "execution_count": null,
      "outputs": [
        {
          "output_type": "execute_result",
          "data": {
            "text/plain": [
              "MultilayerPerceptron(\n",
              "  (fc1): Linear(in_features=784, out_features=256, bias=True)\n",
              "  (fc2): Linear(in_features=256, out_features=128, bias=True)\n",
              "  (fc3): Linear(in_features=128, out_features=64, bias=True)\n",
              "  (fc4): Linear(in_features=64, out_features=32, bias=True)\n",
              "  (fc5): Linear(in_features=32, out_features=10, bias=True)\n",
              ")"
            ]
          },
          "metadata": {
            "tags": []
          },
          "execution_count": 25
        }
      ]
    },
    {
      "cell_type": "code",
      "metadata": {
        "id": "Os04PKfrbjnz"
      },
      "source": [
        "criterion = nn.CrossEntropyLoss()\n",
        "optimizer = torch.optim.RMSprop(modelRMS.parameters(), lr=0.001)"
      ],
      "execution_count": null,
      "outputs": []
    },
    {
      "cell_type": "code",
      "metadata": {
        "id": "PDrxh4Yzbjn0"
      },
      "source": [
        "def count_parameters(model):\n",
        "    params = [p.numel() for p in model.parameters() if p.requires_grad]\n",
        "    for item in params:\n",
        "        print(f'{item:>6}')\n",
        "    print(f'______\\n{sum(params):>6}')"
      ],
      "execution_count": null,
      "outputs": []
    },
    {
      "cell_type": "code",
      "metadata": {
        "colab": {
          "base_uri": "https://localhost:8080/"
        },
        "id": "8n9cFZ03bjn1",
        "outputId": "633b818b-756b-4136-e842-91eb9f1476ba"
      },
      "source": [
        "count_parameters(modelRMS)"
      ],
      "execution_count": null,
      "outputs": [
        {
          "output_type": "stream",
          "text": [
            "200704\n",
            "   256\n",
            " 32768\n",
            "   128\n",
            "  8192\n",
            "    64\n",
            "  2048\n",
            "    32\n",
            "   320\n",
            "    10\n",
            "______\n",
            "244522\n"
          ],
          "name": "stdout"
        }
      ]
    },
    {
      "cell_type": "code",
      "metadata": {
        "colab": {
          "base_uri": "https://localhost:8080/"
        },
        "id": "5ru7RPsPbjn2",
        "outputId": "7805359f-a379-469a-e5d5-3c361727d9c7"
      },
      "source": [
        "train_losses,train_correct,test_losses,test_correct = train_loss_accuracy(train_loader,modelRMS)"
      ],
      "execution_count": null,
      "outputs": [
        {
          "output_type": "stream",
          "text": [
            "epoch:  0  batch:  200 [ 20000/49000]  loss: 0.39139628    accuracy:  79.735%\n",
            "epoch:  0  batch:  400 [ 40000/49000]  loss: 0.13674583    accuracy:  86.155%\n",
            "epoch:  1  batch:  200 [ 20000/49000]  loss: 0.13869113    accuracy:  95.305%\n",
            "epoch:  1  batch:  400 [ 40000/49000]  loss: 0.09425397    accuracy:  95.532%\n",
            "epoch:  2  batch:  200 [ 20000/49000]  loss: 0.04789856    accuracy:  96.825%\n",
            "epoch:  2  batch:  400 [ 40000/49000]  loss: 0.04314962    accuracy:  97.040%\n",
            "epoch:  3  batch:  200 [ 20000/49000]  loss: 0.07141519    accuracy:  97.675%\n",
            "epoch:  3  batch:  400 [ 40000/49000]  loss: 0.14505953    accuracy:  97.722%\n",
            "epoch:  4  batch:  200 [ 20000/49000]  loss: 0.02542600    accuracy:  98.510%\n",
            "epoch:  4  batch:  400 [ 40000/49000]  loss: 0.11768746    accuracy:  98.382%\n",
            "epoch:  5  batch:  200 [ 20000/49000]  loss: 0.04473504    accuracy:  98.765%\n",
            "epoch:  5  batch:  400 [ 40000/49000]  loss: 0.00254129    accuracy:  98.683%\n",
            "epoch:  6  batch:  200 [ 20000/49000]  loss: 0.02188082    accuracy:  99.015%\n",
            "epoch:  6  batch:  400 [ 40000/49000]  loss: 0.02210502    accuracy:  99.005%\n",
            "epoch:  7  batch:  200 [ 20000/49000]  loss: 0.02432390    accuracy:  99.315%\n",
            "epoch:  7  batch:  400 [ 40000/49000]  loss: 0.00595685    accuracy:  99.215%\n",
            "epoch:  8  batch:  200 [ 20000/49000]  loss: 0.01401598    accuracy:  99.370%\n",
            "epoch:  8  batch:  400 [ 40000/49000]  loss: 0.00184195    accuracy:  99.280%\n",
            "epoch:  9  batch:  200 [ 20000/49000]  loss: 0.00028055    accuracy:  99.605%\n",
            "epoch:  9  batch:  400 [ 40000/49000]  loss: 0.00241226    accuracy:  99.460%\n",
            "\n",
            "Duration: 81 seconds\n"
          ],
          "name": "stdout"
        }
      ]
    },
    {
      "cell_type": "code",
      "metadata": {
        "colab": {
          "base_uri": "https://localhost:8080/",
          "height": 281
        },
        "id": "8RlOcN-Kbjn3",
        "outputId": "3f0c9c93-7ad1-4483-8379-25db790323c9"
      },
      "source": [
        "plot_loss(train_losses,test_losses)"
      ],
      "execution_count": null,
      "outputs": [
        {
          "output_type": "display_data",
          "data": {
            "image/png": "[encoded data removed]",
            "text/plain": [
              "<Figure size 432x288 with 1 Axes>"
            ]
          },
          "metadata": {
            "tags": [],
            "needs_background": "light"
          }
        }
      ]
    },
    {
      "cell_type": "code",
      "metadata": {
        "colab": {
          "base_uri": "https://localhost:8080/",
          "height": 281
        },
        "id": "wa2HN60lbjn4",
        "outputId": "31ae09c4-f4b6-46c8-eed1-537bdb7879c3"
      },
      "source": [
        "plot_accuracy(train_correct,test_correct)"
      ],
      "execution_count": null,
      "outputs": [
        {
          "output_type": "display_data",
          "data": {
            "image/png": "[encoded data removed]",
            "text/plain": [
              "<Figure size 432x288 with 1 Axes>"
            ]
          },
          "metadata": {
            "tags": [],
            "needs_background": "light"
          }
        }
      ]
    },
    {
      "cell_type": "code",
      "metadata": {
        "colab": {
          "base_uri": "https://localhost:8080/"
        },
        "id": "15FlHMO0bjn5",
        "outputId": "3695ec83-d871-43d7-fe3f-3cf4e90f883f"
      },
      "source": [
        "(test_accuracy,test_loss)=test_loss_accuracy(test_data,modelRMS)"
      ],
      "execution_count": null,
      "outputs": [
        {
          "output_type": "stream",
          "text": [
            "Test accuracy: 20558/21000 =  97.895%\n"
          ],
          "name": "stdout"
        }
      ]
    },
    {
      "cell_type": "code",
      "metadata": {
        "colab": {
          "base_uri": "https://localhost:8080/"
        },
        "id": "bpsEdsj2bjn6",
        "outputId": "2dae4b79-3fb6-4094-9ac0-ad32869f227f"
      },
      "source": [
        "test_accuracy"
      ],
      "execution_count": null,
      "outputs": [
        {
          "output_type": "execute_result",
          "data": {
            "text/plain": [
              "97.8952380952381"
            ]
          },
          "metadata": {
            "tags": []
          },
          "execution_count": 266
        }
      ]
    },
    {
      "cell_type": "code",
      "metadata": {
        "colab": {
          "base_uri": "https://localhost:8080/"
        },
        "id": "mIVChHFDbjn7",
        "outputId": "064f45fa-5de0-4a8d-ab60-b3add6c774a4"
      },
      "source": [
        "losses=[i.item() for i in test_loss]\n",
        "loss_term=np.mean(np.array(losses))\n",
        "print('Test loss: {}'.format(loss_term))"
      ],
      "execution_count": null,
      "outputs": [
        {
          "output_type": "stream",
          "text": [
            "Test loss: 0.09146009385585785\n"
          ],
          "name": "stdout"
        }
      ]
    },
    {
      "cell_type": "code",
      "metadata": {
        "id": "ntcg1Aecbjn8"
      },
      "source": [
        "test_accuracies.append(test_accuracy)\n",
        "test_losses_terms.append(loss_term)"
      ],
      "execution_count": null,
      "outputs": []
    },
    {
      "cell_type": "code",
      "metadata": {
        "id": "O8LyVXrHscBm"
      },
      "source": [
        "torch.save(modelRMS.state_dict(), 'RMSProp-Best-Model.pt')"
      ],
      "execution_count": null,
      "outputs": []
    },
    {
      "cell_type": "markdown",
      "metadata": {
        "id": "Rjg4o7zobyFL"
      },
      "source": [
        "### SGD with  no Momentum"
      ]
    },
    {
      "cell_type": "code",
      "metadata": {
        "colab": {
          "base_uri": "https://localhost:8080/"
        },
        "id": "HV02HUH0cfmH",
        "outputId": "853a0a6d-c633-4acf-e87a-3518f91d1d96"
      },
      "source": [
        "torch.manual_seed(101)\n",
        "modelSGD = MultilayerPerceptron()\n",
        "modelSGD"
      ],
      "execution_count": null,
      "outputs": [
        {
          "output_type": "execute_result",
          "data": {
            "text/plain": [
              "MultilayerPerceptron(\n",
              "  (fc1): Linear(in_features=784, out_features=256, bias=True)\n",
              "  (fc2): Linear(in_features=256, out_features=128, bias=True)\n",
              "  (fc3): Linear(in_features=128, out_features=64, bias=True)\n",
              "  (fc4): Linear(in_features=64, out_features=32, bias=True)\n",
              "  (fc5): Linear(in_features=32, out_features=10, bias=True)\n",
              ")"
            ]
          },
          "metadata": {
            "tags": []
          },
          "execution_count": 189
        }
      ]
    },
    {
      "cell_type": "code",
      "metadata": {
        "id": "yy7ICW4ScfmU"
      },
      "source": [
        "criterion = nn.CrossEntropyLoss()\n",
        "optimizer = torch.optim.SGD(modelSGD.parameters(), lr=0.01,momentum=0)"
      ],
      "execution_count": null,
      "outputs": []
    },
    {
      "cell_type": "code",
      "metadata": {
        "id": "vmipoAvAcfmV"
      },
      "source": [
        "def count_parameters(model):\n",
        "    params = [p.numel() for p in model.parameters() if p.requires_grad]\n",
        "    for item in params:\n",
        "        print(f'{item:>6}')\n",
        "    print(f'______\\n{sum(params):>6}')"
      ],
      "execution_count": null,
      "outputs": []
    },
    {
      "cell_type": "code",
      "metadata": {
        "colab": {
          "base_uri": "https://localhost:8080/"
        },
        "id": "uZf4hwSPcfmW",
        "outputId": "916be841-8504-45f8-d5e2-68044a1dbb89"
      },
      "source": [
        "count_parameters(modelSGD)"
      ],
      "execution_count": null,
      "outputs": [
        {
          "output_type": "stream",
          "text": [
            "200704\n",
            "   256\n",
            " 32768\n",
            "   128\n",
            "  8192\n",
            "    64\n",
            "  2048\n",
            "    32\n",
            "   320\n",
            "    10\n",
            "______\n",
            "244522\n"
          ],
          "name": "stdout"
        }
      ]
    },
    {
      "cell_type": "code",
      "metadata": {
        "colab": {
          "base_uri": "https://localhost:8080/"
        },
        "id": "K_QGE3HWcfmY",
        "outputId": "fa35e6a1-f78f-4cb4-e549-39375368862b"
      },
      "source": [
        "train_losses,train_correct,test_losses,test_correct = train_loss_accuracy(train_loader,modelSGD)"
      ],
      "execution_count": null,
      "outputs": [
        {
          "output_type": "stream",
          "text": [
            "epoch:  0  batch:  200 [ 20000/49000]  loss: 2.31428289    accuracy:  11.345%\n",
            "epoch:  0  batch:  400 [ 40000/49000]  loss: 2.29882145    accuracy:  11.203%\n",
            "epoch:  1  batch:  200 [ 20000/49000]  loss: 2.28122592    accuracy:  11.475%\n",
            "epoch:  1  batch:  400 [ 40000/49000]  loss: 2.28698850    accuracy:  11.547%\n",
            "epoch:  2  batch:  200 [ 20000/49000]  loss: 2.25974941    accuracy:  16.990%\n",
            "epoch:  2  batch:  400 [ 40000/49000]  loss: 2.23086643    accuracy:  20.570%\n",
            "epoch:  3  batch:  200 [ 20000/49000]  loss: 2.09267068    accuracy:  28.095%\n",
            "epoch:  3  batch:  400 [ 40000/49000]  loss: 1.86578929    accuracy:  27.872%\n",
            "epoch:  4  batch:  200 [ 20000/49000]  loss: 1.41147268    accuracy:  45.975%\n",
            "epoch:  4  batch:  400 [ 40000/49000]  loss: 1.12040067    accuracy:  51.562%\n",
            "epoch:  5  batch:  200 [ 20000/49000]  loss: 1.01646996    accuracy:  70.655%\n",
            "epoch:  5  batch:  400 [ 40000/49000]  loss: 0.61306292    accuracy:  73.655%\n",
            "epoch:  6  batch:  200 [ 20000/49000]  loss: 0.57477456    accuracy:  80.980%\n",
            "epoch:  6  batch:  400 [ 40000/49000]  loss: 0.58166116    accuracy:  81.730%\n",
            "epoch:  7  batch:  200 [ 20000/49000]  loss: 0.43586090    accuracy:  84.420%\n",
            "epoch:  7  batch:  400 [ 40000/49000]  loss: 0.48157874    accuracy:  84.597%\n",
            "epoch:  8  batch:  200 [ 20000/49000]  loss: 0.43022460    accuracy:  85.705%\n",
            "epoch:  8  batch:  400 [ 40000/49000]  loss: 0.35261962    accuracy:  86.377%\n",
            "epoch:  9  batch:  200 [ 20000/49000]  loss: 0.38124904    accuracy:  87.325%\n",
            "epoch:  9  batch:  400 [ 40000/49000]  loss: 0.44521484    accuracy:  87.642%\n",
            "\n",
            "Duration: 73 seconds\n"
          ],
          "name": "stdout"
        }
      ]
    },
    {
      "cell_type": "code",
      "metadata": {
        "colab": {
          "base_uri": "https://localhost:8080/",
          "height": 281
        },
        "id": "J2IkkkjNcfmZ",
        "outputId": "48d4af82-6206-48bb-f74a-8c8f7bd53b29"
      },
      "source": [
        "plot_loss(train_losses,test_losses)"
      ],
      "execution_count": null,
      "outputs": [
        {
          "output_type": "display_data",
          "data": {
            "image/png": "[encoded data removed]",
            "text/plain": [
              "<Figure size 432x288 with 1 Axes>"
            ]
          },
          "metadata": {
            "tags": [],
            "needs_background": "light"
          }
        }
      ]
    },
    {
      "cell_type": "code",
      "metadata": {
        "colab": {
          "base_uri": "https://localhost:8080/",
          "height": 281
        },
        "id": "9THRJ6RBcfma",
        "outputId": "647044da-33b4-4732-9f86-c3c8e60b1d9a"
      },
      "source": [
        "plot_accuracy(train_correct,test_correct)"
      ],
      "execution_count": null,
      "outputs": [
        {
          "output_type": "display_data",
          "data": {
            "image/png": "[encoded data removed]",
            "text/plain": [
              "<Figure size 432x288 with 1 Axes>"
            ]
          },
          "metadata": {
            "tags": [],
            "needs_background": "light"
          }
        }
      ]
    },
    {
      "cell_type": "code",
      "metadata": {
        "colab": {
          "base_uri": "https://localhost:8080/"
        },
        "id": "pTBoHiEScfmb",
        "outputId": "e82b81da-3ac6-4d61-bf9f-1b9e2a3b9171"
      },
      "source": [
        "(test_accuracy,test_loss)=test_loss_accuracy(test_data,modelSGD)"
      ],
      "execution_count": null,
      "outputs": [
        {
          "output_type": "stream",
          "text": [
            "Test accuracy: 18411/21000 =  87.671%\n"
          ],
          "name": "stdout"
        }
      ]
    },
    {
      "cell_type": "code",
      "metadata": {
        "colab": {
          "base_uri": "https://localhost:8080/"
        },
        "id": "NGEKwC_Bcfmd",
        "outputId": "ed68e4d0-ef98-477a-f53f-b7f2471297ec"
      },
      "source": [
        "test_accuracy\n"
      ],
      "execution_count": null,
      "outputs": [
        {
          "output_type": "execute_result",
          "data": {
            "text/plain": [
              "87.67142857142858"
            ]
          },
          "metadata": {
            "tags": []
          },
          "execution_count": 223
        }
      ]
    },
    {
      "cell_type": "code",
      "metadata": {
        "colab": {
          "base_uri": "https://localhost:8080/"
        },
        "id": "Tuo5b81ZkQqj",
        "outputId": "acbda10c-3752-4d48-8fac-6bb2399bd18d"
      },
      "source": [
        "losses=[i.item() for i in test_loss]\n",
        "loss_term=np.mean(np.array(losses))\n",
        "print('Test loss: {}'.format(loss_term))"
      ],
      "execution_count": null,
      "outputs": [
        {
          "output_type": "stream",
          "text": [
            "Test loss: 0.43271884322166443\n"
          ],
          "name": "stdout"
        }
      ]
    },
    {
      "cell_type": "code",
      "metadata": {
        "id": "p-8-OdahkQqs"
      },
      "source": [
        "test_accuracies.append(test_accuracy)\n",
        "test_losses_terms.append(loss_term)"
      ],
      "execution_count": null,
      "outputs": []
    },
    {
      "cell_type": "markdown",
      "metadata": {
        "id": "4o87hTQ2cwvW"
      },
      "source": [
        "### SGD with Momentum"
      ]
    },
    {
      "cell_type": "code",
      "metadata": {
        "colab": {
          "base_uri": "https://localhost:8080/"
        },
        "id": "Yg4niqijczh2",
        "outputId": "e724ad97-fb22-4ba3-a3d5-db38bc6ff845"
      },
      "source": [
        "torch.manual_seed(101)\n",
        "modelSGD = MultilayerPerceptron()\n",
        "modelSGD"
      ],
      "execution_count": null,
      "outputs": [
        {
          "output_type": "execute_result",
          "data": {
            "text/plain": [
              "MultilayerPerceptron(\n",
              "  (fc1): Linear(in_features=784, out_features=256, bias=True)\n",
              "  (fc2): Linear(in_features=256, out_features=128, bias=True)\n",
              "  (fc3): Linear(in_features=128, out_features=64, bias=True)\n",
              "  (fc4): Linear(in_features=64, out_features=32, bias=True)\n",
              "  (fc5): Linear(in_features=32, out_features=10, bias=True)\n",
              ")"
            ]
          },
          "metadata": {
            "tags": []
          },
          "execution_count": 226
        }
      ]
    },
    {
      "cell_type": "code",
      "metadata": {
        "id": "WnWLfR7Nczh5"
      },
      "source": [
        "criterion = nn.CrossEntropyLoss()\n",
        "optimizer = torch.optim.SGD(modelSGD.parameters(), lr=0.001,momentum=0.9)"
      ],
      "execution_count": null,
      "outputs": []
    },
    {
      "cell_type": "code",
      "metadata": {
        "id": "HstXNk4Cczh6"
      },
      "source": [
        "def count_parameters(model):\n",
        "    params = [p.numel() for p in model.parameters() if p.requires_grad]\n",
        "    for item in params:\n",
        "        print(f'{item:>6}')\n",
        "    print(f'______\\n{sum(params):>6}')"
      ],
      "execution_count": null,
      "outputs": []
    },
    {
      "cell_type": "code",
      "metadata": {
        "colab": {
          "base_uri": "https://localhost:8080/"
        },
        "id": "qtQ2vZWFczh7",
        "outputId": "0fa147b9-121f-4ae7-d70e-e6a0190da6ca"
      },
      "source": [
        "count_parameters(modelSGD)"
      ],
      "execution_count": null,
      "outputs": [
        {
          "output_type": "stream",
          "text": [
            "200704\n",
            "   256\n",
            " 32768\n",
            "   128\n",
            "  8192\n",
            "    64\n",
            "  2048\n",
            "    32\n",
            "   320\n",
            "    10\n",
            "______\n",
            "244522\n"
          ],
          "name": "stdout"
        }
      ]
    },
    {
      "cell_type": "code",
      "metadata": {
        "colab": {
          "base_uri": "https://localhost:8080/"
        },
        "id": "P_08wxWlczh8",
        "outputId": "b54abb5e-687a-460e-8c94-c4a5e5f9b62e"
      },
      "source": [
        "train_losses,train_correct,test_losses,test_correct = train_loss_accuracy(train_loader,modelSGD)"
      ],
      "execution_count": null,
      "outputs": [
        {
          "output_type": "stream",
          "text": [
            "epoch:  0  batch:  200 [ 20000/49000]  loss: 2.31456232    accuracy:  11.320%\n",
            "epoch:  0  batch:  400 [ 40000/49000]  loss: 2.29907727    accuracy:  11.190%\n",
            "epoch:  1  batch:  200 [ 20000/49000]  loss: 2.28193521    accuracy:  11.475%\n",
            "epoch:  1  batch:  400 [ 40000/49000]  loss: 2.28799295    accuracy:  11.438%\n",
            "epoch:  2  batch:  200 [ 20000/49000]  loss: 2.26274514    accuracy:  15.810%\n",
            "epoch:  2  batch:  400 [ 40000/49000]  loss: 2.23734808    accuracy:  19.360%\n",
            "epoch:  3  batch:  200 [ 20000/49000]  loss: 2.12873864    accuracy:  28.225%\n",
            "epoch:  3  batch:  400 [ 40000/49000]  loss: 1.91130555    accuracy:  27.785%\n",
            "epoch:  4  batch:  200 [ 20000/49000]  loss: 1.49338007    accuracy:  42.615%\n",
            "epoch:  4  batch:  400 [ 40000/49000]  loss: 1.17006767    accuracy:  48.513%\n",
            "epoch:  5  batch:  200 [ 20000/49000]  loss: 1.08946097    accuracy:  68.240%\n",
            "epoch:  5  batch:  400 [ 40000/49000]  loss: 0.64597952    accuracy:  71.935%\n",
            "epoch:  6  batch:  200 [ 20000/49000]  loss: 0.59020829    accuracy:  80.420%\n",
            "epoch:  6  batch:  400 [ 40000/49000]  loss: 0.59488416    accuracy:  81.200%\n",
            "epoch:  7  batch:  200 [ 20000/49000]  loss: 0.45068309    accuracy:  83.995%\n",
            "epoch:  7  batch:  400 [ 40000/49000]  loss: 0.48990014    accuracy:  84.257%\n",
            "epoch:  8  batch:  200 [ 20000/49000]  loss: 0.42031762    accuracy:  85.380%\n",
            "epoch:  8  batch:  400 [ 40000/49000]  loss: 0.35525048    accuracy:  86.082%\n",
            "epoch:  9  batch:  200 [ 20000/49000]  loss: 0.39054593    accuracy:  87.375%\n",
            "epoch:  9  batch:  400 [ 40000/49000]  loss: 0.44166902    accuracy:  87.603%\n",
            "\n",
            "Duration: 79 seconds\n"
          ],
          "name": "stdout"
        }
      ]
    },
    {
      "cell_type": "code",
      "metadata": {
        "colab": {
          "base_uri": "https://localhost:8080/",
          "height": 281
        },
        "id": "bdS2yTOFczh-",
        "outputId": "194ec7a6-5da6-4415-9bd5-d00677c2dbcf"
      },
      "source": [
        "plot_loss(train_losses,test_losses)"
      ],
      "execution_count": null,
      "outputs": [
        {
          "output_type": "display_data",
          "data": {
            "image/png": "[encoded data removed]",
            "text/plain": [
              "<Figure size 432x288 with 1 Axes>"
            ]
          },
          "metadata": {
            "tags": [],
            "needs_background": "light"
          }
        }
      ]
    },
    {
      "cell_type": "code",
      "metadata": {
        "colab": {
          "base_uri": "https://localhost:8080/",
          "height": 281
        },
        "id": "wcPPs74Cczh_",
        "outputId": "1e3ad62f-133d-4d01-9476-deb0462d2bf5"
      },
      "source": [
        "plot_accuracy(train_correct,test_correct)"
      ],
      "execution_count": null,
      "outputs": [
        {
          "output_type": "display_data",
          "data": {
            "image/png": "[encoded data removed]",
            "text/plain": [
              "<Figure size 432x288 with 1 Axes>"
            ]
          },
          "metadata": {
            "tags": [],
            "needs_background": "light"
          }
        }
      ]
    },
    {
      "cell_type": "code",
      "metadata": {
        "colab": {
          "base_uri": "https://localhost:8080/"
        },
        "id": "3XQ5BOPucziA",
        "outputId": "6f34d9d2-4548-487f-b1fe-104d50df8efe"
      },
      "source": [
        "(test_accuracy,test_loss)=test_loss_accuracy(test_data,modelSGD)"
      ],
      "execution_count": null,
      "outputs": [
        {
          "output_type": "stream",
          "text": [
            "Test accuracy: 18411/21000 =  87.671%\n"
          ],
          "name": "stdout"
        }
      ]
    },
    {
      "cell_type": "code",
      "metadata": {
        "colab": {
          "base_uri": "https://localhost:8080/"
        },
        "id": "5V84_swZcziF",
        "outputId": "d30cc5b6-d316-43d4-aec8-ddae249d91cd"
      },
      "source": [
        "test_accuracy"
      ],
      "execution_count": null,
      "outputs": [
        {
          "output_type": "execute_result",
          "data": {
            "text/plain": [
              "87.67142857142858"
            ]
          },
          "metadata": {
            "tags": []
          },
          "execution_count": 234
        }
      ]
    },
    {
      "cell_type": "code",
      "metadata": {
        "colab": {
          "base_uri": "https://localhost:8080/"
        },
        "id": "7Ujtw5SHkT8L",
        "outputId": "522ceaa5-e6cc-4f6a-a6a3-5d62d48ab27b"
      },
      "source": [
        "losses=[i.item() for i in test_loss]\n",
        "loss_term=np.mean(np.array(losses))\n",
        "print('Test loss: {}'.format(loss_term))"
      ],
      "execution_count": null,
      "outputs": [
        {
          "output_type": "stream",
          "text": [
            "Test loss: 0.43271884322166443\n"
          ],
          "name": "stdout"
        }
      ]
    },
    {
      "cell_type": "code",
      "metadata": {
        "id": "AoF_kz_NkT8N"
      },
      "source": [
        "test_accuracies.append(test_accuracy)\n",
        "test_losses_terms.append(loss_term)"
      ],
      "execution_count": null,
      "outputs": []
    },
    {
      "cell_type": "code",
      "metadata": {
        "colab": {
          "base_uri": "https://localhost:8080/"
        },
        "id": "Y4y84abGinCe",
        "outputId": "cc95563e-2f57-454c-b6f1-752d9f0daae5"
      },
      "source": [
        "\n",
        "print(test_accuracies)\n",
        "print(test_losses_terms)"
      ],
      "execution_count": null,
      "outputs": [
        {
          "output_type": "stream",
          "text": [
            "[97.47142857142858, 97.8952380952381, 87.67142857142858, 87.67142857142858]\n",
            "[0.10777304321527481, 0.09146009385585785, 0.43271884322166443, 0.43271884322166443]\n"
          ],
          "name": "stdout"
        }
      ]
    },
    {
      "cell_type": "markdown",
      "metadata": {
        "id": "1PNPWAIsdJyz"
      },
      "source": [
        "### Graphs comparing the losses and accuracies of test data"
      ]
    },
    {
      "cell_type": "code",
      "metadata": {
        "id": "_IoNaWq2dIV_"
      },
      "source": [
        "def plot_bar_graph(left,height,tick_label,score='loss',title='Loss vs optimizer'):\n",
        "  # x-coordinates of left sides of bars \n",
        " \n",
        "    \n",
        "  # plotting a bar chart\n",
        "  plt.bar(left, height, tick_label = tick_label,\n",
        "          width = 0.8, color = ['red', 'green','yellow','blue'])\n",
        "    \n",
        "  # naming the x-axis\n",
        "  plt.xlabel('Optimizers')\n",
        "  # naming the y-axis\n",
        "  plt.ylabel(score)\n",
        "  # plot title\n",
        "  plt.title(title)\n",
        "    \n",
        "  # function to show the plot\n",
        "  plt.show()"
      ],
      "execution_count": null,
      "outputs": []
    },
    {
      "cell_type": "code",
      "metadata": {
        "colab": {
          "base_uri": "https://localhost:8080/",
          "height": 295
        },
        "id": "KNgc_yAYdIY4",
        "outputId": "634c69cd-a07e-438c-b39c-b7b69b68a5e3"
      },
      "source": [
        "left=[1,2,3,4]\n",
        "height=test_losses_terms\n",
        "tick_label=['Adam','RMSProp','SGD-No momentum','SGD with Momentum']\n",
        "plot_bar_graph(left,height,tick_label)"
      ],
      "execution_count": null,
      "outputs": [
        {
          "output_type": "display_data",
          "data": {
            "image/png": "[encoded data removed]",
            "text/plain": [
              "<Figure size 432x288 with 1 Axes>"
            ]
          },
          "metadata": {
            "tags": [],
            "needs_background": "light"
          }
        }
      ]
    },
    {
      "cell_type": "code",
      "metadata": {
        "colab": {
          "base_uri": "https://localhost:8080/",
          "height": 295
        },
        "id": "lV6E5kMKfaYa",
        "outputId": "10a011a8-3059-4c6f-af5d-ae11b877fe78"
      },
      "source": [
        "left=[1,2,3,4]\n",
        "height=test_accuracies\n",
        "tick_label=['Adam','RMSProp','SGD-No momentum','SGD with Momentum']\n",
        "plot_bar_graph(left,height,tick_label,score='Test Accuracies',title='Test Accuracies Vs Optimizers')"
      ],
      "execution_count": null,
      "outputs": [
        {
          "output_type": "display_data",
          "data": {
            "image/png": "[encoded data removed]",
            "text/plain": [
              "<Figure size 432x288 with 1 Axes>"
            ]
          },
          "metadata": {
            "tags": [],
            "needs_background": "light"
          }
        }
      ]
    },
    {
      "cell_type": "markdown",
      "metadata": {
        "id": "z-8xtd4snkfr"
      },
      "source": [
        "## Weight Initialisations\n",
        "   We are taking the best model RMSProp and performing different weight initialisation methods "
      ]
    },
    {
      "cell_type": "markdown",
      "metadata": {
        "id": "UJzPydWMzEOG"
      },
      "source": [
        "### Defining new Models for each weight intialisation"
      ]
    },
    {
      "cell_type": "markdown",
      "metadata": {
        "id": "PXuDkygtzV1Q"
      },
      "source": [
        "### Xavier weight intialisation"
      ]
    },
    {
      "cell_type": "code",
      "metadata": {
        "id": "A2FjaB1pz4Qt"
      },
      "source": [
        "weight_accuracies=[]\n",
        "weight_losses=[]"
      ],
      "execution_count": null,
      "outputs": []
    },
    {
      "cell_type": "code",
      "metadata": {
        "id": "DS4CywOMnl3Z"
      },
      "source": [
        "class FeedForwardNetwork(nn.Module):\n",
        "    def __init__(self, in_sz=784, out_sz=10, layers=[256,128,64,32]):\n",
        "        super().__init__()\n",
        "        self.fc1 = nn.Linear(in_sz,layers[0])\n",
        "        nn.init.xavier_normal_(self.fc1.weight,gain=nn.init.calculate_gain('relu'))\n",
        "        self.fc2 = nn.Linear(layers[0],layers[1])\n",
        "        nn.init.xavier_normal_(self.fc2.weight,gain=nn.init.calculate_gain('relu'))\n",
        "        self.fc3 = nn.Linear(layers[1],layers[2])\n",
        "        nn.init.xavier_normal_(self.fc3.weight,gain=nn.init.calculate_gain('relu'))\n",
        "        self.fc4 = nn.Linear(layers[2],layers[3])\n",
        "        nn.init.xavier_normal_(self.fc4.weight,gain=nn.init.calculate_gain('relu'))\n",
        "        self.fc5 = nn.Linear(layers[3],out_sz)\n",
        "        nn.init.xavier_normal_(self.fc5.weight,gain=nn.init.calculate_gain('relu'))\n",
        "    \n",
        "    def forward(self,X):\n",
        "        X = F.relu(self.fc1(X))\n",
        "        X = F.relu(self.fc2(X))\n",
        "        X = F.relu(self.fc3(X))\n",
        "        X = F.relu(self.fc4(X))\n",
        "        X = self.fc5(X)\n",
        "        return F.log_softmax(X, dim=1)"
      ],
      "execution_count": null,
      "outputs": []
    },
    {
      "cell_type": "code",
      "metadata": {
        "colab": {
          "base_uri": "https://localhost:8080/"
        },
        "id": "AG02Ausj0DDe",
        "outputId": "c78408f3-91dc-4c9c-e129-148778d21003"
      },
      "source": [
        "torch.manual_seed(101)\n",
        "modelRMS = FeedForwardNetwork()\n",
        "modelRMS"
      ],
      "execution_count": null,
      "outputs": [
        {
          "output_type": "execute_result",
          "data": {
            "text/plain": [
              "FeedForwardNetwork(\n",
              "  (fc1): Linear(in_features=784, out_features=256, bias=True)\n",
              "  (fc2): Linear(in_features=256, out_features=128, bias=True)\n",
              "  (fc3): Linear(in_features=128, out_features=64, bias=True)\n",
              "  (fc4): Linear(in_features=64, out_features=32, bias=True)\n",
              "  (fc5): Linear(in_features=32, out_features=10, bias=True)\n",
              ")"
            ]
          },
          "metadata": {
            "tags": []
          },
          "execution_count": 359
        }
      ]
    },
    {
      "cell_type": "code",
      "metadata": {
        "id": "X1FUYWb20DDi"
      },
      "source": [
        "criterion = nn.CrossEntropyLoss()\n",
        "optimizer = torch.optim.RMSprop(modelRMS.parameters(), lr=0.001)"
      ],
      "execution_count": null,
      "outputs": []
    },
    {
      "cell_type": "code",
      "metadata": {
        "id": "HNErTTxI0DDj"
      },
      "source": [
        "def count_parameters(model):\n",
        "    params = [p.numel() for p in model.parameters() if p.requires_grad]\n",
        "    for item in params:\n",
        "        print(f'{item:>6}')\n",
        "    print(f'______\\n{sum(params):>6}')"
      ],
      "execution_count": null,
      "outputs": []
    },
    {
      "cell_type": "code",
      "metadata": {
        "colab": {
          "base_uri": "https://localhost:8080/"
        },
        "id": "y1zFpRgX0DDj",
        "outputId": "6619c0b0-2a1b-46ae-c7ab-7eddebac1648"
      },
      "source": [
        "count_parameters(modelRMS)"
      ],
      "execution_count": null,
      "outputs": [
        {
          "output_type": "stream",
          "text": [
            "200704\n",
            "   256\n",
            " 32768\n",
            "   128\n",
            "  8192\n",
            "    64\n",
            "  2048\n",
            "    32\n",
            "   320\n",
            "    10\n",
            "______\n",
            "244522\n"
          ],
          "name": "stdout"
        }
      ]
    },
    {
      "cell_type": "code",
      "metadata": {
        "colab": {
          "base_uri": "https://localhost:8080/"
        },
        "id": "Hc1LqTm40DDl",
        "outputId": "77d42cf8-6d38-451e-e8d4-b30427fa462d"
      },
      "source": [
        "train_losses,train_correct,test_losses,test_correct = train_loss_accuracy(train_loader,modelRMS)"
      ],
      "execution_count": null,
      "outputs": [
        {
          "output_type": "stream",
          "text": [
            "epoch:  0  batch:  200 [ 20000/49000]  loss: 0.22455794    accuracy:  85.780%\n",
            "epoch:  0  batch:  400 [ 40000/49000]  loss: 0.10472813    accuracy:  90.157%\n",
            "epoch:  1  batch:  200 [ 20000/49000]  loss: 0.07140334    accuracy:  96.580%\n",
            "epoch:  1  batch:  400 [ 40000/49000]  loss: 0.11799471    accuracy:  96.603%\n",
            "epoch:  2  batch:  200 [ 20000/49000]  loss: 0.14713210    accuracy:  97.900%\n",
            "epoch:  2  batch:  400 [ 40000/49000]  loss: 0.06534830    accuracy:  97.685%\n",
            "epoch:  3  batch:  200 [ 20000/49000]  loss: 0.02152938    accuracy:  98.645%\n",
            "epoch:  3  batch:  400 [ 40000/49000]  loss: 0.02235299    accuracy:  98.360%\n",
            "epoch:  4  batch:  200 [ 20000/49000]  loss: 0.03420917    accuracy:  98.875%\n",
            "epoch:  4  batch:  400 [ 40000/49000]  loss: 0.04519747    accuracy:  98.733%\n",
            "epoch:  5  batch:  200 [ 20000/49000]  loss: 0.06283142    accuracy:  99.035%\n",
            "epoch:  5  batch:  400 [ 40000/49000]  loss: 0.07785881    accuracy:  98.987%\n",
            "epoch:  6  batch:  200 [ 20000/49000]  loss: 0.00475517    accuracy:  99.115%\n",
            "epoch:  6  batch:  400 [ 40000/49000]  loss: 0.00455630    accuracy:  99.145%\n",
            "epoch:  7  batch:  200 [ 20000/49000]  loss: 0.03592516    accuracy:  99.420%\n",
            "epoch:  7  batch:  400 [ 40000/49000]  loss: 0.00286507    accuracy:  99.308%\n",
            "epoch:  8  batch:  200 [ 20000/49000]  loss: 0.00180661    accuracy:  99.320%\n",
            "epoch:  8  batch:  400 [ 40000/49000]  loss: 0.00576948    accuracy:  99.338%\n",
            "epoch:  9  batch:  200 [ 20000/49000]  loss: 0.00348571    accuracy:  99.525%\n",
            "epoch:  9  batch:  400 [ 40000/49000]  loss: 0.00408602    accuracy:  99.422%\n",
            "\n",
            "Duration: 82 seconds\n"
          ],
          "name": "stdout"
        }
      ]
    },
    {
      "cell_type": "code",
      "metadata": {
        "colab": {
          "base_uri": "https://localhost:8080/",
          "height": 281
        },
        "id": "y9Oeyy9R0DDm",
        "outputId": "85eb3385-469e-4590-f917-88d2732890fb"
      },
      "source": [
        "plot_loss(train_losses,test_losses)"
      ],
      "execution_count": null,
      "outputs": [
        {
          "output_type": "display_data",
          "data": {
            "image/png": "[encoded data removed]",
            "text/plain": [
              "<Figure size 432x288 with 1 Axes>"
            ]
          },
          "metadata": {
            "tags": [],
            "needs_background": "light"
          }
        }
      ]
    },
    {
      "cell_type": "code",
      "metadata": {
        "colab": {
          "base_uri": "https://localhost:8080/",
          "height": 281
        },
        "id": "7Mo6YHut0DDn",
        "outputId": "6f93e48e-1b39-4f60-d133-b0c8d94cdf83"
      },
      "source": [
        "plot_accuracy(train_correct,test_correct)"
      ],
      "execution_count": null,
      "outputs": [
        {
          "output_type": "display_data",
          "data": {
            "image/png": "[encoded data removed]",
            "text/plain": [
              "<Figure size 432x288 with 1 Axes>"
            ]
          },
          "metadata": {
            "tags": [],
            "needs_background": "light"
          }
        }
      ]
    },
    {
      "cell_type": "code",
      "metadata": {
        "colab": {
          "base_uri": "https://localhost:8080/"
        },
        "id": "KclWZloc0DDo",
        "outputId": "22fda84d-df31-412f-e6f1-d37b66001f74"
      },
      "source": [
        "(test_accuracy,test_loss)=test_loss_accuracy(test_data,modelRMS)"
      ],
      "execution_count": null,
      "outputs": [
        {
          "output_type": "stream",
          "text": [
            "Test accuracy: 20476/21000 =  97.505%\n"
          ],
          "name": "stdout"
        }
      ]
    },
    {
      "cell_type": "code",
      "metadata": {
        "colab": {
          "base_uri": "https://localhost:8080/"
        },
        "id": "nyRa2iVO0DDq",
        "outputId": "bb28d384-cb23-4614-a8d8-2802547437b2"
      },
      "source": [
        "test_accuracy"
      ],
      "execution_count": null,
      "outputs": [
        {
          "output_type": "execute_result",
          "data": {
            "text/plain": [
              "97.5047619047619"
            ]
          },
          "metadata": {
            "tags": []
          },
          "execution_count": 294
        }
      ]
    },
    {
      "cell_type": "code",
      "metadata": {
        "colab": {
          "base_uri": "https://localhost:8080/"
        },
        "id": "UGPb29-b0DDu",
        "outputId": "a202701c-8258-402d-919c-f646869c142a"
      },
      "source": [
        "losses=[i.item() for i in test_loss]\n",
        "loss_term=np.mean(np.array(losses))\n",
        "print('Test loss: {}'.format(loss_term))"
      ],
      "execution_count": null,
      "outputs": [
        {
          "output_type": "stream",
          "text": [
            "Test loss: 0.10998515039682388\n"
          ],
          "name": "stdout"
        }
      ]
    },
    {
      "cell_type": "code",
      "metadata": {
        "id": "HACbPGA50DDw"
      },
      "source": [
        "weight_accuracies.append(test_accuracy)\n"
      ],
      "execution_count": null,
      "outputs": []
    },
    {
      "cell_type": "code",
      "metadata": {
        "id": "zp0RxC7K0pay"
      },
      "source": [
        "weight_losses.append(loss_term)"
      ],
      "execution_count": null,
      "outputs": []
    },
    {
      "cell_type": "markdown",
      "metadata": {
        "id": "MxmcQeie0Ufh"
      },
      "source": [
        "### Uniform weight intisalization"
      ]
    },
    {
      "cell_type": "code",
      "metadata": {
        "id": "W4n-6Pw50aOo"
      },
      "source": [
        "class FeedForwardUniform(nn.Module):\n",
        "    def __init__(self, in_sz=784, out_sz=10, layers=[256,128,64,32]):\n",
        "        super().__init__()\n",
        "        self.fc1 = nn.Linear(in_sz,layers[0])\n",
        "        nn.init.uniform_(self.fc1.weight)\n",
        "        self.fc2 = nn.Linear(layers[0],layers[1])\n",
        "        nn.init.uniform_(self.fc2.weight)\n",
        "        self.fc3 = nn.Linear(layers[1],layers[2])\n",
        "        nn.init.uniform_(self.fc3.weight)\n",
        "        self.fc4 = nn.Linear(layers[2],layers[3])\n",
        "        nn.init.uniform_(self.fc4.weight)\n",
        "        self.fc5 = nn.Linear(layers[3],out_sz)\n",
        "        nn.init.uniform_(self.fc5.weight)\n",
        "    \n",
        "    def forward(self,X):\n",
        "        X = F.relu(self.fc1(X))\n",
        "        X = F.relu(self.fc2(X))\n",
        "        X = F.relu(self.fc3(X))\n",
        "        X = F.relu(self.fc4(X))\n",
        "        X = self.fc5(X)\n",
        "        return F.log_softmax(X, dim=1)"
      ],
      "execution_count": null,
      "outputs": []
    },
    {
      "cell_type": "code",
      "metadata": {
        "colab": {
          "base_uri": "https://localhost:8080/"
        },
        "id": "DsrVTmpw1Gtp",
        "outputId": "602eba54-355c-4352-99b7-67503881f649"
      },
      "source": [
        "torch.manual_seed(101)\n",
        "modelRMSUniform = FeedForwardUniform()\n",
        "modelRMSUniform"
      ],
      "execution_count": null,
      "outputs": [
        {
          "output_type": "execute_result",
          "data": {
            "text/plain": [
              "FeedForwardUniform(\n",
              "  (fc1): Linear(in_features=784, out_features=256, bias=True)\n",
              "  (fc2): Linear(in_features=256, out_features=128, bias=True)\n",
              "  (fc3): Linear(in_features=128, out_features=64, bias=True)\n",
              "  (fc4): Linear(in_features=64, out_features=32, bias=True)\n",
              "  (fc5): Linear(in_features=32, out_features=10, bias=True)\n",
              ")"
            ]
          },
          "metadata": {
            "tags": []
          },
          "execution_count": 305
        }
      ]
    },
    {
      "cell_type": "code",
      "metadata": {
        "id": "vjzopsvL1GuI"
      },
      "source": [
        "criterion = nn.CrossEntropyLoss()\n",
        "optimizer = torch.optim.RMSprop(modelRMSUniform.parameters(), lr=0.001)"
      ],
      "execution_count": null,
      "outputs": []
    },
    {
      "cell_type": "code",
      "metadata": {
        "id": "QGkCxS5O1GuI"
      },
      "source": [
        "def count_parameters(model):\n",
        "    params = [p.numel() for p in model.parameters() if p.requires_grad]\n",
        "    for item in params:\n",
        "        print(f'{item:>6}')\n",
        "    print(f'______\\n{sum(params):>6}')"
      ],
      "execution_count": null,
      "outputs": []
    },
    {
      "cell_type": "code",
      "metadata": {
        "colab": {
          "base_uri": "https://localhost:8080/"
        },
        "id": "FMGnwlaN1GuJ",
        "outputId": "0a84d233-b227-4bd1-cfce-423f44bfea46"
      },
      "source": [
        "count_parameters(modelRMSUniform)"
      ],
      "execution_count": null,
      "outputs": [
        {
          "output_type": "stream",
          "text": [
            "200704\n",
            "   256\n",
            " 32768\n",
            "   128\n",
            "  8192\n",
            "    64\n",
            "  2048\n",
            "    32\n",
            "   320\n",
            "    10\n",
            "______\n",
            "244522\n"
          ],
          "name": "stdout"
        }
      ]
    },
    {
      "cell_type": "code",
      "metadata": {
        "colab": {
          "base_uri": "https://localhost:8080/"
        },
        "id": "QrNVKLnn1GuJ",
        "outputId": "5d5f8af5-03e0-4ba5-9dfe-7af3700c9cf4"
      },
      "source": [
        "train_losses,train_correct,test_losses,test_correct = train_loss_accuracy(train_loader,modelRMSUniform)"
      ],
      "execution_count": null,
      "outputs": [
        {
          "output_type": "stream",
          "text": [
            "epoch:  0  batch:  200 [ 20000/49000]  loss: 281667.46875000    accuracy:  10.295%\n",
            "epoch:  0  batch:  400 [ 40000/49000]  loss: 398803.43750000    accuracy:  10.088%\n",
            "epoch:  1  batch:  200 [ 20000/49000]  loss: 115184.28906250    accuracy:  10.065%\n",
            "epoch:  1  batch:  400 [ 40000/49000]  loss: 8213.29980469    accuracy:  10.300%\n",
            "epoch:  2  batch:  200 [ 20000/49000]  loss: 295.23104858    accuracy:  28.365%\n",
            "epoch:  2  batch:  400 [ 40000/49000]  loss: 85.67270660    accuracy:  43.640%\n",
            "epoch:  3  batch:  200 [ 20000/49000]  loss: 9.89226723    accuracy:  75.220%\n",
            "epoch:  3  batch:  400 [ 40000/49000]  loss: 2.76257014    accuracy:  76.920%\n",
            "epoch:  4  batch:  200 [ 20000/49000]  loss: 1.60003698    accuracy:  76.155%\n",
            "epoch:  4  batch:  400 [ 40000/49000]  loss: 0.82549095    accuracy:  73.440%\n",
            "epoch:  5  batch:  200 [ 20000/49000]  loss: 1.13201153    accuracy:  69.900%\n",
            "epoch:  5  batch:  400 [ 40000/49000]  loss: 2.98792815    accuracy:  65.338%\n",
            "epoch:  6  batch:  200 [ 20000/49000]  loss: 1.56310821    accuracy:  52.300%\n",
            "epoch:  6  batch:  400 [ 40000/49000]  loss: 1.22390711    accuracy:  51.038%\n",
            "epoch:  7  batch:  200 [ 20000/49000]  loss: 1.03889287    accuracy:  58.840%\n",
            "epoch:  7  batch:  400 [ 40000/49000]  loss: 0.84370422    accuracy:  61.845%\n",
            "epoch:  8  batch:  200 [ 20000/49000]  loss: 1.24230361    accuracy:  76.755%\n",
            "epoch:  8  batch:  400 [ 40000/49000]  loss: 0.59464300    accuracy:  77.745%\n",
            "epoch:  9  batch:  200 [ 20000/49000]  loss: 1.91262865    accuracy:  82.270%\n",
            "epoch:  9  batch:  400 [ 40000/49000]  loss: 0.62183797    accuracy:  82.780%\n",
            "\n",
            "Duration: 83 seconds\n"
          ],
          "name": "stdout"
        }
      ]
    },
    {
      "cell_type": "code",
      "metadata": {
        "colab": {
          "base_uri": "https://localhost:8080/",
          "height": 281
        },
        "id": "NP9d9SiU1GuK",
        "outputId": "1dcd4aa3-d493-466f-b3e4-0961fb2c7e14"
      },
      "source": [
        "plot_loss(train_losses,test_losses)"
      ],
      "execution_count": null,
      "outputs": [
        {
          "output_type": "display_data",
          "data": {
            "image/png": "[encoded data removed]",
            "text/plain": [
              "<Figure size 432x288 with 1 Axes>"
            ]
          },
          "metadata": {
            "tags": [],
            "needs_background": "light"
          }
        }
      ]
    },
    {
      "cell_type": "code",
      "metadata": {
        "colab": {
          "base_uri": "https://localhost:8080/",
          "height": 281
        },
        "id": "CWtWWM5M1GuK",
        "outputId": "9b9682b2-b29d-460a-ddef-bc590ef42d0e"
      },
      "source": [
        "plot_accuracy(train_correct,test_correct)"
      ],
      "execution_count": null,
      "outputs": [
        {
          "output_type": "display_data",
          "data": {
            "image/png": "[encoded data removed]",
            "text/plain": [
              "<Figure size 432x288 with 1 Axes>"
            ]
          },
          "metadata": {
            "tags": [],
            "needs_background": "light"
          }
        }
      ]
    },
    {
      "cell_type": "code",
      "metadata": {
        "colab": {
          "base_uri": "https://localhost:8080/"
        },
        "id": "RKgCOqNx1GuL",
        "outputId": "179f249e-f88d-4f51-d59d-a8d923030292"
      },
      "source": [
        "(test_accuracy,test_loss)=test_loss_accuracy(test_data,modelRMSUniform)"
      ],
      "execution_count": null,
      "outputs": [
        {
          "output_type": "stream",
          "text": [
            "Test accuracy: 17591/21000 =  83.767%\n"
          ],
          "name": "stdout"
        }
      ]
    },
    {
      "cell_type": "code",
      "metadata": {
        "colab": {
          "base_uri": "https://localhost:8080/"
        },
        "id": "SKda-POU1GuL",
        "outputId": "26b7cc1d-b313-447c-b0ed-4c140f98a65c"
      },
      "source": [
        "test_accuracy"
      ],
      "execution_count": null,
      "outputs": [
        {
          "output_type": "execute_result",
          "data": {
            "text/plain": [
              "83.76666666666667"
            ]
          },
          "metadata": {
            "tags": []
          },
          "execution_count": 313
        }
      ]
    },
    {
      "cell_type": "code",
      "metadata": {
        "colab": {
          "base_uri": "https://localhost:8080/"
        },
        "id": "kTCqTzwi1GuM",
        "outputId": "224c6aa2-4b5d-4111-ea3b-cf6d83df5380"
      },
      "source": [
        "losses=[i.item() for i in test_loss]\n",
        "loss_term=np.mean(np.array(losses))\n",
        "print('Test loss: {}'.format(loss_term))"
      ],
      "execution_count": null,
      "outputs": [
        {
          "output_type": "stream",
          "text": [
            "Test loss: 0.7427265048027039\n"
          ],
          "name": "stdout"
        }
      ]
    },
    {
      "cell_type": "code",
      "metadata": {
        "id": "BpqVwQBf1GuM"
      },
      "source": [
        "weight_accuracies.append(test_accuracy)\n"
      ],
      "execution_count": null,
      "outputs": []
    },
    {
      "cell_type": "code",
      "metadata": {
        "id": "ngIOH2ta1GuM"
      },
      "source": [
        "weight_losses.append(loss_term)"
      ],
      "execution_count": null,
      "outputs": []
    },
    {
      "cell_type": "markdown",
      "metadata": {
        "id": "cFLInfwO0eX1"
      },
      "source": [
        "### Normal weight Intialisation"
      ]
    },
    {
      "cell_type": "code",
      "metadata": {
        "id": "o4zsWHAz0jwx"
      },
      "source": [
        "class FeedForwardNormal(nn.Module):\n",
        "    def __init__(self, in_sz=784, out_sz=10, layers=[256,128,64,32]):\n",
        "        super().__init__()\n",
        "        self.fc1 = nn.Linear(in_sz,layers[0])\n",
        "        nn.init.normal_(self.fc1.weight)\n",
        "        self.fc2 = nn.Linear(layers[0],layers[1])\n",
        "        nn.init.normal_(self.fc2.weight)\n",
        "        self.fc3 = nn.Linear(layers[1],layers[2])\n",
        "        nn.init.normal_(self.fc3.weight)\n",
        "        self.fc4 = nn.Linear(layers[2],layers[3])\n",
        "        nn.init.normal_(self.fc4.weight)\n",
        "        self.fc5 = nn.Linear(layers[3],out_sz)\n",
        "        nn.init.normal_(self.fc5.weight)\n",
        "    \n",
        "    def forward(self,X):\n",
        "        X = F.relu(self.fc1(X))\n",
        "        X = F.relu(self.fc2(X))\n",
        "        X = F.relu(self.fc3(X))\n",
        "        X = F.relu(self.fc4(X))\n",
        "        X = self.fc5(X)\n",
        "        return F.log_softmax(X, dim=1)\n",
        "        "
      ],
      "execution_count": null,
      "outputs": []
    },
    {
      "cell_type": "code",
      "metadata": {
        "colab": {
          "base_uri": "https://localhost:8080/"
        },
        "id": "HX_BgyxC1--P",
        "outputId": "c048cc10-0763-4b2f-b106-da9040a4ef1f"
      },
      "source": [
        "torch.manual_seed(101)\n",
        "modelRMSNormal = FeedForwardNormal()\n",
        "modelRMSNormal"
      ],
      "execution_count": null,
      "outputs": [
        {
          "output_type": "execute_result",
          "data": {
            "text/plain": [
              "FeedForwardNormal(\n",
              "  (fc1): Linear(in_features=784, out_features=256, bias=True)\n",
              "  (fc2): Linear(in_features=256, out_features=128, bias=True)\n",
              "  (fc3): Linear(in_features=128, out_features=64, bias=True)\n",
              "  (fc4): Linear(in_features=64, out_features=32, bias=True)\n",
              "  (fc5): Linear(in_features=32, out_features=10, bias=True)\n",
              ")"
            ]
          },
          "metadata": {
            "tags": []
          },
          "execution_count": 319
        }
      ]
    },
    {
      "cell_type": "code",
      "metadata": {
        "id": "C6s4gNDd1--Y"
      },
      "source": [
        "criterion = nn.CrossEntropyLoss()\n",
        "optimizer = torch.optim.RMSprop(modelRMSNormal.parameters(), lr=0.001)"
      ],
      "execution_count": null,
      "outputs": []
    },
    {
      "cell_type": "code",
      "metadata": {
        "id": "jjWee4UW1--Z"
      },
      "source": [
        "def count_parameters(model):\n",
        "    params = [p.numel() for p in model.parameters() if p.requires_grad]\n",
        "    for item in params:\n",
        "        print(f'{item:>6}')\n",
        "    print(f'______\\n{sum(params):>6}')"
      ],
      "execution_count": null,
      "outputs": []
    },
    {
      "cell_type": "code",
      "metadata": {
        "colab": {
          "base_uri": "https://localhost:8080/"
        },
        "id": "5w9tp7-K1--a",
        "outputId": "4d6d7007-8e29-4e8d-bab4-e2e876b78afd"
      },
      "source": [
        "count_parameters(modelRMSUniform)"
      ],
      "execution_count": null,
      "outputs": [
        {
          "output_type": "stream",
          "text": [
            "200704\n",
            "   256\n",
            " 32768\n",
            "   128\n",
            "  8192\n",
            "    64\n",
            "  2048\n",
            "    32\n",
            "   320\n",
            "    10\n",
            "______\n",
            "244522\n"
          ],
          "name": "stdout"
        }
      ]
    },
    {
      "cell_type": "code",
      "metadata": {
        "colab": {
          "base_uri": "https://localhost:8080/"
        },
        "id": "yKh_AQt_1--b",
        "outputId": "59689075-fbfc-46fd-ab67-527bf7679b83"
      },
      "source": [
        "train_losses,train_correct,test_losses,test_correct = train_loss_accuracy(train_loader,modelRMSNormal)"
      ],
      "execution_count": null,
      "outputs": [
        {
          "output_type": "stream",
          "text": [
            "epoch:  0  batch:  200 [ 20000/49000]  loss: 766.64862061    accuracy:  52.620%\n",
            "epoch:  0  batch:  400 [ 40000/49000]  loss: 504.39245605    accuracy:  60.550%\n",
            "epoch:  1  batch:  200 [ 20000/49000]  loss: 194.84042358    accuracy:  73.630%\n",
            "epoch:  1  batch:  400 [ 40000/49000]  loss: 128.76031494    accuracy:  73.240%\n",
            "epoch:  2  batch:  200 [ 20000/49000]  loss: 19.94998741    accuracy:  61.930%\n",
            "epoch:  2  batch:  400 [ 40000/49000]  loss: 4.23094797    accuracy:  47.765%\n",
            "epoch:  3  batch:  200 [ 20000/49000]  loss: 2.61614847    accuracy:  21.105%\n",
            "epoch:  3  batch:  400 [ 40000/49000]  loss: 2.14952016    accuracy:  21.218%\n",
            "epoch:  4  batch:  200 [ 20000/49000]  loss: 1.98209441    accuracy:  20.820%\n",
            "epoch:  4  batch:  400 [ 40000/49000]  loss: 1.88925231    accuracy:  21.473%\n",
            "epoch:  5  batch:  200 [ 20000/49000]  loss: 1.76857662    accuracy:  25.190%\n",
            "epoch:  5  batch:  400 [ 40000/49000]  loss: 1.74817312    accuracy:  26.025%\n",
            "epoch:  6  batch:  200 [ 20000/49000]  loss: 1.73695958    accuracy:  30.500%\n",
            "epoch:  6  batch:  400 [ 40000/49000]  loss: 1.57162142    accuracy:  31.337%\n",
            "epoch:  7  batch:  200 [ 20000/49000]  loss: 1.53181422    accuracy:  35.230%\n",
            "epoch:  7  batch:  400 [ 40000/49000]  loss: 1.59262788    accuracy:  35.138%\n",
            "epoch:  8  batch:  200 [ 20000/49000]  loss: 1.52096415    accuracy:  34.390%\n",
            "epoch:  8  batch:  400 [ 40000/49000]  loss: 1.64022303    accuracy:  36.145%\n",
            "epoch:  9  batch:  200 [ 20000/49000]  loss: 1.35816920    accuracy:  38.590%\n",
            "epoch:  9  batch:  400 [ 40000/49000]  loss: 1.45844615    accuracy:  38.665%\n",
            "\n",
            "Duration: 81 seconds\n"
          ],
          "name": "stdout"
        }
      ]
    },
    {
      "cell_type": "code",
      "metadata": {
        "colab": {
          "base_uri": "https://localhost:8080/",
          "height": 281
        },
        "id": "VCMrc2ly1--c",
        "outputId": "cf6c9c23-78e9-41f3-8e3e-f052cf23f3b0"
      },
      "source": [
        "plot_loss(train_losses,test_losses)"
      ],
      "execution_count": null,
      "outputs": [
        {
          "output_type": "display_data",
          "data": {
            "image/png": "[encoded data removed]",
            "text/plain": [
              "<Figure size 432x288 with 1 Axes>"
            ]
          },
          "metadata": {
            "tags": [],
            "needs_background": "light"
          }
        }
      ]
    },
    {
      "cell_type": "code",
      "metadata": {
        "colab": {
          "base_uri": "https://localhost:8080/",
          "height": 281
        },
        "id": "HKLb6InO1--e",
        "outputId": "6c9b83a5-13ad-4aed-b7df-df80cbcb9a73"
      },
      "source": [
        "plot_accuracy(train_correct,test_correct)"
      ],
      "execution_count": null,
      "outputs": [
        {
          "output_type": "display_data",
          "data": {
            "image/png": "[encoded data removed]",
            "text/plain": [
              "<Figure size 432x288 with 1 Axes>"
            ]
          },
          "metadata": {
            "tags": [],
            "needs_background": "light"
          }
        }
      ]
    },
    {
      "cell_type": "code",
      "metadata": {
        "colab": {
          "base_uri": "https://localhost:8080/"
        },
        "id": "OqlhS5K01--f",
        "outputId": "4f033184-fec9-4e7c-f9fb-c420dd632db3"
      },
      "source": [
        "(test_accuracy,test_loss)=test_loss_accuracy(test_data,modelRMSNormal)"
      ],
      "execution_count": null,
      "outputs": [
        {
          "output_type": "stream",
          "text": [
            "Test accuracy: 7921/21000 =  37.719%\n"
          ],
          "name": "stdout"
        }
      ]
    },
    {
      "cell_type": "code",
      "metadata": {
        "colab": {
          "base_uri": "https://localhost:8080/"
        },
        "id": "kJsGdxKn1--g",
        "outputId": "944bce1e-01f2-47cb-bd69-08c5a8c0e2d7"
      },
      "source": [
        "test_accuracy"
      ],
      "execution_count": null,
      "outputs": [
        {
          "output_type": "execute_result",
          "data": {
            "text/plain": [
              "37.71904761904762"
            ]
          },
          "metadata": {
            "tags": []
          },
          "execution_count": 327
        }
      ]
    },
    {
      "cell_type": "code",
      "metadata": {
        "colab": {
          "base_uri": "https://localhost:8080/"
        },
        "id": "gdZNj1AO1--h",
        "outputId": "2a37e430-d0cd-4ff5-8d41-2ee7d459131e"
      },
      "source": [
        "losses=[i.item() for i in test_loss]\n",
        "loss_term=np.mean(np.array(losses))\n",
        "print('Test loss: {}'.format(loss_term))"
      ],
      "execution_count": null,
      "outputs": [
        {
          "output_type": "stream",
          "text": [
            "Test loss: 1.5982589721679688\n"
          ],
          "name": "stdout"
        }
      ]
    },
    {
      "cell_type": "code",
      "metadata": {
        "id": "sChWg2EW1--i"
      },
      "source": [
        "weight_accuracies.append(test_accuracy)\n"
      ],
      "execution_count": null,
      "outputs": []
    },
    {
      "cell_type": "code",
      "metadata": {
        "id": "AYIxmklV1--i"
      },
      "source": [
        "weight_losses.append(loss_term)"
      ],
      "execution_count": null,
      "outputs": []
    },
    {
      "cell_type": "markdown",
      "metadata": {
        "id": "iw2knIre2VwI"
      },
      "source": [
        "#### Plotting graphs for different weight intialisations"
      ]
    },
    {
      "cell_type": "code",
      "metadata": {
        "colab": {
          "base_uri": "https://localhost:8080/",
          "height": 295
        },
        "id": "1Rl7YwPn2buQ",
        "outputId": "650ded0c-12ce-45f0-d7b6-1f8258c7727c"
      },
      "source": [
        "# plotting a bar chart\n",
        "left=[1,2,3]\n",
        "height=weight_accuracies\n",
        "tick_label=['Xavier','uniform','normal']\n",
        "plt.bar(left, height, tick_label = tick_label,\n",
        "        width = 0.8, color = ['red', 'green','yellow'])\n",
        "  \n",
        "# naming the x-axis\n",
        "plt.xlabel('Different weight initialisations ')\n",
        "# naming the y-axis\n",
        "plt.ylabel('Test Accuracies')\n",
        "# plot title\n",
        "plt.title('Best Model Test Accuracies vs weight Intialisation techniques')\n",
        "  \n",
        "# function to show the plot\n",
        "plt.show()"
      ],
      "execution_count": null,
      "outputs": [
        {
          "output_type": "display_data",
          "data": {
            "image/png": "[encoded data removed]",
            "text/plain": [
              "<Figure size 432x288 with 1 Axes>"
            ]
          },
          "metadata": {
            "tags": [],
            "needs_background": "light"
          }
        }
      ]
    },
    {
      "cell_type": "code",
      "metadata": {
        "colab": {
          "base_uri": "https://localhost:8080/",
          "height": 295
        },
        "id": "0aV2Q53V2buc",
        "outputId": "d32683c0-f876-497e-f86c-1f7b8afbadd5"
      },
      "source": [
        "# plotting a bar chart\n",
        "left=[1,2,3]\n",
        "height=weight_losses\n",
        "tick_label=['Xavier','uniform','normal']\n",
        "plt.bar(left, height, tick_label = tick_label,\n",
        "        width = 0.8, color = ['red', 'green','yellow'])\n",
        "  \n",
        "# naming the x-axis\n",
        "plt.xlabel('Different weight initialisations ')\n",
        "# naming the y-axis\n",
        "plt.ylabel('Test Losses')\n",
        "# plot title\n",
        "plt.title('Best Model Test Losses vs weight Intialisation techniques')\n",
        "  \n",
        "# function to show the plot\n",
        "plt.show()"
      ],
      "execution_count": null,
      "outputs": [
        {
          "output_type": "display_data",
          "data": {
            "image/png": "[encoded data removed]",
            "text/plain": [
              "<Figure size 432x288 with 1 Axes>"
            ]
          },
          "metadata": {
            "tags": [],
            "needs_background": "light"
          }
        }
      ]
    },
    {
      "cell_type": "markdown",
      "metadata": {
        "id": "5Mg-J-7apE4R"
      },
      "source": [
        "## Learning rate Annealing\n",
        "    Here we will use exponential learning rate annealing method of pytorch lr_scheduler\n",
        "    on the best method RMSProp with different learning rates like 0.01,0.001,0.0005,0.0001\n",
        "    we'll define new training loop to apply scheduler rate effectively "
      ]
    },
    {
      "cell_type": "markdown",
      "metadata": {
        "id": "h_PEI_8fVTk0"
      },
      "source": [
        "### For learning rate lr=0.01"
      ]
    },
    {
      "cell_type": "code",
      "metadata": {
        "id": "lUaQAS2JYei_"
      },
      "source": [
        "\n",
        "def train_loss_accu(train_loader,model,scheduler,optimizer):\n",
        "\n",
        "  import time\n",
        "  start_time = time.time()\n",
        "\n",
        "  epochs = 10\n",
        "  train_losses = []\n",
        "  test_losses = []\n",
        "  train_correct = []\n",
        "  test_correct = []\n",
        "  \n",
        "  \n",
        "\n",
        "  for i in range(epochs):\n",
        "      trn_corr = 0\n",
        "      tst_corr = 0\n",
        "      \n",
        "      # Run the training batches\n",
        "      for b, (X_train, y_train) in enumerate(train_loader):\n",
        "          b+=1\n",
        "          # Apply the model\n",
        "          y_pred= model(X_train.view(100, -1))  # Here we flatten X_train\n",
        "          loss = criterion(y_pred, y_train)\n",
        "  \n",
        "          # Tally the number of correct predictions\n",
        "          predicted = torch.max(y_pred.data, 1)[1]\n",
        "          batch_corr = (predicted == y_train).sum()\n",
        "          trn_corr += batch_corr\n",
        "          \n",
        "          # Update parameters\n",
        "          optimizer.zero_grad()\n",
        "          loss.backward()\n",
        "          optimizer.step()\n",
        "          \n",
        "          # Print interim results\n",
        "          if b%200 == 0:\n",
        "              print(f'epoch: {i:2}  batch: {b:4} [{100*b:6}/49000]  loss: {loss.item():10.8f}  \\\n",
        "  accuracy: {trn_corr.item()*100/(100*b):7.3f}%')\n",
        "              \n",
        "              ####### scheduler step for exponential annealing########\n",
        "              scheduler.step()\n",
        "              \n",
        "             \n",
        "      \n",
        "      # Update train loss & accuracy for the epoch\n",
        "      train_losses.append(loss)\n",
        "      train_correct.append(trn_corr)\n",
        "      # Run the testing batches\n",
        "      \n",
        "      with torch.no_grad():\n",
        "          for b, (X_test, y_test) in enumerate(test_loader):\n",
        "\n",
        "              # Apply the model\n",
        "              y_val = model(X_test.view(500, -1))  # Here we flatten X_test\n",
        "\n",
        "              # Tally the number of correct predictions\n",
        "              predicted = torch.max(y_val.data, 1)[1] \n",
        "              tst_corr += (predicted == y_test).sum()\n",
        "      \n",
        "      # Update test loss & accuracy for the epoch\n",
        "      loss = criterion(y_val, y_test)\n",
        "      test_losses.append(loss)\n",
        "      test_correct.append(tst_corr)\n",
        "\n",
        "      \n",
        "          \n",
        "  print(f'\\nDuration: {time.time() - start_time:.0f} seconds') # print the time elapsed  \n",
        "\n",
        "\n",
        "  return train_losses,train_correct,test_losses,test_correct    #,final_outputs    "
      ],
      "execution_count": null,
      "outputs": []
    },
    {
      "cell_type": "code",
      "metadata": {
        "id": "Vn9QnUuYpHg8"
      },
      "source": [
        "RMS_accuracies=[]\n",
        "RMS_losses=[]"
      ],
      "execution_count": null,
      "outputs": []
    },
    {
      "cell_type": "code",
      "metadata": {
        "colab": {
          "base_uri": "https://localhost:8080/"
        },
        "id": "fMTy_qKspln_",
        "outputId": "776c40bc-8112-4515-aca6-6ea21cdc2019"
      },
      "source": [
        "\n",
        "\n",
        "print(\"********************    For Learning rate  = {}   *********************\".format(0.01))\n",
        "torch.manual_seed(101)\n",
        "modelRMS = MultilayerPerceptron()\n",
        "modelRMS\n"
      ],
      "execution_count": null,
      "outputs": [
        {
          "output_type": "stream",
          "text": [
            "********************    For Learning rate  = 0.01   *********************\n"
          ],
          "name": "stdout"
        },
        {
          "output_type": "execute_result",
          "data": {
            "text/plain": [
              "MultilayerPerceptron(\n",
              "  (fc1): Linear(in_features=784, out_features=256, bias=True)\n",
              "  (fc2): Linear(in_features=256, out_features=128, bias=True)\n",
              "  (fc3): Linear(in_features=128, out_features=64, bias=True)\n",
              "  (fc4): Linear(in_features=64, out_features=32, bias=True)\n",
              "  (fc5): Linear(in_features=32, out_features=10, bias=True)\n",
              ")"
            ]
          },
          "metadata": {
            "tags": []
          },
          "execution_count": 38
        }
      ]
    },
    {
      "cell_type": "code",
      "metadata": {
        "id": "zfRrtXoVZfO8"
      },
      "source": [
        "criterion = nn.CrossEntropyLoss()  \n",
        "optimizer = torch.optim.RMSprop(modelRMS.parameters(), lr=0.01)\n",
        "scheduler = torch.optim.lr_scheduler.ExponentialLR(optimizer, gamma=0.95)"
      ],
      "execution_count": null,
      "outputs": []
    },
    {
      "cell_type": "code",
      "metadata": {
        "colab": {
          "base_uri": "https://localhost:8080/"
        },
        "id": "w_hprzrOZr-j",
        "outputId": "1e78c63a-405f-4fc6-ce31-f968f0893fba"
      },
      "source": [
        "train_losses,train_correct,test_losses,test_correct = train_loss_accu(train_loader,modelRMS,scheduler,optimizer)"
      ],
      "execution_count": null,
      "outputs": [
        {
          "output_type": "stream",
          "text": [
            "epoch:  0  batch:  200 [ 20000/49000]  loss: 0.28514996    accuracy:  70.385%\n",
            "epoch:  0  batch:  400 [ 40000/49000]  loss: 0.17230114    accuracy:  80.733%\n",
            "epoch:  1  batch:  200 [ 20000/49000]  loss: 0.10395326    accuracy:  94.035%\n",
            "epoch:  1  batch:  400 [ 40000/49000]  loss: 0.16580720    accuracy:  94.108%\n",
            "epoch:  2  batch:  200 [ 20000/49000]  loss: 0.08165231    accuracy:  95.425%\n",
            "epoch:  2  batch:  400 [ 40000/49000]  loss: 0.19415605    accuracy:  95.480%\n",
            "epoch:  3  batch:  200 [ 20000/49000]  loss: 0.11019706    accuracy:  96.445%\n",
            "epoch:  3  batch:  400 [ 40000/49000]  loss: 0.11013088    accuracy:  96.278%\n",
            "epoch:  4  batch:  200 [ 20000/49000]  loss: 0.09719494    accuracy:  96.625%\n",
            "epoch:  4  batch:  400 [ 40000/49000]  loss: 0.16339943    accuracy:  96.748%\n",
            "epoch:  5  batch:  200 [ 20000/49000]  loss: 0.10469028    accuracy:  97.315%\n",
            "epoch:  5  batch:  400 [ 40000/49000]  loss: 0.14109151    accuracy:  97.248%\n",
            "epoch:  6  batch:  200 [ 20000/49000]  loss: 0.20936216    accuracy:  97.570%\n",
            "epoch:  6  batch:  400 [ 40000/49000]  loss: 0.14198811    accuracy:  97.588%\n",
            "epoch:  7  batch:  200 [ 20000/49000]  loss: 0.01718040    accuracy:  97.995%\n",
            "epoch:  7  batch:  400 [ 40000/49000]  loss: 0.07220996    accuracy:  97.843%\n",
            "epoch:  8  batch:  200 [ 20000/49000]  loss: 0.09657908    accuracy:  98.215%\n",
            "epoch:  8  batch:  400 [ 40000/49000]  loss: 0.09646674    accuracy:  97.970%\n",
            "epoch:  9  batch:  200 [ 20000/49000]  loss: 0.18189879    accuracy:  98.445%\n",
            "epoch:  9  batch:  400 [ 40000/49000]  loss: 0.11339446    accuracy:  98.300%\n",
            "\n",
            "Duration: 82 seconds\n"
          ],
          "name": "stdout"
        }
      ]
    },
    {
      "cell_type": "code",
      "metadata": {
        "colab": {
          "base_uri": "https://localhost:8080/",
          "height": 281
        },
        "id": "nGySkDhsaVvR",
        "outputId": "84271639-686b-48b1-b945-3a2548ec3976"
      },
      "source": [
        "plot_loss(train_losses,test_losses)"
      ],
      "execution_count": null,
      "outputs": [
        {
          "output_type": "display_data",
          "data": {
            "image/png": "[encoded data removed]",
            "text/plain": [
              "<Figure size 432x288 with 1 Axes>"
            ]
          },
          "metadata": {
            "tags": [],
            "needs_background": "light"
          }
        }
      ]
    },
    {
      "cell_type": "code",
      "metadata": {
        "colab": {
          "base_uri": "https://localhost:8080/",
          "height": 281
        },
        "id": "RJIPmMU4aVvx",
        "outputId": "64acb125-096d-400a-d1c4-b571ebc09277"
      },
      "source": [
        "plot_accuracy(train_correct,test_correct)"
      ],
      "execution_count": null,
      "outputs": [
        {
          "output_type": "display_data",
          "data": {
            "image/png": "[encoded data removed]",
            "text/plain": [
              "<Figure size 432x288 with 1 Axes>"
            ]
          },
          "metadata": {
            "tags": [],
            "needs_background": "light"
          }
        }
      ]
    },
    {
      "cell_type": "code",
      "metadata": {
        "colab": {
          "base_uri": "https://localhost:8080/"
        },
        "id": "BOIaL-gOZwho",
        "outputId": "d744ba78-31f7-4c55-8d5e-3b8c18bffcdf"
      },
      "source": [
        "(test_accuracy,test_loss)=test_loss_accuracy(test_data,modelRMS)\n",
        "print('Test Accuracy: {}'.format(test_accuracy))"
      ],
      "execution_count": null,
      "outputs": [
        {
          "output_type": "stream",
          "text": [
            "Test accuracy: 20310/21000 =  96.714%\n",
            "Test Accuracy: 96.71428571428571\n"
          ],
          "name": "stdout"
        }
      ]
    },
    {
      "cell_type": "code",
      "metadata": {
        "id": "zYmpc-QFa8c8"
      },
      "source": [
        "RMS_accuracies.append(test_accuracy)"
      ],
      "execution_count": null,
      "outputs": []
    },
    {
      "cell_type": "code",
      "metadata": {
        "colab": {
          "base_uri": "https://localhost:8080/"
        },
        "id": "Ef-RBYixbMee",
        "outputId": "cd39728d-ee14-417b-b386-0eb690b88004"
      },
      "source": [
        "losses=[i.item() for i in test_loss]\n",
        "loss_term=np.mean(np.array(losses))\n",
        "print('Test loss: {}'.format(loss_term))"
      ],
      "execution_count": null,
      "outputs": [
        {
          "output_type": "stream",
          "text": [
            "Test loss: 0.15149185061454773\n"
          ],
          "name": "stdout"
        }
      ]
    },
    {
      "cell_type": "code",
      "metadata": {
        "id": "2Z0cFjAYbMew"
      },
      "source": [
        "RMS_losses.append(loss_term)"
      ],
      "execution_count": null,
      "outputs": []
    },
    {
      "cell_type": "code",
      "metadata": {
        "colab": {
          "base_uri": "https://localhost:8080/"
        },
        "id": "pJvltWIcb7xQ",
        "outputId": "e26434fe-d095-4948-b0bf-fbda93991e8f"
      },
      "source": [
        "RMS_losses"
      ],
      "execution_count": null,
      "outputs": [
        {
          "output_type": "execute_result",
          "data": {
            "text/plain": [
              "[0.15149185061454773]"
            ]
          },
          "metadata": {
            "tags": []
          },
          "execution_count": 48
        }
      ]
    },
    {
      "cell_type": "markdown",
      "metadata": {
        "id": "8SUHOMk7cGTu"
      },
      "source": [
        "### For learning rate =0.001"
      ]
    },
    {
      "cell_type": "code",
      "metadata": {
        "colab": {
          "base_uri": "https://localhost:8080/"
        },
        "id": "hN8iJ-iAcnAd",
        "outputId": "27f550f8-1452-47d3-9c0b-44f55433dcd7"
      },
      "source": [
        "\n",
        "\n",
        "print(\"********************    For Learning rate  = {}   *********************\".format(0.001))\n",
        "torch.manual_seed(101)\n",
        "modelRMS = MultilayerPerceptron()\n",
        "modelRMS\n"
      ],
      "execution_count": null,
      "outputs": [
        {
          "output_type": "stream",
          "text": [
            "********************    For Learning rate  = 0.001   *********************\n"
          ],
          "name": "stdout"
        },
        {
          "output_type": "execute_result",
          "data": {
            "text/plain": [
              "MultilayerPerceptron(\n",
              "  (fc1): Linear(in_features=784, out_features=256, bias=True)\n",
              "  (fc2): Linear(in_features=256, out_features=128, bias=True)\n",
              "  (fc3): Linear(in_features=128, out_features=64, bias=True)\n",
              "  (fc4): Linear(in_features=64, out_features=32, bias=True)\n",
              "  (fc5): Linear(in_features=32, out_features=10, bias=True)\n",
              ")"
            ]
          },
          "metadata": {
            "tags": []
          },
          "execution_count": 51
        }
      ]
    },
    {
      "cell_type": "code",
      "metadata": {
        "id": "EiABNUKjcMVL"
      },
      "source": [
        "criterion = nn.CrossEntropyLoss()  \n",
        "optimizer = torch.optim.RMSprop(modelRMS.parameters(), lr=0.001)\n",
        "scheduler = torch.optim.lr_scheduler.ExponentialLR(optimizer, gamma=0.90)"
      ],
      "execution_count": null,
      "outputs": []
    },
    {
      "cell_type": "code",
      "metadata": {
        "colab": {
          "base_uri": "https://localhost:8080/"
        },
        "id": "nYhjobCkcMVN",
        "outputId": "fe66dd92-3c9c-4525-e00e-a778925ea79f"
      },
      "source": [
        "train_losses,train_correct,test_losses,test_correct = train_loss_accu(train_loader,modelRMS,scheduler,optimizer)"
      ],
      "execution_count": null,
      "outputs": [
        {
          "output_type": "stream",
          "text": [
            "epoch:  0  batch:  200 [ 20000/49000]  loss: 0.25186986    accuracy:  80.240%\n",
            "epoch:  0  batch:  400 [ 40000/49000]  loss: 0.09518383    accuracy:  86.412%\n",
            "epoch:  1  batch:  200 [ 20000/49000]  loss: 0.07703903    accuracy:  95.805%\n",
            "epoch:  1  batch:  400 [ 40000/49000]  loss: 0.07532599    accuracy:  95.978%\n",
            "epoch:  2  batch:  200 [ 20000/49000]  loss: 0.01932778    accuracy:  97.280%\n",
            "epoch:  2  batch:  400 [ 40000/49000]  loss: 0.04489992    accuracy:  97.320%\n",
            "epoch:  3  batch:  200 [ 20000/49000]  loss: 0.02140012    accuracy:  98.075%\n",
            "epoch:  3  batch:  400 [ 40000/49000]  loss: 0.05426028    accuracy:  98.140%\n",
            "epoch:  4  batch:  200 [ 20000/49000]  loss: 0.01696861    accuracy:  98.585%\n",
            "epoch:  4  batch:  400 [ 40000/49000]  loss: 0.02026341    accuracy:  98.545%\n",
            "epoch:  5  batch:  200 [ 20000/49000]  loss: 0.00205597    accuracy:  99.040%\n",
            "epoch:  5  batch:  400 [ 40000/49000]  loss: 0.02311212    accuracy:  98.975%\n",
            "epoch:  6  batch:  200 [ 20000/49000]  loss: 0.04544597    accuracy:  99.375%\n",
            "epoch:  6  batch:  400 [ 40000/49000]  loss: 0.03867853    accuracy:  99.350%\n",
            "epoch:  7  batch:  200 [ 20000/49000]  loss: 0.00135074    accuracy:  99.575%\n",
            "epoch:  7  batch:  400 [ 40000/49000]  loss: 0.00610990    accuracy:  99.522%\n",
            "epoch:  8  batch:  200 [ 20000/49000]  loss: 0.08172692    accuracy:  99.735%\n",
            "epoch:  8  batch:  400 [ 40000/49000]  loss: 0.02309887    accuracy:  99.657%\n",
            "epoch:  9  batch:  200 [ 20000/49000]  loss: 0.00165468    accuracy:  99.880%\n",
            "epoch:  9  batch:  400 [ 40000/49000]  loss: 0.00653079    accuracy:  99.793%\n",
            "\n",
            "Duration: 83 seconds\n"
          ],
          "name": "stdout"
        }
      ]
    },
    {
      "cell_type": "code",
      "metadata": {
        "colab": {
          "base_uri": "https://localhost:8080/",
          "height": 281
        },
        "id": "NNEwpI-7cMVQ",
        "outputId": "985d20d0-b460-4818-b5d1-bdd56bf311ca"
      },
      "source": [
        "plot_loss(train_losses,test_losses)"
      ],
      "execution_count": null,
      "outputs": [
        {
          "output_type": "display_data",
          "data": {
            "image/png": "[encoded data removed]",
            "text/plain": [
              "<Figure size 432x288 with 1 Axes>"
            ]
          },
          "metadata": {
            "tags": [],
            "needs_background": "light"
          }
        }
      ]
    },
    {
      "cell_type": "code",
      "metadata": {
        "colab": {
          "base_uri": "https://localhost:8080/",
          "height": 281
        },
        "id": "czqfRxBXcMVS",
        "outputId": "81ae3401-4236-47bf-e826-3b114842b982"
      },
      "source": [
        "plot_accuracy(train_correct,test_correct)"
      ],
      "execution_count": null,
      "outputs": [
        {
          "output_type": "display_data",
          "data": {
            "image/png": "[encoded data removed]",
            "text/plain": [
              "<Figure size 432x288 with 1 Axes>"
            ]
          },
          "metadata": {
            "tags": [],
            "needs_background": "light"
          }
        }
      ]
    },
    {
      "cell_type": "code",
      "metadata": {
        "colab": {
          "base_uri": "https://localhost:8080/"
        },
        "id": "P-sYnLn8cMVT",
        "outputId": "5494a8e6-74e0-4a87-e54f-e68d35580049"
      },
      "source": [
        "(test_accuracy,test_loss)=test_loss_accuracy(test_data,modelRMS)\n",
        "print('Test Accuracy: {}'.format(test_accuracy))"
      ],
      "execution_count": null,
      "outputs": [
        {
          "output_type": "stream",
          "text": [
            "Test accuracy: 20542/21000 =  97.819%\n",
            "Test Accuracy: 97.81904761904762\n"
          ],
          "name": "stdout"
        }
      ]
    },
    {
      "cell_type": "code",
      "metadata": {
        "id": "VlTT-pM3cMVV"
      },
      "source": [
        "RMS_accuracies.append(test_accuracy)"
      ],
      "execution_count": null,
      "outputs": []
    },
    {
      "cell_type": "code",
      "metadata": {
        "colab": {
          "base_uri": "https://localhost:8080/"
        },
        "id": "hhLm0KUFcMVW",
        "outputId": "b9035c40-bb5a-49ef-c8ba-de9f6ac1bf2f"
      },
      "source": [
        "losses=[i.item() for i in test_loss]\n",
        "loss_term=np.mean(np.array(losses))\n",
        "print('Test loss: {}'.format(loss_term))"
      ],
      "execution_count": null,
      "outputs": [
        {
          "output_type": "stream",
          "text": [
            "Test loss: 0.09899059683084488\n"
          ],
          "name": "stdout"
        }
      ]
    },
    {
      "cell_type": "code",
      "metadata": {
        "id": "8nZ5Bp_JcMVX"
      },
      "source": [
        "RMS_losses.append(loss_term)"
      ],
      "execution_count": null,
      "outputs": []
    },
    {
      "cell_type": "code",
      "metadata": {
        "colab": {
          "base_uri": "https://localhost:8080/"
        },
        "id": "cDPc2SxucMVY",
        "outputId": "2403ff5c-d62f-489b-c7d5-801a90786370"
      },
      "source": [
        "RMS_losses"
      ],
      "execution_count": null,
      "outputs": [
        {
          "output_type": "execute_result",
          "data": {
            "text/plain": [
              "[0.15149185061454773, 0.09899059683084488]"
            ]
          },
          "metadata": {
            "tags": []
          },
          "execution_count": 60
        }
      ]
    },
    {
      "cell_type": "markdown",
      "metadata": {
        "id": "cdaWC5CJcbEG"
      },
      "source": [
        "### For learning rate lr=0.0005"
      ]
    },
    {
      "cell_type": "code",
      "metadata": {
        "colab": {
          "base_uri": "https://localhost:8080/"
        },
        "id": "z9LkJKincrzP",
        "outputId": "7b75657e-b897-4e58-f519-3b5fc9cac4c4"
      },
      "source": [
        "\n",
        "\n",
        "print(\"********************    For Learning rate  = {}   *********************\".format(0.0005))\n",
        "torch.manual_seed(101)\n",
        "modelRMS = MultilayerPerceptron()\n",
        "modelRMS\n"
      ],
      "execution_count": null,
      "outputs": [
        {
          "output_type": "stream",
          "text": [
            "********************    For Learning rate  = 0.0005   *********************\n"
          ],
          "name": "stdout"
        },
        {
          "output_type": "execute_result",
          "data": {
            "text/plain": [
              "MultilayerPerceptron(\n",
              "  (fc1): Linear(in_features=784, out_features=256, bias=True)\n",
              "  (fc2): Linear(in_features=256, out_features=128, bias=True)\n",
              "  (fc3): Linear(in_features=128, out_features=64, bias=True)\n",
              "  (fc4): Linear(in_features=64, out_features=32, bias=True)\n",
              "  (fc5): Linear(in_features=32, out_features=10, bias=True)\n",
              ")"
            ]
          },
          "metadata": {
            "tags": []
          },
          "execution_count": 61
        }
      ]
    },
    {
      "cell_type": "code",
      "metadata": {
        "id": "OXEqyK09cd5J"
      },
      "source": [
        "criterion = nn.CrossEntropyLoss()  \n",
        "optimizer = torch.optim.RMSprop(modelRMS.parameters(), lr=0.0005)\n",
        "scheduler = torch.optim.lr_scheduler.ExponentialLR(optimizer, gamma=0.90)"
      ],
      "execution_count": null,
      "outputs": []
    },
    {
      "cell_type": "code",
      "metadata": {
        "colab": {
          "base_uri": "https://localhost:8080/"
        },
        "id": "UqbYAL6vcd5K",
        "outputId": "b46ea825-066e-4001-e3d4-8e5903312433"
      },
      "source": [
        "train_losses,train_correct,test_losses,test_correct = train_loss_accu(train_loader,modelRMS,scheduler,optimizer)"
      ],
      "execution_count": null,
      "outputs": [
        {
          "output_type": "stream",
          "text": [
            "epoch:  0  batch:  200 [ 20000/49000]  loss: 0.34836709    accuracy:  77.990%\n",
            "epoch:  0  batch:  400 [ 40000/49000]  loss: 0.13510603    accuracy:  83.942%\n",
            "epoch:  1  batch:  200 [ 20000/49000]  loss: 0.13307731    accuracy:  93.805%\n",
            "epoch:  1  batch:  400 [ 40000/49000]  loss: 0.12725629    accuracy:  94.185%\n",
            "epoch:  2  batch:  200 [ 20000/49000]  loss: 0.05642991    accuracy:  95.770%\n",
            "epoch:  2  batch:  400 [ 40000/49000]  loss: 0.11029258    accuracy:  96.007%\n",
            "epoch:  3  batch:  200 [ 20000/49000]  loss: 0.08251811    accuracy:  96.910%\n",
            "epoch:  3  batch:  400 [ 40000/49000]  loss: 0.08234553    accuracy:  96.945%\n",
            "epoch:  4  batch:  200 [ 20000/49000]  loss: 0.04006115    accuracy:  97.510%\n",
            "epoch:  4  batch:  400 [ 40000/49000]  loss: 0.11489674    accuracy:  97.500%\n",
            "epoch:  5  batch:  200 [ 20000/49000]  loss: 0.02473262    accuracy:  98.045%\n",
            "epoch:  5  batch:  400 [ 40000/49000]  loss: 0.12181097    accuracy:  98.017%\n",
            "epoch:  6  batch:  200 [ 20000/49000]  loss: 0.08106781    accuracy:  98.435%\n",
            "epoch:  6  batch:  400 [ 40000/49000]  loss: 0.12401118    accuracy:  98.440%\n",
            "epoch:  7  batch:  200 [ 20000/49000]  loss: 0.01415312    accuracy:  98.745%\n",
            "epoch:  7  batch:  400 [ 40000/49000]  loss: 0.07088254    accuracy:  98.665%\n",
            "epoch:  8  batch:  200 [ 20000/49000]  loss: 0.07330182    accuracy:  98.935%\n",
            "epoch:  8  batch:  400 [ 40000/49000]  loss: 0.06390446    accuracy:  98.922%\n",
            "epoch:  9  batch:  200 [ 20000/49000]  loss: 0.01179393    accuracy:  99.205%\n",
            "epoch:  9  batch:  400 [ 40000/49000]  loss: 0.03311821    accuracy:  99.153%\n",
            "\n",
            "Duration: 78 seconds\n"
          ],
          "name": "stdout"
        }
      ]
    },
    {
      "cell_type": "code",
      "metadata": {
        "colab": {
          "base_uri": "https://localhost:8080/",
          "height": 281
        },
        "id": "g9VrAIWPcd5M",
        "outputId": "d13ad7d2-d4a1-4e15-8da7-875eabbb16e7"
      },
      "source": [
        "plot_loss(train_losses,test_losses)"
      ],
      "execution_count": null,
      "outputs": [
        {
          "output_type": "display_data",
          "data": {
            "image/png": "[encoded data removed]",
            "text/plain": [
              "<Figure size 432x288 with 1 Axes>"
            ]
          },
          "metadata": {
            "tags": [],
            "needs_background": "light"
          }
        }
      ]
    },
    {
      "cell_type": "code",
      "metadata": {
        "colab": {
          "base_uri": "https://localhost:8080/",
          "height": 281
        },
        "id": "G6yKm7AJcd5N",
        "outputId": "0cb65b53-b059-4764-ef1d-61fe262d90fd"
      },
      "source": [
        "plot_accuracy(train_correct,test_correct)"
      ],
      "execution_count": null,
      "outputs": [
        {
          "output_type": "display_data",
          "data": {
            "image/png": "[encoded data removed]",
            "text/plain": [
              "<Figure size 432x288 with 1 Axes>"
            ]
          },
          "metadata": {
            "tags": [],
            "needs_background": "light"
          }
        }
      ]
    },
    {
      "cell_type": "code",
      "metadata": {
        "colab": {
          "base_uri": "https://localhost:8080/"
        },
        "id": "EoIxLgndcd5R",
        "outputId": "f9769d31-beb4-408b-f977-e4c77c1d8774"
      },
      "source": [
        "(test_accuracy,test_loss)=test_loss_accuracy(test_data,modelRMS)\n",
        "print('Test Accuracy: {}'.format(test_accuracy))"
      ],
      "execution_count": null,
      "outputs": [
        {
          "output_type": "stream",
          "text": [
            "Test accuracy: 20449/21000 =  97.376%\n",
            "Test Accuracy: 97.37619047619047\n"
          ],
          "name": "stdout"
        }
      ]
    },
    {
      "cell_type": "code",
      "metadata": {
        "id": "GJh72HQ6cd5S"
      },
      "source": [
        "RMS_accuracies.append(test_accuracy)"
      ],
      "execution_count": null,
      "outputs": []
    },
    {
      "cell_type": "code",
      "metadata": {
        "colab": {
          "base_uri": "https://localhost:8080/"
        },
        "id": "OQzc6pIucd5S",
        "outputId": "bf9070e0-b6f8-4314-aea5-ea8916e801e1"
      },
      "source": [
        "losses=[i.item() for i in test_loss]\n",
        "loss_term=np.mean(np.array(losses))\n",
        "print('Test loss: {}'.format(loss_term))"
      ],
      "execution_count": null,
      "outputs": [
        {
          "output_type": "stream",
          "text": [
            "Test loss: 0.09352946281433105\n"
          ],
          "name": "stdout"
        }
      ]
    },
    {
      "cell_type": "code",
      "metadata": {
        "id": "XKnWl2-hcd5T"
      },
      "source": [
        "RMS_losses.append(loss_term)"
      ],
      "execution_count": null,
      "outputs": []
    },
    {
      "cell_type": "code",
      "metadata": {
        "colab": {
          "base_uri": "https://localhost:8080/"
        },
        "id": "2YOYCHP7cd5U",
        "outputId": "7da6bfde-2444-483d-87a8-71bb30247755"
      },
      "source": [
        "RMS_losses"
      ],
      "execution_count": null,
      "outputs": [
        {
          "output_type": "execute_result",
          "data": {
            "text/plain": [
              "[0.15149185061454773, 0.09899059683084488, 0.09352946281433105]"
            ]
          },
          "metadata": {
            "tags": []
          },
          "execution_count": 70
        }
      ]
    },
    {
      "cell_type": "markdown",
      "metadata": {
        "id": "mx2nLIeqc8Zz"
      },
      "source": [
        "### For learning rate lr=0.0001"
      ]
    },
    {
      "cell_type": "code",
      "metadata": {
        "colab": {
          "base_uri": "https://localhost:8080/"
        },
        "id": "IZ38PDAzdACo",
        "outputId": "5236da81-119c-43da-dcc6-026f66b86066"
      },
      "source": [
        "\n",
        "\n",
        "print(\"********************    For Learning rate  = {}   *********************\".format(0.0001))\n",
        "torch.manual_seed(101)\n",
        "modelRMS = MultilayerPerceptron()\n",
        "modelRMS\n"
      ],
      "execution_count": null,
      "outputs": [
        {
          "output_type": "stream",
          "text": [
            "********************    For Learning rate  = 0.0001   *********************\n"
          ],
          "name": "stdout"
        },
        {
          "output_type": "execute_result",
          "data": {
            "text/plain": [
              "MultilayerPerceptron(\n",
              "  (fc1): Linear(in_features=784, out_features=256, bias=True)\n",
              "  (fc2): Linear(in_features=256, out_features=128, bias=True)\n",
              "  (fc3): Linear(in_features=128, out_features=64, bias=True)\n",
              "  (fc4): Linear(in_features=64, out_features=32, bias=True)\n",
              "  (fc5): Linear(in_features=32, out_features=10, bias=True)\n",
              ")"
            ]
          },
          "metadata": {
            "tags": []
          },
          "execution_count": 71
        }
      ]
    },
    {
      "cell_type": "code",
      "metadata": {
        "id": "3pZlDN3vdACq"
      },
      "source": [
        "criterion = nn.CrossEntropyLoss()  \n",
        "optimizer = torch.optim.RMSprop(modelRMS.parameters(), lr=0.0001)\n",
        "scheduler = torch.optim.lr_scheduler.ExponentialLR(optimizer, gamma=0.90)"
      ],
      "execution_count": null,
      "outputs": []
    },
    {
      "cell_type": "code",
      "metadata": {
        "colab": {
          "base_uri": "https://localhost:8080/"
        },
        "id": "aWp4qgqcdACq",
        "outputId": "ae3433e7-9e2a-4432-a77e-93a04d77f8b5"
      },
      "source": [
        "train_losses,train_correct,test_losses,test_correct = train_loss_accu(train_loader,modelRMS,scheduler,optimizer)"
      ],
      "execution_count": null,
      "outputs": [
        {
          "output_type": "stream",
          "text": [
            "epoch:  0  batch:  200 [ 20000/49000]  loss: 0.80393541    accuracy:  62.060%\n",
            "epoch:  0  batch:  400 [ 40000/49000]  loss: 0.48492059    accuracy:  71.528%\n",
            "epoch:  1  batch:  200 [ 20000/49000]  loss: 0.39591762    accuracy:  86.055%\n",
            "epoch:  1  batch:  400 [ 40000/49000]  loss: 0.46021652    accuracy:  86.532%\n",
            "epoch:  2  batch:  200 [ 20000/49000]  loss: 0.32854962    accuracy:  88.445%\n",
            "epoch:  2  batch:  400 [ 40000/49000]  loss: 0.27423835    accuracy:  88.640%\n",
            "epoch:  3  batch:  200 [ 20000/49000]  loss: 0.38256446    accuracy:  89.455%\n",
            "epoch:  3  batch:  400 [ 40000/49000]  loss: 0.26348144    accuracy:  89.718%\n",
            "epoch:  4  batch:  200 [ 20000/49000]  loss: 0.32450476    accuracy:  90.590%\n",
            "epoch:  4  batch:  400 [ 40000/49000]  loss: 0.37747395    accuracy:  90.685%\n",
            "epoch:  5  batch:  200 [ 20000/49000]  loss: 0.18347727    accuracy:  91.400%\n",
            "epoch:  5  batch:  400 [ 40000/49000]  loss: 0.45864701    accuracy:  91.230%\n",
            "epoch:  6  batch:  200 [ 20000/49000]  loss: 0.32003987    accuracy:  92.040%\n",
            "epoch:  6  batch:  400 [ 40000/49000]  loss: 0.36672366    accuracy:  91.995%\n",
            "epoch:  7  batch:  200 [ 20000/49000]  loss: 0.28904212    accuracy:  92.480%\n",
            "epoch:  7  batch:  400 [ 40000/49000]  loss: 0.27523917    accuracy:  92.487%\n",
            "epoch:  8  batch:  200 [ 20000/49000]  loss: 0.23408724    accuracy:  92.740%\n",
            "epoch:  8  batch:  400 [ 40000/49000]  loss: 0.32236388    accuracy:  92.790%\n",
            "epoch:  9  batch:  200 [ 20000/49000]  loss: 0.15382455    accuracy:  93.200%\n",
            "epoch:  9  batch:  400 [ 40000/49000]  loss: 0.38864100    accuracy:  93.205%\n",
            "\n",
            "Duration: 81 seconds\n"
          ],
          "name": "stdout"
        }
      ]
    },
    {
      "cell_type": "code",
      "metadata": {
        "colab": {
          "base_uri": "https://localhost:8080/",
          "height": 281
        },
        "id": "_QgQ6KCTdACr",
        "outputId": "6a8cc0a8-0ba9-4f5f-b88b-f08b0ee922f1"
      },
      "source": [
        "plot_loss(train_losses,test_losses)"
      ],
      "execution_count": null,
      "outputs": [
        {
          "output_type": "display_data",
          "data": {
            "image/png": "[encoded data removed]",
            "text/plain": [
              "<Figure size 432x288 with 1 Axes>"
            ]
          },
          "metadata": {
            "tags": [],
            "needs_background": "light"
          }
        }
      ]
    },
    {
      "cell_type": "code",
      "metadata": {
        "colab": {
          "base_uri": "https://localhost:8080/",
          "height": 281
        },
        "id": "1P86c7ZKdACr",
        "outputId": "e3aaa22e-0980-4e7b-a7ab-bc3b59524709"
      },
      "source": [
        "plot_accuracy(train_correct,test_correct)"
      ],
      "execution_count": null,
      "outputs": [
        {
          "output_type": "display_data",
          "data": {
            "image/png": "[encoded data removed]",
            "text/plain": [
              "<Figure size 432x288 with 1 Axes>"
            ]
          },
          "metadata": {
            "tags": [],
            "needs_background": "light"
          }
        }
      ]
    },
    {
      "cell_type": "code",
      "metadata": {
        "colab": {
          "base_uri": "https://localhost:8080/"
        },
        "id": "T-FxCUuSdACs",
        "outputId": "ff80e6f5-ccd9-47ec-ddf2-c59c59c21d28"
      },
      "source": [
        "(test_accuracy,test_loss)=test_loss_accuracy(test_data,modelRMS)\n",
        "print('Test Accuracy: {}'.format(test_accuracy))"
      ],
      "execution_count": null,
      "outputs": [
        {
          "output_type": "stream",
          "text": [
            "Test accuracy: 19463/21000 =  92.681%\n",
            "Test Accuracy: 92.68095238095238\n"
          ],
          "name": "stdout"
        }
      ]
    },
    {
      "cell_type": "code",
      "metadata": {
        "id": "Q01gSEymdACs"
      },
      "source": [
        "RMS_accuracies.append(test_accuracy)"
      ],
      "execution_count": null,
      "outputs": []
    },
    {
      "cell_type": "code",
      "metadata": {
        "colab": {
          "base_uri": "https://localhost:8080/"
        },
        "id": "QhGMpugsdACt",
        "outputId": "fad18892-7281-4201-fe8a-df6bd5fd80eb"
      },
      "source": [
        "losses=[i.item() for i in test_loss]\n",
        "loss_term=np.mean(np.array(losses))\n",
        "print('Test loss: {}'.format(loss_term))"
      ],
      "execution_count": null,
      "outputs": [
        {
          "output_type": "stream",
          "text": [
            "Test loss: 0.24516627192497253\n"
          ],
          "name": "stdout"
        }
      ]
    },
    {
      "cell_type": "code",
      "metadata": {
        "id": "j2i6nfewdACt"
      },
      "source": [
        "RMS_losses.append(loss_term)"
      ],
      "execution_count": null,
      "outputs": []
    },
    {
      "cell_type": "code",
      "metadata": {
        "colab": {
          "base_uri": "https://localhost:8080/"
        },
        "id": "FjNK1iKJiOs6",
        "outputId": "e9066d9b-2803-4162-a51e-d2e8ce3c6b47"
      },
      "source": [
        "RMS_losses"
      ],
      "execution_count": null,
      "outputs": [
        {
          "output_type": "execute_result",
          "data": {
            "text/plain": [
              "[0.15149185061454773,\n",
              " 0.09899059683084488,\n",
              " 0.09352946281433105,\n",
              " 0.24516627192497253]"
            ]
          },
          "metadata": {
            "tags": []
          },
          "execution_count": 121
        }
      ]
    },
    {
      "cell_type": "code",
      "metadata": {
        "id": "0Vv57Ik9dc2d"
      },
      "source": [
        "RMS_losses.append(loss_term)"
      ],
      "execution_count": null,
      "outputs": []
    },
    {
      "cell_type": "code",
      "metadata": {
        "colab": {
          "base_uri": "https://localhost:8080/"
        },
        "id": "TE9dDazVdc2e",
        "outputId": "20308ae1-84a2-496b-d467-6e0dadfc7da6"
      },
      "source": [
        "RMS_accuracies"
      ],
      "execution_count": null,
      "outputs": [
        {
          "output_type": "execute_result",
          "data": {
            "text/plain": [
              "[96.71428571428571, 97.81904761904762, 97.37619047619047, 92.68095238095238]"
            ]
          },
          "metadata": {
            "tags": []
          },
          "execution_count": 123
        }
      ]
    },
    {
      "cell_type": "markdown",
      "metadata": {
        "id": "-JqI3xDtbevc"
      },
      "source": [
        "### Plotting bar graphs for accuracies and loss"
      ]
    },
    {
      "cell_type": "code",
      "metadata": {
        "colab": {
          "base_uri": "https://localhost:8080/",
          "height": 295
        },
        "id": "5VT1C397qrG1",
        "outputId": "2b4b6e6a-e0e3-402a-819d-fc97861a1be0"
      },
      "source": [
        "# plotting a bar chart\n",
        "left=[1,2,3,4]\n",
        "height=RMS_accuracies\n",
        "tick_label=['0.01','0.001','0.0005','0.0001']\n",
        "plt.bar(left, height, tick_label = tick_label,\n",
        "        width = 0.8, color = ['red', 'green','yellow','blue'])\n",
        "  \n",
        "# naming the x-axis\n",
        "plt.xlabel('Learning rates ')\n",
        "# naming the y-axis\n",
        "plt.ylabel('Test Accuracies')\n",
        "# plot title\n",
        "plt.title('Best Model Test Accuracies vs Learning Annealing')\n",
        "  \n",
        "# function to show the plot\n",
        "plt.show()"
      ],
      "execution_count": null,
      "outputs": [
        {
          "output_type": "display_data",
          "data": {
            "image/png": "[encoded data removed]",
            "text/plain": [
              "<Figure size 432x288 with 1 Axes>"
            ]
          },
          "metadata": {
            "tags": [],
            "needs_background": "light"
          }
        }
      ]
    },
    {
      "cell_type": "code",
      "metadata": {
        "colab": {
          "base_uri": "https://localhost:8080/",
          "height": 295
        },
        "id": "gcSYb96Lr0Ow",
        "outputId": "3cb0a59d-dbee-4ef8-94cd-c86022a360c7"
      },
      "source": [
        "# plotting a bar chart\n",
        "left=[1,2,3,4]\n",
        "height=RMS_losses\n",
        "tick_label=['0.01','0.001','0.0005','0.0001']\n",
        "plt.bar(left, height, tick_label = tick_label,\n",
        "        width = 0.8, color = ['red', 'green','yellow','blue'])\n",
        "  \n",
        "# naming the x-axis\n",
        "plt.xlabel('Learning rates ')\n",
        "# naming the y-axis\n",
        "plt.ylabel('Test Losses')\n",
        "# plot title\n",
        "plt.title('Best Model Test Losses vs Learning Annealing')\n",
        "  \n",
        "# function to show the plot\n",
        "plt.show()"
      ],
      "execution_count": null,
      "outputs": [
        {
          "output_type": "display_data",
          "data": {
            "image/png": "[encoded data removed]",
            "text/plain": [
              "<Figure size 432x288 with 1 Axes>"
            ]
          },
          "metadata": {
            "tags": [],
            "needs_background": "light"
          }
        }
      ]
    },
    {
      "cell_type": "code",
      "metadata": {
        "id": "WZ_Af1rfyELN"
      },
      "source": [
        ""
      ],
      "execution_count": null,
      "outputs": []
    },
    {
      "cell_type": "markdown",
      "metadata": {
        "id": "uYtfh1ssyJjL"
      },
      "source": [
        "## Part 2\n",
        "    In this section we will use the train,test data sets which are latent space representation obtained from under complete auto encoder of second question"
      ]
    },
    {
      "cell_type": "markdown",
      "metadata": {
        "id": "vTB68UXtHMhn"
      },
      "source": [
        "### Data preprocessing for latent space representation\n",
        "  we will load from numpy files and convert them into tensor data set inorder to convert them into data loader compatible data. After that we need to change the shapes of the y_train and y_test (i.e flatten) before calculating the loss "
      ]
    },
    {
      "cell_type": "code",
      "metadata": {
        "colab": {
          "base_uri": "https://localhost:8080/"
        },
        "id": "NWS7ZhoEM7sT",
        "outputId": "8ddfd05c-cccf-43bf-dfeb-0fe542ca9dda"
      },
      "source": [
        "train=np.load('train.npy')\n",
        "print(len(train))\n",
        "\n",
        "train_labels=np.load('train-labels.npy')\n",
        "print(len(train_labels))\n",
        "\n",
        "print(train[0])\n",
        "train.shape\n",
        "\n"
      ],
      "execution_count": null,
      "outputs": [
        {
          "output_type": "stream",
          "text": [
            "49000\n",
            "49000\n",
            "[ 0.          0.          0.          0.          0.          0.\n",
            "  0.          0.         13.00463295  0.         40.74394226  0.\n",
            "  0.          0.          0.          0.          0.          0.\n",
            "  0.          0.          6.00007248  0.          0.          0.\n",
            "  0.          0.          0.          0.          0.          0.\n",
            "  0.          0.          0.          8.37154865  0.          0.\n",
            " 21.28633308  0.          0.          0.        ]\n"
          ],
          "name": "stdout"
        },
        {
          "output_type": "execute_result",
          "data": {
            "text/plain": [
              "(49000, 40)"
            ]
          },
          "metadata": {
            "tags": []
          },
          "execution_count": 345
        }
      ]
    },
    {
      "cell_type": "code",
      "metadata": {
        "colab": {
          "base_uri": "https://localhost:8080/"
        },
        "id": "GtWPNjkRM7sV",
        "outputId": "e672fb76-c784-41f6-d9d8-19f8ef1a3bdd"
      },
      "source": [
        "test=np.load('test.npy')\n",
        "print(len(test))\n",
        "\n",
        "test_labels=np.load('test-labels.npy')\n",
        "print(len(test_labels))\n",
        "\n",
        "print(test[0])\n",
        "test.shape"
      ],
      "execution_count": null,
      "outputs": [
        {
          "output_type": "stream",
          "text": [
            "21000\n",
            "21000\n",
            "[ 0.          0.          0.          0.          0.          0.\n",
            "  0.          0.          0.          0.          0.          0.\n",
            "  0.          0.          0.          0.          0.          0.\n",
            " 23.8663826  15.17771339  0.          0.          0.          0.\n",
            "  0.          0.         22.32218361  0.          0.          0.\n",
            "  0.          0.          0.          0.         18.48301506  0.\n",
            "  0.          0.          0.          0.        ]\n"
          ],
          "name": "stdout"
        },
        {
          "output_type": "execute_result",
          "data": {
            "text/plain": [
              "(21000, 40)"
            ]
          },
          "metadata": {
            "tags": []
          },
          "execution_count": 346
        }
      ]
    },
    {
      "cell_type": "code",
      "metadata": {
        "id": "m7bpST0hjNHH",
        "colab": {
          "base_uri": "https://localhost:8080/"
        },
        "outputId": "ab2a1009-026e-409b-da4a-dcf301514131"
      },
      "source": [
        "y_test=test_labels   #.reshape(1,21000)\n",
        "#y_test=y_test[0]\n",
        "y_test"
      ],
      "execution_count": null,
      "outputs": [
        {
          "output_type": "execute_result",
          "data": {
            "text/plain": [
              "array([[   3],\n",
              "       [   0],\n",
              "       [   4],\n",
              "       ...,\n",
              "       [   0],\n",
              "       [   5],\n",
              "       [   5]])"
            ]
          },
          "metadata": {
            "tags": []
          },
          "execution_count": 383
        }
      ]
    },
    {
      "cell_type": "code",
      "metadata": {
        "colab": {
          "base_uri": "https://localhost:8080/"
        },
        "id": "IAoyoEQ26lhN",
        "outputId": "de8f773a-ab36-4761-f025-3be6ac95b505"
      },
      "source": [
        "y_train=train_labels    #.reshape(1,49000)\n",
        "#y_train=y_train[0]\n",
        "y_train"
      ],
      "execution_count": null,
      "outputs": [
        {
          "output_type": "execute_result",
          "data": {
            "text/plain": [
              "array([[9.],\n",
              "       [4.],\n",
              "       [1.],\n",
              "       ...,\n",
              "       [4.],\n",
              "       [9.],\n",
              "       [1.]])"
            ]
          },
          "metadata": {
            "tags": []
          },
          "execution_count": 384
        }
      ]
    },
    {
      "cell_type": "markdown",
      "metadata": {
        "id": "Zyy4FT805g0t"
      },
      "source": [
        " `we got best accuracy with Xavier weight intialisation and learning rate id 0.001`"
      ]
    },
    {
      "cell_type": "code",
      "metadata": {
        "colab": {
          "base_uri": "https://localhost:8080/"
        },
        "id": "472jRopS6J0V",
        "outputId": "74ee66c1-3292-4782-f101-5c725a52dc20"
      },
      "source": [
        "\n",
        "a = train\n",
        "train = torch.from_numpy(a)\n",
        "train"
      ],
      "execution_count": null,
      "outputs": [
        {
          "output_type": "execute_result",
          "data": {
            "text/plain": [
              "tensor([[0., 0., 0.,  ..., 0., 0., 0.],\n",
              "        [0., 0., 0.,  ..., 0., 0., 0.],\n",
              "        [0., 0., 0.,  ..., 0., 0., 0.],\n",
              "        ...,\n",
              "        [0., 0., 0.,  ..., 0., 0., 0.],\n",
              "        [0., 0., 0.,  ..., 0., 0., 0.],\n",
              "        [0., 0., 0.,  ..., 0., 0., 0.]], dtype=torch.float64)"
            ]
          },
          "metadata": {
            "tags": []
          },
          "execution_count": 340
        }
      ]
    },
    {
      "cell_type": "code",
      "metadata": {
        "colab": {
          "base_uri": "https://localhost:8080/"
        },
        "id": "wVWpAnGD6Ysl",
        "outputId": "194683fa-b76e-4fc8-9eea-b2677258719b"
      },
      "source": [
        "a = test\n",
        "test = torch.from_numpy(a)\n",
        "test"
      ],
      "execution_count": null,
      "outputs": [
        {
          "output_type": "execute_result",
          "data": {
            "text/plain": [
              "tensor([[ 0.0000,  0.0000,  0.0000,  ...,  0.0000,  0.0000,  0.0000],\n",
              "        [39.9069,  0.0000,  8.7847,  ...,  0.0000,  0.0000,  0.0000],\n",
              "        [ 0.0000,  0.0000,  0.0000,  ...,  0.0000,  0.0000,  0.0000],\n",
              "        ...,\n",
              "        [ 9.1359,  0.0000,  8.4719,  ...,  0.0000,  0.0000,  0.0000],\n",
              "        [ 0.0000,  0.0000,  0.0000,  ...,  0.0000,  0.0000,  0.0000],\n",
              "        [ 0.0000,  0.0000,  0.0000,  ...,  0.0000,  0.0000,  0.0000]],\n",
              "       dtype=torch.float64)"
            ]
          },
          "metadata": {
            "tags": []
          },
          "execution_count": 341
        }
      ]
    },
    {
      "cell_type": "markdown",
      "metadata": {
        "id": "GThbKbde7B8r"
      },
      "source": [
        "#### Reference : `https://stackoverflow.com/questions/44429199/how-to-load-a-list-of-numpy-arrays-to-pytorch-dataset-loader`"
      ]
    },
    {
      "cell_type": "code",
      "metadata": {
        "colab": {
          "base_uri": "https://localhost:8080/"
        },
        "id": "Fu_N4yvR6wt7",
        "outputId": "08b1cc4e-a410-4bc1-d656-994d793bd555"
      },
      "source": [
        "tensor_x = torch.Tensor(train) # transform to torch tensor\n",
        "tensor_y = torch.LongTensor(y_train)\n",
        "\n",
        "print(tensor_x.size())\n",
        "print(tensor_y.size())\n",
        "\n",
        "\n",
        "my_dataset = TensorDataset(tensor_x,tensor_y) # create your datset\n",
        "\n",
        "\n",
        "\n",
        "tensor_x_test= torch.Tensor(test) # transform to torch tensor\n",
        "tensor_y_test = torch.LongTensor(y_test)\n",
        "\n",
        "my_dataset_test = TensorDataset(tensor_x_test,tensor_y_test) # create your datset\n",
        "\n"
      ],
      "execution_count": null,
      "outputs": [
        {
          "output_type": "stream",
          "text": [
            "torch.Size([49000, 40])\n",
            "torch.Size([49000, 1])\n"
          ],
          "name": "stdout"
        }
      ]
    },
    {
      "cell_type": "code",
      "metadata": {
        "id": "nWpdfRY18ICH"
      },
      "source": [
        "new_train_loader = DataLoader(my_dataset,batch_size=100, shuffle=True)\n",
        "new_test_loader = DataLoader(my_dataset_test,batch_size=500, shuffle=False)"
      ],
      "execution_count": null,
      "outputs": []
    },
    {
      "cell_type": "markdown",
      "metadata": {
        "id": "GZmKHIOiHnf4"
      },
      "source": [
        "### Implementing model on data obtained from auto encoder \n"
      ]
    },
    {
      "cell_type": "code",
      "metadata": {
        "colab": {
          "base_uri": "https://localhost:8080/"
        },
        "id": "XVcgWcDN5Rd_",
        "outputId": "6bc14998-21aa-4155-d249-b6b809eb2793"
      },
      "source": [
        "torch.manual_seed(101)\n",
        "modelRMS = FeedForwardNetwork(in_sz=40)\n",
        "modelRMS"
      ],
      "execution_count": null,
      "outputs": [
        {
          "output_type": "execute_result",
          "data": {
            "text/plain": [
              "FeedForwardNetwork(\n",
              "  (fc1): Linear(in_features=40, out_features=256, bias=True)\n",
              "  (fc2): Linear(in_features=256, out_features=128, bias=True)\n",
              "  (fc3): Linear(in_features=128, out_features=64, bias=True)\n",
              "  (fc4): Linear(in_features=64, out_features=32, bias=True)\n",
              "  (fc5): Linear(in_features=32, out_features=10, bias=True)\n",
              ")"
            ]
          },
          "metadata": {
            "tags": []
          },
          "execution_count": 390
        }
      ]
    },
    {
      "cell_type": "code",
      "metadata": {
        "id": "CYZyj9J9Bnxp"
      },
      "source": [
        "criterion = nn.CrossEntropyLoss()\n",
        "optimizer = torch.optim.RMSprop(modelRMS.parameters(), lr=0.001)"
      ],
      "execution_count": null,
      "outputs": []
    },
    {
      "cell_type": "code",
      "metadata": {
        "id": "oQP6ddTBBnyI"
      },
      "source": [
        "def count_parameters(model):\n",
        "    params = [p.numel() for p in model.parameters() if p.requires_grad]\n",
        "    for item in params:\n",
        "        print(f'{item:>6}')\n",
        "    print(f'______\\n{sum(params):>6}')"
      ],
      "execution_count": null,
      "outputs": []
    },
    {
      "cell_type": "code",
      "metadata": {
        "colab": {
          "base_uri": "https://localhost:8080/"
        },
        "id": "-VtvoR9MBnyJ",
        "outputId": "6f75a85a-0467-445d-8591-626688d37d7d"
      },
      "source": [
        "count_parameters(modelRMS)"
      ],
      "execution_count": null,
      "outputs": [
        {
          "output_type": "stream",
          "text": [
            " 10240\n",
            "   256\n",
            " 32768\n",
            "   128\n",
            "  8192\n",
            "    64\n",
            "  2048\n",
            "    32\n",
            "   320\n",
            "    10\n",
            "______\n",
            " 54058\n"
          ],
          "name": "stdout"
        }
      ]
    },
    {
      "cell_type": "code",
      "metadata": {
        "colab": {
          "base_uri": "https://localhost:8080/"
        },
        "id": "ImR7lTpy9Gl6",
        "outputId": "1f6ec81c-18aa-4937-83bb-891bd6de4750"
      },
      "source": [
        "\n",
        "import time\n",
        "start_time = time.time()\n",
        "\n",
        "epochs = 10\n",
        "train_losses = []\n",
        "test_losses = []\n",
        "train_correct = []\n",
        "test_correct = []\n",
        "\n",
        "for i in range(epochs):\n",
        "    trn_corr = 0\n",
        "    tst_corr = 0\n",
        "    \n",
        "    # Run the training batches\n",
        "    loss=0\n",
        "    for b, (X_train, y_train) in enumerate(new_train_loader):\n",
        "\n",
        "        b+=1\n",
        "        # Apply the model\n",
        "        y_pred= modelRMS(X_train.view(100, -1))  # Here we flatten X_train\n",
        "        y_train=torch.reshape(y_train,(-1,))\n",
        "        #print(y_train.size())\n",
        "        #print(y_pred.size())\n",
        "        #break\n",
        "        loss = criterion(y_pred, y_train)\n",
        "\n",
        "        # Tally the number of correct predictions\n",
        "        predicted = torch.max(y_pred.data, 1)[1]\n",
        "        batch_corr = (predicted == y_train).sum()\n",
        "        trn_corr += batch_corr\n",
        "        \n",
        "        # Update parameters\n",
        "        optimizer.zero_grad()\n",
        "        loss.backward()\n",
        "        optimizer.step()\n",
        "        \n",
        "        # Print interim results\n",
        "        if b%200 == 0:\n",
        "            print(f'epoch: {i:2}  batch: {b:4} [{100*b:6}/49000]  loss: {loss.item():10.8f}  \\\n",
        "accuracy: {trn_corr.item()*100/(100*b):7.3f}%')\n",
        "    \n",
        "    # Update train loss & accuracy for the epoch\n",
        "    #break\n",
        "    train_losses.append(loss)\n",
        "    train_correct.append(trn_corr)\n",
        "    # Run the testing batches\n",
        "    with torch.no_grad():\n",
        "        for b, (X_test, y_test) in enumerate(new_test_loader):\n",
        "            y_test=torch.reshape(y_test,(-1,))\n",
        "\n",
        "            # Apply the model\n",
        "            y_val = modelRMS(X_test.view(500, -1))  # Here we flatten X_test\n",
        "\n",
        "            # Tally the number of correct predictions\n",
        "            predicted = torch.max(y_val.data, 1)[1] \n",
        "            tst_corr += (predicted == y_test).sum()\n",
        "    \n",
        "    # Update test loss & accuracy for the epoch\n",
        "    loss = criterion(y_val, y_test)\n",
        "    test_losses.append(loss)\n",
        "    test_correct.append(tst_corr)\n",
        "        \n",
        "print(f'\\nDuration: {time.time() - start_time:.0f} seconds') # print the time elapsed "
      ],
      "execution_count": null,
      "outputs": [
        {
          "output_type": "stream",
          "text": [
            "epoch:  0  batch:  200 [ 20000/49000]  loss: 0.09560195  accuracy:  96.460%\n",
            "epoch:  0  batch:  400 [ 40000/49000]  loss: 0.05919057  accuracy:  97.188%\n",
            "epoch:  1  batch:  200 [ 20000/49000]  loss: 0.17038815  accuracy:  97.920%\n",
            "epoch:  1  batch:  400 [ 40000/49000]  loss: 0.07218672  accuracy:  97.942%\n",
            "epoch:  2  batch:  200 [ 20000/49000]  loss: 0.08683226  accuracy:  98.025%\n",
            "epoch:  2  batch:  400 [ 40000/49000]  loss: 0.04515415  accuracy:  98.050%\n",
            "epoch:  3  batch:  200 [ 20000/49000]  loss: 0.06211601  accuracy:  98.045%\n",
            "epoch:  3  batch:  400 [ 40000/49000]  loss: 0.01809677  accuracy:  98.065%\n",
            "epoch:  4  batch:  200 [ 20000/49000]  loss: 0.06983701  accuracy:  98.205%\n",
            "epoch:  4  batch:  400 [ 40000/49000]  loss: 0.07771728  accuracy:  98.220%\n",
            "epoch:  5  batch:  200 [ 20000/49000]  loss: 0.14115325  accuracy:  98.170%\n",
            "epoch:  5  batch:  400 [ 40000/49000]  loss: 0.01515488  accuracy:  98.170%\n",
            "epoch:  6  batch:  200 [ 20000/49000]  loss: 0.01242213  accuracy:  98.110%\n",
            "epoch:  6  batch:  400 [ 40000/49000]  loss: 0.02043397  accuracy:  98.147%\n",
            "epoch:  7  batch:  200 [ 20000/49000]  loss: 0.03433401  accuracy:  98.225%\n",
            "epoch:  7  batch:  400 [ 40000/49000]  loss: 0.23823938  accuracy:  98.278%\n",
            "epoch:  8  batch:  200 [ 20000/49000]  loss: 0.21712765  accuracy:  98.375%\n",
            "epoch:  8  batch:  400 [ 40000/49000]  loss: 0.12434209  accuracy:  98.290%\n",
            "epoch:  9  batch:  200 [ 20000/49000]  loss: 0.04540911  accuracy:  98.365%\n",
            "epoch:  9  batch:  400 [ 40000/49000]  loss: 0.01255488  accuracy:  98.343%\n",
            "\n",
            "Duration: 17 seconds\n"
          ],
          "name": "stdout"
        }
      ]
    },
    {
      "cell_type": "code",
      "metadata": {
        "colab": {
          "base_uri": "https://localhost:8080/",
          "height": 281
        },
        "id": "k8qIOq5b8con",
        "outputId": "e061ce95-0556-44c5-aa9c-23f751199f3d"
      },
      "source": [
        "plot_loss(train_losses,test_losses)"
      ],
      "execution_count": null,
      "outputs": [
        {
          "output_type": "display_data",
          "data": {
            "image/png": "[encoded data removed]",
            "text/plain": [
              "<Figure size 432x288 with 1 Axes>"
            ]
          },
          "metadata": {
            "tags": [],
            "needs_background": "light"
          }
        }
      ]
    },
    {
      "cell_type": "code",
      "metadata": {
        "colab": {
          "base_uri": "https://localhost:8080/",
          "height": 281
        },
        "id": "n9HzGXT78coo",
        "outputId": "a634d39c-091a-4ba0-fabb-e9ec4214c66c"
      },
      "source": [
        "plot_accuracy(train_correct,test_correct)"
      ],
      "execution_count": null,
      "outputs": [
        {
          "output_type": "display_data",
          "data": {
            "image/png": "[encoded data removed]",
            "text/plain": [
              "<Figure size 432x288 with 1 Axes>"
            ]
          },
          "metadata": {
            "tags": [],
            "needs_background": "light"
          }
        }
      ]
    },
    {
      "cell_type": "code",
      "metadata": {
        "colab": {
          "base_uri": "https://localhost:8080/"
        },
        "id": "OePxOcMkDK1u",
        "outputId": "42361351-0167-42d1-e8e0-e46c0f9c25ca"
      },
      "source": [
        "len(my_dataset_test)"
      ],
      "execution_count": null,
      "outputs": [
        {
          "output_type": "execute_result",
          "data": {
            "text/plain": [
              "21000"
            ]
          },
          "metadata": {
            "tags": []
          },
          "execution_count": 400
        }
      ]
    },
    {
      "cell_type": "code",
      "metadata": {
        "colab": {
          "base_uri": "https://localhost:8080/"
        },
        "id": "CgfuketvGL2H",
        "outputId": "7d8e6f24-a076-4b7c-cd96-7e55541617b1"
      },
      "source": [
        "test_load_all = DataLoader(my_dataset_test, batch_size=21000, shuffle=False)\n",
        "test_load_all"
      ],
      "execution_count": null,
      "outputs": [
        {
          "output_type": "execute_result",
          "data": {
            "text/plain": [
              "<torch.utils.data.dataloader.DataLoader at 0x7fc7ad3ca350>"
            ]
          },
          "metadata": {
            "tags": []
          },
          "execution_count": 408
        }
      ]
    },
    {
      "cell_type": "code",
      "metadata": {
        "colab": {
          "base_uri": "https://localhost:8080/"
        },
        "id": "SbI7EP_U8coo",
        "outputId": "b51d2d37-713c-4c75-8159-bff3ffe6546d"
      },
      "source": [
        "\n",
        "test_losses=[]\n",
        "\n",
        "with torch.no_grad():\n",
        "  correct = 0\n",
        "  loss=0\n",
        "  for X_test, y_test in test_load_all:\n",
        "    y_test=torch.reshape(y_test,(-1,))\n",
        "    y_val = modelRMS(X_test.view(len(X_test), -1))  # pass in a flattened view of X_test\n",
        "    \n",
        "    predicted = torch.max(y_val,1)[1]\n",
        "    \n",
        "    correct += (predicted == y_test).sum()    \n",
        "    \n",
        "    loss = criterion(y_val, y_test)\n",
        "\n",
        "  test_losses.append(loss)\n",
        "    \n",
        "  print(f'Test accuracy: {correct.item()}/{len(my_dataset_test)} = {correct.item()*100/(len(my_dataset_test)):7.3f}%')"
      ],
      "execution_count": null,
      "outputs": [
        {
          "output_type": "stream",
          "text": [
            "Test accuracy: 20301/21000 =  96.671%\n"
          ],
          "name": "stdout"
        }
      ]
    },
    {
      "cell_type": "code",
      "metadata": {
        "colab": {
          "base_uri": "https://localhost:8080/"
        },
        "id": "YGYRelA58cop",
        "outputId": "d3bd2598-e8cf-45c8-fec3-26e09927456e"
      },
      "source": [
        "losses=[i.item() for i in test_losses]\n",
        "loss_term=np.mean(np.array(losses))\n",
        "print('Test loss: {}'.format(loss_term))"
      ],
      "execution_count": null,
      "outputs": [
        {
          "output_type": "stream",
          "text": [
            "Test loss: 0.1574525088071823\n"
          ],
          "name": "stdout"
        }
      ]
    },
    {
      "cell_type": "markdown",
      "metadata": {
        "id": "YjubVI5aGnCh"
      },
      "source": [
        "### Observations:\n",
        "  We can clearly observe that test accuracy from best model is 97.505% and the test accuracy from latent space representation is 96.671% which near to the best model. So our model is performing good on the latent space representation. there is minute decrease in accuracy which is expected. training accuracy is also high"
      ]
    },
    {
      "cell_type": "code",
      "metadata": {
        "id": "Jl72O4tHHzq4"
      },
      "source": [
        ""
      ],
      "execution_count": null,
      "outputs": []
    }
  ]
}
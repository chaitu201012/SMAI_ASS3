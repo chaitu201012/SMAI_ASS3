{
  "nbformat": 4,
  "nbformat_minor": 0,
  "metadata": {
    "colab": {
      "name": "DL-Ques4.ipynb",
      "provenance": [],
      "collapsed_sections": [
        "90j6aOGvdW4M",
        "qnovpiCXAsGw",
        "x9xeokz6AsGx",
        "-8N9b9BQNPGg",
        "IGohAH1mAsG0",
        "Xrrbzh3eiWQt",
        "EvFgwykwAsG6",
        "Kjx3yETlqLL1",
        "gadmouow5cZo",
        "pqDIZ5VcrDwh",
        "cZHDa8vfhn71",
        "ozIWnyM4qdfL",
        "5bgs7MUeP4WV",
        "c-UKk1A1NWik",
        "A6E_A5wDNiVY",
        "1aytCFg5ON-H",
        "3qDZsEPhdcbC",
        "iZxS28nWuyqO",
        "wfqEFg39rsQW",
        "_OXc_YUkxE6-",
        "2hTQpVMX0GsU",
        "IW700GrKRj8r",
        "PeZqYAQPaWgz",
        "BE9dCQFjgzrz",
        "qHB6VHQAhCsA",
        "og1BV64hqSN5"
      ]
    },
    "kernelspec": {
      "name": "python3",
      "display_name": "Python 3"
    },
    "language_info": {
      "name": "python"
    },
    "widgets": {
      "application/vnd.jupyter.widget-state+json": {
        "da8edcf7874e44e0bc13018fbee19e14": {
          "model_module": "@jupyter-widgets/controls",
          "model_name": "HBoxModel",
          "state": {
            "_view_name": "HBoxView",
            "_dom_classes": [],
            "_model_name": "HBoxModel",
            "_view_module": "@jupyter-widgets/controls",
            "_model_module_version": "1.5.0",
            "_view_count": null,
            "_view_module_version": "1.5.0",
            "box_style": "",
            "layout": "IPY_MODEL_f250027285784ce2a92942d4172cb7af",
            "_model_module": "@jupyter-widgets/controls",
            "children": [
              "IPY_MODEL_7553e20cd400412990317fbf500ed382",
              "IPY_MODEL_9f49252631624bf6bf48a2b7f8beb23e"
            ]
          }
        },
        "f250027285784ce2a92942d4172cb7af": {
          "model_module": "@jupyter-widgets/base",
          "model_name": "LayoutModel",
          "state": {
            "_view_name": "LayoutView",
            "grid_template_rows": null,
            "right": null,
            "justify_content": null,
            "_view_module": "@jupyter-widgets/base",
            "overflow": null,
            "_model_module_version": "1.2.0",
            "_view_count": null,
            "flex_flow": null,
            "width": null,
            "min_width": null,
            "border": null,
            "align_items": null,
            "bottom": null,
            "_model_module": "@jupyter-widgets/base",
            "top": null,
            "grid_column": null,
            "overflow_y": null,
            "overflow_x": null,
            "grid_auto_flow": null,
            "grid_area": null,
            "grid_template_columns": null,
            "flex": null,
            "_model_name": "LayoutModel",
            "justify_items": null,
            "grid_row": null,
            "max_height": null,
            "align_content": null,
            "visibility": null,
            "align_self": null,
            "height": null,
            "min_height": null,
            "padding": null,
            "grid_auto_rows": null,
            "grid_gap": null,
            "max_width": null,
            "order": null,
            "_view_module_version": "1.2.0",
            "grid_template_areas": null,
            "object_position": null,
            "object_fit": null,
            "grid_auto_columns": null,
            "margin": null,
            "display": null,
            "left": null
          }
        },
        "7553e20cd400412990317fbf500ed382": {
          "model_module": "@jupyter-widgets/controls",
          "model_name": "FloatProgressModel",
          "state": {
            "_view_name": "ProgressView",
            "style": "IPY_MODEL_20c98f1d28a9450a87306125b7e5ceac",
            "_dom_classes": [],
            "description": "",
            "_model_name": "FloatProgressModel",
            "bar_style": "success",
            "max": 9912422,
            "_view_module": "@jupyter-widgets/controls",
            "_model_module_version": "1.5.0",
            "value": 9912422,
            "_view_count": null,
            "_view_module_version": "1.5.0",
            "orientation": "horizontal",
            "min": 0,
            "description_tooltip": null,
            "_model_module": "@jupyter-widgets/controls",
            "layout": "IPY_MODEL_3391eabfbcbd46849ae7e2e07ddc9761"
          }
        },
        "9f49252631624bf6bf48a2b7f8beb23e": {
          "model_module": "@jupyter-widgets/controls",
          "model_name": "HTMLModel",
          "state": {
            "_view_name": "HTMLView",
            "style": "IPY_MODEL_f1f04897018c461db29dd6e7bf680a0f",
            "_dom_classes": [],
            "description": "",
            "_model_name": "HTMLModel",
            "placeholder": "​",
            "_view_module": "@jupyter-widgets/controls",
            "_model_module_version": "1.5.0",
            "value": " 9913344/? [00:01&lt;00:00, 5172477.81it/s]",
            "_view_count": null,
            "_view_module_version": "1.5.0",
            "description_tooltip": null,
            "_model_module": "@jupyter-widgets/controls",
            "layout": "IPY_MODEL_0430345754604ee79eac059fbf0f2cdc"
          }
        },
        "20c98f1d28a9450a87306125b7e5ceac": {
          "model_module": "@jupyter-widgets/controls",
          "model_name": "ProgressStyleModel",
          "state": {
            "_view_name": "StyleView",
            "_model_name": "ProgressStyleModel",
            "description_width": "initial",
            "_view_module": "@jupyter-widgets/base",
            "_model_module_version": "1.5.0",
            "_view_count": null,
            "_view_module_version": "1.2.0",
            "bar_color": null,
            "_model_module": "@jupyter-widgets/controls"
          }
        },
        "3391eabfbcbd46849ae7e2e07ddc9761": {
          "model_module": "@jupyter-widgets/base",
          "model_name": "LayoutModel",
          "state": {
            "_view_name": "LayoutView",
            "grid_template_rows": null,
            "right": null,
            "justify_content": null,
            "_view_module": "@jupyter-widgets/base",
            "overflow": null,
            "_model_module_version": "1.2.0",
            "_view_count": null,
            "flex_flow": null,
            "width": null,
            "min_width": null,
            "border": null,
            "align_items": null,
            "bottom": null,
            "_model_module": "@jupyter-widgets/base",
            "top": null,
            "grid_column": null,
            "overflow_y": null,
            "overflow_x": null,
            "grid_auto_flow": null,
            "grid_area": null,
            "grid_template_columns": null,
            "flex": null,
            "_model_name": "LayoutModel",
            "justify_items": null,
            "grid_row": null,
            "max_height": null,
            "align_content": null,
            "visibility": null,
            "align_self": null,
            "height": null,
            "min_height": null,
            "padding": null,
            "grid_auto_rows": null,
            "grid_gap": null,
            "max_width": null,
            "order": null,
            "_view_module_version": "1.2.0",
            "grid_template_areas": null,
            "object_position": null,
            "object_fit": null,
            "grid_auto_columns": null,
            "margin": null,
            "display": null,
            "left": null
          }
        },
        "f1f04897018c461db29dd6e7bf680a0f": {
          "model_module": "@jupyter-widgets/controls",
          "model_name": "DescriptionStyleModel",
          "state": {
            "_view_name": "StyleView",
            "_model_name": "DescriptionStyleModel",
            "description_width": "",
            "_view_module": "@jupyter-widgets/base",
            "_model_module_version": "1.5.0",
            "_view_count": null,
            "_view_module_version": "1.2.0",
            "_model_module": "@jupyter-widgets/controls"
          }
        },
        "0430345754604ee79eac059fbf0f2cdc": {
          "model_module": "@jupyter-widgets/base",
          "model_name": "LayoutModel",
          "state": {
            "_view_name": "LayoutView",
            "grid_template_rows": null,
            "right": null,
            "justify_content": null,
            "_view_module": "@jupyter-widgets/base",
            "overflow": null,
            "_model_module_version": "1.2.0",
            "_view_count": null,
            "flex_flow": null,
            "width": null,
            "min_width": null,
            "border": null,
            "align_items": null,
            "bottom": null,
            "_model_module": "@jupyter-widgets/base",
            "top": null,
            "grid_column": null,
            "overflow_y": null,
            "overflow_x": null,
            "grid_auto_flow": null,
            "grid_area": null,
            "grid_template_columns": null,
            "flex": null,
            "_model_name": "LayoutModel",
            "justify_items": null,
            "grid_row": null,
            "max_height": null,
            "align_content": null,
            "visibility": null,
            "align_self": null,
            "height": null,
            "min_height": null,
            "padding": null,
            "grid_auto_rows": null,
            "grid_gap": null,
            "max_width": null,
            "order": null,
            "_view_module_version": "1.2.0",
            "grid_template_areas": null,
            "object_position": null,
            "object_fit": null,
            "grid_auto_columns": null,
            "margin": null,
            "display": null,
            "left": null
          }
        },
        "998686e8b00645e092cd7c09013fe1f0": {
          "model_module": "@jupyter-widgets/controls",
          "model_name": "HBoxModel",
          "state": {
            "_view_name": "HBoxView",
            "_dom_classes": [],
            "_model_name": "HBoxModel",
            "_view_module": "@jupyter-widgets/controls",
            "_model_module_version": "1.5.0",
            "_view_count": null,
            "_view_module_version": "1.5.0",
            "box_style": "",
            "layout": "IPY_MODEL_b6ab45a97eb040cda1d31bb6f2f7bc2b",
            "_model_module": "@jupyter-widgets/controls",
            "children": [
              "IPY_MODEL_b5993695849e46b980a24f394f6b4b2b",
              "IPY_MODEL_f1462dde544d4a64a632503b268584fb"
            ]
          }
        },
        "b6ab45a97eb040cda1d31bb6f2f7bc2b": {
          "model_module": "@jupyter-widgets/base",
          "model_name": "LayoutModel",
          "state": {
            "_view_name": "LayoutView",
            "grid_template_rows": null,
            "right": null,
            "justify_content": null,
            "_view_module": "@jupyter-widgets/base",
            "overflow": null,
            "_model_module_version": "1.2.0",
            "_view_count": null,
            "flex_flow": null,
            "width": null,
            "min_width": null,
            "border": null,
            "align_items": null,
            "bottom": null,
            "_model_module": "@jupyter-widgets/base",
            "top": null,
            "grid_column": null,
            "overflow_y": null,
            "overflow_x": null,
            "grid_auto_flow": null,
            "grid_area": null,
            "grid_template_columns": null,
            "flex": null,
            "_model_name": "LayoutModel",
            "justify_items": null,
            "grid_row": null,
            "max_height": null,
            "align_content": null,
            "visibility": null,
            "align_self": null,
            "height": null,
            "min_height": null,
            "padding": null,
            "grid_auto_rows": null,
            "grid_gap": null,
            "max_width": null,
            "order": null,
            "_view_module_version": "1.2.0",
            "grid_template_areas": null,
            "object_position": null,
            "object_fit": null,
            "grid_auto_columns": null,
            "margin": null,
            "display": null,
            "left": null
          }
        },
        "b5993695849e46b980a24f394f6b4b2b": {
          "model_module": "@jupyter-widgets/controls",
          "model_name": "FloatProgressModel",
          "state": {
            "_view_name": "ProgressView",
            "style": "IPY_MODEL_4825a0cecaec4ac098eb68e8102c2534",
            "_dom_classes": [],
            "description": "",
            "_model_name": "FloatProgressModel",
            "bar_style": "success",
            "max": 28881,
            "_view_module": "@jupyter-widgets/controls",
            "_model_module_version": "1.5.0",
            "value": 28881,
            "_view_count": null,
            "_view_module_version": "1.5.0",
            "orientation": "horizontal",
            "min": 0,
            "description_tooltip": null,
            "_model_module": "@jupyter-widgets/controls",
            "layout": "IPY_MODEL_1652f57edb1440ef9cf9dcceed6c5621"
          }
        },
        "f1462dde544d4a64a632503b268584fb": {
          "model_module": "@jupyter-widgets/controls",
          "model_name": "HTMLModel",
          "state": {
            "_view_name": "HTMLView",
            "style": "IPY_MODEL_f6dcde723c1e4ef6820a2f3e7bec62a6",
            "_dom_classes": [],
            "description": "",
            "_model_name": "HTMLModel",
            "placeholder": "​",
            "_view_module": "@jupyter-widgets/controls",
            "_model_module_version": "1.5.0",
            "value": " 29696/? [00:00&lt;00:00, 65720.34it/s]",
            "_view_count": null,
            "_view_module_version": "1.5.0",
            "description_tooltip": null,
            "_model_module": "@jupyter-widgets/controls",
            "layout": "IPY_MODEL_151506badde549f7b49882134968cd37"
          }
        },
        "4825a0cecaec4ac098eb68e8102c2534": {
          "model_module": "@jupyter-widgets/controls",
          "model_name": "ProgressStyleModel",
          "state": {
            "_view_name": "StyleView",
            "_model_name": "ProgressStyleModel",
            "description_width": "initial",
            "_view_module": "@jupyter-widgets/base",
            "_model_module_version": "1.5.0",
            "_view_count": null,
            "_view_module_version": "1.2.0",
            "bar_color": null,
            "_model_module": "@jupyter-widgets/controls"
          }
        },
        "1652f57edb1440ef9cf9dcceed6c5621": {
          "model_module": "@jupyter-widgets/base",
          "model_name": "LayoutModel",
          "state": {
            "_view_name": "LayoutView",
            "grid_template_rows": null,
            "right": null,
            "justify_content": null,
            "_view_module": "@jupyter-widgets/base",
            "overflow": null,
            "_model_module_version": "1.2.0",
            "_view_count": null,
            "flex_flow": null,
            "width": null,
            "min_width": null,
            "border": null,
            "align_items": null,
            "bottom": null,
            "_model_module": "@jupyter-widgets/base",
            "top": null,
            "grid_column": null,
            "overflow_y": null,
            "overflow_x": null,
            "grid_auto_flow": null,
            "grid_area": null,
            "grid_template_columns": null,
            "flex": null,
            "_model_name": "LayoutModel",
            "justify_items": null,
            "grid_row": null,
            "max_height": null,
            "align_content": null,
            "visibility": null,
            "align_self": null,
            "height": null,
            "min_height": null,
            "padding": null,
            "grid_auto_rows": null,
            "grid_gap": null,
            "max_width": null,
            "order": null,
            "_view_module_version": "1.2.0",
            "grid_template_areas": null,
            "object_position": null,
            "object_fit": null,
            "grid_auto_columns": null,
            "margin": null,
            "display": null,
            "left": null
          }
        },
        "f6dcde723c1e4ef6820a2f3e7bec62a6": {
          "model_module": "@jupyter-widgets/controls",
          "model_name": "DescriptionStyleModel",
          "state": {
            "_view_name": "StyleView",
            "_model_name": "DescriptionStyleModel",
            "description_width": "",
            "_view_module": "@jupyter-widgets/base",
            "_model_module_version": "1.5.0",
            "_view_count": null,
            "_view_module_version": "1.2.0",
            "_model_module": "@jupyter-widgets/controls"
          }
        },
        "151506badde549f7b49882134968cd37": {
          "model_module": "@jupyter-widgets/base",
          "model_name": "LayoutModel",
          "state": {
            "_view_name": "LayoutView",
            "grid_template_rows": null,
            "right": null,
            "justify_content": null,
            "_view_module": "@jupyter-widgets/base",
            "overflow": null,
            "_model_module_version": "1.2.0",
            "_view_count": null,
            "flex_flow": null,
            "width": null,
            "min_width": null,
            "border": null,
            "align_items": null,
            "bottom": null,
            "_model_module": "@jupyter-widgets/base",
            "top": null,
            "grid_column": null,
            "overflow_y": null,
            "overflow_x": null,
            "grid_auto_flow": null,
            "grid_area": null,
            "grid_template_columns": null,
            "flex": null,
            "_model_name": "LayoutModel",
            "justify_items": null,
            "grid_row": null,
            "max_height": null,
            "align_content": null,
            "visibility": null,
            "align_self": null,
            "height": null,
            "min_height": null,
            "padding": null,
            "grid_auto_rows": null,
            "grid_gap": null,
            "max_width": null,
            "order": null,
            "_view_module_version": "1.2.0",
            "grid_template_areas": null,
            "object_position": null,
            "object_fit": null,
            "grid_auto_columns": null,
            "margin": null,
            "display": null,
            "left": null
          }
        },
        "d7367331dea549f9addd22f5692197e8": {
          "model_module": "@jupyter-widgets/controls",
          "model_name": "HBoxModel",
          "state": {
            "_view_name": "HBoxView",
            "_dom_classes": [],
            "_model_name": "HBoxModel",
            "_view_module": "@jupyter-widgets/controls",
            "_model_module_version": "1.5.0",
            "_view_count": null,
            "_view_module_version": "1.5.0",
            "box_style": "",
            "layout": "IPY_MODEL_895e58c5c8f948fbbc02945fb1e122eb",
            "_model_module": "@jupyter-widgets/controls",
            "children": [
              "IPY_MODEL_2a8818b5fd4a463ba0cde49a283abb5e",
              "IPY_MODEL_49a44bb044434b938074d68c7d312664"
            ]
          }
        },
        "895e58c5c8f948fbbc02945fb1e122eb": {
          "model_module": "@jupyter-widgets/base",
          "model_name": "LayoutModel",
          "state": {
            "_view_name": "LayoutView",
            "grid_template_rows": null,
            "right": null,
            "justify_content": null,
            "_view_module": "@jupyter-widgets/base",
            "overflow": null,
            "_model_module_version": "1.2.0",
            "_view_count": null,
            "flex_flow": null,
            "width": null,
            "min_width": null,
            "border": null,
            "align_items": null,
            "bottom": null,
            "_model_module": "@jupyter-widgets/base",
            "top": null,
            "grid_column": null,
            "overflow_y": null,
            "overflow_x": null,
            "grid_auto_flow": null,
            "grid_area": null,
            "grid_template_columns": null,
            "flex": null,
            "_model_name": "LayoutModel",
            "justify_items": null,
            "grid_row": null,
            "max_height": null,
            "align_content": null,
            "visibility": null,
            "align_self": null,
            "height": null,
            "min_height": null,
            "padding": null,
            "grid_auto_rows": null,
            "grid_gap": null,
            "max_width": null,
            "order": null,
            "_view_module_version": "1.2.0",
            "grid_template_areas": null,
            "object_position": null,
            "object_fit": null,
            "grid_auto_columns": null,
            "margin": null,
            "display": null,
            "left": null
          }
        },
        "2a8818b5fd4a463ba0cde49a283abb5e": {
          "model_module": "@jupyter-widgets/controls",
          "model_name": "FloatProgressModel",
          "state": {
            "_view_name": "ProgressView",
            "style": "IPY_MODEL_27a285bf1b594430abb74f88a947705f",
            "_dom_classes": [],
            "description": "",
            "_model_name": "FloatProgressModel",
            "bar_style": "success",
            "max": 1648877,
            "_view_module": "@jupyter-widgets/controls",
            "_model_module_version": "1.5.0",
            "value": 1648877,
            "_view_count": null,
            "_view_module_version": "1.5.0",
            "orientation": "horizontal",
            "min": 0,
            "description_tooltip": null,
            "_model_module": "@jupyter-widgets/controls",
            "layout": "IPY_MODEL_50d337cc87164ca694c6591896cb191e"
          }
        },
        "49a44bb044434b938074d68c7d312664": {
          "model_module": "@jupyter-widgets/controls",
          "model_name": "HTMLModel",
          "state": {
            "_view_name": "HTMLView",
            "style": "IPY_MODEL_6c2d8cf9d63e4b3aa78c9e02a24d24f4",
            "_dom_classes": [],
            "description": "",
            "_model_name": "HTMLModel",
            "placeholder": "​",
            "_view_module": "@jupyter-widgets/controls",
            "_model_module_version": "1.5.0",
            "value": " 1649664/? [00:00&lt;00:00, 5852736.02it/s]",
            "_view_count": null,
            "_view_module_version": "1.5.0",
            "description_tooltip": null,
            "_model_module": "@jupyter-widgets/controls",
            "layout": "IPY_MODEL_7aae30ebc2064c4cb979ab16aa766d45"
          }
        },
        "27a285bf1b594430abb74f88a947705f": {
          "model_module": "@jupyter-widgets/controls",
          "model_name": "ProgressStyleModel",
          "state": {
            "_view_name": "StyleView",
            "_model_name": "ProgressStyleModel",
            "description_width": "initial",
            "_view_module": "@jupyter-widgets/base",
            "_model_module_version": "1.5.0",
            "_view_count": null,
            "_view_module_version": "1.2.0",
            "bar_color": null,
            "_model_module": "@jupyter-widgets/controls"
          }
        },
        "50d337cc87164ca694c6591896cb191e": {
          "model_module": "@jupyter-widgets/base",
          "model_name": "LayoutModel",
          "state": {
            "_view_name": "LayoutView",
            "grid_template_rows": null,
            "right": null,
            "justify_content": null,
            "_view_module": "@jupyter-widgets/base",
            "overflow": null,
            "_model_module_version": "1.2.0",
            "_view_count": null,
            "flex_flow": null,
            "width": null,
            "min_width": null,
            "border": null,
            "align_items": null,
            "bottom": null,
            "_model_module": "@jupyter-widgets/base",
            "top": null,
            "grid_column": null,
            "overflow_y": null,
            "overflow_x": null,
            "grid_auto_flow": null,
            "grid_area": null,
            "grid_template_columns": null,
            "flex": null,
            "_model_name": "LayoutModel",
            "justify_items": null,
            "grid_row": null,
            "max_height": null,
            "align_content": null,
            "visibility": null,
            "align_self": null,
            "height": null,
            "min_height": null,
            "padding": null,
            "grid_auto_rows": null,
            "grid_gap": null,
            "max_width": null,
            "order": null,
            "_view_module_version": "1.2.0",
            "grid_template_areas": null,
            "object_position": null,
            "object_fit": null,
            "grid_auto_columns": null,
            "margin": null,
            "display": null,
            "left": null
          }
        },
        "6c2d8cf9d63e4b3aa78c9e02a24d24f4": {
          "model_module": "@jupyter-widgets/controls",
          "model_name": "DescriptionStyleModel",
          "state": {
            "_view_name": "StyleView",
            "_model_name": "DescriptionStyleModel",
            "description_width": "",
            "_view_module": "@jupyter-widgets/base",
            "_model_module_version": "1.5.0",
            "_view_count": null,
            "_view_module_version": "1.2.0",
            "_model_module": "@jupyter-widgets/controls"
          }
        },
        "7aae30ebc2064c4cb979ab16aa766d45": {
          "model_module": "@jupyter-widgets/base",
          "model_name": "LayoutModel",
          "state": {
            "_view_name": "LayoutView",
            "grid_template_rows": null,
            "right": null,
            "justify_content": null,
            "_view_module": "@jupyter-widgets/base",
            "overflow": null,
            "_model_module_version": "1.2.0",
            "_view_count": null,
            "flex_flow": null,
            "width": null,
            "min_width": null,
            "border": null,
            "align_items": null,
            "bottom": null,
            "_model_module": "@jupyter-widgets/base",
            "top": null,
            "grid_column": null,
            "overflow_y": null,
            "overflow_x": null,
            "grid_auto_flow": null,
            "grid_area": null,
            "grid_template_columns": null,
            "flex": null,
            "_model_name": "LayoutModel",
            "justify_items": null,
            "grid_row": null,
            "max_height": null,
            "align_content": null,
            "visibility": null,
            "align_self": null,
            "height": null,
            "min_height": null,
            "padding": null,
            "grid_auto_rows": null,
            "grid_gap": null,
            "max_width": null,
            "order": null,
            "_view_module_version": "1.2.0",
            "grid_template_areas": null,
            "object_position": null,
            "object_fit": null,
            "grid_auto_columns": null,
            "margin": null,
            "display": null,
            "left": null
          }
        },
        "5af619b677414c8db31593d3fe1fa952": {
          "model_module": "@jupyter-widgets/controls",
          "model_name": "HBoxModel",
          "state": {
            "_view_name": "HBoxView",
            "_dom_classes": [],
            "_model_name": "HBoxModel",
            "_view_module": "@jupyter-widgets/controls",
            "_model_module_version": "1.5.0",
            "_view_count": null,
            "_view_module_version": "1.5.0",
            "box_style": "",
            "layout": "IPY_MODEL_315d6db519a948a687a07ba503cd7aef",
            "_model_module": "@jupyter-widgets/controls",
            "children": [
              "IPY_MODEL_1871ec4bae3b481cae9411d777ffd943",
              "IPY_MODEL_ff0cf4840002489cb3b1c4bdf6989d45"
            ]
          }
        },
        "315d6db519a948a687a07ba503cd7aef": {
          "model_module": "@jupyter-widgets/base",
          "model_name": "LayoutModel",
          "state": {
            "_view_name": "LayoutView",
            "grid_template_rows": null,
            "right": null,
            "justify_content": null,
            "_view_module": "@jupyter-widgets/base",
            "overflow": null,
            "_model_module_version": "1.2.0",
            "_view_count": null,
            "flex_flow": null,
            "width": null,
            "min_width": null,
            "border": null,
            "align_items": null,
            "bottom": null,
            "_model_module": "@jupyter-widgets/base",
            "top": null,
            "grid_column": null,
            "overflow_y": null,
            "overflow_x": null,
            "grid_auto_flow": null,
            "grid_area": null,
            "grid_template_columns": null,
            "flex": null,
            "_model_name": "LayoutModel",
            "justify_items": null,
            "grid_row": null,
            "max_height": null,
            "align_content": null,
            "visibility": null,
            "align_self": null,
            "height": null,
            "min_height": null,
            "padding": null,
            "grid_auto_rows": null,
            "grid_gap": null,
            "max_width": null,
            "order": null,
            "_view_module_version": "1.2.0",
            "grid_template_areas": null,
            "object_position": null,
            "object_fit": null,
            "grid_auto_columns": null,
            "margin": null,
            "display": null,
            "left": null
          }
        },
        "1871ec4bae3b481cae9411d777ffd943": {
          "model_module": "@jupyter-widgets/controls",
          "model_name": "FloatProgressModel",
          "state": {
            "_view_name": "ProgressView",
            "style": "IPY_MODEL_210a2d2ae3434a138d767b249f0a3639",
            "_dom_classes": [],
            "description": "",
            "_model_name": "FloatProgressModel",
            "bar_style": "success",
            "max": 4542,
            "_view_module": "@jupyter-widgets/controls",
            "_model_module_version": "1.5.0",
            "value": 4542,
            "_view_count": null,
            "_view_module_version": "1.5.0",
            "orientation": "horizontal",
            "min": 0,
            "description_tooltip": null,
            "_model_module": "@jupyter-widgets/controls",
            "layout": "IPY_MODEL_1f0232b3c6cb40bbbeb787757d47396e"
          }
        },
        "ff0cf4840002489cb3b1c4bdf6989d45": {
          "model_module": "@jupyter-widgets/controls",
          "model_name": "HTMLModel",
          "state": {
            "_view_name": "HTMLView",
            "style": "IPY_MODEL_d7fe4ebf53914fd1895e34274ff6e466",
            "_dom_classes": [],
            "description": "",
            "_model_name": "HTMLModel",
            "placeholder": "​",
            "_view_module": "@jupyter-widgets/controls",
            "_model_module_version": "1.5.0",
            "value": " 5120/? [00:00&lt;00:00, 7161.33it/s]",
            "_view_count": null,
            "_view_module_version": "1.5.0",
            "description_tooltip": null,
            "_model_module": "@jupyter-widgets/controls",
            "layout": "IPY_MODEL_188b67a4a5d74075b2d3b51fe988cf8e"
          }
        },
        "210a2d2ae3434a138d767b249f0a3639": {
          "model_module": "@jupyter-widgets/controls",
          "model_name": "ProgressStyleModel",
          "state": {
            "_view_name": "StyleView",
            "_model_name": "ProgressStyleModel",
            "description_width": "initial",
            "_view_module": "@jupyter-widgets/base",
            "_model_module_version": "1.5.0",
            "_view_count": null,
            "_view_module_version": "1.2.0",
            "bar_color": null,
            "_model_module": "@jupyter-widgets/controls"
          }
        },
        "1f0232b3c6cb40bbbeb787757d47396e": {
          "model_module": "@jupyter-widgets/base",
          "model_name": "LayoutModel",
          "state": {
            "_view_name": "LayoutView",
            "grid_template_rows": null,
            "right": null,
            "justify_content": null,
            "_view_module": "@jupyter-widgets/base",
            "overflow": null,
            "_model_module_version": "1.2.0",
            "_view_count": null,
            "flex_flow": null,
            "width": null,
            "min_width": null,
            "border": null,
            "align_items": null,
            "bottom": null,
            "_model_module": "@jupyter-widgets/base",
            "top": null,
            "grid_column": null,
            "overflow_y": null,
            "overflow_x": null,
            "grid_auto_flow": null,
            "grid_area": null,
            "grid_template_columns": null,
            "flex": null,
            "_model_name": "LayoutModel",
            "justify_items": null,
            "grid_row": null,
            "max_height": null,
            "align_content": null,
            "visibility": null,
            "align_self": null,
            "height": null,
            "min_height": null,
            "padding": null,
            "grid_auto_rows": null,
            "grid_gap": null,
            "max_width": null,
            "order": null,
            "_view_module_version": "1.2.0",
            "grid_template_areas": null,
            "object_position": null,
            "object_fit": null,
            "grid_auto_columns": null,
            "margin": null,
            "display": null,
            "left": null
          }
        },
        "d7fe4ebf53914fd1895e34274ff6e466": {
          "model_module": "@jupyter-widgets/controls",
          "model_name": "DescriptionStyleModel",
          "state": {
            "_view_name": "StyleView",
            "_model_name": "DescriptionStyleModel",
            "description_width": "",
            "_view_module": "@jupyter-widgets/base",
            "_model_module_version": "1.5.0",
            "_view_count": null,
            "_view_module_version": "1.2.0",
            "_model_module": "@jupyter-widgets/controls"
          }
        },
        "188b67a4a5d74075b2d3b51fe988cf8e": {
          "model_module": "@jupyter-widgets/base",
          "model_name": "LayoutModel",
          "state": {
            "_view_name": "LayoutView",
            "grid_template_rows": null,
            "right": null,
            "justify_content": null,
            "_view_module": "@jupyter-widgets/base",
            "overflow": null,
            "_model_module_version": "1.2.0",
            "_view_count": null,
            "flex_flow": null,
            "width": null,
            "min_width": null,
            "border": null,
            "align_items": null,
            "bottom": null,
            "_model_module": "@jupyter-widgets/base",
            "top": null,
            "grid_column": null,
            "overflow_y": null,
            "overflow_x": null,
            "grid_auto_flow": null,
            "grid_area": null,
            "grid_template_columns": null,
            "flex": null,
            "_model_name": "LayoutModel",
            "justify_items": null,
            "grid_row": null,
            "max_height": null,
            "align_content": null,
            "visibility": null,
            "align_self": null,
            "height": null,
            "min_height": null,
            "padding": null,
            "grid_auto_rows": null,
            "grid_gap": null,
            "max_width": null,
            "order": null,
            "_view_module_version": "1.2.0",
            "grid_template_areas": null,
            "object_position": null,
            "object_fit": null,
            "grid_auto_columns": null,
            "margin": null,
            "display": null,
            "left": null
          }
        }
      }
    }
  },
  "cells": [
    {
      "cell_type": "markdown",
      "metadata": {
        "id": "nSY7k1mJQD0m"
      },
      "source": [
        "# Objective \n",
        "    Building a siamese network that classifies two images based on the\n",
        "    similarity value calculated using the pairwise absolute or euclidean\n",
        "    distance and then predicting the label using K-way-10 shot predicting \n",
        "    algorithm i.e we use 10 images for each class as  representatives and\n",
        "    compare them with the current image. \n",
        "\n",
        "    References:https://towardsdatascience.com/building-a-one-shot-learning-network-with-pytorch-d1c3a5fafa4a\n"
      ]
    },
    {
      "cell_type": "markdown",
      "metadata": {
        "id": "90j6aOGvdW4M"
      },
      "source": [
        "### Necessary Imports"
      ]
    },
    {
      "cell_type": "code",
      "metadata": {
        "id": "WarPSc6bdVyr"
      },
      "source": [
        "import torch\n",
        "import torch.nn as nn\n",
        "import torch.nn.functional as F\n",
        "from torch.utils.data import DataLoader,TensorDataset,Dataset\n",
        "from torchvision import datasets, transforms\n",
        "from torchvision.utils import make_grid\n",
        "import torch.utils.data\n",
        "from torch.autograd import Variable\n",
        "from torchsummary import summary\n",
        "from torchvision.utils import save_image\n",
        "from sklearn.decomposition import PCA\n",
        "from sklearn.preprocessing import StandardScaler\n",
        "import random\n",
        "\n",
        "import numpy as np\n",
        "import pandas as pd\n",
        "import seaborn as sn  # for heatmaps\n",
        "from sklearn.metrics import confusion_matrix\n",
        "import matplotlib.pyplot as plt\n",
        "%matplotlib inline"
      ],
      "execution_count": 1,
      "outputs": []
    },
    {
      "cell_type": "code",
      "metadata": {
        "id": "Y4nEm6dmAsGv"
      },
      "source": [
        "'''\n",
        "transform = transforms.Compose([transforms.ToTensor(),\n",
        "                              transforms.Normalize((0.5,), (0.5,)),\n",
        "                              transforms.Resize((105,105))\n",
        "                              ])\n",
        "                              '''\n",
        "\n",
        "transform = transforms.ToTensor()"
      ],
      "execution_count": 2,
      "outputs": []
    },
    {
      "cell_type": "markdown",
      "metadata": {
        "id": "b1ywqbEHI0hk"
      },
      "source": [
        "### Data Preprocessing "
      ]
    },
    {
      "cell_type": "markdown",
      "metadata": {
        "id": "qnovpiCXAsGw"
      },
      "source": [
        "### Load the training set"
      ]
    },
    {
      "cell_type": "code",
      "metadata": {
        "colab": {
          "base_uri": "https://localhost:8080/",
          "height": 0,
          "referenced_widgets": [
            "da8edcf7874e44e0bc13018fbee19e14",
            "f250027285784ce2a92942d4172cb7af",
            "7553e20cd400412990317fbf500ed382",
            "9f49252631624bf6bf48a2b7f8beb23e",
            "20c98f1d28a9450a87306125b7e5ceac",
            "3391eabfbcbd46849ae7e2e07ddc9761",
            "f1f04897018c461db29dd6e7bf680a0f",
            "0430345754604ee79eac059fbf0f2cdc",
            "998686e8b00645e092cd7c09013fe1f0",
            "b6ab45a97eb040cda1d31bb6f2f7bc2b",
            "b5993695849e46b980a24f394f6b4b2b",
            "f1462dde544d4a64a632503b268584fb",
            "4825a0cecaec4ac098eb68e8102c2534",
            "1652f57edb1440ef9cf9dcceed6c5621",
            "f6dcde723c1e4ef6820a2f3e7bec62a6",
            "151506badde549f7b49882134968cd37",
            "d7367331dea549f9addd22f5692197e8",
            "895e58c5c8f948fbbc02945fb1e122eb",
            "2a8818b5fd4a463ba0cde49a283abb5e",
            "49a44bb044434b938074d68c7d312664",
            "27a285bf1b594430abb74f88a947705f",
            "50d337cc87164ca694c6591896cb191e",
            "6c2d8cf9d63e4b3aa78c9e02a24d24f4",
            "7aae30ebc2064c4cb979ab16aa766d45",
            "5af619b677414c8db31593d3fe1fa952",
            "315d6db519a948a687a07ba503cd7aef",
            "1871ec4bae3b481cae9411d777ffd943",
            "ff0cf4840002489cb3b1c4bdf6989d45",
            "210a2d2ae3434a138d767b249f0a3639",
            "1f0232b3c6cb40bbbeb787757d47396e",
            "d7fe4ebf53914fd1895e34274ff6e466",
            "188b67a4a5d74075b2d3b51fe988cf8e"
          ]
        },
        "id": "goxIq9GWAsGw",
        "outputId": "1b163223-a239-4504-beb1-257b5bcba168"
      },
      "source": [
        "train_data = datasets.MNIST(root='../Data', train=True, download=True, transform=transform)\n",
        "type(train_data)"
      ],
      "execution_count": 3,
      "outputs": [
        {
          "output_type": "stream",
          "text": [
            "Downloading http://yann.lecun.com/exdb/mnist/train-images-idx3-ubyte.gz\n",
            "Failed to download (trying next):\n",
            "HTTP Error 503: Service Unavailable\n",
            "\n",
            "Downloading https://ossci-datasets.s3.amazonaws.com/mnist/train-images-idx3-ubyte.gz\n",
            "Downloading https://ossci-datasets.s3.amazonaws.com/mnist/train-images-idx3-ubyte.gz to ../Data/MNIST/raw/train-images-idx3-ubyte.gz\n"
          ],
          "name": "stdout"
        },
        {
          "output_type": "display_data",
          "data": {
            "application/vnd.jupyter.widget-view+json": {
              "model_id": "da8edcf7874e44e0bc13018fbee19e14",
              "version_minor": 0,
              "version_major": 2
            },
            "text/plain": [
              "HBox(children=(FloatProgress(value=0.0, max=9912422.0), HTML(value='')))"
            ]
          },
          "metadata": {
            "tags": []
          }
        },
        {
          "output_type": "stream",
          "text": [
            "\n",
            "Extracting ../Data/MNIST/raw/train-images-idx3-ubyte.gz to ../Data/MNIST/raw\n",
            "\n",
            "Downloading http://yann.lecun.com/exdb/mnist/train-labels-idx1-ubyte.gz\n",
            "Failed to download (trying next):\n",
            "HTTP Error 503: Service Unavailable\n",
            "\n",
            "Downloading https://ossci-datasets.s3.amazonaws.com/mnist/train-labels-idx1-ubyte.gz\n",
            "Downloading https://ossci-datasets.s3.amazonaws.com/mnist/train-labels-idx1-ubyte.gz to ../Data/MNIST/raw/train-labels-idx1-ubyte.gz\n"
          ],
          "name": "stdout"
        },
        {
          "output_type": "display_data",
          "data": {
            "application/vnd.jupyter.widget-view+json": {
              "model_id": "998686e8b00645e092cd7c09013fe1f0",
              "version_minor": 0,
              "version_major": 2
            },
            "text/plain": [
              "HBox(children=(FloatProgress(value=0.0, max=28881.0), HTML(value='')))"
            ]
          },
          "metadata": {
            "tags": []
          }
        },
        {
          "output_type": "stream",
          "text": [
            "\n",
            "Extracting ../Data/MNIST/raw/train-labels-idx1-ubyte.gz to ../Data/MNIST/raw\n",
            "\n",
            "Downloading http://yann.lecun.com/exdb/mnist/t10k-images-idx3-ubyte.gz\n",
            "Failed to download (trying next):\n",
            "HTTP Error 503: Service Unavailable\n",
            "\n",
            "Downloading https://ossci-datasets.s3.amazonaws.com/mnist/t10k-images-idx3-ubyte.gz\n",
            "Downloading https://ossci-datasets.s3.amazonaws.com/mnist/t10k-images-idx3-ubyte.gz to ../Data/MNIST/raw/t10k-images-idx3-ubyte.gz\n"
          ],
          "name": "stdout"
        },
        {
          "output_type": "display_data",
          "data": {
            "application/vnd.jupyter.widget-view+json": {
              "model_id": "d7367331dea549f9addd22f5692197e8",
              "version_minor": 0,
              "version_major": 2
            },
            "text/plain": [
              "HBox(children=(FloatProgress(value=0.0, max=1648877.0), HTML(value='')))"
            ]
          },
          "metadata": {
            "tags": []
          }
        },
        {
          "output_type": "stream",
          "text": [
            "\n",
            "Extracting ../Data/MNIST/raw/t10k-images-idx3-ubyte.gz to ../Data/MNIST/raw\n",
            "\n",
            "Downloading http://yann.lecun.com/exdb/mnist/t10k-labels-idx1-ubyte.gz\n",
            "Failed to download (trying next):\n",
            "HTTP Error 503: Service Unavailable\n",
            "\n",
            "Downloading https://ossci-datasets.s3.amazonaws.com/mnist/t10k-labels-idx1-ubyte.gz\n",
            "Downloading https://ossci-datasets.s3.amazonaws.com/mnist/t10k-labels-idx1-ubyte.gz to ../Data/MNIST/raw/t10k-labels-idx1-ubyte.gz\n"
          ],
          "name": "stdout"
        },
        {
          "output_type": "display_data",
          "data": {
            "application/vnd.jupyter.widget-view+json": {
              "model_id": "5af619b677414c8db31593d3fe1fa952",
              "version_minor": 0,
              "version_major": 2
            },
            "text/plain": [
              "HBox(children=(FloatProgress(value=0.0, max=4542.0), HTML(value='')))"
            ]
          },
          "metadata": {
            "tags": []
          }
        },
        {
          "output_type": "stream",
          "text": [
            "\n",
            "Extracting ../Data/MNIST/raw/t10k-labels-idx1-ubyte.gz to ../Data/MNIST/raw\n",
            "\n",
            "Processing...\n",
            "Done!\n"
          ],
          "name": "stdout"
        },
        {
          "output_type": "stream",
          "text": [
            "/usr/local/lib/python3.7/dist-packages/torchvision/datasets/mnist.py:502: UserWarning: The given NumPy array is not writeable, and PyTorch does not support non-writeable tensors. This means you can write to the underlying (supposedly non-writeable) NumPy array using the tensor. You may want to copy the array to protect its data or make it writeable before converting it to a tensor. This type of warning will be suppressed for the rest of this program. (Triggered internally at  /pytorch/torch/csrc/utils/tensor_numpy.cpp:143.)\n",
            "  return torch.from_numpy(parsed.astype(m[2], copy=False)).view(*s)\n"
          ],
          "name": "stderr"
        },
        {
          "output_type": "execute_result",
          "data": {
            "text/plain": [
              "torchvision.datasets.mnist.MNIST"
            ]
          },
          "metadata": {
            "tags": []
          },
          "execution_count": 3
        }
      ]
    },
    {
      "cell_type": "markdown",
      "metadata": {
        "id": "x9xeokz6AsGx"
      },
      "source": [
        "### Load the test set\n",
        "There's a companion set of MNIST data containing 10,000 records accessible by setting train=False. As before, torchvision will only download this once, and in the future will look for the local copy."
      ]
    },
    {
      "cell_type": "code",
      "metadata": {
        "colab": {
          "base_uri": "https://localhost:8080/"
        },
        "id": "43pu7HCMAsGy",
        "outputId": "c1e7134f-2665-4fc2-8569-50e8329ca184"
      },
      "source": [
        "test_data = datasets.MNIST(root='../Data', train=False, download=True, transform=transform)\n",
        "test_data"
      ],
      "execution_count": 4,
      "outputs": [
        {
          "output_type": "execute_result",
          "data": {
            "text/plain": [
              "Dataset MNIST\n",
              "    Number of datapoints: 10000\n",
              "    Root location: ../Data\n",
              "    Split: Test\n",
              "    StandardTransform\n",
              "Transform: ToTensor()"
            ]
          },
          "metadata": {
            "tags": []
          },
          "execution_count": 4
        }
      ]
    },
    {
      "cell_type": "code",
      "metadata": {
        "colab": {
          "base_uri": "https://localhost:8080/"
        },
        "id": "NEBpUsN8Lz7e",
        "outputId": "e31172a7-991e-4d68-d22d-9dff608c78a0"
      },
      "source": [
        "model_data=train_data+test_data\n",
        "total_count=len(model_data)\n",
        "model_data"
      ],
      "execution_count": 5,
      "outputs": [
        {
          "output_type": "execute_result",
          "data": {
            "text/plain": [
              "<torch.utils.data.dataset.ConcatDataset at 0x7f9a8effbbd0>"
            ]
          },
          "metadata": {
            "tags": []
          },
          "execution_count": 5
        }
      ]
    },
    {
      "cell_type": "markdown",
      "metadata": {
        "id": "-8N9b9BQNPGg"
      },
      "source": [
        "### Split 70:30"
      ]
    },
    {
      "cell_type": "code",
      "metadata": {
        "id": "aFGOn3SGNOSg"
      },
      "source": [
        "train_count = int(0.7 * total_count) \n",
        "test_count = int(0.3 * total_count)"
      ],
      "execution_count": 6,
      "outputs": []
    },
    {
      "cell_type": "code",
      "metadata": {
        "colab": {
          "base_uri": "https://localhost:8080/"
        },
        "id": "z4_VpIUNNmyI",
        "outputId": "9f5cdfac-da8b-4eef-d8bb-6317efe5864a"
      },
      "source": [
        "train_data, test_data = torch.utils.data.random_split(model_data, (train_count, test_count))\n",
        "print(len(train_data))\n",
        "print(len(test_data))\n",
        "type(train_data)"
      ],
      "execution_count": 7,
      "outputs": [
        {
          "output_type": "stream",
          "text": [
            "49000\n",
            "21000\n"
          ],
          "name": "stdout"
        },
        {
          "output_type": "execute_result",
          "data": {
            "text/plain": [
              "torch.utils.data.dataset.Subset"
            ]
          },
          "metadata": {
            "tags": []
          },
          "execution_count": 7
        }
      ]
    },
    {
      "cell_type": "code",
      "metadata": {
        "colab": {
          "base_uri": "https://localhost:8080/"
        },
        "id": "g3oJu3FoAsGz",
        "scrolled": false,
        "outputId": "b93a9465-475a-428c-eb3c-fa6bce862a3e"
      },
      "source": [
        "train_data[0]"
      ],
      "execution_count": 8,
      "outputs": [
        {
          "output_type": "execute_result",
          "data": {
            "text/plain": [
              "(tensor([[[0.0000, 0.0000, 0.0000, 0.0000, 0.0000, 0.0000, 0.0000, 0.0000,\n",
              "           0.0000, 0.0000, 0.0000, 0.0000, 0.0000, 0.0000, 0.0000, 0.0000,\n",
              "           0.0000, 0.0000, 0.0000, 0.0000, 0.0000, 0.0000, 0.0000, 0.0000,\n",
              "           0.0000, 0.0000, 0.0000, 0.0000],\n",
              "          [0.0000, 0.0000, 0.0000, 0.0000, 0.0000, 0.0000, 0.0000, 0.0000,\n",
              "           0.0000, 0.0000, 0.0000, 0.0000, 0.0000, 0.0000, 0.0000, 0.0000,\n",
              "           0.0000, 0.0000, 0.0000, 0.0000, 0.0000, 0.0000, 0.0000, 0.0000,\n",
              "           0.0000, 0.0000, 0.0000, 0.0000],\n",
              "          [0.0000, 0.0000, 0.0000, 0.0000, 0.0000, 0.0000, 0.0000, 0.0000,\n",
              "           0.0000, 0.0000, 0.0000, 0.0000, 0.0000, 0.0000, 0.0000, 0.0000,\n",
              "           0.0000, 0.0000, 0.0000, 0.0000, 0.0000, 0.0000, 0.0000, 0.0000,\n",
              "           0.0000, 0.0000, 0.0000, 0.0000],\n",
              "          [0.0000, 0.0000, 0.0000, 0.0000, 0.0000, 0.0000, 0.0000, 0.0000,\n",
              "           0.0000, 0.0000, 0.0000, 0.0000, 0.0000, 0.0000, 0.0000, 0.0000,\n",
              "           0.0000, 0.0000, 0.0000, 0.0000, 0.0000, 0.0000, 0.0000, 0.0000,\n",
              "           0.0000, 0.0000, 0.0000, 0.0000],\n",
              "          [0.0000, 0.0000, 0.0000, 0.0000, 0.0000, 0.0000, 0.0000, 0.0000,\n",
              "           0.0000, 0.0000, 0.0000, 0.0000, 0.0000, 0.0000, 0.0000, 0.0000,\n",
              "           0.0000, 0.0000, 0.0000, 0.0000, 0.0000, 0.0000, 0.0000, 0.0000,\n",
              "           0.0000, 0.0000, 0.0000, 0.0000],\n",
              "          [0.0000, 0.0000, 0.0000, 0.0000, 0.0000, 0.0000, 0.0000, 0.0000,\n",
              "           0.0000, 0.0000, 0.0000, 0.0000, 0.1765, 0.6157, 0.6627, 0.0000,\n",
              "           0.0000, 0.0000, 0.0000, 0.0000, 0.3843, 0.7961, 0.6275, 0.0000,\n",
              "           0.0000, 0.0000, 0.0000, 0.0000],\n",
              "          [0.0000, 0.0000, 0.0000, 0.0000, 0.0000, 0.0000, 0.0000, 0.0000,\n",
              "           0.0000, 0.0000, 0.0000, 0.0706, 0.9137, 0.9961, 0.8784, 0.9843,\n",
              "           0.1843, 0.0000, 0.0000, 0.0000, 0.5255, 0.9961, 0.6235, 0.0000,\n",
              "           0.0000, 0.0000, 0.0000, 0.0000],\n",
              "          [0.0000, 0.0000, 0.0000, 0.0000, 0.0000, 0.0000, 0.0000, 0.0000,\n",
              "           0.0000, 0.0000, 0.0000, 0.7647, 0.9961, 0.7490, 0.8549, 0.9961,\n",
              "           0.8118, 0.2275, 0.0000, 0.0000, 0.5059, 0.9961, 0.2980, 0.0000,\n",
              "           0.0000, 0.0000, 0.0000, 0.0000],\n",
              "          [0.0000, 0.0000, 0.0000, 0.0000, 0.0000, 0.0000, 0.0000, 0.0000,\n",
              "           0.0000, 0.0000, 0.0000, 0.8980, 0.9961, 0.1333, 0.0275, 0.3333,\n",
              "           0.7020, 0.7569, 0.4510, 0.1176, 0.8157, 0.9686, 0.1137, 0.0000,\n",
              "           0.0000, 0.0000, 0.0000, 0.0000],\n",
              "          [0.0000, 0.0000, 0.0000, 0.0000, 0.0000, 0.0000, 0.0000, 0.0000,\n",
              "           0.0000, 0.0000, 0.0000, 0.8980, 0.9961, 0.2510, 0.0000, 0.0000,\n",
              "           0.0118, 0.1255, 0.5333, 0.1961, 0.9961, 0.8588, 0.0000, 0.0000,\n",
              "           0.0000, 0.0000, 0.0000, 0.0000],\n",
              "          [0.0000, 0.0000, 0.0000, 0.0000, 0.0000, 0.0000, 0.0000, 0.0000,\n",
              "           0.0000, 0.0000, 0.0000, 0.8196, 0.9961, 0.2980, 0.0000, 0.0000,\n",
              "           0.0000, 0.0118, 0.7569, 0.8706, 0.9961, 0.2980, 0.0000, 0.0000,\n",
              "           0.0000, 0.0000, 0.0000, 0.0000],\n",
              "          [0.0000, 0.0000, 0.0000, 0.0000, 0.0000, 0.0000, 0.0000, 0.0000,\n",
              "           0.0000, 0.0000, 0.0000, 0.4863, 0.9961, 0.7373, 0.0353, 0.0000,\n",
              "           0.0000, 0.2196, 0.9020, 0.9804, 0.5020, 0.0275, 0.0000, 0.0000,\n",
              "           0.0000, 0.0000, 0.0000, 0.0000],\n",
              "          [0.0000, 0.0000, 0.0000, 0.0000, 0.0000, 0.0000, 0.0000, 0.0000,\n",
              "           0.0000, 0.0000, 0.0000, 0.1020, 0.9333, 0.9961, 0.2196, 0.0314,\n",
              "           0.4157, 0.9765, 0.9059, 0.3843, 0.0000, 0.0000, 0.0000, 0.0000,\n",
              "           0.0000, 0.0000, 0.0000, 0.0000],\n",
              "          [0.0000, 0.0000, 0.0000, 0.0000, 0.0000, 0.0000, 0.0000, 0.0000,\n",
              "           0.0000, 0.0000, 0.0000, 0.0000, 0.6392, 0.9961, 0.8706, 0.8275,\n",
              "           0.9961, 0.8078, 0.1490, 0.0000, 0.0000, 0.0000, 0.0000, 0.0000,\n",
              "           0.0000, 0.0000, 0.0000, 0.0000],\n",
              "          [0.0000, 0.0000, 0.0000, 0.0000, 0.0000, 0.0000, 0.0000, 0.0000,\n",
              "           0.0000, 0.0000, 0.0000, 0.0000, 0.2627, 0.9961, 0.9961, 0.9961,\n",
              "           0.5333, 0.0314, 0.0000, 0.0000, 0.0000, 0.0000, 0.0000, 0.0000,\n",
              "           0.0000, 0.0000, 0.0000, 0.0000],\n",
              "          [0.0000, 0.0000, 0.0000, 0.0000, 0.0000, 0.0000, 0.0000, 0.0000,\n",
              "           0.0000, 0.0000, 0.0000, 0.2157, 0.8824, 0.9961, 0.9961, 0.9961,\n",
              "           0.1843, 0.0000, 0.0000, 0.0000, 0.0000, 0.0000, 0.0000, 0.0000,\n",
              "           0.0000, 0.0000, 0.0000, 0.0000],\n",
              "          [0.0000, 0.0000, 0.0000, 0.0000, 0.0000, 0.0000, 0.0000, 0.0000,\n",
              "           0.0000, 0.0000, 0.2078, 0.9451, 0.8078, 0.3451, 0.8745, 0.9961,\n",
              "           0.6196, 0.0000, 0.0000, 0.0000, 0.0000, 0.0000, 0.0000, 0.0000,\n",
              "           0.0000, 0.0000, 0.0000, 0.0000],\n",
              "          [0.0000, 0.0000, 0.0000, 0.0000, 0.0000, 0.0000, 0.0000, 0.0000,\n",
              "           0.0000, 0.4039, 0.9804, 0.5843, 0.0627, 0.0000, 0.4039, 0.9765,\n",
              "           0.9725, 0.1608, 0.0000, 0.0000, 0.0000, 0.0000, 0.0000, 0.0000,\n",
              "           0.0000, 0.0000, 0.0000, 0.0000],\n",
              "          [0.0000, 0.0000, 0.0000, 0.0000, 0.0000, 0.0000, 0.0000, 0.0000,\n",
              "           0.2824, 0.9843, 0.7059, 0.0588, 0.0000, 0.0000, 0.0000, 0.8314,\n",
              "           0.9961, 0.2392, 0.0000, 0.0000, 0.0000, 0.0000, 0.0000, 0.0000,\n",
              "           0.0000, 0.0000, 0.0000, 0.0000],\n",
              "          [0.0000, 0.0000, 0.0000, 0.0000, 0.0000, 0.0000, 0.0000, 0.0000,\n",
              "           0.9490, 0.8902, 0.0471, 0.0000, 0.0000, 0.0000, 0.0000, 0.5725,\n",
              "           0.9961, 0.5098, 0.0000, 0.0000, 0.0000, 0.0000, 0.0000, 0.0000,\n",
              "           0.0000, 0.0000, 0.0000, 0.0000],\n",
              "          [0.0000, 0.0000, 0.0000, 0.0000, 0.0000, 0.0000, 0.0000, 0.2431,\n",
              "           0.9843, 0.9333, 0.0627, 0.0000, 0.0000, 0.0000, 0.0000, 0.4941,\n",
              "           0.9961, 0.2039, 0.0000, 0.0000, 0.0000, 0.0000, 0.0000, 0.0000,\n",
              "           0.0000, 0.0000, 0.0000, 0.0000],\n",
              "          [0.0000, 0.0000, 0.0000, 0.0000, 0.0000, 0.0000, 0.0000, 0.6275,\n",
              "           0.9961, 0.9961, 0.5882, 0.0353, 0.0549, 0.0275, 0.0471, 0.7490,\n",
              "           0.9922, 0.1922, 0.0000, 0.0000, 0.0000, 0.0000, 0.0000, 0.0000,\n",
              "           0.0000, 0.0000, 0.0000, 0.0000],\n",
              "          [0.0000, 0.0000, 0.0000, 0.0000, 0.0000, 0.0000, 0.0000, 0.2784,\n",
              "           0.9686, 0.9961, 0.9961, 0.9020, 1.0000, 0.8471, 0.9569, 0.9961,\n",
              "           0.6078, 0.0000, 0.0000, 0.0000, 0.0000, 0.0000, 0.0000, 0.0000,\n",
              "           0.0000, 0.0000, 0.0000, 0.0000],\n",
              "          [0.0000, 0.0000, 0.0000, 0.0000, 0.0000, 0.0000, 0.0000, 0.0000,\n",
              "           0.2784, 0.9647, 0.9961, 0.9961, 1.0000, 0.9961, 0.9961, 0.6980,\n",
              "           0.1216, 0.0000, 0.0000, 0.0000, 0.0000, 0.0000, 0.0000, 0.0000,\n",
              "           0.0000, 0.0000, 0.0000, 0.0000],\n",
              "          [0.0000, 0.0000, 0.0000, 0.0000, 0.0000, 0.0000, 0.0000, 0.0000,\n",
              "           0.0000, 0.0824, 0.6314, 0.8471, 0.7647, 0.7020, 0.3176, 0.0000,\n",
              "           0.0000, 0.0000, 0.0000, 0.0000, 0.0000, 0.0000, 0.0000, 0.0000,\n",
              "           0.0000, 0.0000, 0.0000, 0.0000],\n",
              "          [0.0000, 0.0000, 0.0000, 0.0000, 0.0000, 0.0000, 0.0000, 0.0000,\n",
              "           0.0000, 0.0000, 0.0000, 0.0000, 0.0000, 0.0000, 0.0000, 0.0000,\n",
              "           0.0000, 0.0000, 0.0000, 0.0000, 0.0000, 0.0000, 0.0000, 0.0000,\n",
              "           0.0000, 0.0000, 0.0000, 0.0000],\n",
              "          [0.0000, 0.0000, 0.0000, 0.0000, 0.0000, 0.0000, 0.0000, 0.0000,\n",
              "           0.0000, 0.0000, 0.0000, 0.0000, 0.0000, 0.0000, 0.0000, 0.0000,\n",
              "           0.0000, 0.0000, 0.0000, 0.0000, 0.0000, 0.0000, 0.0000, 0.0000,\n",
              "           0.0000, 0.0000, 0.0000, 0.0000],\n",
              "          [0.0000, 0.0000, 0.0000, 0.0000, 0.0000, 0.0000, 0.0000, 0.0000,\n",
              "           0.0000, 0.0000, 0.0000, 0.0000, 0.0000, 0.0000, 0.0000, 0.0000,\n",
              "           0.0000, 0.0000, 0.0000, 0.0000, 0.0000, 0.0000, 0.0000, 0.0000,\n",
              "           0.0000, 0.0000, 0.0000, 0.0000]]]), 8)"
            ]
          },
          "metadata": {
            "tags": []
          },
          "execution_count": 8
        }
      ]
    },
    {
      "cell_type": "markdown",
      "metadata": {
        "id": "pkX4AX8RAsGz"
      },
      "source": [
        "Calling the first record from <tt>train_data</tt> returns a two-item tuple. The first item is our 28x28 tensor representing the image. The second is a label, in this case the number \"5\"."
      ]
    },
    {
      "cell_type": "code",
      "metadata": {
        "colab": {
          "base_uri": "https://localhost:8080/"
        },
        "id": "ce8pl7rwAsGz",
        "outputId": "52c6f641-201a-48a1-f3fa-71b4efc7de11"
      },
      "source": [
        "image, label = train_data[0]\n",
        "print('Shape:', image.shape, '\\nLabel:', label)"
      ],
      "execution_count": 9,
      "outputs": [
        {
          "output_type": "stream",
          "text": [
            "Shape: torch.Size([1, 28, 28]) \n",
            "Label: 8\n"
          ],
          "name": "stdout"
        }
      ]
    },
    {
      "cell_type": "markdown",
      "metadata": {
        "id": "IGohAH1mAsG0"
      },
      "source": [
        "### View the image\n",
        "Matplotlib can interpret pixel values through a variety of <a href='https://matplotlib.org/tutorials/colors/colormaps.html'>colormaps</a>."
      ]
    },
    {
      "cell_type": "code",
      "metadata": {
        "colab": {
          "base_uri": "https://localhost:8080/",
          "height": 0
        },
        "id": "9E99XQ3lAsG0",
        "outputId": "4f65a494-c2a4-4c6e-d12b-cd43ad7cd056"
      },
      "source": [
        "plt.imshow(train_data[0][0].reshape((28,28)), cmap=\"gray\"); "
      ],
      "execution_count": 10,
      "outputs": [
        {
          "output_type": "display_data",
          "data": {
            "image/png": "[encoded data removed]",
            "text/plain": [
              "<Figure size 432x288 with 1 Axes>"
            ]
          },
          "metadata": {
            "tags": [],
            "needs_background": "light"
          }
        }
      ]
    },
    {
      "cell_type": "code",
      "metadata": {
        "colab": {
          "base_uri": "https://localhost:8080/",
          "height": 0
        },
        "id": "hkUpwhyVAsG1",
        "outputId": "ac1f36ea-74a3-4e97-de8e-a53862e52735"
      },
      "source": [
        "plt.imshow(train_data[0][0].reshape((28,28)), cmap=\"gist_yarg\"); "
      ],
      "execution_count": 11,
      "outputs": [
        {
          "output_type": "display_data",
          "data": {
            "image/png": "[encoded data removed]",
            "text/plain": [
              "<Figure size 432x288 with 1 Axes>"
            ]
          },
          "metadata": {
            "tags": [],
            "needs_background": "light"
          }
        }
      ]
    },
    {
      "cell_type": "markdown",
      "metadata": {
        "id": "Xrrbzh3eiWQt"
      },
      "source": [
        "### Defining the Siamese Network\n",
        "    In this we will define single network instead of two networks \n",
        "    sharing the same weights and being identical. we can pass the two\n",
        "    images successively to emulate the function of two networks "
      ]
    },
    {
      "cell_type": "code",
      "metadata": {
        "id": "66xbmo8vKHWs"
      },
      "source": [
        "### Reference : https://datascience.stackexchange.com/questions/40906/determining-size-of-fc-layer-after-conv-layer-in-pytorch\n",
        "## Reference :https://towardsdatascience.com/building-a-one-shot-learning-network-with-pytorch-d1c3a5fafa4a\n",
        "\n",
        "class SiameseNetwork(nn.Module):\n",
        "\n",
        "    def __init__(self):\n",
        "        super().__init__()\n",
        "        self.conv1 = nn.Conv2d(in_channels=1, out_channels=16, kernel_size=3, padding=0)\n",
        "        self.batch_norm1=nn.BatchNorm2d(16)\n",
        "        self.conv2 = nn.Conv2d(in_channels=16, out_channels=32, kernel_size=2, padding=0)\n",
        "        self.batch_norm2=nn.BatchNorm2d(32)\n",
        "        self.conv3 = nn.Conv2d(in_channels=32, out_channels=256, kernel_size=2, padding=0)\n",
        "        self.batch_norm3=nn.BatchNorm2d(256)\n",
        "       \n",
        "  \n",
        "\n",
        "        self.fc1 = nn.Linear(256 *2 * 2, 256)\n",
        "        self.fc2 = nn.Linear(256, 128)\n",
        "\n",
        "        self.fcout=nn.Linear(128,1)\n",
        "\n",
        "        self.sigmoid=nn.Sigmoid()\n",
        "    \n",
        "\n",
        "    def forward_once(self, X):\n",
        "        X = F.relu(self.batch_norm1(self.conv1(X)))\n",
        "        X = F.max_pool2d(X, 2, 2)\n",
        "        X = F.relu(self.batch_norm2(self.conv2(X)))\n",
        "        X = F.max_pool2d(X, 2, 2)\n",
        "        X = F.relu(self.batch_norm3(self.conv3(X)))\n",
        "        X = F.max_pool2d(X, 2, 2)\n",
        "        X = X.view(X.size(0), -1)\n",
        "        X = F.relu(self.fc1(X))\n",
        "        X = self.fc2(X)\n",
        "\n",
        "        return X\n",
        "\n",
        "        #return F.log_softmax(X, dim=1)\n",
        "    \n",
        "    def forward(self,in1,in2):\n",
        "        #https://stackoverflow.com/questions/57237381/runtimeerror-expected-4-dimensional-input-for-4-dimensional-weight-32-3-3-but\n",
        "        out1=self.forward_once(in1)  ### because pytorch expects in batches, to support singleton batch\n",
        "        #out1 = self.sigmoid(out1)\n",
        "        out2=self.forward_once(in2)\n",
        "        #out2 =  self.sigmoid(out2)\n",
        "        #out3=self.forward_once(in3)\n",
        "        #out3 =  self.sigmoid(out3)\n",
        "        #out=torch.abs(out1 - out2)\n",
        "        #x = torch.abs(out1 - out2)\n",
        "        #return x\n",
        "\n",
        "        return out1,out2       #,out3\n",
        "\n",
        "        #return self.fcout(out)\n",
        "\n",
        "    def evaluate1(self,x,y):\n",
        "\n",
        "      out=torch.abs(x - y)\n",
        "      #out=self.fcout(out)\n",
        "\n",
        "      return out\n",
        "    \n",
        "    def evaluate2(self,x,y):\n",
        "\n",
        "      out=torch.abs(x - y)\n",
        "      out=self.fcout(out)\n",
        "\n",
        "      return out\n",
        "\n",
        "    def evaluate(self,x):\n",
        "\n",
        "      out=self.forward_once(x)\n",
        "      return out\n",
        "\n",
        "\n",
        "        \n",
        "        "
      ],
      "execution_count": 15,
      "outputs": []
    },
    {
      "cell_type": "markdown",
      "metadata": {
        "id": "EvFgwykwAsG6"
      },
      "source": [
        "### Count the model parameters\n",
        "This optional step shows that the number of trainable parameters in our model matches the equation above."
      ]
    },
    {
      "cell_type": "code",
      "metadata": {
        "id": "9V25EdWhAsG6"
      },
      "source": [
        "def count_parameters(model):\n",
        "    params = [p.numel() for p in model.parameters() if p.requires_grad]\n",
        "    for item in params:\n",
        "        print(f'{item:>6}')\n",
        "    print(f'______\\n{sum(params):>6}')"
      ],
      "execution_count": 14,
      "outputs": []
    },
    {
      "cell_type": "markdown",
      "metadata": {
        "id": "Kjx3yETlqLL1"
      },
      "source": [
        "### Defining the contrastive loss"
      ]
    },
    {
      "cell_type": "code",
      "metadata": {
        "id": "Z2EivlYRqO5_"
      },
      "source": [
        "\n",
        "#######################  Reference #######################################\n",
        "### https://medium.com/hackernoon/facial-similarity-with-siamese-networks-in-pytorch-9642aa9db2f7\n",
        "\n",
        "class ContrastiveLoss(torch.nn.Module):\n",
        "    \"\"\"\n",
        "    Contrastive loss function.\n",
        "    Based on: http://yann.lecun.com/exdb/publis/pdf/hadsell-chopra-lecun-06.pdf\n",
        "    \"\"\"\n",
        "\n",
        "    def __init__(self, margin=1.0):\n",
        "        super(ContrastiveLoss, self).__init__()\n",
        "        self.margin = margin\n",
        "\n",
        "    def forward(self, output1, output2, label):\n",
        "        euclidean_distance = F.pairwise_distance(output1, output2)\n",
        "        loss_contrastive = torch.mean((1-label) * torch.pow(euclidean_distance, 2) +\n",
        "                                      (label) * torch.pow(torch.clamp(self.margin - euclidean_distance, min=0.0), 2))\n",
        "\n",
        "\n",
        "        return loss_contrastive"
      ],
      "execution_count": 16,
      "outputs": []
    },
    {
      "cell_type": "markdown",
      "metadata": {
        "id": "gadmouow5cZo"
      },
      "source": [
        "### Defining custom function to make pairs"
      ]
    },
    {
      "cell_type": "code",
      "metadata": {
        "id": "jyfyy5tbqpmk"
      },
      "source": [
        "###################################   Reference ##############################\n",
        "## https://www.pyimagesearch.com/2020/11/30/siamese-networks-with-keras-tensorflow-and-deep-learning/\n",
        "\n",
        "\n",
        "\n",
        "def make_pairs(images, labels):\n",
        "\t\n",
        "\tpairImages = []\n",
        "\tpairLabels = []\n",
        "\t\n",
        "\tnumClasses = len(np.unique(labels))\n",
        "\tidx = [np.where(labels == i)[0] for i in range(0, numClasses)]\n",
        "\t\n",
        "\tfor idxA in range(len(images)):\n",
        "\t\n",
        "\t\tcurrentImage = images[idxA]\n",
        "\t\tlabel = labels[idxA]\n",
        "\t\t\n",
        "\t\tidxB = np.random.choice(idx[label])\n",
        "\t\tposImage = images[idxB]\n",
        "\t\t\n",
        "\t\tpairImages.append([currentImage, posImage])\n",
        "\t\tpairLabels.append([1])                            ### positive image means similar so appending 1\n",
        "\t\t\n",
        "\t\tnegIdx = np.where(labels != label)[0]\n",
        "\t\tnegImage = images[np.random.choice(negIdx)]\n",
        "\t\t\n",
        "\t\tpairImages.append([currentImage, negImage])\n",
        "\t\tpairLabels.append([0])\n",
        "\t\n",
        "\treturn (np.array(pairImages), np.array(pairLabels))"
      ],
      "execution_count": 17,
      "outputs": []
    },
    {
      "cell_type": "markdown",
      "metadata": {
        "id": "pqDIZ5VcrDwh"
      },
      "source": [
        "### Loading and preparing the data set \n",
        "    https://stackoverflow.com/questions/54897646/pytorch-datasets-converting-entire-dataset-to-numpy\n",
        "    "
      ]
    },
    {
      "cell_type": "code",
      "metadata": {
        "id": "m1zTqD1A-Zkf"
      },
      "source": [
        "#train_dataset_array = next(iter(train_loader))[0].numpy()\n",
        "#test_dataset_array = next(iter(test_loader))[0].numpy()"
      ],
      "execution_count": 18,
      "outputs": []
    },
    {
      "cell_type": "code",
      "metadata": {
        "id": "tgPgrXDl-dwv"
      },
      "source": [
        "#train_labels_array=next(iter(train_loader))[1].numpy()\n",
        "#test_labels_array =next(iter(test_loader))[1].numpy()"
      ],
      "execution_count": 19,
      "outputs": []
    },
    {
      "cell_type": "code",
      "metadata": {
        "id": "1Ta0vkjNl0C_"
      },
      "source": [
        "class SiameseNetworkDataset(Dataset):\n",
        "    \n",
        "    def __init__(self,imageDataset):\n",
        "        self.imageDataset = imageDataset    \n",
        "        \n",
        "    def __getitem__(self,index):\n",
        "        img0_tuple = random.choice(self.imageDataset)\n",
        "        #we need to make sure approx 50% of images are in the same class\n",
        "        should_get_same_class = random.randint(0,1) \n",
        "        if should_get_same_class:\n",
        "            while True:\n",
        "                #keep looping till the same class image is found\n",
        "                img1_tuple = random.choice(self.imageDataset) \n",
        "                if img0_tuple[1]==img1_tuple[1]:\n",
        "                    break\n",
        "        else:\n",
        "            img1_tuple = random.choice(self.imageDataset)\n",
        "\n",
        "        #img0 = Image.open(img0_tuple[0])\n",
        "        img0 = img0_tuple[0]\n",
        "        #img1 = Image.open(img1_tuple[0])\n",
        "        img1 = img1_tuple[0]\n",
        "        #img0 = img0.convert(\"L\")\n",
        "        #img1 = img1.convert(\"L\")\n",
        "\n",
        "        '''\n",
        "        if self.should_invert:\n",
        "            img0 = PIL.ImageOps.invert(img0)\n",
        "            img1 = PIL.ImageOps.invert(img1)\n",
        "\n",
        "        if self.transform is not None:\n",
        "            img0 = self.transform(img0)\n",
        "            img1 = self.transform(img1)\n",
        "        '''\n",
        "\n",
        "        if img0_tuple[1] == img1_tuple[1]:\n",
        "            label=1.0\n",
        "        else:\n",
        "            label=0.0\n",
        "        \n",
        "        \n",
        "        \n",
        "        return img0, img1 ,torch.from_numpy(np.array([label], dtype=np.float32))  \n",
        "    \n",
        "    def __len__(self):\n",
        "        return len(self.imageDataset)"
      ],
      "execution_count": 20,
      "outputs": []
    },
    {
      "cell_type": "code",
      "metadata": {
        "id": "9Hqy37gl5ruB"
      },
      "source": [
        "from collections import OrderedDict\n",
        "\n",
        "class EvalSet(Dataset):\n",
        "\n",
        "    def __init__(self, imageDataset,setSize=10,numWay=10):\n",
        "        self.imageDataset = imageDataset\n",
        "        self.setSize = setSize\n",
        "        self.numWay = numWay\n",
        "    def __len__(self):\n",
        "        return self.setSize\n",
        "    def __getitem__(self, idx):\n",
        "        # find one main image\n",
        "        mainImg = random.choice(self.imageDataset)\n",
        "        label = mainImg[1]\n",
        "        mainImg = mainImg[0]\n",
        "        \n",
        "\n",
        "        #seen_indices=[]\n",
        "\n",
        "        # find n numbers of distinct images, 1 in the same set as the main\n",
        "        testSet = []\n",
        "\n",
        "        for i in range(self.numWay):\n",
        "\n",
        "            while True:\n",
        "                testImgName = random.choice(self.imageDataset)\n",
        "                if int(testImgName[1]) == i:\n",
        "                    break\n",
        "\n",
        "            testSet.append(testImgName[0])\n",
        "        return mainImg, testSet, torch.from_numpy(np.array([label], dtype = int))\n",
        "\n"
      ],
      "execution_count": 21,
      "outputs": []
    },
    {
      "cell_type": "markdown",
      "metadata": {
        "id": "cZHDa8vfhn71"
      },
      "source": [
        "## Using Contrastive loss"
      ]
    },
    {
      "cell_type": "code",
      "metadata": {
        "colab": {
          "base_uri": "https://localhost:8080/"
        },
        "id": "bb5HmaXEHBjX",
        "outputId": "601ee573-2d85-4413-d7d7-c07fd7bf6ab0"
      },
      "source": [
        "torch.manual_seed(101) \n",
        "modelcontrast=SiameseNetwork()\n",
        "modelcontrast\n"
      ],
      "execution_count": null,
      "outputs": [
        {
          "output_type": "execute_result",
          "data": {
            "text/plain": [
              "SiameseNetwork(\n",
              "  (conv1): Conv2d(1, 16, kernel_size=(3, 3), stride=(1, 1))\n",
              "  (batch_norm1): BatchNorm2d(16, eps=1e-05, momentum=0.1, affine=True, track_running_stats=True)\n",
              "  (conv2): Conv2d(16, 32, kernel_size=(2, 2), stride=(1, 1))\n",
              "  (batch_norm2): BatchNorm2d(32, eps=1e-05, momentum=0.1, affine=True, track_running_stats=True)\n",
              "  (conv3): Conv2d(32, 256, kernel_size=(2, 2), stride=(1, 1))\n",
              "  (batch_norm3): BatchNorm2d(256, eps=1e-05, momentum=0.1, affine=True, track_running_stats=True)\n",
              "  (fc1): Linear(in_features=1024, out_features=256, bias=True)\n",
              "  (fc2): Linear(in_features=256, out_features=128, bias=True)\n",
              "  (fcout): Linear(in_features=128, out_features=1, bias=True)\n",
              "  (sigmoid): Sigmoid()\n",
              ")"
            ]
          },
          "metadata": {
            "tags": []
          },
          "execution_count": 185
        }
      ]
    },
    {
      "cell_type": "code",
      "metadata": {
        "colab": {
          "base_uri": "https://localhost:8080/"
        },
        "id": "yl97WhWMHBjb",
        "outputId": "d7250eb6-4874-4ed0-8599-4b18fc87f36b"
      },
      "source": [
        "count_parameters(modelcontrast)"
      ],
      "execution_count": null,
      "outputs": [
        {
          "output_type": "stream",
          "text": [
            "   144\n",
            "    16\n",
            "    16\n",
            "    16\n",
            "  2048\n",
            "    32\n",
            "    32\n",
            "    32\n",
            " 32768\n",
            "   256\n",
            "   256\n",
            "   256\n",
            "262144\n",
            "   256\n",
            " 32768\n",
            "   128\n",
            "   128\n",
            "     1\n",
            "______\n",
            "331297\n"
          ],
          "name": "stdout"
        }
      ]
    },
    {
      "cell_type": "code",
      "metadata": {
        "id": "c3hzmNYcHBjd"
      },
      "source": [
        "#criterion=Regularised cross rntropy loss adding L2 regularisation factor of 0.0005\n",
        "criterion = nn.CosineEmbeddingLoss()                   ### it is similar to contrastive loss except that it uses cosine distance I have given margin as 4\n",
        "optimizer=torch.optim.Adam(modelcontrast.parameters(),lr=0.001)"
      ],
      "execution_count": null,
      "outputs": []
    },
    {
      "cell_type": "code",
      "metadata": {
        "id": "mJEi793OrgSq"
      },
      "source": [
        "\n",
        "torch.manual_seed(101)  # for consistent results\n",
        "\n",
        "train_loader = DataLoader(train_dataset, batch_size=100, shuffle=True)\n",
        "\n",
        "test_loader = DataLoader(test_dataset, batch_size=1, shuffle=False)"
      ],
      "execution_count": null,
      "outputs": []
    },
    {
      "cell_type": "code",
      "metadata": {
        "id": "WqvMd-GTsIQF"
      },
      "source": [
        "train_dataset=SiameseNetworkDataset(train_data)\n",
        "test_dataset=SiameseNetworkDataset(test_data)"
      ],
      "execution_count": null,
      "outputs": []
    },
    {
      "cell_type": "code",
      "metadata": {
        "id": "-SJcPQptnoW5"
      },
      "source": [
        "def inference(in1,in2):\n",
        "  cityblock_dist=F.pairwise_distance(in1, in2,p=2)\n",
        "  m = nn.Sigmoid()\n",
        "  return m(cityblock_dist)"
      ],
      "execution_count": 35,
      "outputs": []
    },
    {
      "cell_type": "code",
      "metadata": {
        "id": "RzY3w5k9H7J3"
      },
      "source": [
        "def evaluate(in1,in2):\n",
        "  \n",
        "  cityblock_dist=F.pairwise_distance(in1, in2,p=2)\n",
        "  m = nn.Sigmoid()\n",
        "  if m(cityblock_dist) >=0.5:\n",
        "    return 0 # not similar\n",
        "  return 1    # similar "
      ],
      "execution_count": 36,
      "outputs": []
    },
    {
      "cell_type": "code",
      "metadata": {
        "id": "9ndFatdEKwbM"
      },
      "source": [
        "######## Preparing the support set \n",
        "from collections import OrderedDict\n",
        "support_size=1000\n",
        "numClasses=10 #each class contains 100 images as a support set \n",
        "k_way_dict=OrderedDict()\n",
        "j=0\n",
        "for i in range(0,10):\n",
        "    coun=0\n",
        "    k_way_dict[i]=[]\n",
        "    while True:\n",
        "      sample=train_data[j]\n",
        "      j+=1\n",
        "      if sample[1]==i:\n",
        "        k_way_dict[i].append(sample[0])\n",
        "        #print(j)\n",
        "        coun+=1\n",
        "      if coun==10:\n",
        "        break\n",
        "  "
      ],
      "execution_count": 33,
      "outputs": []
    },
    {
      "cell_type": "code",
      "metadata": {
        "colab": {
          "base_uri": "https://localhost:8080/"
        },
        "id": "TOB0FpPEGdyk",
        "outputId": "5609d103-5460-4987-afe9-71537df9b826"
      },
      "source": [
        "# training and validation loss were calculated after every epoch\n",
        "import time\n",
        "start_time = time.time()\n",
        "num_epochs=13\n",
        "device='cpu'\n",
        "train_losses = []\n",
        "val_losses = []\n",
        "cur_step = 0\n",
        "for epoch in range(num_epochs):\n",
        "    running_loss = 0.0\n",
        "    modelcontrast.train()\n",
        "    print(\"Starting epoch \" + str(epoch+1))\n",
        "    for img1, img2,labels in train_loader:    # , label1,label2\n",
        "        #labels = labels.to(device)\n",
        "        output1,output2 = modelcontrast(img1, img2)\n",
        "        out = modelcontrast.evaluate2(output1,output2)\n",
        "        #print(out)\n",
        "        #print(labels)\n",
        "       # labels=labels.type(torch.LongTensor)\n",
        "        loss = criterion(out,labels,Variable(torch.Tensor(out.size(0))))     ### very important to include the size(0) of predicted variable \n",
        "      \n",
        "        optimizer.zero_grad()\n",
        "        loss.backward()\n",
        "        optimizer.step()\n",
        "        running_loss += loss.item()\n",
        "    avg_train_loss = running_loss / len(train_loader)\n",
        "    train_losses.append(avg_train_loss)\n",
        "    #break\n",
        "\n",
        "    print('Epoch [{}/{}],Train Loss: {:.4f}'\n",
        "        .format(epoch+1, num_epochs, avg_train_loss))\n",
        "print(\"Finished Training\")  \n",
        "print(f'\\nDuration: {time.time() - start_time:.0f} seconds') # print the time elapsed  "
      ],
      "execution_count": null,
      "outputs": [
        {
          "output_type": "stream",
          "text": [
            "Starting epoch 1\n",
            "Epoch [1/13],Train Loss: 0.0000\n",
            "Starting epoch 2\n",
            "Epoch [2/13],Train Loss: 0.0000\n",
            "Starting epoch 3\n",
            "Epoch [3/13],Train Loss: 0.0000\n",
            "Starting epoch 4\n",
            "Epoch [4/13],Train Loss: 0.0000\n",
            "Starting epoch 5\n",
            "Epoch [5/13],Train Loss: 0.0000\n",
            "Starting epoch 6\n",
            "Epoch [6/13],Train Loss: 0.0000\n",
            "Starting epoch 7\n",
            "Epoch [7/13],Train Loss: 0.0000\n",
            "Starting epoch 8\n",
            "Epoch [8/13],Train Loss: 0.0000\n",
            "Starting epoch 9\n",
            "Epoch [9/13],Train Loss: 0.0000\n",
            "Starting epoch 10\n",
            "Epoch [10/13],Train Loss: 0.0000\n",
            "Starting epoch 11\n",
            "Epoch [11/13],Train Loss: 0.0000\n",
            "Starting epoch 12\n",
            "Epoch [12/13],Train Loss: 0.0000\n",
            "Starting epoch 13\n",
            "Epoch [13/13],Train Loss: 0.0000\n",
            "Finished Training\n",
            "\n",
            "Duration: 1339 seconds\n"
          ],
          "name": "stdout"
        }
      ]
    },
    {
      "cell_type": "code",
      "metadata": {
        "colab": {
          "base_uri": "https://localhost:8080/"
        },
        "id": "nY7lMHEaGdyx",
        "outputId": "0200123a-38f6-4f67-82c0-2fc83a4e5df4"
      },
      "source": [
        "train_losses"
      ],
      "execution_count": null,
      "outputs": [
        {
          "output_type": "execute_result",
          "data": {
            "text/plain": [
              "[0.0, 0.0, 0.0, 0.0, 0.0, 0.0, 0.0, 0.0, 0.0, 0.0, 0.0, 0.0, 0.0]"
            ]
          },
          "metadata": {
            "tags": []
          },
          "execution_count": 196
        }
      ]
    },
    {
      "cell_type": "code",
      "metadata": {
        "colab": {
          "base_uri": "https://localhost:8080/",
          "height": 296
        },
        "id": "A_5JpkLEGdyy",
        "outputId": "dcf64865-2455-4127-94cb-e8f1736842af"
      },
      "source": [
        "\n",
        "plt.xlabel('epoch number')\n",
        "plt.ylabel('loss-triplet')\n",
        "\n",
        "plt.plot(np.arange(num_epochs),train_losses)"
      ],
      "execution_count": null,
      "outputs": [
        {
          "output_type": "execute_result",
          "data": {
            "text/plain": [
              "[<matplotlib.lines.Line2D at 0x7f0cf26f5850>]"
            ]
          },
          "metadata": {
            "tags": []
          },
          "execution_count": 197
        },
        {
          "output_type": "display_data",
          "data": {
            "image/png": "[encoded data removed]",
            "text/plain": [
              "<Figure size 432x288 with 1 Axes>"
            ]
          },
          "metadata": {
            "tags": [],
            "needs_background": "light"
          }
        }
      ]
    },
    {
      "cell_type": "code",
      "metadata": {
        "colab": {
          "base_uri": "https://localhost:8080/"
        },
        "id": "eA7cma6MGdyy",
        "outputId": "33c78494-8b33-4e03-c73e-e30544ed7d9d"
      },
      "source": [
        "\n",
        "with torch.no_grad():\n",
        "\n",
        "    modelentropy.eval()\n",
        "    correct = 0\n",
        "    count = 0\n",
        "    m = nn.Sigmoid()\n",
        "\n",
        "    for i in range(10000):\n",
        "      sample=test_data[i]\n",
        "\n",
        "      output1=modelcontrast.evaluate(sample[0].unsqueeze(0))\n",
        "      #similarity=[]    \n",
        "      dis_simi=999\n",
        "      pred=-1\n",
        "      for key,values in k_way_dict.items():\n",
        "        \n",
        "        \n",
        "        for value in values:\n",
        "          out2=modelcontrast.evaluate(value.unsqueeze(0))\n",
        "          #infer=modelTriplet.evaluate2(output1,out2)\n",
        "          infer= inference(output1,out2)\n",
        "          \n",
        "          #infer=m(infer)\n",
        "          #print(infer)\n",
        "          #print('##################')\n",
        "          if dis_simi > infer[0].item():\n",
        "              dis_simi=infer[0].item()\n",
        "              pred=int(key)\n",
        "      #print(sample[1])\n",
        "      #print(pred)\n",
        "      if sample[1]==pred:\n",
        "        correct+=1\n",
        "\n",
        "      count += 1\n",
        "      if count % 200 == 0:\n",
        "          print(\"Current Count is: {}\".format(count))\n",
        "          print('Accuracy on n way: {}'.format(correct/count))\n",
        "\n",
        "      \n",
        "    print('Final Test Accuracy if {:.4f}'.format(correct*100/count))\n",
        "\n"
      ],
      "execution_count": null,
      "outputs": [
        {
          "output_type": "stream",
          "text": [
            "Current Count is: 200\n",
            "Accuracy on n way: 0.615\n",
            "Current Count is: 400\n",
            "Accuracy on n way: 0.6075\n",
            "Current Count is: 600\n",
            "Accuracy on n way: 0.6\n",
            "Current Count is: 800\n",
            "Accuracy on n way: 0.61125\n",
            "Current Count is: 1000\n",
            "Accuracy on n way: 0.619\n",
            "Current Count is: 1200\n",
            "Accuracy on n way: 0.6175\n",
            "Current Count is: 1400\n",
            "Accuracy on n way: 0.6228571428571429\n",
            "Current Count is: 1600\n",
            "Accuracy on n way: 0.620625\n",
            "Current Count is: 1800\n",
            "Accuracy on n way: 0.615\n",
            "Current Count is: 2000\n",
            "Accuracy on n way: 0.6135\n",
            "Current Count is: 2200\n",
            "Accuracy on n way: 0.610909090909091\n",
            "Current Count is: 2400\n",
            "Accuracy on n way: 0.6133333333333333\n",
            "Current Count is: 2600\n",
            "Accuracy on n way: 0.6157692307692307\n",
            "Current Count is: 2800\n",
            "Accuracy on n way: 0.6121428571428571\n",
            "Current Count is: 3000\n",
            "Accuracy on n way: 0.6186666666666667\n",
            "Current Count is: 3200\n",
            "Accuracy on n way: 0.6171875\n",
            "Current Count is: 3400\n",
            "Accuracy on n way: 0.6120588235294118\n",
            "Current Count is: 3600\n",
            "Accuracy on n way: 0.6094444444444445\n",
            "Current Count is: 3800\n",
            "Accuracy on n way: 0.6089473684210527\n",
            "Current Count is: 4000\n",
            "Accuracy on n way: 0.6105\n",
            "Current Count is: 4200\n",
            "Accuracy on n way: 0.6107142857142858\n",
            "Current Count is: 4400\n",
            "Accuracy on n way: 0.6095454545454545\n",
            "Current Count is: 4600\n",
            "Accuracy on n way: 0.6084782608695652\n",
            "Current Count is: 4800\n",
            "Accuracy on n way: 0.6072916666666667\n",
            "Current Count is: 5000\n",
            "Accuracy on n way: 0.604\n",
            "Current Count is: 5200\n",
            "Accuracy on n way: 0.6026923076923076\n",
            "Current Count is: 5400\n",
            "Accuracy on n way: 0.600925925925926\n",
            "Current Count is: 5600\n",
            "Accuracy on n way: 0.6030357142857142\n",
            "Current Count is: 5800\n",
            "Accuracy on n way: 0.6022413793103448\n",
            "Current Count is: 6000\n",
            "Accuracy on n way: 0.6003333333333334\n",
            "Current Count is: 6200\n",
            "Accuracy on n way: 0.6020967741935483\n",
            "Current Count is: 6400\n",
            "Accuracy on n way: 0.6028125\n",
            "Current Count is: 6600\n",
            "Accuracy on n way: 0.6033333333333334\n",
            "Current Count is: 6800\n",
            "Accuracy on n way: 0.6020588235294118\n",
            "Current Count is: 7000\n",
            "Accuracy on n way: 0.6011428571428571\n",
            "Current Count is: 7200\n",
            "Accuracy on n way: 0.6011111111111112\n",
            "Current Count is: 7400\n",
            "Accuracy on n way: 0.6013513513513513\n",
            "Current Count is: 7600\n",
            "Accuracy on n way: 0.6019736842105263\n",
            "Current Count is: 7800\n",
            "Accuracy on n way: 0.6021794871794872\n",
            "Current Count is: 8000\n",
            "Accuracy on n way: 0.602\n",
            "Current Count is: 8200\n",
            "Accuracy on n way: 0.6013414634146341\n",
            "Current Count is: 8400\n",
            "Accuracy on n way: 0.6005952380952381\n",
            "Current Count is: 8600\n",
            "Accuracy on n way: 0.6003488372093023\n",
            "Current Count is: 8800\n",
            "Accuracy on n way: 0.6004545454545455\n",
            "Current Count is: 9000\n",
            "Accuracy on n way: 0.6008888888888889\n",
            "Current Count is: 9200\n",
            "Accuracy on n way: 0.6016304347826087\n",
            "Current Count is: 9400\n",
            "Accuracy on n way: 0.6004255319148936\n",
            "Current Count is: 9600\n",
            "Accuracy on n way: 0.6010416666666667\n",
            "Current Count is: 9800\n",
            "Accuracy on n way: 0.6009183673469388\n",
            "Current Count is: 10000\n",
            "Accuracy on n way: 0.6014\n",
            "Final Test Accuracy if 60.1400\n"
          ],
          "name": "stdout"
        }
      ]
    },
    {
      "cell_type": "code",
      "metadata": {
        "colab": {
          "base_uri": "https://localhost:8080/"
        },
        "id": "HEW-qfFuKwbf",
        "outputId": "37cc5ea1-8a68-4c9c-8814-a4e7a1c782b2"
      },
      "source": [
        "print('Final Test Accuracy if {:.4f}'.format(correct*100/count))"
      ],
      "execution_count": null,
      "outputs": [
        {
          "output_type": "stream",
          "text": [
            "Final Test Accuracy if 60.1400\n"
          ],
          "name": "stdout"
        }
      ]
    },
    {
      "cell_type": "markdown",
      "metadata": {
        "id": "ozIWnyM4qdfL"
      },
      "source": [
        "## Using triplet loss"
      ]
    },
    {
      "cell_type": "markdown",
      "metadata": {
        "id": "DDKzySYxrVn5"
      },
      "source": [
        "### Slight modifications to the class added additional input"
      ]
    },
    {
      "cell_type": "code",
      "metadata": {
        "id": "umK1QwOTrluk"
      },
      "source": [
        "class SiameseTripletDataset(Dataset):\n",
        "    \n",
        "    def __init__(self,imageDataset):\n",
        "        self.imageDataset = imageDataset    \n",
        "        \n",
        "    def __getitem__(self,index):\n",
        "        img0_tuple = random.choice(self.imageDataset)\n",
        "        #we need to make sure approx 50% of images are in the same class\n",
        "        #should_get_same_class = random.randint(0,1) \n",
        "        #if should_get_same_class:\n",
        "        while True:\n",
        "            #keep looping till the same class image is found\n",
        "            img1_tuple = random.choice(self.imageDataset) \n",
        "            if img0_tuple[1]==img1_tuple[1]:\n",
        "                break\n",
        "\n",
        "        while True:\n",
        "            img2_tuple = random.choice(self.imageDataset)\n",
        "            if img0_tuple[1]!=img2_tuple[1]:\n",
        "                break\n",
        "\n",
        "        #img0 = Image.open(img0_tuple[0])\n",
        "        img0 = img0_tuple[0]\n",
        "        #img1 = Image.open(img1_tuple[0])\n",
        "        img1 = img1_tuple[0]\n",
        "        img2 = img2_tuple[0]\n",
        "        #img0 = img0.convert(\"L\")\n",
        "        #img1 = img1.convert(\"L\")\n",
        "\n",
        "        '''\n",
        "        if self.should_invert:\n",
        "            img0 = PIL.ImageOps.invert(img0)\n",
        "            img1 = PIL.ImageOps.invert(img1)\n",
        "\n",
        "        if self.transform is not None:\n",
        "            img0 = self.transform(img0)\n",
        "            img1 = self.transform(img1)\n",
        "        '''\n",
        "        \n",
        "        return img0, img1, img2 #torch.from_numpy(np.array([1],dtype=np.float32)),torch.from_numpy(np.array([0],dtype=np.float32))\n",
        "    \n",
        "    def __len__(self):\n",
        "        return len(self.imageDataset)"
      ],
      "execution_count": null,
      "outputs": []
    },
    {
      "cell_type": "code",
      "metadata": {
        "id": "ofrxu3ti1edI"
      },
      "source": [
        "train_dataset=SiameseTripletDataset(train_data)\n",
        "\n",
        "test_dataset=SiameseTripletDataset(train_data)"
      ],
      "execution_count": null,
      "outputs": []
    },
    {
      "cell_type": "code",
      "metadata": {
        "id": "eDoQoO7H1d1G"
      },
      "source": [
        "\n",
        "torch.manual_seed(101)  # for consistent results\n",
        "\n",
        "train_loader = DataLoader(train_dataset, batch_size=100, shuffle=True)\n",
        "\n",
        "test_loader = DataLoader(test_dataset, batch_size=1, shuffle=False)"
      ],
      "execution_count": null,
      "outputs": []
    },
    {
      "cell_type": "code",
      "metadata": {
        "id": "xo1MfPOWrC4M"
      },
      "source": [
        "### Reference : https://datascience.stackexchange.com/questions/40906/determining-size-of-fc-layer-after-conv-layer-in-pytorch\n",
        "## Reference :https://towardsdatascience.com/building-a-one-shot-learning-network-with-pytorch-d1c3a5fafa4a\n",
        "\n",
        "class SiameseTriplet(nn.Module):\n",
        "\n",
        "    def __init__(self):\n",
        "        super().__init__()\n",
        "        self.conv1 = nn.Conv2d(in_channels=1, out_channels=16, kernel_size=3, padding=0)\n",
        "        self.batch_norm1=nn.BatchNorm2d(16)\n",
        "        self.conv2 = nn.Conv2d(in_channels=16, out_channels=32, kernel_size=2, padding=0)\n",
        "        self.batch_norm2=nn.BatchNorm2d(32)\n",
        "        self.conv3 = nn.Conv2d(in_channels=32, out_channels=256, kernel_size=2, padding=0)\n",
        "        self.batch_norm3=nn.BatchNorm2d(256)\n",
        "       \n",
        "  \n",
        "\n",
        "        self.fc1 = nn.Linear(256 *2 * 2, 256)\n",
        "        self.fc2 = nn.Linear(256, 128)\n",
        "\n",
        "        self.fcout=nn.Linear(128,1)\n",
        "\n",
        "        self.sigmoid=nn.Sigmoid()\n",
        "    \n",
        "\n",
        "    def forward_once(self, X):\n",
        "        X = F.relu(self.batch_norm1(self.conv1(X)))\n",
        "        X = F.max_pool2d(X, 2, 2)\n",
        "        X = F.relu(self.batch_norm2(self.conv2(X)))\n",
        "        X = F.max_pool2d(X, 2, 2)\n",
        "        X = F.relu(self.batch_norm3(self.conv3(X)))\n",
        "        X = F.max_pool2d(X, 2, 2)\n",
        "        X = X.view(X.size(0), -1)\n",
        "        X = F.relu(self.fc1(X))\n",
        "        X = self.fc2(X)\n",
        "\n",
        "        return X\n",
        "\n",
        "        #return F.log_softmax(X, dim=1)\n",
        "    \n",
        "    def forward(self,in1,in2,in3):\n",
        "        #https://stackoverflow.com/questions/57237381/runtimeerror-expected-4-dimensional-input-for-4-dimensional-weight-32-3-3-but\n",
        "        out1=self.forward_once(in1)  ### because pytorch expects in batches, to support singleton batch\n",
        "        #out1 = self.sigmoid(out1)\n",
        "        out2=self.forward_once(in2)\n",
        "        #out2 =  self.sigmoid(out2)\n",
        "        out3=self.forward_once(in3)\n",
        "        #out3 =  self.sigmoid(out3)\n",
        "        #out=torch.abs(out1 - out2)\n",
        "        #x = torch.abs(out1 - out2)\n",
        "        #return x\n",
        "\n",
        "        return out1,out2,out3\n",
        "\n",
        "        #return self.fcout(out)\n",
        "\n",
        "    def evaluate1(self,x,y):\n",
        "\n",
        "      out=torch.abs(x - y)\n",
        "      #out=self.fcout(out)\n",
        "\n",
        "      return out\n",
        "    \n",
        "    def evaluate2(self,x,y):\n",
        "\n",
        "      out=torch.abs(x - y)\n",
        "      out=self.fcout(out)\n",
        "\n",
        "      return out\n",
        "\n",
        "    def evaluate(self,x):\n",
        "\n",
        "      out=self.forward_once(x)\n",
        "      return out\n",
        "\n",
        "        \n",
        " "
      ],
      "execution_count": null,
      "outputs": []
    },
    {
      "cell_type": "code",
      "metadata": {
        "id": "synMTIj1q33K"
      },
      "source": [
        "#TripletMarginLoss()\n",
        "#SiameseTriplet"
      ],
      "execution_count": null,
      "outputs": []
    },
    {
      "cell_type": "code",
      "metadata": {
        "id": "8x7HeJOM10_b"
      },
      "source": [
        ""
      ],
      "execution_count": null,
      "outputs": []
    },
    {
      "cell_type": "code",
      "metadata": {
        "colab": {
          "base_uri": "https://localhost:8080/"
        },
        "id": "3V4Zqjj92EZi",
        "outputId": "00701009-3590-423f-85c6-a48e1ff7d218"
      },
      "source": [
        "torch.manual_seed(101) \n",
        "modelTriplet=SiameseTriplet()\n",
        "modelTriplet\n"
      ],
      "execution_count": null,
      "outputs": [
        {
          "output_type": "execute_result",
          "data": {
            "text/plain": [
              "SiameseTriplet(\n",
              "  (conv1): Conv2d(1, 16, kernel_size=(3, 3), stride=(1, 1))\n",
              "  (batch_norm1): BatchNorm2d(16, eps=1e-05, momentum=0.1, affine=True, track_running_stats=True)\n",
              "  (conv2): Conv2d(16, 32, kernel_size=(2, 2), stride=(1, 1))\n",
              "  (batch_norm2): BatchNorm2d(32, eps=1e-05, momentum=0.1, affine=True, track_running_stats=True)\n",
              "  (conv3): Conv2d(32, 256, kernel_size=(2, 2), stride=(1, 1))\n",
              "  (batch_norm3): BatchNorm2d(256, eps=1e-05, momentum=0.1, affine=True, track_running_stats=True)\n",
              "  (fc1): Linear(in_features=1024, out_features=256, bias=True)\n",
              "  (fc2): Linear(in_features=256, out_features=128, bias=True)\n",
              "  (fcout): Linear(in_features=128, out_features=1, bias=True)\n",
              "  (sigmoid): Sigmoid()\n",
              ")"
            ]
          },
          "metadata": {
            "tags": []
          },
          "execution_count": 36
        }
      ]
    },
    {
      "cell_type": "code",
      "metadata": {
        "colab": {
          "base_uri": "https://localhost:8080/"
        },
        "id": "RObuNQYJ2EZx",
        "outputId": "bec7987a-038c-424e-f292-06fdcc659cd2"
      },
      "source": [
        "count_parameters(modelTriplet)"
      ],
      "execution_count": null,
      "outputs": [
        {
          "output_type": "stream",
          "text": [
            "   144\n",
            "    16\n",
            "    16\n",
            "    16\n",
            "  2048\n",
            "    32\n",
            "    32\n",
            "    32\n",
            " 32768\n",
            "   256\n",
            "   256\n",
            "   256\n",
            "262144\n",
            "   256\n",
            " 32768\n",
            "   128\n",
            "   128\n",
            "     1\n",
            "______\n",
            "331297\n"
          ],
          "name": "stdout"
        }
      ]
    },
    {
      "cell_type": "code",
      "metadata": {
        "id": "R9ka_zO72EZy"
      },
      "source": [
        "#criterion=ContrastiveLoss()\n",
        "criterion = nn.TripletMarginLoss()\n",
        "optimizer=torch.optim.Adam(modelTriplet.parameters(),lr=0.001)"
      ],
      "execution_count": null,
      "outputs": []
    },
    {
      "cell_type": "markdown",
      "metadata": {
        "id": "jctXxPDT4cwH"
      },
      "source": [
        "### Training using triplet loss"
      ]
    },
    {
      "cell_type": "code",
      "metadata": {
        "id": "xuPgxWs_Ayak"
      },
      "source": [
        ""
      ],
      "execution_count": null,
      "outputs": []
    },
    {
      "cell_type": "code",
      "metadata": {
        "id": "iKYybem1Ayx8"
      },
      "source": [
        "def evaluateTriplet(in1,in2):\n",
        "  \n",
        "  cityblock_dist=F.pairwise_distance(in1, in2,p=2)\n",
        "  m = nn.Sigmoid()\n",
        "  if m(cityblock_dist) >=0.5:\n",
        "    return 0 # not similar\n",
        "  return 1    # similar "
      ],
      "execution_count": null,
      "outputs": []
    },
    {
      "cell_type": "code",
      "metadata": {
        "colab": {
          "base_uri": "https://localhost:8080/"
        },
        "id": "IcboV97C2EZy",
        "outputId": "41fd3738-88ef-492d-e047-84415de71ad7"
      },
      "source": [
        "# training and validation loss were calculated after every epoch\n",
        "import time\n",
        "start_time = time.time()\n",
        "num_epochs=10\n",
        "device='cpu'\n",
        "train_losses = []\n",
        "val_losses = []\n",
        "cur_step = 0\n",
        "for epoch in range(num_epochs):\n",
        "    running_loss = 0.0\n",
        "    modelTriplet.train()\n",
        "    print(\"Starting epoch \" + str(epoch+1))\n",
        "    for img1, img2,img3 in train_loader:    # , label1,label2\n",
        "        #labels = labels.to(device)\n",
        "        output1,output2, output3 = modelTriplet(img1, img2,img3)\n",
        "\n",
        "\n",
        "        loss = criterion(output1,output2, output3)\n",
        "        \n",
        "        #in1=modelTriplet.evaluate1(output1,output2)\n",
        "        #out=modelTriplet.evaluate2(in1,output3)\n",
        "        #print(out)\n",
        "        #print(label1)\n",
        "        #print(label2)\n",
        "        #break\n",
        "\n",
        "\n",
        "        # Backward and optimize\n",
        "        optimizer.zero_grad()\n",
        "        loss.backward()\n",
        "        optimizer.step()\n",
        "        running_loss += loss.item()\n",
        "    avg_train_loss = running_loss / len(train_loader)\n",
        "    train_losses.append(avg_train_loss)\n",
        "    #break\n",
        "\n",
        "    print('Epoch [{}/{}],Train Loss: {:.4f}'\n",
        "        .format(epoch+1, num_epochs, avg_train_loss))\n",
        "print(\"Finished Training\")  \n",
        "print(f'\\nDuration: {time.time() - start_time:.0f} seconds') # print the time elapsed  "
      ],
      "execution_count": null,
      "outputs": [
        {
          "output_type": "stream",
          "text": [
            "Starting epoch 1\n",
            "Epoch [1/10],Train Loss: 0.0676\n",
            "Starting epoch 2\n",
            "Epoch [2/10],Train Loss: 0.0346\n",
            "Starting epoch 3\n",
            "Epoch [3/10],Train Loss: 0.0333\n",
            "Starting epoch 4\n",
            "Epoch [4/10],Train Loss: 0.0225\n",
            "Starting epoch 5\n",
            "Epoch [5/10],Train Loss: 0.0205\n",
            "Starting epoch 6\n",
            "Epoch [6/10],Train Loss: 0.0175\n",
            "Starting epoch 7\n",
            "Epoch [7/10],Train Loss: 0.0148\n",
            "Starting epoch 8\n",
            "Epoch [8/10],Train Loss: 0.0167\n",
            "Starting epoch 9\n",
            "Epoch [9/10],Train Loss: 0.0125\n",
            "Starting epoch 10\n",
            "Epoch [10/10],Train Loss: 0.0124\n",
            "Finished Training\n",
            "\n",
            "Duration: 1661 seconds\n"
          ],
          "name": "stdout"
        }
      ]
    },
    {
      "cell_type": "code",
      "metadata": {
        "colab": {
          "base_uri": "https://localhost:8080/"
        },
        "id": "YbeOHvLBAHD7",
        "outputId": "a81e39e6-f494-4073-bc38-9662ea4d39e2"
      },
      "source": [
        "train_losses"
      ],
      "execution_count": null,
      "outputs": [
        {
          "output_type": "execute_result",
          "data": {
            "text/plain": [
              "[0.06763548352114133,\n",
              " 0.034585384911933574,\n",
              " 0.03327278416502534,\n",
              " 0.022545746358498167,\n",
              " 0.020505352258258853,\n",
              " 0.017489072058631382,\n",
              " 0.014772353630892862,\n",
              " 0.016708360656048173,\n",
              " 0.012497822648123363,\n",
              " 0.012430928571974415]"
            ]
          },
          "metadata": {
            "tags": []
          },
          "execution_count": 43
        }
      ]
    },
    {
      "cell_type": "code",
      "metadata": {
        "colab": {
          "base_uri": "https://localhost:8080/",
          "height": 299
        },
        "id": "aWjlMrcm4ZyQ",
        "outputId": "25b73cfa-1d34-412b-bcd0-9906f5c752b9"
      },
      "source": [
        "\n",
        "plt.xlabel('epoch number')\n",
        "plt.ylabel('loss-triplet')\n",
        "\n",
        "plt.plot(np.arange(num_epochs),train_losses)"
      ],
      "execution_count": null,
      "outputs": [
        {
          "output_type": "execute_result",
          "data": {
            "text/plain": [
              "[<matplotlib.lines.Line2D at 0x7f0cf8197690>]"
            ]
          },
          "metadata": {
            "tags": []
          },
          "execution_count": 44
        },
        {
          "output_type": "display_data",
          "data": {
            "image/png": "[encoded data removed]",
            "text/plain": [
              "<Figure size 432x288 with 1 Axes>"
            ]
          },
          "metadata": {
            "tags": [],
            "needs_background": "light"
          }
        }
      ]
    },
    {
      "cell_type": "code",
      "metadata": {
        "id": "QxDHfql6Qh6-"
      },
      "source": [
        "######## Preparing the support set \n",
        "from collections import OrderedDict\n",
        "support_size=100\n",
        "numClasses=10 #each class contains 10 images as a support set \n",
        "k_way_dict=OrderedDict()\n",
        "j=0\n",
        "for i in range(0,10):\n",
        "    coun=0\n",
        "    k_way_dict[i]=[]\n",
        "    while True:\n",
        "      sample=train_data[j]\n",
        "      j+=1\n",
        "      if sample[1]==i:\n",
        "        k_way_dict[i].append(sample[0])\n",
        "        #print(j)\n",
        "        coun+=1\n",
        "      if coun==10:\n",
        "        break\n",
        "  "
      ],
      "execution_count": null,
      "outputs": []
    },
    {
      "cell_type": "code",
      "metadata": {
        "colab": {
          "base_uri": "https://localhost:8080/"
        },
        "id": "l8yhuo_hVSYK",
        "outputId": "8f3a39e8-0f08-4527-b2ff-97421fd1541d"
      },
      "source": [
        "len(k_way_dict[0])"
      ],
      "execution_count": null,
      "outputs": [
        {
          "output_type": "execute_result",
          "data": {
            "text/plain": [
              "10"
            ]
          },
          "metadata": {
            "tags": []
          },
          "execution_count": 46
        }
      ]
    },
    {
      "cell_type": "code",
      "metadata": {
        "colab": {
          "base_uri": "https://localhost:8080/"
        },
        "id": "29bZhCJEWWk5",
        "outputId": "bc5d1d98-3194-4141-c384-0d6d343a3c4d"
      },
      "source": [
        "\n",
        "with torch.no_grad():\n",
        "\n",
        "    modelTriplet.eval()\n",
        "    correct = 0\n",
        "    count = 0\n",
        "    m = nn.Sigmoid()\n",
        "\n",
        "    for i in range(len(test_data)):\n",
        "      sample=test_data[i]\n",
        "\n",
        "      output1=modelTriplet.evaluate(sample[0].unsqueeze(0))\n",
        "      #similarity=[]    \n",
        "      dis_simi=999\n",
        "      pred=-1\n",
        "      for key,values in k_way_dict.items():\n",
        "        \n",
        "        \n",
        "        for value in values:\n",
        "          out2=modelTriplet.evaluate(value.unsqueeze(0))\n",
        "          #infer=modelTriplet.evaluate2(output1,out2)\n",
        "          infer= inference(output1,out2)\n",
        "          \n",
        "          #infer=m(infer)\n",
        "          #print(infer)\n",
        "          #print('##################')\n",
        "          if dis_simi > infer[0].item():\n",
        "              dis_simi=infer[0].item()\n",
        "              pred=int(key)\n",
        "      #print(sample[1])\n",
        "      #print(pred)\n",
        "      if sample[1]==pred:\n",
        "        correct+=1\n",
        "\n",
        "      count += 1\n",
        "      if count % 200 == 0:\n",
        "          print(\"Current Count is: {}\".format(count))\n",
        "          print('Accuracy on n way: {}'.format(correct/count))\n",
        "\n",
        "      \n",
        "    print('Final Test Accuracy if {:.4f}'.format(correct*100/count))\n",
        "\n"
      ],
      "execution_count": null,
      "outputs": [
        {
          "output_type": "stream",
          "text": [
            "Current Count is: 200\n",
            "Accuracy on n way: 0.965\n",
            "Current Count is: 400\n",
            "Accuracy on n way: 0.975\n",
            "Current Count is: 600\n",
            "Accuracy on n way: 0.9716666666666667\n",
            "Current Count is: 800\n",
            "Accuracy on n way: 0.96625\n",
            "Current Count is: 1000\n",
            "Accuracy on n way: 0.969\n",
            "Current Count is: 1200\n",
            "Accuracy on n way: 0.9675\n",
            "Current Count is: 1400\n",
            "Accuracy on n way: 0.9685714285714285\n",
            "Current Count is: 1600\n",
            "Accuracy on n way: 0.968125\n",
            "Current Count is: 1800\n",
            "Accuracy on n way: 0.9677777777777777\n",
            "Current Count is: 2000\n",
            "Accuracy on n way: 0.9705\n",
            "Current Count is: 2200\n",
            "Accuracy on n way: 0.9713636363636363\n",
            "Current Count is: 2400\n",
            "Accuracy on n way: 0.96875\n",
            "Current Count is: 2600\n",
            "Accuracy on n way: 0.9692307692307692\n",
            "Current Count is: 2800\n",
            "Accuracy on n way: 0.9689285714285715\n",
            "Current Count is: 3000\n",
            "Accuracy on n way: 0.9693333333333334\n",
            "Current Count is: 3200\n",
            "Accuracy on n way: 0.969375\n",
            "Current Count is: 3400\n",
            "Accuracy on n way: 0.9697058823529412\n",
            "Current Count is: 3600\n",
            "Accuracy on n way: 0.9705555555555555\n",
            "Current Count is: 3800\n",
            "Accuracy on n way: 0.9715789473684211\n",
            "Current Count is: 4000\n",
            "Accuracy on n way: 0.971\n",
            "Current Count is: 4200\n",
            "Accuracy on n way: 0.9714285714285714\n",
            "Current Count is: 4400\n",
            "Accuracy on n way: 0.9718181818181818\n",
            "Current Count is: 4600\n",
            "Accuracy on n way: 0.9717391304347827\n",
            "Current Count is: 4800\n",
            "Accuracy on n way: 0.97125\n",
            "Current Count is: 5000\n",
            "Accuracy on n way: 0.971\n",
            "Current Count is: 5200\n",
            "Accuracy on n way: 0.9713461538461539\n",
            "Current Count is: 5400\n",
            "Accuracy on n way: 0.9714814814814815\n",
            "Current Count is: 5600\n",
            "Accuracy on n way: 0.9717857142857143\n",
            "Current Count is: 5800\n",
            "Accuracy on n way: 0.9718965517241379\n",
            "Current Count is: 6000\n",
            "Accuracy on n way: 0.9721666666666666\n",
            "Current Count is: 6200\n",
            "Accuracy on n way: 0.9720967741935483\n",
            "Current Count is: 6400\n",
            "Accuracy on n way: 0.9721875\n",
            "Current Count is: 6600\n",
            "Accuracy on n way: 0.9719696969696969\n",
            "Current Count is: 6800\n",
            "Accuracy on n way: 0.9722058823529411\n",
            "Current Count is: 7000\n",
            "Accuracy on n way: 0.9727142857142858\n",
            "Current Count is: 7200\n",
            "Accuracy on n way: 0.9722222222222222\n",
            "Current Count is: 7400\n",
            "Accuracy on n way: 0.9722972972972973\n",
            "Current Count is: 7600\n",
            "Accuracy on n way: 0.9722368421052632\n",
            "Current Count is: 7800\n",
            "Accuracy on n way: 0.9723076923076923\n",
            "Current Count is: 8000\n",
            "Accuracy on n way: 0.972125\n",
            "Current Count is: 8200\n",
            "Accuracy on n way: 0.9720731707317073\n",
            "Current Count is: 8400\n",
            "Accuracy on n way: 0.9721428571428572\n",
            "Current Count is: 8600\n",
            "Accuracy on n way: 0.9720930232558139\n",
            "Current Count is: 8800\n",
            "Accuracy on n way: 0.9726136363636364\n",
            "Current Count is: 9000\n",
            "Accuracy on n way: 0.9726666666666667\n",
            "Current Count is: 9200\n",
            "Accuracy on n way: 0.9723913043478261\n",
            "Current Count is: 9400\n",
            "Accuracy on n way: 0.9724468085106382\n",
            "Current Count is: 9600\n",
            "Accuracy on n way: 0.9728125\n",
            "Current Count is: 9800\n",
            "Accuracy on n way: 0.9727551020408163\n",
            "Current Count is: 10000\n",
            "Accuracy on n way: 0.9728\n",
            "Current Count is: 10200\n",
            "Accuracy on n way: 0.9729411764705882\n",
            "Current Count is: 10400\n",
            "Accuracy on n way: 0.9727884615384615\n",
            "Current Count is: 10600\n",
            "Accuracy on n way: 0.9726415094339622\n",
            "Current Count is: 10800\n",
            "Accuracy on n way: 0.9725925925925926\n",
            "Current Count is: 11000\n",
            "Accuracy on n way: 0.9725454545454545\n",
            "Current Count is: 11200\n",
            "Accuracy on n way: 0.9725892857142857\n",
            "Current Count is: 11400\n",
            "Accuracy on n way: 0.9725438596491228\n",
            "Current Count is: 11600\n",
            "Accuracy on n way: 0.9725\n",
            "Current Count is: 11800\n",
            "Accuracy on n way: 0.9727118644067797\n",
            "Current Count is: 12000\n",
            "Accuracy on n way: 0.9725833333333334\n",
            "Current Count is: 12200\n",
            "Accuracy on n way: 0.9724590163934427\n",
            "Current Count is: 12400\n",
            "Accuracy on n way: 0.9724193548387097\n",
            "Current Count is: 12600\n",
            "Accuracy on n way: 0.9724603174603175\n",
            "Current Count is: 12800\n",
            "Accuracy on n way: 0.972578125\n",
            "Current Count is: 13000\n",
            "Accuracy on n way: 0.9725384615384616\n",
            "Current Count is: 13200\n",
            "Accuracy on n way: 0.9725757575757575\n",
            "Current Count is: 13400\n",
            "Accuracy on n way: 0.9727611940298507\n",
            "Current Count is: 13600\n",
            "Accuracy on n way: 0.9728676470588236\n",
            "Current Count is: 13800\n",
            "Accuracy on n way: 0.972463768115942\n",
            "Current Count is: 14000\n",
            "Accuracy on n way: 0.9726428571428571\n",
            "Current Count is: 14200\n",
            "Accuracy on n way: 0.972887323943662\n",
            "Current Count is: 14400\n",
            "Accuracy on n way: 0.9728472222222222\n",
            "Current Count is: 14600\n",
            "Accuracy on n way: 0.9728082191780822\n",
            "Current Count is: 14800\n",
            "Accuracy on n way: 0.9727027027027026\n",
            "Current Count is: 15000\n",
            "Accuracy on n way: 0.9728\n",
            "Current Count is: 15200\n",
            "Accuracy on n way: 0.9729605263157894\n",
            "Current Count is: 15400\n",
            "Accuracy on n way: 0.9731168831168832\n",
            "Current Count is: 15600\n",
            "Accuracy on n way: 0.9730128205128206\n",
            "Current Count is: 15800\n",
            "Accuracy on n way: 0.9727215189873418\n",
            "Current Count is: 16000\n",
            "Accuracy on n way: 0.972625\n",
            "Current Count is: 16200\n",
            "Accuracy on n way: 0.9727777777777777\n",
            "Current Count is: 16400\n",
            "Accuracy on n way: 0.9727439024390244\n",
            "Current Count is: 16600\n",
            "Accuracy on n way: 0.9728313253012049\n",
            "Current Count is: 16800\n",
            "Accuracy on n way: 0.9727380952380953\n",
            "Current Count is: 17000\n",
            "Accuracy on n way: 0.9729411764705882\n",
            "Current Count is: 17200\n",
            "Accuracy on n way: 0.9730232558139534\n",
            "Current Count is: 17400\n",
            "Accuracy on n way: 0.9728735632183908\n",
            "Current Count is: 17600\n",
            "Accuracy on n way: 0.9727840909090909\n",
            "Current Count is: 17800\n",
            "Accuracy on n way: 0.972808988764045\n",
            "Current Count is: 18000\n",
            "Accuracy on n way: 0.9727222222222223\n",
            "Current Count is: 18200\n",
            "Accuracy on n way: 0.9728021978021978\n",
            "Current Count is: 18400\n",
            "Accuracy on n way: 0.9727717391304348\n",
            "Current Count is: 18600\n",
            "Accuracy on n way: 0.9729569892473118\n",
            "Current Count is: 18800\n",
            "Accuracy on n way: 0.9730319148936171\n",
            "Current Count is: 19000\n",
            "Accuracy on n way: 0.9730526315789474\n",
            "Current Count is: 19200\n",
            "Accuracy on n way: 0.97296875\n",
            "Current Count is: 19400\n",
            "Accuracy on n way: 0.9729381443298969\n",
            "Current Count is: 19600\n",
            "Accuracy on n way: 0.9728061224489796\n",
            "Current Count is: 19800\n",
            "Accuracy on n way: 0.9727272727272728\n",
            "Current Count is: 20000\n",
            "Accuracy on n way: 0.9727\n",
            "Current Count is: 20200\n",
            "Accuracy on n way: 0.9729207920792079\n",
            "Current Count is: 20400\n",
            "Accuracy on n way: 0.9729411764705882\n",
            "Current Count is: 20600\n",
            "Accuracy on n way: 0.9729611650485437\n",
            "Current Count is: 20800\n",
            "Accuracy on n way: 0.9730288461538461\n",
            "Current Count is: 21000\n",
            "Accuracy on n way: 0.973047619047619\n",
            "Final Test Accuracy if 97.3048\n"
          ],
          "name": "stdout"
        }
      ]
    },
    {
      "cell_type": "code",
      "metadata": {
        "colab": {
          "base_uri": "https://localhost:8080/"
        },
        "id": "MYpnHpJEmAg0",
        "outputId": "37a9247d-355d-4009-bc03-984174190201"
      },
      "source": [
        "print('Final Test Accuracy if {:.4f} %'.format(correct*100/count))"
      ],
      "execution_count": null,
      "outputs": [
        {
          "output_type": "stream",
          "text": [
            "Final Test Accuracy if 97.3048 %\n"
          ],
          "name": "stdout"
        }
      ]
    },
    {
      "cell_type": "markdown",
      "metadata": {
        "id": "5bgs7MUeP4WV"
      },
      "source": [
        "## Using cross entropy losss"
      ]
    },
    {
      "cell_type": "code",
      "metadata": {
        "colab": {
          "base_uri": "https://localhost:8080/"
        },
        "id": "08OxeABRZ-RD",
        "outputId": "1d51140d-cc84-43e3-8727-f32090807ea6"
      },
      "source": [
        "torch.manual_seed(101) \n",
        "modelentropy=SiameseNetwork()\n",
        "modelentropy\n"
      ],
      "execution_count": null,
      "outputs": [
        {
          "output_type": "execute_result",
          "data": {
            "text/plain": [
              "SiameseNetwork(\n",
              "  (conv1): Conv2d(1, 16, kernel_size=(3, 3), stride=(1, 1))\n",
              "  (batch_norm1): BatchNorm2d(16, eps=1e-05, momentum=0.1, affine=True, track_running_stats=True)\n",
              "  (conv2): Conv2d(16, 32, kernel_size=(2, 2), stride=(1, 1))\n",
              "  (batch_norm2): BatchNorm2d(32, eps=1e-05, momentum=0.1, affine=True, track_running_stats=True)\n",
              "  (conv3): Conv2d(32, 256, kernel_size=(2, 2), stride=(1, 1))\n",
              "  (batch_norm3): BatchNorm2d(256, eps=1e-05, momentum=0.1, affine=True, track_running_stats=True)\n",
              "  (fc1): Linear(in_features=1024, out_features=256, bias=True)\n",
              "  (fc2): Linear(in_features=256, out_features=128, bias=True)\n",
              "  (fcout): Linear(in_features=128, out_features=1, bias=True)\n",
              "  (sigmoid): Sigmoid()\n",
              ")"
            ]
          },
          "metadata": {
            "tags": []
          },
          "execution_count": 89
        }
      ]
    },
    {
      "cell_type": "code",
      "metadata": {
        "colab": {
          "base_uri": "https://localhost:8080/"
        },
        "id": "JUQxtE4VZ-Rj",
        "outputId": "e563ee9e-99b8-43f1-909b-47fd69092856"
      },
      "source": [
        "count_parameters(modelentropy)"
      ],
      "execution_count": null,
      "outputs": [
        {
          "output_type": "stream",
          "text": [
            "   144\n",
            "    16\n",
            "    16\n",
            "    16\n",
            "  2048\n",
            "    32\n",
            "    32\n",
            "    32\n",
            " 32768\n",
            "   256\n",
            "   256\n",
            "   256\n",
            "262144\n",
            "   256\n",
            " 32768\n",
            "   128\n",
            "   128\n",
            "     1\n",
            "______\n",
            "331297\n"
          ],
          "name": "stdout"
        }
      ]
    },
    {
      "cell_type": "code",
      "metadata": {
        "id": "EKIYfVSxZ-Rk"
      },
      "source": [
        "#criterion=Regularised cross rntropy loss adding L2 regularisation factor of 0.0005\n",
        "criterion = nn.BCEWithLogitsLoss()\n",
        "optimizer=torch.optim.Adam(modelentropy.parameters(),lr=0.001,weight_decay=0.0005)"
      ],
      "execution_count": null,
      "outputs": []
    },
    {
      "cell_type": "code",
      "metadata": {
        "id": "65IKjG8zg0yp"
      },
      "source": [
        "train_dataset=SiameseNetworkDataset(train_data)\n",
        "test_dataset=SiameseNetworkDataset(test_data)"
      ],
      "execution_count": null,
      "outputs": []
    },
    {
      "cell_type": "code",
      "metadata": {
        "id": "E66mFyYlg0yw"
      },
      "source": [
        "\n",
        "torch.manual_seed(101)  # for consistent results\n",
        "\n",
        "train_loader = DataLoader(train_dataset, batch_size=100, shuffle=True)\n",
        "\n",
        "test_loader = DataLoader(test_dataset, batch_size=1, shuffle=False)"
      ],
      "execution_count": null,
      "outputs": []
    },
    {
      "cell_type": "code",
      "metadata": {
        "colab": {
          "base_uri": "https://localhost:8080/"
        },
        "id": "O-dD3f1Ec-OI",
        "outputId": "555abb86-b8c4-4ba7-c281-b32777b5a05e"
      },
      "source": [
        "# training and validation loss were calculated after every epoch\n",
        "import time\n",
        "start_time = time.time()\n",
        "num_epochs=10\n",
        "device='cpu'\n",
        "train_losses = []\n",
        "val_losses = []\n",
        "cur_step = 0\n",
        "for epoch in range(num_epochs):\n",
        "    running_loss = 0.0\n",
        "    modelentropy.train()\n",
        "    print(\"Starting epoch \" + str(epoch+1))\n",
        "    for img1, img2,labels in train_loader:    # , label1,label2\n",
        "        #labels = labels.to(device)\n",
        "        output1,output2 = modelentropy(img1, img2)\n",
        "        out = modelentropy.evaluate2(output1,output2)\n",
        "        #print(out)\n",
        "        #print(labels)\n",
        "       # labels=labels.type(torch.LongTensor)\n",
        "        loss = criterion(out,labels)\n",
        "      \n",
        "        optimizer.zero_grad()\n",
        "        loss.backward()\n",
        "        optimizer.step()\n",
        "        running_loss += loss.item()\n",
        "    avg_train_loss = running_loss / len(train_loader)\n",
        "    train_losses.append(avg_train_loss)\n",
        "    #break\n",
        "\n",
        "    print('Epoch [{}/{}],Train Loss: {:.4f}'\n",
        "        .format(epoch+1, num_epochs, avg_train_loss))\n",
        "print(\"Finished Training\")  \n",
        "print(f'\\nDuration: {time.time() - start_time:.0f} seconds') # print the time elapsed  "
      ],
      "execution_count": null,
      "outputs": [
        {
          "output_type": "stream",
          "text": [
            "Starting epoch 1\n",
            "Epoch [1/10],Train Loss: 0.2391\n",
            "Starting epoch 2\n",
            "Epoch [2/10],Train Loss: 0.1132\n",
            "Starting epoch 3\n",
            "Epoch [3/10],Train Loss: 0.0877\n",
            "Starting epoch 4\n",
            "Epoch [4/10],Train Loss: 0.0674\n",
            "Starting epoch 5\n",
            "Epoch [5/10],Train Loss: 0.0578\n",
            "Starting epoch 6\n",
            "Epoch [6/10],Train Loss: 0.0536\n",
            "Starting epoch 7\n",
            "Epoch [7/10],Train Loss: 0.0466\n",
            "Starting epoch 8\n",
            "Epoch [8/10],Train Loss: 0.0441\n",
            "Starting epoch 9\n",
            "Epoch [9/10],Train Loss: 0.0400\n",
            "Starting epoch 10\n",
            "Epoch [10/10],Train Loss: 0.0384\n",
            "Finished Training\n",
            "\n",
            "Duration: 1139 seconds\n"
          ],
          "name": "stdout"
        }
      ]
    },
    {
      "cell_type": "code",
      "metadata": {
        "colab": {
          "base_uri": "https://localhost:8080/"
        },
        "id": "oiOThDavc-Of",
        "outputId": "86a28743-f506-452e-d640-3b38e3e4ea63"
      },
      "source": [
        "train_losses"
      ],
      "execution_count": null,
      "outputs": [
        {
          "output_type": "execute_result",
          "data": {
            "text/plain": [
              "[0.23911849114359643,\n",
              " 0.11320840045809746,\n",
              " 0.0876744816573907,\n",
              " 0.06735186016339124,\n",
              " 0.057818484997224744,\n",
              " 0.053604386077851666,\n",
              " 0.04663610549795688,\n",
              " 0.04413015615023977,\n",
              " 0.04002872831378208,\n",
              " 0.03837829730093327]"
            ]
          },
          "metadata": {
            "tags": []
          },
          "execution_count": 95
        }
      ]
    },
    {
      "cell_type": "code",
      "metadata": {
        "colab": {
          "base_uri": "https://localhost:8080/",
          "height": 296
        },
        "id": "tsNw2H3Pc-Og",
        "outputId": "0365733e-1b50-4638-8260-8143dd8df92e"
      },
      "source": [
        "\n",
        "plt.xlabel('epoch number')\n",
        "plt.ylabel('loss-triplet')\n",
        "\n",
        "plt.plot(np.arange(num_epochs),train_losses)"
      ],
      "execution_count": null,
      "outputs": [
        {
          "output_type": "execute_result",
          "data": {
            "text/plain": [
              "[<matplotlib.lines.Line2D at 0x7f0cf2f818d0>]"
            ]
          },
          "metadata": {
            "tags": []
          },
          "execution_count": 96
        },
        {
          "output_type": "display_data",
          "data": {
            "image/png": "[encoded data removed]",
            "text/plain": [
              "<Figure size 432x288 with 1 Axes>"
            ]
          },
          "metadata": {
            "tags": [],
            "needs_background": "light"
          }
        }
      ]
    },
    {
      "cell_type": "code",
      "metadata": {
        "colab": {
          "base_uri": "https://localhost:8080/"
        },
        "id": "55syvQrqc-Og",
        "outputId": "1aa2a7a8-4795-4459-a49a-91a690c2cae4"
      },
      "source": [
        "\n",
        "with torch.no_grad():\n",
        "\n",
        "    modelentropy.eval()\n",
        "    correct = 0\n",
        "    count = 0\n",
        "    m = nn.Sigmoid()\n",
        "\n",
        "    for i in range(len(test_data)):\n",
        "      sample=test_data[i]\n",
        "\n",
        "      output1=modelentropy.evaluate(sample[0].unsqueeze(0))\n",
        "      #similarity=[]    \n",
        "      dis_simi=999\n",
        "      pred=-1\n",
        "      for key,values in k_way_dict.items():\n",
        "        \n",
        "        \n",
        "        for value in values:\n",
        "          out2=modelentropy.evaluate(value.unsqueeze(0))\n",
        "          #infer=modelTriplet.evaluate2(output1,out2)\n",
        "          infer= inference(output1,out2)\n",
        "          \n",
        "          #infer=m(infer)\n",
        "          #print(infer)\n",
        "          #print('##################')\n",
        "          if dis_simi > infer[0].item():\n",
        "              dis_simi=infer[0].item()\n",
        "              pred=int(key)\n",
        "      #print(sample[1])\n",
        "      #print(pred)\n",
        "      if sample[1]==pred:\n",
        "        correct+=1\n",
        "\n",
        "      count += 1\n",
        "      if count % 200 == 0:\n",
        "          print(\"Current Count is: {}\".format(count))\n",
        "          print('Accuracy on n way: {}'.format(correct/count))\n",
        "\n",
        "      \n",
        "    print('Final Test Accuracy if {:.4f}'.format(correct*100/count))\n",
        "\n"
      ],
      "execution_count": null,
      "outputs": [
        {
          "output_type": "stream",
          "text": [
            "Current Count is: 200\n",
            "Accuracy on n way: 0.98\n",
            "Current Count is: 400\n",
            "Accuracy on n way: 0.98\n",
            "Current Count is: 600\n",
            "Accuracy on n way: 0.98\n",
            "Current Count is: 800\n",
            "Accuracy on n way: 0.97625\n",
            "Current Count is: 1000\n",
            "Accuracy on n way: 0.979\n",
            "Current Count is: 1200\n",
            "Accuracy on n way: 0.9783333333333334\n",
            "Current Count is: 1400\n",
            "Accuracy on n way: 0.9764285714285714\n",
            "Current Count is: 1600\n",
            "Accuracy on n way: 0.97625\n",
            "Current Count is: 1800\n",
            "Accuracy on n way: 0.9761111111111112\n",
            "Current Count is: 2000\n",
            "Accuracy on n way: 0.9775\n",
            "Current Count is: 2200\n",
            "Accuracy on n way: 0.9781818181818182\n",
            "Current Count is: 2400\n",
            "Accuracy on n way: 0.9783333333333334\n",
            "Current Count is: 2600\n",
            "Accuracy on n way: 0.9788461538461538\n",
            "Current Count is: 2800\n",
            "Accuracy on n way: 0.9792857142857143\n",
            "Current Count is: 3000\n",
            "Accuracy on n way: 0.9796666666666667\n",
            "Current Count is: 3200\n",
            "Accuracy on n way: 0.9803125\n",
            "Current Count is: 3400\n",
            "Accuracy on n way: 0.9811764705882353\n",
            "Current Count is: 3600\n",
            "Accuracy on n way: 0.9811111111111112\n",
            "Current Count is: 3800\n",
            "Accuracy on n way: 0.9818421052631578\n",
            "Current Count is: 4000\n",
            "Accuracy on n way: 0.98125\n",
            "Current Count is: 4200\n",
            "Accuracy on n way: 0.9814285714285714\n",
            "Current Count is: 4400\n",
            "Accuracy on n way: 0.9813636363636363\n",
            "Current Count is: 4600\n",
            "Accuracy on n way: 0.9806521739130435\n",
            "Current Count is: 4800\n",
            "Accuracy on n way: 0.9795833333333334\n",
            "Current Count is: 5000\n",
            "Accuracy on n way: 0.9794\n",
            "Current Count is: 5200\n",
            "Accuracy on n way: 0.9798076923076923\n",
            "Current Count is: 5400\n",
            "Accuracy on n way: 0.9801851851851852\n",
            "Current Count is: 5600\n",
            "Accuracy on n way: 0.9807142857142858\n",
            "Current Count is: 5800\n",
            "Accuracy on n way: 0.9805172413793104\n",
            "Current Count is: 6000\n",
            "Accuracy on n way: 0.9806666666666667\n",
            "Current Count is: 6200\n",
            "Accuracy on n way: 0.9806451612903225\n",
            "Current Count is: 6400\n",
            "Accuracy on n way: 0.980625\n",
            "Current Count is: 6600\n",
            "Accuracy on n way: 0.9804545454545455\n",
            "Current Count is: 6800\n",
            "Accuracy on n way: 0.9805882352941176\n",
            "Current Count is: 7000\n",
            "Accuracy on n way: 0.9805714285714285\n",
            "Current Count is: 7200\n",
            "Accuracy on n way: 0.98\n",
            "Current Count is: 7400\n",
            "Accuracy on n way: 0.9798648648648649\n",
            "Current Count is: 7600\n",
            "Accuracy on n way: 0.9801315789473685\n",
            "Current Count is: 7800\n",
            "Accuracy on n way: 0.9803846153846154\n",
            "Current Count is: 8000\n",
            "Accuracy on n way: 0.9805\n",
            "Current Count is: 8200\n",
            "Accuracy on n way: 0.9803658536585366\n",
            "Current Count is: 8400\n",
            "Accuracy on n way: 0.9805952380952381\n",
            "Current Count is: 8600\n",
            "Accuracy on n way: 0.9803488372093023\n",
            "Current Count is: 8800\n",
            "Accuracy on n way: 0.9801136363636364\n",
            "Current Count is: 9000\n",
            "Accuracy on n way: 0.9802222222222222\n",
            "Current Count is: 9200\n",
            "Accuracy on n way: 0.9804347826086957\n",
            "Current Count is: 9400\n",
            "Accuracy on n way: 0.9806382978723405\n",
            "Current Count is: 9600\n",
            "Accuracy on n way: 0.9810416666666667\n",
            "Current Count is: 9800\n",
            "Accuracy on n way: 0.9808163265306122\n",
            "Current Count is: 10000\n",
            "Accuracy on n way: 0.9808\n",
            "Current Count is: 10200\n",
            "Accuracy on n way: 0.9808823529411764\n",
            "Current Count is: 10400\n",
            "Accuracy on n way: 0.9809615384615384\n",
            "Current Count is: 10600\n",
            "Accuracy on n way: 0.9812264150943396\n",
            "Current Count is: 10800\n",
            "Accuracy on n way: 0.9812962962962963\n",
            "Current Count is: 11000\n",
            "Accuracy on n way: 0.9811818181818182\n",
            "Current Count is: 11200\n",
            "Accuracy on n way: 0.9808928571428571\n",
            "Current Count is: 11400\n",
            "Accuracy on n way: 0.9807894736842105\n",
            "Current Count is: 11600\n",
            "Accuracy on n way: 0.9806896551724138\n",
            "Current Count is: 11800\n",
            "Accuracy on n way: 0.9808474576271187\n",
            "Current Count is: 12000\n",
            "Accuracy on n way: 0.981\n",
            "Current Count is: 12200\n",
            "Accuracy on n way: 0.9808196721311475\n",
            "Current Count is: 12400\n",
            "Accuracy on n way: 0.9807258064516129\n",
            "Current Count is: 12600\n",
            "Accuracy on n way: 0.9807936507936508\n",
            "Current Count is: 12800\n",
            "Accuracy on n way: 0.980859375\n",
            "Current Count is: 13000\n",
            "Accuracy on n way: 0.9807692307692307\n",
            "Current Count is: 13200\n",
            "Accuracy on n way: 0.9807575757575757\n",
            "Current Count is: 13400\n",
            "Accuracy on n way: 0.980820895522388\n",
            "Current Count is: 13600\n",
            "Accuracy on n way: 0.9810294117647059\n",
            "Current Count is: 13800\n",
            "Accuracy on n way: 0.9807971014492753\n",
            "Current Count is: 14000\n",
            "Accuracy on n way: 0.9808571428571429\n",
            "Current Count is: 14200\n",
            "Accuracy on n way: 0.981056338028169\n",
            "Current Count is: 14400\n",
            "Accuracy on n way: 0.9810416666666667\n",
            "Current Count is: 14600\n",
            "Accuracy on n way: 0.981027397260274\n",
            "Current Count is: 14800\n",
            "Accuracy on n way: 0.9811486486486487\n",
            "Current Count is: 15000\n",
            "Accuracy on n way: 0.9812\n",
            "Current Count is: 15200\n",
            "Accuracy on n way: 0.9813157894736843\n",
            "Current Count is: 15400\n",
            "Accuracy on n way: 0.9813636363636363\n",
            "Current Count is: 15600\n",
            "Accuracy on n way: 0.9813461538461539\n",
            "Current Count is: 15800\n",
            "Accuracy on n way: 0.9812658227848101\n",
            "Current Count is: 16000\n",
            "Accuracy on n way: 0.9810625\n",
            "Current Count is: 16200\n",
            "Accuracy on n way: 0.9811111111111112\n",
            "Current Count is: 16400\n",
            "Accuracy on n way: 0.9810365853658537\n",
            "Current Count is: 16600\n",
            "Accuracy on n way: 0.981144578313253\n",
            "Current Count is: 16800\n",
            "Accuracy on n way: 0.9811904761904762\n",
            "Current Count is: 17000\n",
            "Accuracy on n way: 0.9814117647058823\n",
            "Current Count is: 17200\n",
            "Accuracy on n way: 0.9815697674418604\n",
            "Current Count is: 17400\n",
            "Accuracy on n way: 0.981551724137931\n",
            "Current Count is: 17600\n",
            "Accuracy on n way: 0.9815909090909091\n",
            "Current Count is: 17800\n",
            "Accuracy on n way: 0.981629213483146\n",
            "Current Count is: 18000\n",
            "Accuracy on n way: 0.9816666666666667\n",
            "Current Count is: 18200\n",
            "Accuracy on n way: 0.9817032967032967\n",
            "Current Count is: 18400\n",
            "Accuracy on n way: 0.9817391304347826\n",
            "Current Count is: 18600\n",
            "Accuracy on n way: 0.9817204301075269\n",
            "Current Count is: 18800\n",
            "Accuracy on n way: 0.9817553191489362\n",
            "Current Count is: 19000\n",
            "Accuracy on n way: 0.9818421052631578\n",
            "Current Count is: 19200\n",
            "Accuracy on n way: 0.9819791666666666\n",
            "Current Count is: 19400\n",
            "Accuracy on n way: 0.9820103092783505\n",
            "Current Count is: 19600\n",
            "Accuracy on n way: 0.9820408163265306\n",
            "Current Count is: 19800\n",
            "Accuracy on n way: 0.9821717171717171\n",
            "Current Count is: 20000\n",
            "Accuracy on n way: 0.98205\n",
            "Current Count is: 20200\n",
            "Accuracy on n way: 0.9820792079207921\n",
            "Current Count is: 20400\n",
            "Accuracy on n way: 0.9818627450980392\n",
            "Current Count is: 20600\n",
            "Accuracy on n way: 0.9818446601941747\n",
            "Current Count is: 20800\n",
            "Accuracy on n way: 0.981875\n",
            "Current Count is: 21000\n",
            "Accuracy on n way: 0.9819523809523809\n",
            "Final Test Accuracy if 98.1952\n"
          ],
          "name": "stdout"
        }
      ]
    },
    {
      "cell_type": "code",
      "metadata": {
        "colab": {
          "base_uri": "https://localhost:8080/"
        },
        "id": "Qxdo4V2sM0gi",
        "outputId": "1a9a4a38-a746-407b-d1e7-50cc22a642dd"
      },
      "source": [
        "print('Final Test Accuracy if {:.4f} %'.format(correct*100/count))\n",
        "adam_accuracy= (correct*100/count)"
      ],
      "execution_count": null,
      "outputs": [
        {
          "output_type": "stream",
          "text": [
            "Final Test Accuracy if 98.1952 %\n"
          ],
          "name": "stdout"
        }
      ]
    },
    {
      "cell_type": "markdown",
      "metadata": {
        "id": "vs0q13kjIEGx"
      },
      "source": [
        "# Experiments on optimizers\n",
        "    since the cross entropy is giving high test accuracy we will use the same model with different optimisers"
      ]
    },
    {
      "cell_type": "markdown",
      "metadata": {
        "id": "c-UKk1A1NWik"
      },
      "source": [
        "## Using Adam Optimizer"
      ]
    },
    {
      "cell_type": "code",
      "metadata": {
        "colab": {
          "base_uri": "https://localhost:8080/"
        },
        "id": "wOWE0k3mNUJ0",
        "outputId": "1d51140d-cc84-43e3-8727-f32090807ea6"
      },
      "source": [
        "torch.manual_seed(101) \n",
        "modelentropy=SiameseNetwork()\n",
        "modelentropy\n"
      ],
      "execution_count": null,
      "outputs": [
        {
          "output_type": "execute_result",
          "data": {
            "text/plain": [
              "SiameseNetwork(\n",
              "  (conv1): Conv2d(1, 16, kernel_size=(3, 3), stride=(1, 1))\n",
              "  (batch_norm1): BatchNorm2d(16, eps=1e-05, momentum=0.1, affine=True, track_running_stats=True)\n",
              "  (conv2): Conv2d(16, 32, kernel_size=(2, 2), stride=(1, 1))\n",
              "  (batch_norm2): BatchNorm2d(32, eps=1e-05, momentum=0.1, affine=True, track_running_stats=True)\n",
              "  (conv3): Conv2d(32, 256, kernel_size=(2, 2), stride=(1, 1))\n",
              "  (batch_norm3): BatchNorm2d(256, eps=1e-05, momentum=0.1, affine=True, track_running_stats=True)\n",
              "  (fc1): Linear(in_features=1024, out_features=256, bias=True)\n",
              "  (fc2): Linear(in_features=256, out_features=128, bias=True)\n",
              "  (fcout): Linear(in_features=128, out_features=1, bias=True)\n",
              "  (sigmoid): Sigmoid()\n",
              ")"
            ]
          },
          "metadata": {
            "tags": []
          },
          "execution_count": 89
        }
      ]
    },
    {
      "cell_type": "code",
      "metadata": {
        "colab": {
          "base_uri": "https://localhost:8080/"
        },
        "id": "AWn4rcyENUJ-",
        "outputId": "e563ee9e-99b8-43f1-909b-47fd69092856"
      },
      "source": [
        "count_parameters(modelentropy)"
      ],
      "execution_count": null,
      "outputs": [
        {
          "output_type": "stream",
          "text": [
            "   144\n",
            "    16\n",
            "    16\n",
            "    16\n",
            "  2048\n",
            "    32\n",
            "    32\n",
            "    32\n",
            " 32768\n",
            "   256\n",
            "   256\n",
            "   256\n",
            "262144\n",
            "   256\n",
            " 32768\n",
            "   128\n",
            "   128\n",
            "     1\n",
            "______\n",
            "331297\n"
          ],
          "name": "stdout"
        }
      ]
    },
    {
      "cell_type": "code",
      "metadata": {
        "id": "Bsw6e-YDNUJ_"
      },
      "source": [
        "#criterion=Regularised cross rntropy loss adding L2 regularisation factor of 0.0005\n",
        "criterion = nn.BCEWithLogitsLoss()\n",
        "optimizer=torch.optim.Adam(modelentropy.parameters(),lr=0.001,weight_decay=0.0005)"
      ],
      "execution_count": null,
      "outputs": []
    },
    {
      "cell_type": "code",
      "metadata": {
        "id": "TutjfMd-NUKA"
      },
      "source": [
        "train_dataset=SiameseNetworkDataset(train_data)\n",
        "test_dataset=SiameseNetworkDataset(test_data)"
      ],
      "execution_count": null,
      "outputs": []
    },
    {
      "cell_type": "code",
      "metadata": {
        "id": "hURYGxj4NUKB"
      },
      "source": [
        "\n",
        "torch.manual_seed(101)  # for consistent results\n",
        "\n",
        "train_loader = DataLoader(train_dataset, batch_size=100, shuffle=True)\n",
        "\n",
        "test_loader = DataLoader(test_dataset, batch_size=1, shuffle=False)"
      ],
      "execution_count": null,
      "outputs": []
    },
    {
      "cell_type": "code",
      "metadata": {
        "colab": {
          "base_uri": "https://localhost:8080/"
        },
        "id": "F9Y5IZRKNUKC",
        "outputId": "555abb86-b8c4-4ba7-c281-b32777b5a05e"
      },
      "source": [
        "# training and validation loss were calculated after every epoch\n",
        "import time\n",
        "start_time = time.time()\n",
        "num_epochs=10\n",
        "device='cpu'\n",
        "train_losses = []\n",
        "val_losses = []\n",
        "cur_step = 0\n",
        "for epoch in range(num_epochs):\n",
        "    running_loss = 0.0\n",
        "    modelentropy.train()\n",
        "    print(\"Starting epoch \" + str(epoch+1))\n",
        "    for img1, img2,labels in train_loader:    # , label1,label2\n",
        "        #labels = labels.to(device)\n",
        "        output1,output2 = modelentropy(img1, img2)\n",
        "        out = modelentropy.evaluate2(output1,output2)\n",
        "        #print(out)\n",
        "        #print(labels)\n",
        "       # labels=labels.type(torch.LongTensor)\n",
        "        loss = criterion(out,labels)\n",
        "      \n",
        "        optimizer.zero_grad()\n",
        "        loss.backward()\n",
        "        optimizer.step()\n",
        "        running_loss += loss.item()\n",
        "    avg_train_loss = running_loss / len(train_loader)\n",
        "    train_losses.append(avg_train_loss)\n",
        "    #break\n",
        "\n",
        "    print('Epoch [{}/{}],Train Loss: {:.4f}'\n",
        "        .format(epoch+1, num_epochs, avg_train_loss))\n",
        "print(\"Finished Training\")  \n",
        "print(f'\\nDuration: {time.time() - start_time:.0f} seconds') # print the time elapsed  "
      ],
      "execution_count": null,
      "outputs": [
        {
          "output_type": "stream",
          "text": [
            "Starting epoch 1\n",
            "Epoch [1/10],Train Loss: 0.2391\n",
            "Starting epoch 2\n",
            "Epoch [2/10],Train Loss: 0.1132\n",
            "Starting epoch 3\n",
            "Epoch [3/10],Train Loss: 0.0877\n",
            "Starting epoch 4\n",
            "Epoch [4/10],Train Loss: 0.0674\n",
            "Starting epoch 5\n",
            "Epoch [5/10],Train Loss: 0.0578\n",
            "Starting epoch 6\n",
            "Epoch [6/10],Train Loss: 0.0536\n",
            "Starting epoch 7\n",
            "Epoch [7/10],Train Loss: 0.0466\n",
            "Starting epoch 8\n",
            "Epoch [8/10],Train Loss: 0.0441\n",
            "Starting epoch 9\n",
            "Epoch [9/10],Train Loss: 0.0400\n",
            "Starting epoch 10\n",
            "Epoch [10/10],Train Loss: 0.0384\n",
            "Finished Training\n",
            "\n",
            "Duration: 1139 seconds\n"
          ],
          "name": "stdout"
        }
      ]
    },
    {
      "cell_type": "code",
      "metadata": {
        "colab": {
          "base_uri": "https://localhost:8080/"
        },
        "id": "9RZOsY0JNUKD",
        "outputId": "86a28743-f506-452e-d640-3b38e3e4ea63"
      },
      "source": [
        "train_losses"
      ],
      "execution_count": null,
      "outputs": [
        {
          "output_type": "execute_result",
          "data": {
            "text/plain": [
              "[0.23911849114359643,\n",
              " 0.11320840045809746,\n",
              " 0.0876744816573907,\n",
              " 0.06735186016339124,\n",
              " 0.057818484997224744,\n",
              " 0.053604386077851666,\n",
              " 0.04663610549795688,\n",
              " 0.04413015615023977,\n",
              " 0.04002872831378208,\n",
              " 0.03837829730093327]"
            ]
          },
          "metadata": {
            "tags": []
          },
          "execution_count": 95
        }
      ]
    },
    {
      "cell_type": "code",
      "metadata": {
        "colab": {
          "base_uri": "https://localhost:8080/",
          "height": 296
        },
        "id": "wbUxDNbgNUKE",
        "outputId": "0365733e-1b50-4638-8260-8143dd8df92e"
      },
      "source": [
        "\n",
        "plt.xlabel('epoch number')\n",
        "plt.ylabel('loss-triplet')\n",
        "\n",
        "plt.plot(np.arange(num_epochs),train_losses)"
      ],
      "execution_count": null,
      "outputs": [
        {
          "output_type": "execute_result",
          "data": {
            "text/plain": [
              "[<matplotlib.lines.Line2D at 0x7f0cf2f818d0>]"
            ]
          },
          "metadata": {
            "tags": []
          },
          "execution_count": 96
        },
        {
          "output_type": "display_data",
          "data": {
            "image/png": "[encoded data removed]",
            "text/plain": [
              "<Figure size 432x288 with 1 Axes>"
            ]
          },
          "metadata": {
            "tags": [],
            "needs_background": "light"
          }
        }
      ]
    },
    {
      "cell_type": "code",
      "metadata": {
        "colab": {
          "base_uri": "https://localhost:8080/"
        },
        "id": "2Aa7GOnYNUKG",
        "outputId": "1aa2a7a8-4795-4459-a49a-91a690c2cae4"
      },
      "source": [
        "\n",
        "with torch.no_grad():\n",
        "\n",
        "    modelentropy.eval()\n",
        "    correct = 0\n",
        "    count = 0\n",
        "    m = nn.Sigmoid()\n",
        "\n",
        "    for i in range(len(test_data)):\n",
        "      sample=test_data[i]\n",
        "\n",
        "      output1=modelentropy.evaluate(sample[0].unsqueeze(0))\n",
        "      #similarity=[]    \n",
        "      dis_simi=999\n",
        "      pred=-1\n",
        "      for key,values in k_way_dict.items():\n",
        "        \n",
        "        \n",
        "        for value in values:\n",
        "          out2=modelentropy.evaluate(value.unsqueeze(0))\n",
        "          #infer=modelTriplet.evaluate2(output1,out2)\n",
        "          infer= inference(output1,out2)\n",
        "          \n",
        "          #infer=m(infer)\n",
        "          #print(infer)\n",
        "          #print('##################')\n",
        "          if dis_simi > infer[0].item():\n",
        "              dis_simi=infer[0].item()\n",
        "              pred=int(key)\n",
        "      #print(sample[1])\n",
        "      #print(pred)\n",
        "      if sample[1]==pred:\n",
        "        correct+=1\n",
        "\n",
        "      count += 1\n",
        "      if count % 200 == 0:\n",
        "          print(\"Current Count is: {}\".format(count))\n",
        "          print('Accuracy on n way: {}'.format(correct/count))\n",
        "\n",
        "      \n",
        "    print('Final Test Accuracy if {:.4f}'.format(correct*100/count))\n",
        "\n"
      ],
      "execution_count": null,
      "outputs": [
        {
          "output_type": "stream",
          "text": [
            "Current Count is: 200\n",
            "Accuracy on n way: 0.98\n",
            "Current Count is: 400\n",
            "Accuracy on n way: 0.98\n",
            "Current Count is: 600\n",
            "Accuracy on n way: 0.98\n",
            "Current Count is: 800\n",
            "Accuracy on n way: 0.97625\n",
            "Current Count is: 1000\n",
            "Accuracy on n way: 0.979\n",
            "Current Count is: 1200\n",
            "Accuracy on n way: 0.9783333333333334\n",
            "Current Count is: 1400\n",
            "Accuracy on n way: 0.9764285714285714\n",
            "Current Count is: 1600\n",
            "Accuracy on n way: 0.97625\n",
            "Current Count is: 1800\n",
            "Accuracy on n way: 0.9761111111111112\n",
            "Current Count is: 2000\n",
            "Accuracy on n way: 0.9775\n",
            "Current Count is: 2200\n",
            "Accuracy on n way: 0.9781818181818182\n",
            "Current Count is: 2400\n",
            "Accuracy on n way: 0.9783333333333334\n",
            "Current Count is: 2600\n",
            "Accuracy on n way: 0.9788461538461538\n",
            "Current Count is: 2800\n",
            "Accuracy on n way: 0.9792857142857143\n",
            "Current Count is: 3000\n",
            "Accuracy on n way: 0.9796666666666667\n",
            "Current Count is: 3200\n",
            "Accuracy on n way: 0.9803125\n",
            "Current Count is: 3400\n",
            "Accuracy on n way: 0.9811764705882353\n",
            "Current Count is: 3600\n",
            "Accuracy on n way: 0.9811111111111112\n",
            "Current Count is: 3800\n",
            "Accuracy on n way: 0.9818421052631578\n",
            "Current Count is: 4000\n",
            "Accuracy on n way: 0.98125\n",
            "Current Count is: 4200\n",
            "Accuracy on n way: 0.9814285714285714\n",
            "Current Count is: 4400\n",
            "Accuracy on n way: 0.9813636363636363\n",
            "Current Count is: 4600\n",
            "Accuracy on n way: 0.9806521739130435\n",
            "Current Count is: 4800\n",
            "Accuracy on n way: 0.9795833333333334\n",
            "Current Count is: 5000\n",
            "Accuracy on n way: 0.9794\n",
            "Current Count is: 5200\n",
            "Accuracy on n way: 0.9798076923076923\n",
            "Current Count is: 5400\n",
            "Accuracy on n way: 0.9801851851851852\n",
            "Current Count is: 5600\n",
            "Accuracy on n way: 0.9807142857142858\n",
            "Current Count is: 5800\n",
            "Accuracy on n way: 0.9805172413793104\n",
            "Current Count is: 6000\n",
            "Accuracy on n way: 0.9806666666666667\n",
            "Current Count is: 6200\n",
            "Accuracy on n way: 0.9806451612903225\n",
            "Current Count is: 6400\n",
            "Accuracy on n way: 0.980625\n",
            "Current Count is: 6600\n",
            "Accuracy on n way: 0.9804545454545455\n",
            "Current Count is: 6800\n",
            "Accuracy on n way: 0.9805882352941176\n",
            "Current Count is: 7000\n",
            "Accuracy on n way: 0.9805714285714285\n",
            "Current Count is: 7200\n",
            "Accuracy on n way: 0.98\n",
            "Current Count is: 7400\n",
            "Accuracy on n way: 0.9798648648648649\n",
            "Current Count is: 7600\n",
            "Accuracy on n way: 0.9801315789473685\n",
            "Current Count is: 7800\n",
            "Accuracy on n way: 0.9803846153846154\n",
            "Current Count is: 8000\n",
            "Accuracy on n way: 0.9805\n",
            "Current Count is: 8200\n",
            "Accuracy on n way: 0.9803658536585366\n",
            "Current Count is: 8400\n",
            "Accuracy on n way: 0.9805952380952381\n",
            "Current Count is: 8600\n",
            "Accuracy on n way: 0.9803488372093023\n",
            "Current Count is: 8800\n",
            "Accuracy on n way: 0.9801136363636364\n",
            "Current Count is: 9000\n",
            "Accuracy on n way: 0.9802222222222222\n",
            "Current Count is: 9200\n",
            "Accuracy on n way: 0.9804347826086957\n",
            "Current Count is: 9400\n",
            "Accuracy on n way: 0.9806382978723405\n",
            "Current Count is: 9600\n",
            "Accuracy on n way: 0.9810416666666667\n",
            "Current Count is: 9800\n",
            "Accuracy on n way: 0.9808163265306122\n",
            "Current Count is: 10000\n",
            "Accuracy on n way: 0.9808\n",
            "Current Count is: 10200\n",
            "Accuracy on n way: 0.9808823529411764\n",
            "Current Count is: 10400\n",
            "Accuracy on n way: 0.9809615384615384\n",
            "Current Count is: 10600\n",
            "Accuracy on n way: 0.9812264150943396\n",
            "Current Count is: 10800\n",
            "Accuracy on n way: 0.9812962962962963\n",
            "Current Count is: 11000\n",
            "Accuracy on n way: 0.9811818181818182\n",
            "Current Count is: 11200\n",
            "Accuracy on n way: 0.9808928571428571\n",
            "Current Count is: 11400\n",
            "Accuracy on n way: 0.9807894736842105\n",
            "Current Count is: 11600\n",
            "Accuracy on n way: 0.9806896551724138\n",
            "Current Count is: 11800\n",
            "Accuracy on n way: 0.9808474576271187\n",
            "Current Count is: 12000\n",
            "Accuracy on n way: 0.981\n",
            "Current Count is: 12200\n",
            "Accuracy on n way: 0.9808196721311475\n",
            "Current Count is: 12400\n",
            "Accuracy on n way: 0.9807258064516129\n",
            "Current Count is: 12600\n",
            "Accuracy on n way: 0.9807936507936508\n",
            "Current Count is: 12800\n",
            "Accuracy on n way: 0.980859375\n",
            "Current Count is: 13000\n",
            "Accuracy on n way: 0.9807692307692307\n",
            "Current Count is: 13200\n",
            "Accuracy on n way: 0.9807575757575757\n",
            "Current Count is: 13400\n",
            "Accuracy on n way: 0.980820895522388\n",
            "Current Count is: 13600\n",
            "Accuracy on n way: 0.9810294117647059\n",
            "Current Count is: 13800\n",
            "Accuracy on n way: 0.9807971014492753\n",
            "Current Count is: 14000\n",
            "Accuracy on n way: 0.9808571428571429\n",
            "Current Count is: 14200\n",
            "Accuracy on n way: 0.981056338028169\n",
            "Current Count is: 14400\n",
            "Accuracy on n way: 0.9810416666666667\n",
            "Current Count is: 14600\n",
            "Accuracy on n way: 0.981027397260274\n",
            "Current Count is: 14800\n",
            "Accuracy on n way: 0.9811486486486487\n",
            "Current Count is: 15000\n",
            "Accuracy on n way: 0.9812\n",
            "Current Count is: 15200\n",
            "Accuracy on n way: 0.9813157894736843\n",
            "Current Count is: 15400\n",
            "Accuracy on n way: 0.9813636363636363\n",
            "Current Count is: 15600\n",
            "Accuracy on n way: 0.9813461538461539\n",
            "Current Count is: 15800\n",
            "Accuracy on n way: 0.9812658227848101\n",
            "Current Count is: 16000\n",
            "Accuracy on n way: 0.9810625\n",
            "Current Count is: 16200\n",
            "Accuracy on n way: 0.9811111111111112\n",
            "Current Count is: 16400\n",
            "Accuracy on n way: 0.9810365853658537\n",
            "Current Count is: 16600\n",
            "Accuracy on n way: 0.981144578313253\n",
            "Current Count is: 16800\n",
            "Accuracy on n way: 0.9811904761904762\n",
            "Current Count is: 17000\n",
            "Accuracy on n way: 0.9814117647058823\n",
            "Current Count is: 17200\n",
            "Accuracy on n way: 0.9815697674418604\n",
            "Current Count is: 17400\n",
            "Accuracy on n way: 0.981551724137931\n",
            "Current Count is: 17600\n",
            "Accuracy on n way: 0.9815909090909091\n",
            "Current Count is: 17800\n",
            "Accuracy on n way: 0.981629213483146\n",
            "Current Count is: 18000\n",
            "Accuracy on n way: 0.9816666666666667\n",
            "Current Count is: 18200\n",
            "Accuracy on n way: 0.9817032967032967\n",
            "Current Count is: 18400\n",
            "Accuracy on n way: 0.9817391304347826\n",
            "Current Count is: 18600\n",
            "Accuracy on n way: 0.9817204301075269\n",
            "Current Count is: 18800\n",
            "Accuracy on n way: 0.9817553191489362\n",
            "Current Count is: 19000\n",
            "Accuracy on n way: 0.9818421052631578\n",
            "Current Count is: 19200\n",
            "Accuracy on n way: 0.9819791666666666\n",
            "Current Count is: 19400\n",
            "Accuracy on n way: 0.9820103092783505\n",
            "Current Count is: 19600\n",
            "Accuracy on n way: 0.9820408163265306\n",
            "Current Count is: 19800\n",
            "Accuracy on n way: 0.9821717171717171\n",
            "Current Count is: 20000\n",
            "Accuracy on n way: 0.98205\n",
            "Current Count is: 20200\n",
            "Accuracy on n way: 0.9820792079207921\n",
            "Current Count is: 20400\n",
            "Accuracy on n way: 0.9818627450980392\n",
            "Current Count is: 20600\n",
            "Accuracy on n way: 0.9818446601941747\n",
            "Current Count is: 20800\n",
            "Accuracy on n way: 0.981875\n",
            "Current Count is: 21000\n",
            "Accuracy on n way: 0.9819523809523809\n",
            "Final Test Accuracy if 98.1952\n"
          ],
          "name": "stdout"
        }
      ]
    },
    {
      "cell_type": "code",
      "metadata": {
        "colab": {
          "base_uri": "https://localhost:8080/"
        },
        "id": "TaWnFHSCNUKH",
        "outputId": "1a9a4a38-a746-407b-d1e7-50cc22a642dd"
      },
      "source": [
        "print('Final Test Accuracy if {:.4f} %'.format(correct*100/count))\n",
        "adam_accuracy= (correct*100/count)"
      ],
      "execution_count": null,
      "outputs": [
        {
          "output_type": "stream",
          "text": [
            "Final Test Accuracy if 98.1952 %\n"
          ],
          "name": "stdout"
        }
      ]
    },
    {
      "cell_type": "code",
      "metadata": {
        "id": "Awt5C0GwbFY8"
      },
      "source": [
        "#optimizer = torch.optim.RMSprop(modelRMS.parameters(), lr=0.001)\n",
        "\n",
        "## Batch gradient descent  optimizer   = SGD(model.parameters(), lr=0.1)   with batch size ==1 in data loader\n",
        "\n",
        "## Adam alrady calculated above\n",
        "\n",
        "Optimizer_accuracies_test=[]\n",
        "Optimizer_accuracies_test.append(adam_accuracy)\n",
        "\n",
        "\n"
      ],
      "execution_count": null,
      "outputs": []
    },
    {
      "cell_type": "code",
      "metadata": {
        "id": "1U4H0_H_Nbb9"
      },
      "source": [
        ""
      ],
      "execution_count": null,
      "outputs": []
    },
    {
      "cell_type": "markdown",
      "metadata": {
        "id": "A6E_A5wDNiVY"
      },
      "source": [
        "## Using RMSProp"
      ]
    },
    {
      "cell_type": "code",
      "metadata": {
        "colab": {
          "base_uri": "https://localhost:8080/"
        },
        "id": "AxkX6rdjNlhe",
        "outputId": "0f54f46c-dffc-4d0d-c213-0e7036c7aa6b"
      },
      "source": [
        "torch.manual_seed(101) \n",
        "modelRMSProp=SiameseNetwork()\n",
        "modelRMSProp\n"
      ],
      "execution_count": null,
      "outputs": [
        {
          "output_type": "execute_result",
          "data": {
            "text/plain": [
              "SiameseNetwork(\n",
              "  (conv1): Conv2d(1, 16, kernel_size=(3, 3), stride=(1, 1))\n",
              "  (batch_norm1): BatchNorm2d(16, eps=1e-05, momentum=0.1, affine=True, track_running_stats=True)\n",
              "  (conv2): Conv2d(16, 32, kernel_size=(2, 2), stride=(1, 1))\n",
              "  (batch_norm2): BatchNorm2d(32, eps=1e-05, momentum=0.1, affine=True, track_running_stats=True)\n",
              "  (conv3): Conv2d(32, 256, kernel_size=(2, 2), stride=(1, 1))\n",
              "  (batch_norm3): BatchNorm2d(256, eps=1e-05, momentum=0.1, affine=True, track_running_stats=True)\n",
              "  (fc1): Linear(in_features=1024, out_features=256, bias=True)\n",
              "  (fc2): Linear(in_features=256, out_features=128, bias=True)\n",
              "  (fcout): Linear(in_features=128, out_features=1, bias=True)\n",
              "  (sigmoid): Sigmoid()\n",
              ")"
            ]
          },
          "metadata": {
            "tags": []
          },
          "execution_count": 108
        }
      ]
    },
    {
      "cell_type": "code",
      "metadata": {
        "colab": {
          "base_uri": "https://localhost:8080/"
        },
        "id": "F7GjgLU3Nlhq",
        "outputId": "f644fd13-8cfb-4f1d-8fb5-26b75066588e"
      },
      "source": [
        "count_parameters(modelRMSProp)"
      ],
      "execution_count": null,
      "outputs": [
        {
          "output_type": "stream",
          "text": [
            "   144\n",
            "    16\n",
            "    16\n",
            "    16\n",
            "  2048\n",
            "    32\n",
            "    32\n",
            "    32\n",
            " 32768\n",
            "   256\n",
            "   256\n",
            "   256\n",
            "262144\n",
            "   256\n",
            " 32768\n",
            "   128\n",
            "   128\n",
            "     1\n",
            "______\n",
            "331297\n"
          ],
          "name": "stdout"
        }
      ]
    },
    {
      "cell_type": "code",
      "metadata": {
        "id": "3LU_hfyRNlhq"
      },
      "source": [
        "#criterion=Regularised cross rntropy loss adding L2 regularisation factor of 0.0005\n",
        "criterion = nn.BCEWithLogitsLoss()\n",
        "optimizer=torch.optim.RMSprop(modelRMSProp.parameters(),lr=0.001,weight_decay=0.0005)"
      ],
      "execution_count": null,
      "outputs": []
    },
    {
      "cell_type": "code",
      "metadata": {
        "id": "9v1dX1IqNlhr"
      },
      "source": [
        "train_dataset=SiameseNetworkDataset(train_data)\n",
        "test_dataset=SiameseNetworkDataset(test_data)"
      ],
      "execution_count": null,
      "outputs": []
    },
    {
      "cell_type": "code",
      "metadata": {
        "id": "xS_SPpQhNlhr"
      },
      "source": [
        "\n",
        "torch.manual_seed(101)  # for consistent results\n",
        "\n",
        "train_loader = DataLoader(train_dataset, batch_size=100, shuffle=True)\n",
        "\n",
        "test_loader = DataLoader(test_dataset, batch_size=1, shuffle=False)"
      ],
      "execution_count": null,
      "outputs": []
    },
    {
      "cell_type": "code",
      "metadata": {
        "colab": {
          "base_uri": "https://localhost:8080/"
        },
        "id": "WpbSnvhANlhr",
        "outputId": "5ba1c128-39c2-496c-aad1-758b5128960d"
      },
      "source": [
        "# training and validation loss were calculated after every epoch\n",
        "import time\n",
        "start_time = time.time()\n",
        "num_epochs=13\n",
        "device='cpu'\n",
        "train_losses = []\n",
        "val_losses = []\n",
        "cur_step = 0\n",
        "for epoch in range(num_epochs):\n",
        "    running_loss = 0.0\n",
        "    modelRMSProp.train()\n",
        "    print(\"Starting epoch \" + str(epoch+1))\n",
        "    for img1, img2,labels in train_loader:    # , label1,label2\n",
        "        #labels = labels.to(device)\n",
        "        output1,output2 = modelRMSProp(img1, img2)\n",
        "        out = modelRMSProp.evaluate2(output1,output2)\n",
        "        #print(out)\n",
        "        #print(labels)\n",
        "       # labels=labels.type(torch.LongTensor)\n",
        "        loss = criterion(out,labels)\n",
        "      \n",
        "        optimizer.zero_grad()\n",
        "        loss.backward()\n",
        "        optimizer.step()\n",
        "        running_loss += loss.item()\n",
        "    avg_train_loss = running_loss / len(train_loader)\n",
        "    train_losses.append(avg_train_loss)\n",
        "    #break\n",
        "\n",
        "    print('Epoch [{}/{}],Train Loss: {:.4f}'\n",
        "        .format(epoch+1, num_epochs, avg_train_loss))\n",
        "print(\"Finished Training\")  \n",
        "print(f'\\nDuration: {time.time() - start_time:.0f} seconds') # print the time elapsed  "
      ],
      "execution_count": null,
      "outputs": [
        {
          "output_type": "stream",
          "text": [
            "Starting epoch 1\n",
            "Epoch [1/13],Train Loss: 0.2635\n",
            "Starting epoch 2\n",
            "Epoch [2/13],Train Loss: 0.1210\n",
            "Starting epoch 3\n",
            "Epoch [3/13],Train Loss: 0.0907\n",
            "Starting epoch 4\n",
            "Epoch [4/13],Train Loss: 0.0750\n",
            "Starting epoch 5\n",
            "Epoch [5/13],Train Loss: 0.0632\n",
            "Starting epoch 6\n",
            "Epoch [6/13],Train Loss: 0.0548\n",
            "Starting epoch 7\n",
            "Epoch [7/13],Train Loss: 0.0467\n",
            "Starting epoch 8\n",
            "Epoch [8/13],Train Loss: 0.0435\n",
            "Starting epoch 9\n",
            "Epoch [9/13],Train Loss: 0.0409\n",
            "Starting epoch 10\n",
            "Epoch [10/13],Train Loss: 0.0387\n",
            "Starting epoch 11\n",
            "Epoch [11/13],Train Loss: 0.0368\n",
            "Starting epoch 12\n",
            "Epoch [12/13],Train Loss: 0.0344\n",
            "Starting epoch 13\n",
            "Epoch [13/13],Train Loss: 0.0317\n",
            "Finished Training\n",
            "\n",
            "Duration: 2803 seconds\n"
          ],
          "name": "stdout"
        }
      ]
    },
    {
      "cell_type": "code",
      "metadata": {
        "colab": {
          "base_uri": "https://localhost:8080/"
        },
        "id": "Khx8lb4ONlhr",
        "outputId": "abe855d9-4bd8-4787-9933-3dbf9d29ae4d"
      },
      "source": [
        "train_losses"
      ],
      "execution_count": null,
      "outputs": [
        {
          "output_type": "execute_result",
          "data": {
            "text/plain": [
              "[0.263466134865065,\n",
              " 0.1209808300230272,\n",
              " 0.0907416033349475,\n",
              " 0.07504424168063062,\n",
              " 0.0632376454770565,\n",
              " 0.054849307646746844,\n",
              " 0.046726826987970545,\n",
              " 0.043546151897242785,\n",
              " 0.04090891107251601,\n",
              " 0.03871957981027663,\n",
              " 0.0368327965712821,\n",
              " 0.034375107368188246,\n",
              " 0.031701790805601954]"
            ]
          },
          "metadata": {
            "tags": []
          },
          "execution_count": 114
        }
      ]
    },
    {
      "cell_type": "code",
      "metadata": {
        "colab": {
          "base_uri": "https://localhost:8080/",
          "height": 296
        },
        "id": "eaq6YcADNlhs",
        "outputId": "e7bca1dc-8e26-4f4f-e73d-7722417ec25a"
      },
      "source": [
        "\n",
        "plt.xlabel('epoch number')\n",
        "plt.ylabel('loss-triplet')\n",
        "\n",
        "plt.plot(np.arange(num_epochs),train_losses)"
      ],
      "execution_count": null,
      "outputs": [
        {
          "output_type": "execute_result",
          "data": {
            "text/plain": [
              "[<matplotlib.lines.Line2D at 0x7f0cf2c955d0>]"
            ]
          },
          "metadata": {
            "tags": []
          },
          "execution_count": 116
        },
        {
          "output_type": "display_data",
          "data": {
            "image/png": "[encoded data removed]",
            "text/plain": [
              "<Figure size 432x288 with 1 Axes>"
            ]
          },
          "metadata": {
            "tags": [],
            "needs_background": "light"
          }
        }
      ]
    },
    {
      "cell_type": "code",
      "metadata": {
        "colab": {
          "base_uri": "https://localhost:8080/"
        },
        "id": "TL9TOIE9Nlhs",
        "outputId": "b84714bf-fe8e-40a2-f0d8-528c2b5a0a61"
      },
      "source": [
        "\n",
        "with torch.no_grad():\n",
        "\n",
        "    modelRMSProp.eval()\n",
        "    correct = 0\n",
        "    count = 0\n",
        "    m = nn.Sigmoid()\n",
        "\n",
        "    for i in range(5000):\n",
        "      sample=test_data[i]\n",
        "\n",
        "      output1=modelRMSProp.evaluate(sample[0].unsqueeze(0))\n",
        "      #similarity=[]    \n",
        "      dis_simi=999\n",
        "      pred=-1\n",
        "      for key,values in k_way_dict.items():\n",
        "        \n",
        "        \n",
        "        for value in values:\n",
        "          out2=modelRMSProp.evaluate(value.unsqueeze(0))\n",
        "          #infer=modelTriplet.evaluate2(output1,out2)\n",
        "          infer= inference(output1,out2)\n",
        "          \n",
        "          #infer=m(infer)\n",
        "          #print(infer)\n",
        "          #print('##################')\n",
        "          if dis_simi > infer[0].item():\n",
        "              dis_simi=infer[0].item()\n",
        "              pred=int(key)\n",
        "      #print(sample[1])\n",
        "      #print(pred)\n",
        "      if sample[1]==pred:\n",
        "        correct+=1\n",
        "\n",
        "      count += 1\n",
        "      if count % 200 == 0:\n",
        "          print(\"Current Count is: {}\".format(count))\n",
        "          print('Accuracy on n way: {}'.format(correct/count))\n",
        "\n",
        "      \n",
        "    print('Final Test Accuracy if {:.4f}'.format(correct*100/count))\n",
        "\n"
      ],
      "execution_count": null,
      "outputs": [
        {
          "output_type": "stream",
          "text": [
            "Current Count is: 200\n",
            "Accuracy on n way: 0.99\n",
            "Current Count is: 400\n",
            "Accuracy on n way: 0.985\n",
            "Current Count is: 600\n",
            "Accuracy on n way: 0.9816666666666667\n",
            "Current Count is: 800\n",
            "Accuracy on n way: 0.97625\n",
            "Current Count is: 1000\n",
            "Accuracy on n way: 0.978\n",
            "Current Count is: 1200\n",
            "Accuracy on n way: 0.9808333333333333\n",
            "Current Count is: 1400\n",
            "Accuracy on n way: 0.9785714285714285\n",
            "Current Count is: 1600\n",
            "Accuracy on n way: 0.97875\n",
            "Current Count is: 1800\n",
            "Accuracy on n way: 0.9788888888888889\n",
            "Current Count is: 2000\n",
            "Accuracy on n way: 0.9805\n",
            "Current Count is: 2200\n",
            "Accuracy on n way: 0.9795454545454545\n",
            "Current Count is: 2400\n",
            "Accuracy on n way: 0.9791666666666666\n",
            "Current Count is: 2600\n",
            "Accuracy on n way: 0.9776923076923076\n",
            "Current Count is: 2800\n",
            "Accuracy on n way: 0.9782142857142857\n",
            "Current Count is: 3000\n",
            "Accuracy on n way: 0.9786666666666667\n",
            "Current Count is: 3200\n",
            "Accuracy on n way: 0.98\n",
            "Current Count is: 3400\n",
            "Accuracy on n way: 0.9811764705882353\n",
            "Current Count is: 3600\n",
            "Accuracy on n way: 0.9811111111111112\n",
            "Current Count is: 3800\n",
            "Accuracy on n way: 0.9815789473684211\n",
            "Current Count is: 4000\n",
            "Accuracy on n way: 0.98175\n",
            "Current Count is: 4200\n",
            "Accuracy on n way: 0.9816666666666667\n",
            "Current Count is: 4400\n",
            "Accuracy on n way: 0.9822727272727273\n",
            "Current Count is: 4600\n",
            "Accuracy on n way: 0.9821739130434782\n",
            "Current Count is: 4800\n",
            "Accuracy on n way: 0.9814583333333333\n",
            "Current Count is: 5000\n",
            "Accuracy on n way: 0.9816\n",
            "Final Test Accuracy if 98.1600\n"
          ],
          "name": "stdout"
        }
      ]
    },
    {
      "cell_type": "code",
      "metadata": {
        "colab": {
          "base_uri": "https://localhost:8080/"
        },
        "id": "fDipS6OuNlhs",
        "outputId": "b45febc4-429a-4fa4-bbb2-32aa14872f38"
      },
      "source": [
        "print('Final Test Accuracy if {:.4f} %'.format(correct*100/count))\n",
        "rms_accuracy= (correct*100/count)"
      ],
      "execution_count": null,
      "outputs": [
        {
          "output_type": "stream",
          "text": [
            "Final Test Accuracy if 98.1600 %\n"
          ],
          "name": "stdout"
        }
      ]
    },
    {
      "cell_type": "code",
      "metadata": {
        "colab": {
          "base_uri": "https://localhost:8080/"
        },
        "id": "TZPrDA4WOEw8",
        "outputId": "0a92065b-88a5-47cb-cd77-ae7db821d59f"
      },
      "source": [
        "Optimizer_accuracies_test.append(rms_accuracy)\n",
        "Optimizer_accuracies_test"
      ],
      "execution_count": null,
      "outputs": [
        {
          "output_type": "execute_result",
          "data": {
            "text/plain": [
              "[98.1952380952381, 98.16]"
            ]
          },
          "metadata": {
            "tags": []
          },
          "execution_count": 119
        }
      ]
    },
    {
      "cell_type": "markdown",
      "metadata": {
        "id": "1aytCFg5ON-H"
      },
      "source": [
        "## Batch Gradient Descent\n",
        "    For this we can use SGD optimiser with batch size == 1 then it will become batch gradient descent "
      ]
    },
    {
      "cell_type": "code",
      "metadata": {
        "colab": {
          "base_uri": "https://localhost:8080/"
        },
        "id": "vCsUMPd9Oxvk",
        "outputId": "67b71e18-563f-4b0f-d14f-c2ed7fa03145"
      },
      "source": [
        "torch.manual_seed(101) \n",
        "modelbatch=SiameseNetwork()\n",
        "modelbatch\n"
      ],
      "execution_count": null,
      "outputs": [
        {
          "output_type": "execute_result",
          "data": {
            "text/plain": [
              "SiameseNetwork(\n",
              "  (conv1): Conv2d(1, 16, kernel_size=(3, 3), stride=(1, 1))\n",
              "  (batch_norm1): BatchNorm2d(16, eps=1e-05, momentum=0.1, affine=True, track_running_stats=True)\n",
              "  (conv2): Conv2d(16, 32, kernel_size=(2, 2), stride=(1, 1))\n",
              "  (batch_norm2): BatchNorm2d(32, eps=1e-05, momentum=0.1, affine=True, track_running_stats=True)\n",
              "  (conv3): Conv2d(32, 256, kernel_size=(2, 2), stride=(1, 1))\n",
              "  (batch_norm3): BatchNorm2d(256, eps=1e-05, momentum=0.1, affine=True, track_running_stats=True)\n",
              "  (fc1): Linear(in_features=1024, out_features=256, bias=True)\n",
              "  (fc2): Linear(in_features=256, out_features=128, bias=True)\n",
              "  (fcout): Linear(in_features=128, out_features=1, bias=True)\n",
              "  (sigmoid): Sigmoid()\n",
              ")"
            ]
          },
          "metadata": {
            "tags": []
          },
          "execution_count": 120
        }
      ]
    },
    {
      "cell_type": "code",
      "metadata": {
        "colab": {
          "base_uri": "https://localhost:8080/"
        },
        "id": "P-hnFmV5Oxvk",
        "outputId": "2ae67254-218d-4a16-bb7c-7db3a2d9506b"
      },
      "source": [
        "count_parameters(modelbatch)"
      ],
      "execution_count": null,
      "outputs": [
        {
          "output_type": "stream",
          "text": [
            "   144\n",
            "    16\n",
            "    16\n",
            "    16\n",
            "  2048\n",
            "    32\n",
            "    32\n",
            "    32\n",
            " 32768\n",
            "   256\n",
            "   256\n",
            "   256\n",
            "262144\n",
            "   256\n",
            " 32768\n",
            "   128\n",
            "   128\n",
            "     1\n",
            "______\n",
            "331297\n"
          ],
          "name": "stdout"
        }
      ]
    },
    {
      "cell_type": "code",
      "metadata": {
        "id": "atWPCI3sOxvl"
      },
      "source": [
        "#criterion=Regularised cross rntropy loss adding L2 regularisation factor of 0.0005\n",
        "criterion = nn.BCEWithLogitsLoss()\n",
        "optimizer=torch.optim.SGD(modelbatch.parameters(),lr=0.001,weight_decay=0.0005)"
      ],
      "execution_count": null,
      "outputs": []
    },
    {
      "cell_type": "code",
      "metadata": {
        "id": "kCHDMHkwOxvl"
      },
      "source": [
        "train_dataset=SiameseNetworkDataset(train_data)\n",
        "test_dataset=SiameseNetworkDataset(test_data)"
      ],
      "execution_count": null,
      "outputs": []
    },
    {
      "cell_type": "code",
      "metadata": {
        "id": "Fi88nnw3Oxvl"
      },
      "source": [
        "\n",
        "torch.manual_seed(101)  # for consistent results\n",
        "\n",
        "train_loader = DataLoader(train_dataset, batch_size=1, shuffle=True)       ############Batch size should be 1 for Batch gradient descent \n",
        "\n",
        "test_loader = DataLoader(test_dataset, batch_size=1, shuffle=False)"
      ],
      "execution_count": null,
      "outputs": []
    },
    {
      "cell_type": "code",
      "metadata": {
        "colab": {
          "base_uri": "https://localhost:8080/"
        },
        "id": "nOjFDIYwOxvl",
        "outputId": "6aa1a1aa-888a-4b98-f474-ad6f6d4f141c"
      },
      "source": [
        "# training and validation loss were calculated after every epoch\n",
        "import time\n",
        "start_time = time.time()\n",
        "num_epochs=10\n",
        "device='cpu'\n",
        "train_losses = []\n",
        "val_losses = []\n",
        "cur_step = 0\n",
        "for epoch in range(num_epochs):\n",
        "    running_loss = 0.0\n",
        "    modelbatch.train()\n",
        "    print(\"Starting epoch \" + str(epoch+1))\n",
        "    for img1, img2,labels in train_loader:    # , label1,label2\n",
        "        #labels = labels.to(device)\n",
        "        output1,output2 = modelbatch(img1, img2)\n",
        "        out = modelbatch.evaluate2(output1,output2)\n",
        "        #print(out)\n",
        "        #print(labels)\n",
        "       # labels=labels.type(torch.LongTensor)\n",
        "        loss = criterion(out,labels)\n",
        "      \n",
        "        optimizer.zero_grad()\n",
        "        loss.backward()\n",
        "        optimizer.step()\n",
        "        running_loss += loss.item()\n",
        "    avg_train_loss = running_loss / len(train_loader)\n",
        "    train_losses.append(avg_train_loss)\n",
        "    #break\n",
        "\n",
        "    print('Epoch [{}/{}],Train Loss: {:.4f}'\n",
        "        .format(epoch+1, num_epochs, avg_train_loss))\n",
        "print(\"Finished Training\")  \n",
        "print(f'\\nDuration: {time.time() - start_time:.0f} seconds') # print the time elapsed  "
      ],
      "execution_count": null,
      "outputs": [
        {
          "output_type": "stream",
          "text": [
            "Starting epoch 1\n",
            "Epoch [1/10],Train Loss: 0.2747\n",
            "Starting epoch 2\n",
            "Epoch [2/10],Train Loss: 0.1038\n",
            "Starting epoch 3\n",
            "Epoch [3/10],Train Loss: 0.0742\n",
            "Starting epoch 4\n",
            "Epoch [4/10],Train Loss: 0.0562\n",
            "Starting epoch 5\n",
            "Epoch [5/10],Train Loss: 0.0480\n",
            "Starting epoch 6\n",
            "Epoch [6/10],Train Loss: 0.0396\n",
            "Starting epoch 7\n",
            "Epoch [7/10],Train Loss: 0.0369\n",
            "Starting epoch 8\n",
            "Epoch [8/10],Train Loss: 0.0312\n",
            "Starting epoch 9\n",
            "Epoch [9/10],Train Loss: 0.0275\n",
            "Starting epoch 10\n",
            "Epoch [10/10],Train Loss: 0.0262\n",
            "Finished Training\n",
            "\n",
            "Duration: 5343 seconds\n"
          ],
          "name": "stdout"
        }
      ]
    },
    {
      "cell_type": "code",
      "metadata": {
        "colab": {
          "base_uri": "https://localhost:8080/"
        },
        "id": "jIrTOz3COxvm",
        "outputId": "ffce2bf3-698c-4ad7-b66b-f02250eb3f3f"
      },
      "source": [
        "train_losses"
      ],
      "execution_count": null,
      "outputs": [
        {
          "output_type": "execute_result",
          "data": {
            "text/plain": [
              "[0.2746602237586379,\n",
              " 0.10382671357066692,\n",
              " 0.07422494424644337,\n",
              " 0.05624056531613401,\n",
              " 0.047959513592248974,\n",
              " 0.03959886035450937,\n",
              " 0.03685488770408048,\n",
              " 0.031223034590520286,\n",
              " 0.027485992106378563,\n",
              " 0.026192057822867036]"
            ]
          },
          "metadata": {
            "tags": []
          },
          "execution_count": 128
        }
      ]
    },
    {
      "cell_type": "code",
      "metadata": {
        "colab": {
          "base_uri": "https://localhost:8080/",
          "height": 296
        },
        "id": "TsLJjDfLOxvm",
        "outputId": "c007f844-8672-443e-d45a-7ad35b478e0d"
      },
      "source": [
        "\n",
        "plt.xlabel('epoch number')\n",
        "plt.ylabel('loss-triplet')\n",
        "\n",
        "plt.plot(np.arange(num_epochs),train_losses)"
      ],
      "execution_count": null,
      "outputs": [
        {
          "output_type": "execute_result",
          "data": {
            "text/plain": [
              "[<matplotlib.lines.Line2D at 0x7f0cf2ce7f10>]"
            ]
          },
          "metadata": {
            "tags": []
          },
          "execution_count": 129
        },
        {
          "output_type": "display_data",
          "data": {
            "image/png": "[encoded data removed]",
            "text/plain": [
              "<Figure size 432x288 with 1 Axes>"
            ]
          },
          "metadata": {
            "tags": [],
            "needs_background": "light"
          }
        }
      ]
    },
    {
      "cell_type": "code",
      "metadata": {
        "colab": {
          "base_uri": "https://localhost:8080/"
        },
        "id": "95R0XVFsOxvm",
        "outputId": "b2d59a92-bc32-4122-eb68-4ea9d72b1c17"
      },
      "source": [
        "\n",
        "with torch.no_grad():\n",
        "\n",
        "    modelbatch.eval()\n",
        "    correct = 0\n",
        "    count = 0\n",
        "    m = nn.Sigmoid()\n",
        "\n",
        "    for i in range(10000):\n",
        "      sample=test_data[i]\n",
        "\n",
        "      output1=modelbatch.evaluate(sample[0].unsqueeze(0))\n",
        "      #similarity=[]    \n",
        "      dis_simi=999\n",
        "      pred=-1\n",
        "      for key,values in k_way_dict.items():\n",
        "        \n",
        "        \n",
        "        for value in values:\n",
        "          out2=modelbatch.evaluate(value.unsqueeze(0))\n",
        "          #infer=modelTriplet.evaluate2(output1,out2)\n",
        "          infer= inference(output1,out2)\n",
        "          \n",
        "          #infer=m(infer)\n",
        "          #print(infer)\n",
        "          #print('##################')\n",
        "          if dis_simi > infer[0].item():\n",
        "              dis_simi=infer[0].item()\n",
        "              pred=int(key)\n",
        "      #print(sample[1])\n",
        "      #print(pred)\n",
        "      if sample[1]==pred:\n",
        "        correct+=1\n",
        "\n",
        "      count += 1\n",
        "      if count % 200 == 0:\n",
        "          print(\"Current Count is: {}\".format(count))\n",
        "          print('Accuracy on n way: {}'.format(correct/count))\n",
        "\n",
        "      \n",
        "    print('Final Test Accuracy if {:.4f}'.format(correct*100/count))\n",
        "\n"
      ],
      "execution_count": null,
      "outputs": [
        {
          "output_type": "stream",
          "text": [
            "Current Count is: 200\n",
            "Accuracy on n way: 0.915\n",
            "Current Count is: 400\n",
            "Accuracy on n way: 0.9275\n",
            "Current Count is: 600\n",
            "Accuracy on n way: 0.93\n",
            "Current Count is: 800\n",
            "Accuracy on n way: 0.93\n",
            "Current Count is: 1000\n",
            "Accuracy on n way: 0.938\n",
            "Current Count is: 1200\n",
            "Accuracy on n way: 0.94\n",
            "Current Count is: 1400\n",
            "Accuracy on n way: 0.9421428571428572\n",
            "Current Count is: 1600\n",
            "Accuracy on n way: 0.94375\n",
            "Current Count is: 1800\n",
            "Accuracy on n way: 0.9427777777777778\n",
            "Current Count is: 2000\n",
            "Accuracy on n way: 0.9465\n",
            "Current Count is: 2200\n",
            "Accuracy on n way: 0.945\n",
            "Current Count is: 2400\n",
            "Accuracy on n way: 0.9433333333333334\n",
            "Current Count is: 2600\n",
            "Accuracy on n way: 0.9415384615384615\n",
            "Current Count is: 2800\n",
            "Accuracy on n way: 0.9407142857142857\n",
            "Current Count is: 3000\n",
            "Accuracy on n way: 0.942\n",
            "Current Count is: 3200\n",
            "Accuracy on n way: 0.941875\n",
            "Current Count is: 3400\n",
            "Accuracy on n way: 0.9441176470588235\n",
            "Current Count is: 3600\n",
            "Accuracy on n way: 0.9444444444444444\n",
            "Current Count is: 3800\n",
            "Accuracy on n way: 0.9463157894736842\n",
            "Current Count is: 4000\n",
            "Accuracy on n way: 0.947\n",
            "Current Count is: 4200\n",
            "Accuracy on n way: 0.9471428571428572\n",
            "Current Count is: 4400\n",
            "Accuracy on n way: 0.9475\n",
            "Current Count is: 4600\n",
            "Accuracy on n way: 0.9469565217391305\n",
            "Current Count is: 4800\n",
            "Accuracy on n way: 0.945625\n",
            "Current Count is: 5000\n",
            "Accuracy on n way: 0.9456\n",
            "Current Count is: 5200\n",
            "Accuracy on n way: 0.9453846153846154\n",
            "Current Count is: 5400\n",
            "Accuracy on n way: 0.9455555555555556\n",
            "Current Count is: 5600\n",
            "Accuracy on n way: 0.9464285714285714\n",
            "Current Count is: 5800\n",
            "Accuracy on n way: 0.9462068965517242\n",
            "Current Count is: 6000\n",
            "Accuracy on n way: 0.9466666666666667\n",
            "Current Count is: 6200\n",
            "Accuracy on n way: 0.9464516129032258\n",
            "Current Count is: 6400\n",
            "Accuracy on n way: 0.94671875\n",
            "Current Count is: 6600\n",
            "Accuracy on n way: 0.9463636363636364\n",
            "Current Count is: 6800\n",
            "Accuracy on n way: 0.9464705882352941\n",
            "Current Count is: 7000\n",
            "Accuracy on n way: 0.9467142857142857\n",
            "Current Count is: 7200\n",
            "Accuracy on n way: 0.9465277777777777\n",
            "Current Count is: 7400\n",
            "Accuracy on n way: 0.947027027027027\n",
            "Current Count is: 7600\n",
            "Accuracy on n way: 0.9464473684210526\n",
            "Current Count is: 7800\n",
            "Accuracy on n way: 0.9467948717948718\n",
            "Current Count is: 8000\n",
            "Accuracy on n way: 0.94675\n",
            "Current Count is: 8200\n",
            "Accuracy on n way: 0.9468292682926829\n",
            "Current Count is: 8400\n",
            "Accuracy on n way: 0.9465476190476191\n",
            "Current Count is: 8600\n",
            "Accuracy on n way: 0.9461627906976744\n",
            "Current Count is: 8800\n",
            "Accuracy on n way: 0.9459090909090909\n",
            "Current Count is: 9000\n",
            "Accuracy on n way: 0.946\n",
            "Current Count is: 9200\n",
            "Accuracy on n way: 0.9458695652173913\n",
            "Current Count is: 9400\n",
            "Accuracy on n way: 0.9462765957446808\n",
            "Current Count is: 9600\n",
            "Accuracy on n way: 0.9464583333333333\n",
            "Current Count is: 9800\n",
            "Accuracy on n way: 0.946530612244898\n",
            "Current Count is: 10000\n",
            "Accuracy on n way: 0.9464\n",
            "Final Test Accuracy if 94.6400\n"
          ],
          "name": "stdout"
        }
      ]
    },
    {
      "cell_type": "code",
      "metadata": {
        "colab": {
          "base_uri": "https://localhost:8080/"
        },
        "id": "ZPD4u4MCOxvn",
        "outputId": "9112d106-d6e2-4faa-d4c1-d8f928c39ef2"
      },
      "source": [
        "print('Final Test Accuracy if {:.4f} %'.format(correct*100/count))\n",
        "batch_accuracy= (correct*100/count)"
      ],
      "execution_count": null,
      "outputs": [
        {
          "output_type": "stream",
          "text": [
            "Final Test Accuracy if 94.6400 %\n"
          ],
          "name": "stdout"
        }
      ]
    },
    {
      "cell_type": "code",
      "metadata": {
        "colab": {
          "base_uri": "https://localhost:8080/"
        },
        "id": "L69jHPGuPX8t",
        "outputId": "e963350f-b9b0-4713-94b3-089a99bf6e28"
      },
      "source": [
        "Optimizer_accuracies_test.append(batch_accuracy)\n",
        "Optimizer_accuracies_test"
      ],
      "execution_count": null,
      "outputs": [
        {
          "output_type": "execute_result",
          "data": {
            "text/plain": [
              "[98.1952380952381, 98.16, 94.64]"
            ]
          },
          "metadata": {
            "tags": []
          },
          "execution_count": 132
        }
      ]
    },
    {
      "cell_type": "code",
      "metadata": {
        "colab": {
          "base_uri": "https://localhost:8080/",
          "height": 295
        },
        "id": "5VT1C397qrG1",
        "outputId": "b7aa9ebb-4376-47c3-97c3-63823ecd5ac4"
      },
      "source": [
        "# plotting a bar chart\n",
        "left=[1,2,3]\n",
        "height=Optimizer_accuracies_test\n",
        "tick_label=['Adam','RMSProp','Batch Gradient']\n",
        "plt.bar(left, height, tick_label = tick_label,\n",
        "        width = 0.8, color = ['red', 'green','yellow'])\n",
        "  \n",
        "# naming the x-axis\n",
        "plt.xlabel('Optimizers ')\n",
        "# naming the y-axis\n",
        "plt.ylabel('Test Accuracies')\n",
        "# plot title\n",
        "plt.title('Best Model Test Accuracies vs Model optimizers')\n",
        "  \n",
        "# function to show the plot\n",
        "plt.show()"
      ],
      "execution_count": null,
      "outputs": [
        {
          "output_type": "display_data",
          "data": {
            "image/png": "[encoded data removed]",
            "text/plain": [
              "<Figure size 432x288 with 1 Axes>"
            ]
          },
          "metadata": {
            "tags": [],
            "needs_background": "light"
          }
        }
      ]
    },
    {
      "cell_type": "markdown",
      "metadata": {
        "id": "3qDZsEPhdcbC"
      },
      "source": [
        "## Hyper parameter tuning \n",
        "    Varying the learning rate between 0.0001 to 0.1  and weight decay on Adam optimizer with with Cross entropy loss"
      ]
    },
    {
      "cell_type": "code",
      "metadata": {
        "id": "Tts3_SWFfIQR"
      },
      "source": [
        "import itertools\n",
        "\n",
        "learning_rate=[0.0001,0.001,0.01,0.1]\n",
        "learning_rate=learning_rate[::-1]\n",
        "\n",
        "weight_decays=[0.0005,0.005,0.05,0.01]\n",
        "\n",
        "#permute=list(map(','.join, itertools.chain(itertools.product(learning_rate, weight_decays), itertools.product(learning_rate, weight_decays))))\n",
        "\n",
        "#print(permute)"
      ],
      "execution_count": null,
      "outputs": []
    },
    {
      "cell_type": "markdown",
      "metadata": {
        "id": "iZxS28nWuyqO"
      },
      "source": [
        "### Using learning rate 0.1"
      ]
    },
    {
      "cell_type": "code",
      "metadata": {
        "colab": {
          "base_uri": "https://localhost:8080/"
        },
        "id": "EuqL7FowoChZ",
        "outputId": "738400fa-b80c-4c87-f17b-939f60e006c5"
      },
      "source": [
        "torch.manual_seed(101) \n",
        "model0=SiameseNetwork()\n",
        "model0\n"
      ],
      "execution_count": null,
      "outputs": [
        {
          "output_type": "execute_result",
          "data": {
            "text/plain": [
              "SiameseNetwork(\n",
              "  (conv1): Conv2d(1, 16, kernel_size=(3, 3), stride=(1, 1))\n",
              "  (batch_norm1): BatchNorm2d(16, eps=1e-05, momentum=0.1, affine=True, track_running_stats=True)\n",
              "  (conv2): Conv2d(16, 32, kernel_size=(2, 2), stride=(1, 1))\n",
              "  (batch_norm2): BatchNorm2d(32, eps=1e-05, momentum=0.1, affine=True, track_running_stats=True)\n",
              "  (conv3): Conv2d(32, 256, kernel_size=(2, 2), stride=(1, 1))\n",
              "  (batch_norm3): BatchNorm2d(256, eps=1e-05, momentum=0.1, affine=True, track_running_stats=True)\n",
              "  (fc1): Linear(in_features=1024, out_features=256, bias=True)\n",
              "  (fc2): Linear(in_features=256, out_features=128, bias=True)\n",
              "  (fcout): Linear(in_features=128, out_features=1, bias=True)\n",
              "  (sigmoid): Sigmoid()\n",
              ")"
            ]
          },
          "metadata": {
            "tags": []
          },
          "execution_count": 243
        }
      ]
    },
    {
      "cell_type": "code",
      "metadata": {
        "colab": {
          "base_uri": "https://localhost:8080/"
        },
        "id": "7odYwR-ToChp",
        "outputId": "1ffdaf38-c5fe-455a-e67e-8c99d1cfaeaf"
      },
      "source": [
        "count_parameters(model0)"
      ],
      "execution_count": null,
      "outputs": [
        {
          "output_type": "stream",
          "text": [
            "   144\n",
            "    16\n",
            "    16\n",
            "    16\n",
            "  2048\n",
            "    32\n",
            "    32\n",
            "    32\n",
            " 32768\n",
            "   256\n",
            "   256\n",
            "   256\n",
            "262144\n",
            "   256\n",
            " 32768\n",
            "   128\n",
            "   128\n",
            "     1\n",
            "______\n",
            "331297\n"
          ],
          "name": "stdout"
        }
      ]
    },
    {
      "cell_type": "code",
      "metadata": {
        "id": "jQz1-X0doChp"
      },
      "source": [
        "#criterion=Regularised cross rntropy loss adding L2 regularisation factor of 0.0005\n",
        "criterion = nn.BCEWithLogitsLoss()\n",
        "optimizer=torch.optim.Adam(model0.parameters(),lr=0.1)"
      ],
      "execution_count": null,
      "outputs": []
    },
    {
      "cell_type": "code",
      "metadata": {
        "id": "GBepETikencY"
      },
      "source": [
        "train_dataset=SiameseNetworkDataset(train_data)\n",
        "test_dataset=SiameseNetworkDataset(test_data)"
      ],
      "execution_count": null,
      "outputs": []
    },
    {
      "cell_type": "code",
      "metadata": {
        "id": "eOXPXcuxencZ"
      },
      "source": [
        "\n",
        "torch.manual_seed(101)  # for consistent results\n",
        "\n",
        "train_loader = DataLoader(train_dataset, batch_size=100, shuffle=True)\n",
        "\n",
        "test_loader = DataLoader(test_dataset, batch_size=1, shuffle=False)"
      ],
      "execution_count": null,
      "outputs": []
    },
    {
      "cell_type": "code",
      "metadata": {
        "id": "lI1r65vmenca"
      },
      "source": [
        "\n",
        "  \n",
        "\n",
        "def train_hyper(model,optimizer,criterion,learn_rate,train_loader):\n",
        " \n",
        "\n",
        "  print('#'*20+'Learning rate = {} '.format(learn_rate)+'#'*20+'')\n",
        "\n",
        "  import time\n",
        "  start_time = time.time()\n",
        "  num_epochs=10 \n",
        "  device='cpu'\n",
        "  train_losses = []\n",
        "  cur_step = 0\n",
        "  for epoch in range(num_epochs):\n",
        "      running_loss = 0.0\n",
        "      model.train()\n",
        "      print(\"Starting epoch \" + str(epoch+1))\n",
        "      for img1, img2,labels in train_loader:    # , label1,label2\n",
        "          #labels = labels.to(device)\n",
        "          output1,output2 = model(img1, img2)\n",
        "          out = model.evaluate2(output1,output2)\n",
        "          #print(out)\n",
        "          #print(labels)\n",
        "        # labels=labels.type(torch.LongTensor)\n",
        "          loss = criterion(out,labels)\n",
        "        \n",
        "          optimizer.zero_grad()\n",
        "          loss.backward()\n",
        "          optimizer.step()\n",
        "          running_loss += loss.item()\n",
        "      avg_train_loss = running_loss / len(train_loader)\n",
        "      train_losses.append(avg_train_loss)\n",
        "      #break\n",
        "\n",
        "      print('Epoch [{}/{}],Train Loss: {:.4f}'\n",
        "          .format(epoch+1, num_epochs, avg_train_loss))\n",
        "  print(\"Finished Training\")  \n",
        "  \n",
        "  print(f'\\nDuration: {time.time() - start_time:.0f} seconds') # print the time elapsed  \n",
        "\n",
        "  return train_losses"
      ],
      "execution_count": null,
      "outputs": []
    },
    {
      "cell_type": "code",
      "metadata": {
        "colab": {
          "base_uri": "https://localhost:8080/"
        },
        "id": "gHQhWqOpoV-Y",
        "outputId": "2d17b0b4-d2e6-45ec-dc0a-e999b0d1465a"
      },
      "source": [
        "train_losses=train_hyper(model0,optimizer,criterion,0.1,train_loader)"
      ],
      "execution_count": null,
      "outputs": [
        {
          "output_type": "stream",
          "text": [
            "####################Learning rate = 0.1 ####################\n",
            "Starting epoch 1\n",
            "Epoch [1/5],Train Loss: 2.1103\n",
            "Starting epoch 2\n",
            "Epoch [2/5],Train Loss: 0.3471\n",
            "Starting epoch 3\n",
            "Epoch [3/5],Train Loss: 0.2936\n",
            "Starting epoch 4\n",
            "Epoch [4/5],Train Loss: 0.2465\n",
            "Starting epoch 5\n",
            "Epoch [5/5],Train Loss: 0.2293\n",
            "Finished Training\n",
            "\n",
            "Duration: 505 seconds\n"
          ],
          "name": "stdout"
        }
      ]
    },
    {
      "cell_type": "code",
      "metadata": {
        "colab": {
          "base_uri": "https://localhost:8080/",
          "height": 296
        },
        "id": "ZrnQAKTVencb",
        "outputId": "1580d94f-14a8-4fe4-8111-8fbbad869575"
      },
      "source": [
        "\n",
        "plt.xlabel('Learning rate')\n",
        "plt.ylabel('Training losses in 5 epochs')\n",
        "\n",
        "plt.plot(np.arange(5),train_losses)"
      ],
      "execution_count": null,
      "outputs": [
        {
          "output_type": "execute_result",
          "data": {
            "text/plain": [
              "[<matplotlib.lines.Line2D at 0x7f0cf2237e50>]"
            ]
          },
          "metadata": {
            "tags": []
          },
          "execution_count": 256
        },
        {
          "output_type": "display_data",
          "data": {
            "image/png": "[encoded data removed]",
            "text/plain": [
              "<Figure size 432x288 with 1 Axes>"
            ]
          },
          "metadata": {
            "tags": [],
            "needs_background": "light"
          }
        }
      ]
    },
    {
      "cell_type": "code",
      "metadata": {
        "colab": {
          "base_uri": "https://localhost:8080/"
        },
        "id": "RwWLfE9vencc",
        "outputId": "d9496bb1-92a8-4e13-9e90-583367c3322b"
      },
      "source": [
        "\n",
        "with torch.no_grad():\n",
        "\n",
        "    modelentropy.eval()\n",
        "    correct = 0\n",
        "    count = 0\n",
        "    m = nn.Sigmoid()\n",
        "\n",
        "    for i in range(1000):\n",
        "      sample=test_data[i]\n",
        "\n",
        "      output1=modelentropy.evaluate(sample[0].unsqueeze(0))\n",
        "      #similarity=[]    \n",
        "      dis_simi=999\n",
        "      pred=-1\n",
        "      for key,values in k_way_dict.items():\n",
        "        \n",
        "        \n",
        "        for value in values:\n",
        "          out2=modelentropy.evaluate(value.unsqueeze(0))\n",
        "          #infer=modelTriplet.evaluate2(output1,out2)\n",
        "          infer= inference(output1,out2)\n",
        "          \n",
        "          #infer=m(infer)\n",
        "          #print(infer)\n",
        "          #print('##################')\n",
        "          if dis_simi > infer[0].item():\n",
        "              dis_simi=infer[0].item()\n",
        "              pred=int(key)\n",
        "      #print(sample[1])\n",
        "      #print(pred)\n",
        "      if sample[1]==pred:\n",
        "        correct+=1\n",
        "\n",
        "      count += 1\n",
        "      if count % 200 == 0:\n",
        "          print(\"Current Count is: {}\".format(count))\n",
        "          print('Accuracy on n way: {}'.format(correct/count))\n",
        "\n",
        "      \n",
        "    print('Final Test Accuracy if {:.4f}'.format(correct*100/count))\n",
        "\n"
      ],
      "execution_count": null,
      "outputs": [
        {
          "output_type": "stream",
          "text": [
            "Current Count is: 200\n",
            "Accuracy on n way: 0.115\n",
            "Current Count is: 400\n",
            "Accuracy on n way: 0.11\n",
            "Current Count is: 600\n",
            "Accuracy on n way: 0.105\n",
            "Current Count is: 800\n",
            "Accuracy on n way: 0.09875\n",
            "Current Count is: 1000\n",
            "Accuracy on n way: 0.104\n",
            "Final Test Accuracy if 10.4000\n"
          ],
          "name": "stdout"
        }
      ]
    },
    {
      "cell_type": "code",
      "metadata": {
        "colab": {
          "base_uri": "https://localhost:8080/"
        },
        "id": "w8i56FvTencd",
        "outputId": "c2fbd710-f3ab-41c2-9ffb-1309067e35d1"
      },
      "source": [
        "print('Final Test Accuracy if {:.4f} %'.format(correct*100/count))\n",
        "model_0_accuracy= (correct*100/count)"
      ],
      "execution_count": null,
      "outputs": [
        {
          "output_type": "stream",
          "text": [
            "Final Test Accuracy if 10.4000 %\n"
          ],
          "name": "stdout"
        }
      ]
    },
    {
      "cell_type": "code",
      "metadata": {
        "id": "VgQqQYgdr4sE"
      },
      "source": [
        "hyper_learn_accu=[]\n",
        "hyper_learn_accu.append(model_0_accuracy)"
      ],
      "execution_count": null,
      "outputs": []
    },
    {
      "cell_type": "code",
      "metadata": {
        "colab": {
          "base_uri": "https://localhost:8080/"
        },
        "id": "NUYwjjiDv_R2",
        "outputId": "b06da632-9309-4418-fbd5-fb33486c52d8"
      },
      "source": [
        "hyper_learn_accu"
      ],
      "execution_count": null,
      "outputs": [
        {
          "output_type": "execute_result",
          "data": {
            "text/plain": [
              "[10.4]"
            ]
          },
          "metadata": {
            "tags": []
          },
          "execution_count": 269
        }
      ]
    },
    {
      "cell_type": "markdown",
      "metadata": {
        "id": "wfqEFg39rsQW"
      },
      "source": [
        "### Learning rate == 0.01"
      ]
    },
    {
      "cell_type": "code",
      "metadata": {
        "colab": {
          "base_uri": "https://localhost:8080/"
        },
        "id": "KpZAUWjWrqUL",
        "outputId": "cb0b6739-a89a-4a94-b1f8-17238d808b1c"
      },
      "source": [
        "torch.manual_seed(101) \n",
        "model1=SiameseNetwork()\n",
        "model1\n"
      ],
      "execution_count": null,
      "outputs": [
        {
          "output_type": "execute_result",
          "data": {
            "text/plain": [
              "SiameseNetwork(\n",
              "  (conv1): Conv2d(1, 16, kernel_size=(3, 3), stride=(1, 1))\n",
              "  (batch_norm1): BatchNorm2d(16, eps=1e-05, momentum=0.1, affine=True, track_running_stats=True)\n",
              "  (conv2): Conv2d(16, 32, kernel_size=(2, 2), stride=(1, 1))\n",
              "  (batch_norm2): BatchNorm2d(32, eps=1e-05, momentum=0.1, affine=True, track_running_stats=True)\n",
              "  (conv3): Conv2d(32, 256, kernel_size=(2, 2), stride=(1, 1))\n",
              "  (batch_norm3): BatchNorm2d(256, eps=1e-05, momentum=0.1, affine=True, track_running_stats=True)\n",
              "  (fc1): Linear(in_features=1024, out_features=256, bias=True)\n",
              "  (fc2): Linear(in_features=256, out_features=128, bias=True)\n",
              "  (fcout): Linear(in_features=128, out_features=1, bias=True)\n",
              "  (sigmoid): Sigmoid()\n",
              ")"
            ]
          },
          "metadata": {
            "tags": []
          },
          "execution_count": 263
        }
      ]
    },
    {
      "cell_type": "code",
      "metadata": {
        "id": "0Uo7ReOVrqUV"
      },
      "source": [
        "#criterion=Regularised cross rntropy loss adding L2 regularisation factor of 0.0005\n",
        "criterion = nn.BCEWithLogitsLoss()\n",
        "optimizer=torch.optim.Adam(model1.parameters(),lr=0.01)"
      ],
      "execution_count": null,
      "outputs": []
    },
    {
      "cell_type": "code",
      "metadata": {
        "colab": {
          "base_uri": "https://localhost:8080/"
        },
        "id": "3py9zU5erqUW",
        "outputId": "52a294bc-bffd-4729-98d8-1dd3de399a5e"
      },
      "source": [
        "train_losses=train_hyper(model1,optimizer,criterion,0.01,train_loader)"
      ],
      "execution_count": null,
      "outputs": [
        {
          "output_type": "stream",
          "text": [
            "####################Learning rate = 0.01 ####################\n",
            "Starting epoch 1\n",
            "Epoch [1/10],Train Loss: 0.2950\n",
            "Starting epoch 2\n",
            "Epoch [2/10],Train Loss: 0.1153\n",
            "Starting epoch 3\n",
            "Epoch [3/10],Train Loss: 0.0752\n",
            "Starting epoch 4\n",
            "Epoch [4/10],Train Loss: 0.0602\n",
            "Starting epoch 5\n",
            "Epoch [5/10],Train Loss: 0.0522\n",
            "Starting epoch 6\n",
            "Epoch [6/10],Train Loss: 0.0497\n",
            "Starting epoch 7\n",
            "Epoch [7/10],Train Loss: 0.0460\n",
            "Starting epoch 8\n",
            "Epoch [8/10],Train Loss: 0.0458\n",
            "Starting epoch 9\n",
            "Epoch [9/10],Train Loss: 0.0426\n",
            "Starting epoch 10\n",
            "Epoch [10/10],Train Loss: 0.0329\n",
            "Finished Training\n",
            "\n",
            "Duration: 1015 seconds\n"
          ],
          "name": "stdout"
        }
      ]
    },
    {
      "cell_type": "code",
      "metadata": {
        "colab": {
          "base_uri": "https://localhost:8080/",
          "height": 296
        },
        "id": "44ZpTFHMrqUX",
        "outputId": "50342822-7862-4fd2-b884-fe695461c0e4"
      },
      "source": [
        "\n",
        "plt.xlabel('Learning rate')\n",
        "plt.ylabel('Training losses in 5 epochs')\n",
        "\n",
        "plt.plot(np.arange(10),train_losses)"
      ],
      "execution_count": null,
      "outputs": [
        {
          "output_type": "execute_result",
          "data": {
            "text/plain": [
              "[<matplotlib.lines.Line2D at 0x7f0cf20e9610>]"
            ]
          },
          "metadata": {
            "tags": []
          },
          "execution_count": 268
        },
        {
          "output_type": "display_data",
          "data": {
            "image/png": "[encoded data removed]",
            "text/plain": [
              "<Figure size 432x288 with 1 Axes>"
            ]
          },
          "metadata": {
            "tags": [],
            "needs_background": "light"
          }
        }
      ]
    },
    {
      "cell_type": "code",
      "metadata": {
        "id": "q1BUPyCtrqUZ"
      },
      "source": [
        "\n",
        "def tes_hyper(model,test_data):\n",
        "  with torch.no_grad():\n",
        "\n",
        "      model.eval()\n",
        "      correct = 0\n",
        "      count = 0\n",
        "      m = nn.Sigmoid()\n",
        "\n",
        "      for i in range(1000):\n",
        "        sample=test_data[i]\n",
        "\n",
        "        output1=model.evaluate(sample[0].unsqueeze(0))\n",
        "        #similarity=[]    \n",
        "        dis_simi=999\n",
        "        pred=-1\n",
        "        for key,values in k_way_dict.items():\n",
        "          \n",
        "          \n",
        "          for value in values:\n",
        "            out2=model.evaluate(value.unsqueeze(0))\n",
        "            #infer=modelTriplet.evaluate2(output1,out2)\n",
        "            infer= inference(output1,out2)\n",
        "            \n",
        "            #infer=m(infer)\n",
        "            #print(infer)\n",
        "            #print('##################')\n",
        "            if dis_simi > infer[0].item():\n",
        "                dis_simi=infer[0].item()\n",
        "                pred=int(key)\n",
        "        #print(sample[1])\n",
        "        #print(pred)\n",
        "        if sample[1]==pred:\n",
        "          correct+=1\n",
        "\n",
        "        count += 1\n",
        "        if count % 200 == 0:\n",
        "            print(\"Current Count is: {}\".format(count))\n",
        "            print('Accuracy on n way: {}'.format(correct/count))\n",
        "\n",
        "        \n",
        "      print('Final Test Accuracy if {:.4f}'.format(correct*100/count))\n",
        "\n",
        "      acc=correct*100/count\n",
        "\n",
        "      return acc\n",
        "\n"
      ],
      "execution_count": null,
      "outputs": []
    },
    {
      "cell_type": "code",
      "metadata": {
        "colab": {
          "base_uri": "https://localhost:8080/"
        },
        "id": "ET-RWITowcLj",
        "outputId": "73513795-dc39-492e-fb7a-d037c69cad8b"
      },
      "source": [
        "accuracy=tes_hyper(model1,test_data)"
      ],
      "execution_count": null,
      "outputs": [
        {
          "output_type": "stream",
          "text": [
            "Current Count is: 200\n",
            "Accuracy on n way: 0.745\n",
            "Current Count is: 400\n",
            "Accuracy on n way: 0.735\n",
            "Current Count is: 600\n",
            "Accuracy on n way: 0.7383333333333333\n",
            "Current Count is: 800\n",
            "Accuracy on n way: 0.75625\n",
            "Current Count is: 1000\n",
            "Accuracy on n way: 0.762\n",
            "Final Test Accuracy if 76.2000\n"
          ],
          "name": "stdout"
        }
      ]
    },
    {
      "cell_type": "code",
      "metadata": {
        "colab": {
          "base_uri": "https://localhost:8080/"
        },
        "id": "7NEphWFRrqUa",
        "outputId": "c979f245-d723-4e69-fdfe-80620a523da7"
      },
      "source": [
        "print('Final Test Accuracy if {:.4f} %'.format(accuracy))\n",
        "model_1_accuracy= (accuracy)"
      ],
      "execution_count": null,
      "outputs": [
        {
          "output_type": "stream",
          "text": [
            "Final Test Accuracy if 76.2000 %\n"
          ],
          "name": "stdout"
        }
      ]
    },
    {
      "cell_type": "code",
      "metadata": {
        "colab": {
          "base_uri": "https://localhost:8080/"
        },
        "id": "9HdBQvSHsFJT",
        "outputId": "e9672606-ad2a-4111-842c-da2973a7a30a"
      },
      "source": [
        "hyper_learn_accu.append(model_1_accuracy)\n",
        "hyper_learn_accu"
      ],
      "execution_count": null,
      "outputs": [
        {
          "output_type": "execute_result",
          "data": {
            "text/plain": [
              "[10.4, 76.2]"
            ]
          },
          "metadata": {
            "tags": []
          },
          "execution_count": 274
        }
      ]
    },
    {
      "cell_type": "markdown",
      "metadata": {
        "id": "_OXc_YUkxE6-"
      },
      "source": [
        "### using learning rat=0.001"
      ]
    },
    {
      "cell_type": "code",
      "metadata": {
        "colab": {
          "base_uri": "https://localhost:8080/"
        },
        "id": "dS7D39isxI1k",
        "outputId": "be92fd40-53dc-4842-9ee8-19b251d7eb6a"
      },
      "source": [
        "torch.manual_seed(101) \n",
        "modelentropy=SiameseNetwork()\n",
        "modelentropy\n"
      ],
      "execution_count": null,
      "outputs": [
        {
          "output_type": "execute_result",
          "data": {
            "text/plain": [
              "SiameseNetwork(\n",
              "  (conv1): Conv2d(1, 16, kernel_size=(3, 3), stride=(1, 1))\n",
              "  (batch_norm1): BatchNorm2d(16, eps=1e-05, momentum=0.1, affine=True, track_running_stats=True)\n",
              "  (conv2): Conv2d(16, 32, kernel_size=(2, 2), stride=(1, 1))\n",
              "  (batch_norm2): BatchNorm2d(32, eps=1e-05, momentum=0.1, affine=True, track_running_stats=True)\n",
              "  (conv3): Conv2d(32, 256, kernel_size=(2, 2), stride=(1, 1))\n",
              "  (batch_norm3): BatchNorm2d(256, eps=1e-05, momentum=0.1, affine=True, track_running_stats=True)\n",
              "  (fc1): Linear(in_features=1024, out_features=256, bias=True)\n",
              "  (fc2): Linear(in_features=256, out_features=128, bias=True)\n",
              "  (fcout): Linear(in_features=128, out_features=1, bias=True)\n",
              "  (sigmoid): Sigmoid()\n",
              ")"
            ]
          },
          "metadata": {
            "tags": []
          },
          "execution_count": 284
        }
      ]
    },
    {
      "cell_type": "code",
      "metadata": {
        "id": "2VSBy2ep6O_W"
      },
      "source": [
        "#criterion=Regularised cross rntropy loss adding L2 regularisation factor of 0.0005\n",
        "criterion = nn.BCEWithLogitsLoss()\n",
        "optimizer=torch.optim.Adam(modelentropy.parameters(),lr=0.001)"
      ],
      "execution_count": null,
      "outputs": []
    },
    {
      "cell_type": "code",
      "metadata": {
        "id": "muZIRm2s6O_4"
      },
      "source": [
        "train_dataset=SiameseNetworkDataset(train_data)\n",
        "test_dataset=SiameseNetworkDataset(test_data)"
      ],
      "execution_count": 25,
      "outputs": []
    },
    {
      "cell_type": "code",
      "metadata": {
        "id": "aT5ZhKNH6O_5"
      },
      "source": [
        "\n",
        "torch.manual_seed(101)  # for consistent results\n",
        "\n",
        "train_loader = DataLoader(train_dataset, batch_size=100, shuffle=True)\n",
        "\n",
        "test_loader = DataLoader(test_dataset, batch_size=1, shuffle=False)"
      ],
      "execution_count": 26,
      "outputs": []
    },
    {
      "cell_type": "code",
      "metadata": {
        "colab": {
          "base_uri": "https://localhost:8080/"
        },
        "id": "6_FpRdFv6O_5",
        "outputId": "555abb86-b8c4-4ba7-c281-b32777b5a05e"
      },
      "source": [
        "# training and validation loss were calculated after every epoch\n",
        "import time\n",
        "start_time = time.time()\n",
        "num_epochs=10\n",
        "device='cpu'\n",
        "train_losses = []\n",
        "val_losses = []\n",
        "cur_step = 0\n",
        "for epoch in range(num_epochs):\n",
        "    running_loss = 0.0\n",
        "    modelentropy.train()\n",
        "    print(\"Starting epoch \" + str(epoch+1))\n",
        "    for img1, img2,labels in train_loader:    # , label1,label2\n",
        "        #labels = labels.to(device)\n",
        "        output1,output2 = modelentropy(img1, img2)\n",
        "        out = modelentropy.evaluate2(output1,output2)\n",
        "        #print(out)\n",
        "        #print(labels)\n",
        "       # labels=labels.type(torch.LongTensor)\n",
        "        loss = criterion(out,labels)\n",
        "      \n",
        "        optimizer.zero_grad()\n",
        "        loss.backward()\n",
        "        optimizer.step()\n",
        "        running_loss += loss.item()\n",
        "    avg_train_loss = running_loss / len(train_loader)\n",
        "    train_losses.append(avg_train_loss)\n",
        "    #break\n",
        "\n",
        "    print('Epoch [{}/{}],Train Loss: {:.4f}'\n",
        "        .format(epoch+1, num_epochs, avg_train_loss))\n",
        "print(\"Finished Training\")  \n",
        "print(f'\\nDuration: {time.time() - start_time:.0f} seconds') # print the time elapsed  "
      ],
      "execution_count": null,
      "outputs": [
        {
          "output_type": "stream",
          "text": [
            "Starting epoch 1\n",
            "Epoch [1/10],Train Loss: 0.2391\n",
            "Starting epoch 2\n",
            "Epoch [2/10],Train Loss: 0.1132\n",
            "Starting epoch 3\n",
            "Epoch [3/10],Train Loss: 0.0877\n",
            "Starting epoch 4\n",
            "Epoch [4/10],Train Loss: 0.0674\n",
            "Starting epoch 5\n",
            "Epoch [5/10],Train Loss: 0.0578\n",
            "Starting epoch 6\n",
            "Epoch [6/10],Train Loss: 0.0536\n",
            "Starting epoch 7\n",
            "Epoch [7/10],Train Loss: 0.0466\n",
            "Starting epoch 8\n",
            "Epoch [8/10],Train Loss: 0.0441\n",
            "Starting epoch 9\n",
            "Epoch [9/10],Train Loss: 0.0400\n",
            "Starting epoch 10\n",
            "Epoch [10/10],Train Loss: 0.0384\n",
            "Finished Training\n",
            "\n",
            "Duration: 1139 seconds\n"
          ],
          "name": "stdout"
        }
      ]
    },
    {
      "cell_type": "code",
      "metadata": {
        "colab": {
          "base_uri": "https://localhost:8080/"
        },
        "id": "6a0R4z-Y6O_6",
        "outputId": "86a28743-f506-452e-d640-3b38e3e4ea63"
      },
      "source": [
        "train_losses"
      ],
      "execution_count": null,
      "outputs": [
        {
          "output_type": "execute_result",
          "data": {
            "text/plain": [
              "[0.23911849114359643,\n",
              " 0.11320840045809746,\n",
              " 0.0876744816573907,\n",
              " 0.06735186016339124,\n",
              " 0.057818484997224744,\n",
              " 0.053604386077851666,\n",
              " 0.04663610549795688,\n",
              " 0.04413015615023977,\n",
              " 0.04002872831378208,\n",
              " 0.03837829730093327]"
            ]
          },
          "metadata": {
            "tags": []
          },
          "execution_count": 95
        }
      ]
    },
    {
      "cell_type": "code",
      "metadata": {
        "colab": {
          "base_uri": "https://localhost:8080/",
          "height": 296
        },
        "id": "nMZMl_Td6O_6",
        "outputId": "0365733e-1b50-4638-8260-8143dd8df92e"
      },
      "source": [
        "\n",
        "plt.xlabel('epoch number')\n",
        "plt.ylabel('loss-triplet')\n",
        "\n",
        "plt.plot(np.arange(num_epochs),train_losses)"
      ],
      "execution_count": null,
      "outputs": [
        {
          "output_type": "execute_result",
          "data": {
            "text/plain": [
              "[<matplotlib.lines.Line2D at 0x7f0cf2f818d0>]"
            ]
          },
          "metadata": {
            "tags": []
          },
          "execution_count": 96
        },
        {
          "output_type": "display_data",
          "data": {
            "image/png": "[encoded data removed]",
            "text/plain": [
              "<Figure size 432x288 with 1 Axes>"
            ]
          },
          "metadata": {
            "tags": [],
            "needs_background": "light"
          }
        }
      ]
    },
    {
      "cell_type": "code",
      "metadata": {
        "colab": {
          "base_uri": "https://localhost:8080/"
        },
        "id": "0p2th9QM6O_7",
        "outputId": "1aa2a7a8-4795-4459-a49a-91a690c2cae4"
      },
      "source": [
        "\n",
        "with torch.no_grad():\n",
        "\n",
        "    modelentropy.eval()\n",
        "    correct = 0\n",
        "    count = 0\n",
        "    m = nn.Sigmoid()\n",
        "\n",
        "    for i in range(len(test_data)):\n",
        "      sample=test_data[i]\n",
        "\n",
        "      output1=modelentropy.evaluate(sample[0].unsqueeze(0))\n",
        "      #similarity=[]    \n",
        "      dis_simi=999\n",
        "      pred=-1\n",
        "      for key,values in k_way_dict.items():\n",
        "        \n",
        "        \n",
        "        for value in values:\n",
        "          out2=modelentropy.evaluate(value.unsqueeze(0))\n",
        "          #infer=modelTriplet.evaluate2(output1,out2)\n",
        "          infer= inference(output1,out2)\n",
        "          \n",
        "          #infer=m(infer)\n",
        "          #print(infer)\n",
        "          #print('##################')\n",
        "          if dis_simi > infer[0].item():\n",
        "              dis_simi=infer[0].item()\n",
        "              pred=int(key)\n",
        "      #print(sample[1])\n",
        "      #print(pred)\n",
        "      if sample[1]==pred:\n",
        "        correct+=1\n",
        "\n",
        "      count += 1\n",
        "      if count % 200 == 0:\n",
        "          print(\"Current Count is: {}\".format(count))\n",
        "          print('Accuracy on n way: {}'.format(correct/count))\n",
        "\n",
        "      \n",
        "    print('Final Test Accuracy if {:.4f}'.format(correct*100/count))\n",
        "\n"
      ],
      "execution_count": null,
      "outputs": [
        {
          "output_type": "stream",
          "text": [
            "Current Count is: 200\n",
            "Accuracy on n way: 0.98\n",
            "Current Count is: 400\n",
            "Accuracy on n way: 0.98\n",
            "Current Count is: 600\n",
            "Accuracy on n way: 0.98\n",
            "Current Count is: 800\n",
            "Accuracy on n way: 0.97625\n",
            "Current Count is: 1000\n",
            "Accuracy on n way: 0.979\n",
            "Current Count is: 1200\n",
            "Accuracy on n way: 0.9783333333333334\n",
            "Current Count is: 1400\n",
            "Accuracy on n way: 0.9764285714285714\n",
            "Current Count is: 1600\n",
            "Accuracy on n way: 0.97625\n",
            "Current Count is: 1800\n",
            "Accuracy on n way: 0.9761111111111112\n",
            "Current Count is: 2000\n",
            "Accuracy on n way: 0.9775\n",
            "Current Count is: 2200\n",
            "Accuracy on n way: 0.9781818181818182\n",
            "Current Count is: 2400\n",
            "Accuracy on n way: 0.9783333333333334\n",
            "Current Count is: 2600\n",
            "Accuracy on n way: 0.9788461538461538\n",
            "Current Count is: 2800\n",
            "Accuracy on n way: 0.9792857142857143\n",
            "Current Count is: 3000\n",
            "Accuracy on n way: 0.9796666666666667\n",
            "Current Count is: 3200\n",
            "Accuracy on n way: 0.9803125\n",
            "Current Count is: 3400\n",
            "Accuracy on n way: 0.9811764705882353\n",
            "Current Count is: 3600\n",
            "Accuracy on n way: 0.9811111111111112\n",
            "Current Count is: 3800\n",
            "Accuracy on n way: 0.9818421052631578\n",
            "Current Count is: 4000\n",
            "Accuracy on n way: 0.98125\n",
            "Current Count is: 4200\n",
            "Accuracy on n way: 0.9814285714285714\n",
            "Current Count is: 4400\n",
            "Accuracy on n way: 0.9813636363636363\n",
            "Current Count is: 4600\n",
            "Accuracy on n way: 0.9806521739130435\n",
            "Current Count is: 4800\n",
            "Accuracy on n way: 0.9795833333333334\n",
            "Current Count is: 5000\n",
            "Accuracy on n way: 0.9794\n",
            "Current Count is: 5200\n",
            "Accuracy on n way: 0.9798076923076923\n",
            "Current Count is: 5400\n",
            "Accuracy on n way: 0.9801851851851852\n",
            "Current Count is: 5600\n",
            "Accuracy on n way: 0.9807142857142858\n",
            "Current Count is: 5800\n",
            "Accuracy on n way: 0.9805172413793104\n",
            "Current Count is: 6000\n",
            "Accuracy on n way: 0.9806666666666667\n",
            "Current Count is: 6200\n",
            "Accuracy on n way: 0.9806451612903225\n",
            "Current Count is: 6400\n",
            "Accuracy on n way: 0.980625\n",
            "Current Count is: 6600\n",
            "Accuracy on n way: 0.9804545454545455\n",
            "Current Count is: 6800\n",
            "Accuracy on n way: 0.9805882352941176\n",
            "Current Count is: 7000\n",
            "Accuracy on n way: 0.9805714285714285\n",
            "Current Count is: 7200\n",
            "Accuracy on n way: 0.98\n",
            "Current Count is: 7400\n",
            "Accuracy on n way: 0.9798648648648649\n",
            "Current Count is: 7600\n",
            "Accuracy on n way: 0.9801315789473685\n",
            "Current Count is: 7800\n",
            "Accuracy on n way: 0.9803846153846154\n",
            "Current Count is: 8000\n",
            "Accuracy on n way: 0.9805\n",
            "Current Count is: 8200\n",
            "Accuracy on n way: 0.9803658536585366\n",
            "Current Count is: 8400\n",
            "Accuracy on n way: 0.9805952380952381\n",
            "Current Count is: 8600\n",
            "Accuracy on n way: 0.9803488372093023\n",
            "Current Count is: 8800\n",
            "Accuracy on n way: 0.9801136363636364\n",
            "Current Count is: 9000\n",
            "Accuracy on n way: 0.9802222222222222\n",
            "Current Count is: 9200\n",
            "Accuracy on n way: 0.9804347826086957\n",
            "Current Count is: 9400\n",
            "Accuracy on n way: 0.9806382978723405\n",
            "Current Count is: 9600\n",
            "Accuracy on n way: 0.9810416666666667\n",
            "Current Count is: 9800\n",
            "Accuracy on n way: 0.9808163265306122\n",
            "Current Count is: 10000\n",
            "Accuracy on n way: 0.9808\n",
            "Current Count is: 10200\n",
            "Accuracy on n way: 0.9808823529411764\n",
            "Current Count is: 10400\n",
            "Accuracy on n way: 0.9809615384615384\n",
            "Current Count is: 10600\n",
            "Accuracy on n way: 0.9812264150943396\n",
            "Current Count is: 10800\n",
            "Accuracy on n way: 0.9812962962962963\n",
            "Current Count is: 11000\n",
            "Accuracy on n way: 0.9811818181818182\n",
            "Current Count is: 11200\n",
            "Accuracy on n way: 0.9808928571428571\n",
            "Current Count is: 11400\n",
            "Accuracy on n way: 0.9807894736842105\n",
            "Current Count is: 11600\n",
            "Accuracy on n way: 0.9806896551724138\n",
            "Current Count is: 11800\n",
            "Accuracy on n way: 0.9808474576271187\n",
            "Current Count is: 12000\n",
            "Accuracy on n way: 0.981\n",
            "Current Count is: 12200\n",
            "Accuracy on n way: 0.9808196721311475\n",
            "Current Count is: 12400\n",
            "Accuracy on n way: 0.9807258064516129\n",
            "Current Count is: 12600\n",
            "Accuracy on n way: 0.9807936507936508\n",
            "Current Count is: 12800\n",
            "Accuracy on n way: 0.980859375\n",
            "Current Count is: 13000\n",
            "Accuracy on n way: 0.9807692307692307\n",
            "Current Count is: 13200\n",
            "Accuracy on n way: 0.9807575757575757\n",
            "Current Count is: 13400\n",
            "Accuracy on n way: 0.980820895522388\n",
            "Current Count is: 13600\n",
            "Accuracy on n way: 0.9810294117647059\n",
            "Current Count is: 13800\n",
            "Accuracy on n way: 0.9807971014492753\n",
            "Current Count is: 14000\n",
            "Accuracy on n way: 0.9808571428571429\n",
            "Current Count is: 14200\n",
            "Accuracy on n way: 0.981056338028169\n",
            "Current Count is: 14400\n",
            "Accuracy on n way: 0.9810416666666667\n",
            "Current Count is: 14600\n",
            "Accuracy on n way: 0.981027397260274\n",
            "Current Count is: 14800\n",
            "Accuracy on n way: 0.9811486486486487\n",
            "Current Count is: 15000\n",
            "Accuracy on n way: 0.9812\n",
            "Current Count is: 15200\n",
            "Accuracy on n way: 0.9813157894736843\n",
            "Current Count is: 15400\n",
            "Accuracy on n way: 0.9813636363636363\n",
            "Current Count is: 15600\n",
            "Accuracy on n way: 0.9813461538461539\n",
            "Current Count is: 15800\n",
            "Accuracy on n way: 0.9812658227848101\n",
            "Current Count is: 16000\n",
            "Accuracy on n way: 0.9810625\n",
            "Current Count is: 16200\n",
            "Accuracy on n way: 0.9811111111111112\n",
            "Current Count is: 16400\n",
            "Accuracy on n way: 0.9810365853658537\n",
            "Current Count is: 16600\n",
            "Accuracy on n way: 0.981144578313253\n",
            "Current Count is: 16800\n",
            "Accuracy on n way: 0.9811904761904762\n",
            "Current Count is: 17000\n",
            "Accuracy on n way: 0.9814117647058823\n",
            "Current Count is: 17200\n",
            "Accuracy on n way: 0.9815697674418604\n",
            "Current Count is: 17400\n",
            "Accuracy on n way: 0.981551724137931\n",
            "Current Count is: 17600\n",
            "Accuracy on n way: 0.9815909090909091\n",
            "Current Count is: 17800\n",
            "Accuracy on n way: 0.981629213483146\n",
            "Current Count is: 18000\n",
            "Accuracy on n way: 0.9816666666666667\n",
            "Current Count is: 18200\n",
            "Accuracy on n way: 0.9817032967032967\n",
            "Current Count is: 18400\n",
            "Accuracy on n way: 0.9817391304347826\n",
            "Current Count is: 18600\n",
            "Accuracy on n way: 0.9817204301075269\n",
            "Current Count is: 18800\n",
            "Accuracy on n way: 0.9817553191489362\n",
            "Current Count is: 19000\n",
            "Accuracy on n way: 0.9818421052631578\n",
            "Current Count is: 19200\n",
            "Accuracy on n way: 0.9819791666666666\n",
            "Current Count is: 19400\n",
            "Accuracy on n way: 0.9820103092783505\n",
            "Current Count is: 19600\n",
            "Accuracy on n way: 0.9820408163265306\n",
            "Current Count is: 19800\n",
            "Accuracy on n way: 0.9821717171717171\n",
            "Current Count is: 20000\n",
            "Accuracy on n way: 0.98205\n",
            "Current Count is: 20200\n",
            "Accuracy on n way: 0.9820792079207921\n",
            "Current Count is: 20400\n",
            "Accuracy on n way: 0.9818627450980392\n",
            "Current Count is: 20600\n",
            "Accuracy on n way: 0.9818446601941747\n",
            "Current Count is: 20800\n",
            "Accuracy on n way: 0.981875\n",
            "Current Count is: 21000\n",
            "Accuracy on n way: 0.9819523809523809\n",
            "Final Test Accuracy if 98.1952\n"
          ],
          "name": "stdout"
        }
      ]
    },
    {
      "cell_type": "code",
      "metadata": {
        "colab": {
          "base_uri": "https://localhost:8080/"
        },
        "id": "6UUIqqAV6O_7",
        "outputId": "1a9a4a38-a746-407b-d1e7-50cc22a642dd"
      },
      "source": [
        "print('Final Test Accuracy if {:.4f} %'.format(correct*100/count))\n",
        "adam_accuracy= (correct*100/count)"
      ],
      "execution_count": null,
      "outputs": [
        {
          "output_type": "stream",
          "text": [
            "Final Test Accuracy if 98.1952 %\n"
          ],
          "name": "stdout"
        }
      ]
    },
    {
      "cell_type": "code",
      "metadata": {
        "colab": {
          "base_uri": "https://localhost:8080/"
        },
        "id": "up1Q4oiD6Xov",
        "outputId": "7320575c-7d9b-4e05-c778-3546951ceef2"
      },
      "source": [
        "hyper_learn_accu"
      ],
      "execution_count": null,
      "outputs": [
        {
          "output_type": "execute_result",
          "data": {
            "text/plain": [
              "[10.4, 76.2, 98.1952380952381]"
            ]
          },
          "metadata": {
            "tags": []
          },
          "execution_count": 293
        }
      ]
    },
    {
      "cell_type": "markdown",
      "metadata": {
        "id": "2hTQpVMX0GsU"
      },
      "source": [
        "### Using learning rate 0.0001"
      ]
    },
    {
      "cell_type": "code",
      "metadata": {
        "colab": {
          "base_uri": "https://localhost:8080/"
        },
        "id": "Y9l9WRNF0Jnx",
        "outputId": "691daffd-9fd7-4807-e13b-d9c03a9a345b"
      },
      "source": [
        "torch.manual_seed(101) \n",
        "model3=SiameseNetwork()\n",
        "model3\n"
      ],
      "execution_count": 27,
      "outputs": [
        {
          "output_type": "execute_result",
          "data": {
            "text/plain": [
              "SiameseNetwork(\n",
              "  (conv1): Conv2d(1, 16, kernel_size=(3, 3), stride=(1, 1))\n",
              "  (batch_norm1): BatchNorm2d(16, eps=1e-05, momentum=0.1, affine=True, track_running_stats=True)\n",
              "  (conv2): Conv2d(16, 32, kernel_size=(2, 2), stride=(1, 1))\n",
              "  (batch_norm2): BatchNorm2d(32, eps=1e-05, momentum=0.1, affine=True, track_running_stats=True)\n",
              "  (conv3): Conv2d(32, 256, kernel_size=(2, 2), stride=(1, 1))\n",
              "  (batch_norm3): BatchNorm2d(256, eps=1e-05, momentum=0.1, affine=True, track_running_stats=True)\n",
              "  (fc1): Linear(in_features=1024, out_features=256, bias=True)\n",
              "  (fc2): Linear(in_features=256, out_features=128, bias=True)\n",
              "  (fcout): Linear(in_features=128, out_features=1, bias=True)\n",
              "  (sigmoid): Sigmoid()\n",
              ")"
            ]
          },
          "metadata": {
            "tags": []
          },
          "execution_count": 27
        }
      ]
    },
    {
      "cell_type": "code",
      "metadata": {
        "id": "MubvrnA00JoQ"
      },
      "source": [
        "#criterion=Regularised cross rntropy loss adding L2 regularisation factor of 0.0005\n",
        "criterion = nn.BCEWithLogitsLoss()\n",
        "optimizer=torch.optim.Adam(model3.parameters(),lr=0.0001)"
      ],
      "execution_count": 28,
      "outputs": []
    },
    {
      "cell_type": "code",
      "metadata": {
        "colab": {
          "base_uri": "https://localhost:8080/"
        },
        "id": "20TXYL6P7PbE",
        "outputId": "acf95d9b-a892-458d-bb9a-855db1c147f0"
      },
      "source": [
        "# training and validation loss were calculated after every epoch\n",
        "import time\n",
        "start_time = time.time()\n",
        "num_epochs=10\n",
        "device='cpu'\n",
        "train_losses = []\n",
        "val_losses = []\n",
        "cur_step = 0\n",
        "for epoch in range(num_epochs):\n",
        "    running_loss = 0.0\n",
        "    model3.train()\n",
        "    print(\"Starting epoch \" + str(epoch+1))\n",
        "    for img1, img2,labels in train_loader:    # , label1,label2\n",
        "        #labels = labels.to(device)\n",
        "        output1,output2 = model3(img1, img2)\n",
        "        out = model3.evaluate2(output1,output2)\n",
        "        #print(out)\n",
        "        #print(labels)\n",
        "       # labels=labels.type(torch.LongTensor)\n",
        "        loss = criterion(out,labels)\n",
        "      \n",
        "        optimizer.zero_grad()\n",
        "        loss.backward()\n",
        "        optimizer.step()\n",
        "        running_loss += loss.item()\n",
        "    avg_train_loss = running_loss / len(train_loader)\n",
        "    train_losses.append(avg_train_loss)\n",
        "    #break\n",
        "\n",
        "    print('Epoch [{}/{}],Train Loss: {:.4f}'\n",
        "        .format(epoch+1, num_epochs, avg_train_loss))\n",
        "print(\"Finished Training\")  \n",
        "print(f'\\nDuration: {time.time() - start_time:.0f} seconds') # print the time elapsed  "
      ],
      "execution_count": 29,
      "outputs": [
        {
          "output_type": "stream",
          "text": [
            "Starting epoch 1\n",
            "Epoch [1/10],Train Loss: 0.4340\n",
            "Starting epoch 2\n",
            "Epoch [2/10],Train Loss: 0.2201\n",
            "Starting epoch 3\n",
            "Epoch [3/10],Train Loss: 0.1578\n",
            "Starting epoch 4\n",
            "Epoch [4/10],Train Loss: 0.1248\n",
            "Starting epoch 5\n",
            "Epoch [5/10],Train Loss: 0.1057\n",
            "Starting epoch 6\n",
            "Epoch [6/10],Train Loss: 0.0875\n",
            "Starting epoch 7\n",
            "Epoch [7/10],Train Loss: 0.0789\n",
            "Starting epoch 8\n",
            "Epoch [8/10],Train Loss: 0.0688\n",
            "Starting epoch 9\n",
            "Epoch [9/10],Train Loss: 0.0623\n",
            "Starting epoch 10\n",
            "Epoch [10/10],Train Loss: 0.0577\n",
            "Finished Training\n",
            "\n",
            "Duration: 1145 seconds\n"
          ],
          "name": "stdout"
        }
      ]
    },
    {
      "cell_type": "code",
      "metadata": {
        "colab": {
          "base_uri": "https://localhost:8080/"
        },
        "id": "_mhxh-e97x6F",
        "outputId": "328040fc-5584-44ae-fa26-4c3da6ce83da"
      },
      "source": [
        "train_losses"
      ],
      "execution_count": 30,
      "outputs": [
        {
          "output_type": "execute_result",
          "data": {
            "text/plain": [
              "[0.4339933981396714,\n",
              " 0.2200767826212912,\n",
              " 0.15780314305911258,\n",
              " 0.1248164007098091,\n",
              " 0.10568756645887482,\n",
              " 0.08753444726521871,\n",
              " 0.07889402967554573,\n",
              " 0.06875620076470837,\n",
              " 0.06225014762116634,\n",
              " 0.05767547698615461]"
            ]
          },
          "metadata": {
            "tags": []
          },
          "execution_count": 30
        }
      ]
    },
    {
      "cell_type": "code",
      "metadata": {
        "id": "YqRj3W2L0JoS",
        "colab": {
          "base_uri": "https://localhost:8080/",
          "height": 299
        },
        "outputId": "e2d63cc9-73d7-4c41-f06c-d9e7f1d7c486"
      },
      "source": [
        "\n",
        "plt.xlabel('Learning rate')\n",
        "plt.ylabel('Training losses in 5 epochs')\n",
        "\n",
        "plt.plot(np.arange(10),train_losses)"
      ],
      "execution_count": 31,
      "outputs": [
        {
          "output_type": "execute_result",
          "data": {
            "text/plain": [
              "[<matplotlib.lines.Line2D at 0x7f9a8e5d9a90>]"
            ]
          },
          "metadata": {
            "tags": []
          },
          "execution_count": 31
        },
        {
          "output_type": "display_data",
          "data": {
            "image/png": "[encoded data removed]",
            "text/plain": [
              "<Figure size 432x288 with 1 Axes>"
            ]
          },
          "metadata": {
            "tags": [],
            "needs_background": "light"
          }
        }
      ]
    },
    {
      "cell_type": "code",
      "metadata": {
        "colab": {
          "base_uri": "https://localhost:8080/"
        },
        "id": "zpLAXICB7x6L",
        "outputId": "f37baff0-5552-4df5-c273-71a45b5efcbe"
      },
      "source": [
        "\n",
        "with torch.no_grad():\n",
        "\n",
        "    model3.eval()\n",
        "    correct = 0\n",
        "    count = 0\n",
        "    m = nn.Sigmoid()\n",
        "\n",
        "    for i in range(5000):\n",
        "      sample=test_data[i]\n",
        "\n",
        "      output1=model3.evaluate(sample[0].unsqueeze(0))\n",
        "      #similarity=[]    \n",
        "      dis_simi=999\n",
        "      pred=-1\n",
        "      for key,values in k_way_dict.items():\n",
        "        \n",
        "        \n",
        "        for value in values:\n",
        "          out2=model3.evaluate(value.unsqueeze(0))\n",
        "          #infer=modelTriplet.evaluate2(output1,out2)\n",
        "          infer= inference(output1,out2)\n",
        "          \n",
        "          #infer=m(infer)\n",
        "          #print(infer)\n",
        "          #print('##################')\n",
        "          if dis_simi > infer[0].item():\n",
        "              dis_simi=infer[0].item()\n",
        "              pred=int(key)\n",
        "      #print(sample[1])\n",
        "      #print(pred)\n",
        "      if sample[1]==pred:\n",
        "        correct+=1\n",
        "\n",
        "      count += 1\n",
        "      if count % 200 == 0:\n",
        "          print(\"Current Count is: {}\".format(count))\n",
        "          print('Accuracy on n way: {}'.format(correct/count))\n",
        "\n",
        "      \n",
        "    print('Final Test Accuracy if {:.4f}'.format(correct*100/count))\n",
        "\n"
      ],
      "execution_count": 37,
      "outputs": [
        {
          "output_type": "stream",
          "text": [
            "Current Count is: 200\n",
            "Accuracy on n way: 0.975\n",
            "Current Count is: 400\n",
            "Accuracy on n way: 0.9725\n",
            "Current Count is: 600\n",
            "Accuracy on n way: 0.9683333333333334\n",
            "Current Count is: 800\n",
            "Accuracy on n way: 0.9675\n",
            "Current Count is: 1000\n",
            "Accuracy on n way: 0.971\n",
            "Current Count is: 1200\n",
            "Accuracy on n way: 0.9691666666666666\n",
            "Current Count is: 1400\n",
            "Accuracy on n way: 0.9692857142857143\n",
            "Current Count is: 1600\n",
            "Accuracy on n way: 0.970625\n",
            "Current Count is: 1800\n",
            "Accuracy on n way: 0.9694444444444444\n",
            "Current Count is: 2000\n",
            "Accuracy on n way: 0.9695\n",
            "Current Count is: 2200\n",
            "Accuracy on n way: 0.9686363636363636\n",
            "Current Count is: 2400\n",
            "Accuracy on n way: 0.9691666666666666\n",
            "Current Count is: 2600\n",
            "Accuracy on n way: 0.9688461538461538\n",
            "Current Count is: 2800\n",
            "Accuracy on n way: 0.9692857142857143\n",
            "Current Count is: 3000\n",
            "Accuracy on n way: 0.9713333333333334\n",
            "Current Count is: 3200\n",
            "Accuracy on n way: 0.97125\n",
            "Current Count is: 3400\n",
            "Accuracy on n way: 0.971764705882353\n",
            "Current Count is: 3600\n",
            "Accuracy on n way: 0.9713888888888889\n",
            "Current Count is: 3800\n",
            "Accuracy on n way: 0.9723684210526315\n",
            "Current Count is: 4000\n",
            "Accuracy on n way: 0.97275\n",
            "Current Count is: 4200\n",
            "Accuracy on n way: 0.9730952380952381\n",
            "Current Count is: 4400\n",
            "Accuracy on n way: 0.9729545454545454\n",
            "Current Count is: 4600\n",
            "Accuracy on n way: 0.9732608695652174\n",
            "Current Count is: 4800\n",
            "Accuracy on n way: 0.9727083333333333\n",
            "Current Count is: 5000\n",
            "Accuracy on n way: 0.9726\n",
            "Final Test Accuracy if 97.2600\n"
          ],
          "name": "stdout"
        }
      ]
    },
    {
      "cell_type": "code",
      "metadata": {
        "colab": {
          "base_uri": "https://localhost:8080/"
        },
        "id": "_S8jcp5J7x6M",
        "outputId": "26561984-78cf-4933-938d-7dea24f6f8b6"
      },
      "source": [
        "print('Final Test Accuracy if {:.4f} %'.format(correct*100/count))\n",
        "accuracy= (correct*100/count)"
      ],
      "execution_count": 38,
      "outputs": [
        {
          "output_type": "stream",
          "text": [
            "Final Test Accuracy if 97.2600 %\n"
          ],
          "name": "stdout"
        }
      ]
    },
    {
      "cell_type": "code",
      "metadata": {
        "colab": {
          "base_uri": "https://localhost:8080/"
        },
        "id": "914jNfpA0JoU",
        "outputId": "1eb94fab-a586-4f8c-d0a3-a26160ecd5da"
      },
      "source": [
        "print('Final Test Accuracy if {:.4f} %'.format(accuracy))\n",
        "model_3_accuracy= (accuracy)"
      ],
      "execution_count": 39,
      "outputs": [
        {
          "output_type": "stream",
          "text": [
            "Final Test Accuracy if 97.2600 %\n"
          ],
          "name": "stdout"
        }
      ]
    },
    {
      "cell_type": "code",
      "metadata": {
        "id": "fqUzqyJdRGw9"
      },
      "source": [
        "hyper_learn_accu=[10.4,76.2,98.19,97.26]\n"
      ],
      "execution_count": 40,
      "outputs": []
    },
    {
      "cell_type": "code",
      "metadata": {
        "colab": {
          "base_uri": "https://localhost:8080/"
        },
        "id": "gn33qQVX0JoV",
        "outputId": "bd002667-db63-4478-ba78-ce89c5a99971"
      },
      "source": [
        "hyper_learn_accu"
      ],
      "execution_count": 41,
      "outputs": [
        {
          "output_type": "execute_result",
          "data": {
            "text/plain": [
              "[10.4, 76.2, 98.19, 97.26]"
            ]
          },
          "metadata": {
            "tags": []
          },
          "execution_count": 41
        }
      ]
    },
    {
      "cell_type": "code",
      "metadata": {
        "id": "3ZUfE2_zRir4"
      },
      "source": [
        ""
      ],
      "execution_count": null,
      "outputs": []
    },
    {
      "cell_type": "markdown",
      "metadata": {
        "id": "IW700GrKRj8r"
      },
      "source": [
        "### Graphs comparing learning rates on Best Model"
      ]
    },
    {
      "cell_type": "code",
      "metadata": {
        "colab": {
          "base_uri": "https://localhost:8080/",
          "height": 295
        },
        "id": "x59S5QI-Ri60",
        "outputId": "5b193446-3597-41a6-c413-4850abc05439"
      },
      "source": [
        "# plotting a bar chart\n",
        "left=[1,2,3,4]\n",
        "height=hyper_learn_accu\n",
        "tick_label=['0.1','0.01','0.001','0.0001']\n",
        "plt.bar(left, height, tick_label = tick_label,\n",
        "        width = 0.8, color = ['red', 'green','yellow','blue'])\n",
        "  \n",
        "# naming the x-axis\n",
        "plt.xlabel('Learning rates ')\n",
        "# naming the y-axis\n",
        "plt.ylabel('Test Accuracies')\n",
        "# plot title\n",
        "plt.title('Best Model Test Accuracies vs learning rates')\n",
        "  \n",
        "# function to show the plot\n",
        "plt.show()"
      ],
      "execution_count": 42,
      "outputs": [
        {
          "output_type": "display_data",
          "data": {
            "image/png": "[encoded data removed]",
            "text/plain": [
              "<Figure size 432x288 with 1 Axes>"
            ]
          },
          "metadata": {
            "tags": [],
            "needs_background": "light"
          }
        }
      ]
    },
    {
      "cell_type": "markdown",
      "metadata": {
        "id": "_TdlUJndZl5b"
      },
      "source": [
        "## Hyper parameter tuning weight_decay:\n",
        "     using weight decay or regularisation factor lambda on the best Model i.e\n",
        "     learning rate 0.001 and with cross entropy loss.\n",
        "\n",
        "     we'll vary weight decay as follows 0.01, 0.001,0.0005\n",
        "\n",
        "\n",
        "\n"
      ]
    },
    {
      "cell_type": "markdown",
      "metadata": {
        "id": "PeZqYAQPaWgz"
      },
      "source": [
        "###  Weight_decay=0.01"
      ]
    },
    {
      "cell_type": "code",
      "metadata": {
        "colab": {
          "base_uri": "https://localhost:8080/"
        },
        "id": "92nEJ4X5Zl5p",
        "outputId": "9c055a25-4e31-452c-e9ec-e8fbdccb88a1"
      },
      "source": [
        "torch.manual_seed(101) \n",
        "modelentropy=SiameseNetwork()\n",
        "modelentropy\n"
      ],
      "execution_count": 43,
      "outputs": [
        {
          "output_type": "execute_result",
          "data": {
            "text/plain": [
              "SiameseNetwork(\n",
              "  (conv1): Conv2d(1, 16, kernel_size=(3, 3), stride=(1, 1))\n",
              "  (batch_norm1): BatchNorm2d(16, eps=1e-05, momentum=0.1, affine=True, track_running_stats=True)\n",
              "  (conv2): Conv2d(16, 32, kernel_size=(2, 2), stride=(1, 1))\n",
              "  (batch_norm2): BatchNorm2d(32, eps=1e-05, momentum=0.1, affine=True, track_running_stats=True)\n",
              "  (conv3): Conv2d(32, 256, kernel_size=(2, 2), stride=(1, 1))\n",
              "  (batch_norm3): BatchNorm2d(256, eps=1e-05, momentum=0.1, affine=True, track_running_stats=True)\n",
              "  (fc1): Linear(in_features=1024, out_features=256, bias=True)\n",
              "  (fc2): Linear(in_features=256, out_features=128, bias=True)\n",
              "  (fcout): Linear(in_features=128, out_features=1, bias=True)\n",
              "  (sigmoid): Sigmoid()\n",
              ")"
            ]
          },
          "metadata": {
            "tags": []
          },
          "execution_count": 43
        }
      ]
    },
    {
      "cell_type": "code",
      "metadata": {
        "id": "GP64b3vmZl5s"
      },
      "source": [
        "#criterion=Regularised cross rntropy loss adding L2 regularisation factor of 0.01\n",
        "criterion = nn.BCEWithLogitsLoss()\n",
        "optimizer=torch.optim.Adam(modelentropy.parameters(),lr=0.001,weight_decay=0.01)"
      ],
      "execution_count": 44,
      "outputs": []
    },
    {
      "cell_type": "code",
      "metadata": {
        "id": "uxZ2cjIqZl5s"
      },
      "source": [
        "train_dataset=SiameseNetworkDataset(train_data)\n",
        "test_dataset=SiameseNetworkDataset(test_data)"
      ],
      "execution_count": 45,
      "outputs": []
    },
    {
      "cell_type": "code",
      "metadata": {
        "id": "TvwOBW1KZl5t"
      },
      "source": [
        "\n",
        "torch.manual_seed(101)  # for consistent results\n",
        "\n",
        "train_loader = DataLoader(train_dataset, batch_size=100, shuffle=True)\n",
        "\n",
        "test_loader = DataLoader(test_dataset, batch_size=1, shuffle=False)"
      ],
      "execution_count": 46,
      "outputs": []
    },
    {
      "cell_type": "code",
      "metadata": {
        "colab": {
          "base_uri": "https://localhost:8080/"
        },
        "id": "vpzDtrlAZl5u",
        "outputId": "64ae3201-6d81-4a19-89ae-35d44a6f7c0f"
      },
      "source": [
        "# training and validation loss were calculated after every epoch\n",
        "import time\n",
        "start_time = time.time()\n",
        "num_epochs=10\n",
        "device='cpu'\n",
        "train_losses = []\n",
        "val_losses = []\n",
        "cur_step = 0\n",
        "for epoch in range(num_epochs):\n",
        "    running_loss = 0.0\n",
        "    modelentropy.train()\n",
        "    print(\"Starting epoch \" + str(epoch+1))\n",
        "    for img1, img2,labels in train_loader:    # , label1,label2\n",
        "        #labels = labels.to(device)\n",
        "        output1,output2 = modelentropy(img1, img2)\n",
        "        out = modelentropy.evaluate2(output1,output2)\n",
        "        #print(out)\n",
        "        #print(labels)\n",
        "       # labels=labels.type(torch.LongTensor)\n",
        "        loss = criterion(out,labels)\n",
        "      \n",
        "        optimizer.zero_grad()\n",
        "        loss.backward()\n",
        "        optimizer.step()\n",
        "        running_loss += loss.item()\n",
        "    avg_train_loss = running_loss / len(train_loader)\n",
        "    train_losses.append(avg_train_loss)\n",
        "    #break\n",
        "\n",
        "    print('Epoch [{}/{}],Train Loss: {:.4f}'\n",
        "        .format(epoch+1, num_epochs, avg_train_loss))\n",
        "print(\"Finished Training\")  \n",
        "print(f'\\nDuration: {time.time() - start_time:.0f} seconds') # print the time elapsed  "
      ],
      "execution_count": 47,
      "outputs": [
        {
          "output_type": "stream",
          "text": [
            "Starting epoch 1\n",
            "Epoch [1/10],Train Loss: 0.3059\n",
            "Starting epoch 2\n",
            "Epoch [2/10],Train Loss: 0.1992\n",
            "Starting epoch 3\n",
            "Epoch [3/10],Train Loss: 0.1757\n",
            "Starting epoch 4\n",
            "Epoch [4/10],Train Loss: 0.1638\n",
            "Starting epoch 5\n",
            "Epoch [5/10],Train Loss: 0.1515\n",
            "Starting epoch 6\n",
            "Epoch [6/10],Train Loss: 0.1404\n",
            "Starting epoch 7\n",
            "Epoch [7/10],Train Loss: 0.1304\n",
            "Starting epoch 8\n",
            "Epoch [8/10],Train Loss: 0.1257\n",
            "Starting epoch 9\n",
            "Epoch [9/10],Train Loss: 0.1229\n",
            "Starting epoch 10\n",
            "Epoch [10/10],Train Loss: 0.1201\n",
            "Finished Training\n",
            "\n",
            "Duration: 1156 seconds\n"
          ],
          "name": "stdout"
        }
      ]
    },
    {
      "cell_type": "code",
      "metadata": {
        "colab": {
          "base_uri": "https://localhost:8080/"
        },
        "id": "-vM-wTKPZl5u",
        "outputId": "c986aca0-5d12-4a52-fe60-70aac2fdd039"
      },
      "source": [
        "train_losses"
      ],
      "execution_count": 50,
      "outputs": [
        {
          "output_type": "execute_result",
          "data": {
            "text/plain": [
              "[0.305909622475809,\n",
              " 0.19920533317692427,\n",
              " 0.17566406229624942,\n",
              " 0.1637521330951428,\n",
              " 0.15149823404392418,\n",
              " 0.14037997391150922,\n",
              " 0.13036238196857122,\n",
              " 0.12574828571202804,\n",
              " 0.12291676222669835,\n",
              " 0.1200959926205022]"
            ]
          },
          "metadata": {
            "tags": []
          },
          "execution_count": 50
        }
      ]
    },
    {
      "cell_type": "code",
      "metadata": {
        "colab": {
          "base_uri": "https://localhost:8080/",
          "height": 296
        },
        "id": "njji1xo2Zl5v",
        "outputId": "4bf63de9-9454-43e5-a5e9-5ff75e815d84"
      },
      "source": [
        "\n",
        "plt.xlabel('epoch number')\n",
        "plt.ylabel('loss-training')\n",
        "\n",
        "plt.plot(np.arange(num_epochs),train_losses)"
      ],
      "execution_count": 51,
      "outputs": [
        {
          "output_type": "execute_result",
          "data": {
            "text/plain": [
              "[<matplotlib.lines.Line2D at 0x7f9a89665c90>]"
            ]
          },
          "metadata": {
            "tags": []
          },
          "execution_count": 51
        },
        {
          "output_type": "display_data",
          "data": {
            "image/png": "[encoded data removed]",
            "text/plain": [
              "<Figure size 432x288 with 1 Axes>"
            ]
          },
          "metadata": {
            "tags": [],
            "needs_background": "light"
          }
        }
      ]
    },
    {
      "cell_type": "code",
      "metadata": {
        "colab": {
          "base_uri": "https://localhost:8080/"
        },
        "id": "sYSvAdNtZl5w",
        "outputId": "23a3393e-dbc2-4f54-fef0-5fdba87297ad"
      },
      "source": [
        "\n",
        "with torch.no_grad():\n",
        "\n",
        "    modelentropy.eval()\n",
        "    correct = 0\n",
        "    count = 0\n",
        "    m = nn.Sigmoid()\n",
        "\n",
        "    for i in range(5000):\n",
        "      sample=test_data[i]\n",
        "\n",
        "      output1=modelentropy.evaluate(sample[0].unsqueeze(0))\n",
        "      #similarity=[]    \n",
        "      dis_simi=999\n",
        "      pred=-1\n",
        "      for key,values in k_way_dict.items():\n",
        "        \n",
        "        \n",
        "        for value in values:\n",
        "          out2=modelentropy.evaluate(value.unsqueeze(0))\n",
        "          #infer=modelTriplet.evaluate2(output1,out2)\n",
        "          infer= inference(output1,out2)\n",
        "          \n",
        "          #infer=m(infer)\n",
        "          #print(infer)\n",
        "          #print('##################')\n",
        "          if dis_simi > infer[0].item():\n",
        "              dis_simi=infer[0].item()\n",
        "              pred=int(key)\n",
        "      #print(sample[1])\n",
        "      #print(pred)\n",
        "      if sample[1]==pred:\n",
        "        correct+=1\n",
        "\n",
        "      count += 1\n",
        "      if count % 200 == 0:\n",
        "          print(\"Current Count is: {}\".format(count))\n",
        "          print('Accuracy on n way: {}'.format(correct/count))\n",
        "\n",
        "      \n",
        "    print('Final Test Accuracy if {:.4f}'.format(correct*100/count))\n",
        "\n"
      ],
      "execution_count": 53,
      "outputs": [
        {
          "output_type": "stream",
          "text": [
            "Current Count is: 200\n",
            "Accuracy on n way: 0.97\n",
            "Current Count is: 400\n",
            "Accuracy on n way: 0.975\n",
            "Current Count is: 600\n",
            "Accuracy on n way: 0.9783333333333334\n",
            "Current Count is: 800\n",
            "Accuracy on n way: 0.97625\n",
            "Current Count is: 1000\n",
            "Accuracy on n way: 0.978\n",
            "Current Count is: 1200\n",
            "Accuracy on n way: 0.9716666666666667\n",
            "Current Count is: 1400\n",
            "Accuracy on n way: 0.9721428571428572\n",
            "Current Count is: 1600\n",
            "Accuracy on n way: 0.975625\n",
            "Current Count is: 1800\n",
            "Accuracy on n way: 0.975\n",
            "Current Count is: 2000\n",
            "Accuracy on n way: 0.974\n",
            "Current Count is: 2200\n",
            "Accuracy on n way: 0.9731818181818181\n",
            "Current Count is: 2400\n",
            "Accuracy on n way: 0.9729166666666667\n",
            "Current Count is: 2600\n",
            "Accuracy on n way: 0.9734615384615385\n",
            "Current Count is: 2800\n",
            "Accuracy on n way: 0.9732142857142857\n",
            "Current Count is: 3000\n",
            "Accuracy on n way: 0.9746666666666667\n",
            "Current Count is: 3200\n",
            "Accuracy on n way: 0.975625\n",
            "Current Count is: 3400\n",
            "Accuracy on n way: 0.9758823529411764\n",
            "Current Count is: 3600\n",
            "Accuracy on n way: 0.975\n",
            "Current Count is: 3800\n",
            "Accuracy on n way: 0.9747368421052631\n",
            "Current Count is: 4000\n",
            "Accuracy on n way: 0.975\n",
            "Current Count is: 4200\n",
            "Accuracy on n way: 0.975\n",
            "Current Count is: 4400\n",
            "Accuracy on n way: 0.9743181818181819\n",
            "Current Count is: 4600\n",
            "Accuracy on n way: 0.9747826086956521\n",
            "Current Count is: 4800\n",
            "Accuracy on n way: 0.975\n",
            "Current Count is: 5000\n",
            "Accuracy on n way: 0.9754\n",
            "Final Test Accuracy if 97.5400\n"
          ],
          "name": "stdout"
        }
      ]
    },
    {
      "cell_type": "code",
      "metadata": {
        "colab": {
          "base_uri": "https://localhost:8080/"
        },
        "id": "NZPVoNmuZl5x",
        "outputId": "0709fad3-bd9d-4e03-cdfa-deb2fc14a9c6"
      },
      "source": [
        "print('Final Test Accuracy if {:.4f} %'.format(correct*100/count))\n",
        "accuracy= (correct*100/count)"
      ],
      "execution_count": 54,
      "outputs": [
        {
          "output_type": "stream",
          "text": [
            "Final Test Accuracy if 97.5400 %\n"
          ],
          "name": "stdout"
        }
      ]
    },
    {
      "cell_type": "markdown",
      "metadata": {
        "id": "BE9dCQFjgzrz"
      },
      "source": [
        "###  Weight_decay=0.001"
      ]
    },
    {
      "cell_type": "code",
      "metadata": {
        "colab": {
          "base_uri": "https://localhost:8080/"
        },
        "id": "UBMoDefTgzr5",
        "outputId": "f1723627-ae37-4669-ec14-57bbcc9d6322"
      },
      "source": [
        "torch.manual_seed(101) \n",
        "modelentropy=SiameseNetwork()\n",
        "modelentropy\n"
      ],
      "execution_count": 55,
      "outputs": [
        {
          "output_type": "execute_result",
          "data": {
            "text/plain": [
              "SiameseNetwork(\n",
              "  (conv1): Conv2d(1, 16, kernel_size=(3, 3), stride=(1, 1))\n",
              "  (batch_norm1): BatchNorm2d(16, eps=1e-05, momentum=0.1, affine=True, track_running_stats=True)\n",
              "  (conv2): Conv2d(16, 32, kernel_size=(2, 2), stride=(1, 1))\n",
              "  (batch_norm2): BatchNorm2d(32, eps=1e-05, momentum=0.1, affine=True, track_running_stats=True)\n",
              "  (conv3): Conv2d(32, 256, kernel_size=(2, 2), stride=(1, 1))\n",
              "  (batch_norm3): BatchNorm2d(256, eps=1e-05, momentum=0.1, affine=True, track_running_stats=True)\n",
              "  (fc1): Linear(in_features=1024, out_features=256, bias=True)\n",
              "  (fc2): Linear(in_features=256, out_features=128, bias=True)\n",
              "  (fcout): Linear(in_features=128, out_features=1, bias=True)\n",
              "  (sigmoid): Sigmoid()\n",
              ")"
            ]
          },
          "metadata": {
            "tags": []
          },
          "execution_count": 55
        }
      ]
    },
    {
      "cell_type": "code",
      "metadata": {
        "id": "ewHjbOSbgzr7"
      },
      "source": [
        "#criterion=Regularised cross rntropy loss adding L2 regularisation factor of 0.001\n",
        "criterion = nn.BCEWithLogitsLoss()\n",
        "optimizer=torch.optim.Adam(modelentropy.parameters(),lr=0.001,weight_decay=0.001)"
      ],
      "execution_count": 56,
      "outputs": []
    },
    {
      "cell_type": "code",
      "metadata": {
        "id": "CEDs4biLgzr9"
      },
      "source": [
        "train_dataset=SiameseNetworkDataset(train_data)\n",
        "test_dataset=SiameseNetworkDataset(test_data)"
      ],
      "execution_count": 57,
      "outputs": []
    },
    {
      "cell_type": "code",
      "metadata": {
        "id": "jssKBzPXgzr-"
      },
      "source": [
        "\n",
        "torch.manual_seed(101)  # for consistent results\n",
        "\n",
        "train_loader = DataLoader(train_dataset, batch_size=100, shuffle=True)\n",
        "\n",
        "test_loader = DataLoader(test_dataset, batch_size=1, shuffle=False)"
      ],
      "execution_count": 58,
      "outputs": []
    },
    {
      "cell_type": "code",
      "metadata": {
        "colab": {
          "base_uri": "https://localhost:8080/"
        },
        "id": "2JqSFnUwgzr_",
        "outputId": "0684f480-a6fe-41ce-ea66-78abb94bb9a0"
      },
      "source": [
        "# training and validation loss were calculated after every epoch\n",
        "import time\n",
        "start_time = time.time()\n",
        "num_epochs=10\n",
        "device='cpu'\n",
        "train_losses = []\n",
        "val_losses = []\n",
        "cur_step = 0\n",
        "for epoch in range(num_epochs):\n",
        "    running_loss = 0.0\n",
        "    modelentropy.train()\n",
        "    print(\"Starting epoch \" + str(epoch+1))\n",
        "    for img1, img2,labels in train_loader:    # , label1,label2\n",
        "        #labels = labels.to(device)\n",
        "        output1,output2 = modelentropy(img1, img2)\n",
        "        out = modelentropy.evaluate2(output1,output2)\n",
        "        #print(out)\n",
        "        #print(labels)\n",
        "       # labels=labels.type(torch.LongTensor)\n",
        "        loss = criterion(out,labels)\n",
        "      \n",
        "        optimizer.zero_grad()\n",
        "        loss.backward()\n",
        "        optimizer.step()\n",
        "        running_loss += loss.item()\n",
        "    avg_train_loss = running_loss / len(train_loader)\n",
        "    train_losses.append(avg_train_loss)\n",
        "    #break\n",
        "\n",
        "    print('Epoch [{}/{}],Train Loss: {:.4f}'\n",
        "        .format(epoch+1, num_epochs, avg_train_loss))\n",
        "print(\"Finished Training\")  \n",
        "print(f'\\nDuration: {time.time() - start_time:.0f} seconds') # print the time elapsed  "
      ],
      "execution_count": 59,
      "outputs": [
        {
          "output_type": "stream",
          "text": [
            "Starting epoch 1\n",
            "Epoch [1/10],Train Loss: 0.2382\n",
            "Starting epoch 2\n",
            "Epoch [2/10],Train Loss: 0.1236\n",
            "Starting epoch 3\n",
            "Epoch [3/10],Train Loss: 0.0905\n",
            "Starting epoch 4\n",
            "Epoch [4/10],Train Loss: 0.0777\n",
            "Starting epoch 5\n",
            "Epoch [5/10],Train Loss: 0.0664\n",
            "Starting epoch 6\n",
            "Epoch [6/10],Train Loss: 0.0605\n",
            "Starting epoch 7\n",
            "Epoch [7/10],Train Loss: 0.0532\n",
            "Starting epoch 8\n",
            "Epoch [8/10],Train Loss: 0.0506\n",
            "Starting epoch 9\n",
            "Epoch [9/10],Train Loss: 0.0496\n",
            "Starting epoch 10\n",
            "Epoch [10/10],Train Loss: 0.0462\n",
            "Finished Training\n",
            "\n",
            "Duration: 1267 seconds\n"
          ],
          "name": "stdout"
        }
      ]
    },
    {
      "cell_type": "code",
      "metadata": {
        "colab": {
          "base_uri": "https://localhost:8080/"
        },
        "id": "DGdLhFkrgzsA",
        "outputId": "d3674319-77bb-4b1c-a2e1-dafb7b501c2f"
      },
      "source": [
        "train_losses"
      ],
      "execution_count": 60,
      "outputs": [
        {
          "output_type": "execute_result",
          "data": {
            "text/plain": [
              "[0.23823911990894348,\n",
              " 0.12357950334494211,\n",
              " 0.0905477066923465,\n",
              " 0.07766781588446121,\n",
              " 0.06643570044971242,\n",
              " 0.060458200907676805,\n",
              " 0.05318036083968318,\n",
              " 0.050605204498053204,\n",
              " 0.049627259540922786,\n",
              " 0.046243856214367]"
            ]
          },
          "metadata": {
            "tags": []
          },
          "execution_count": 60
        }
      ]
    },
    {
      "cell_type": "code",
      "metadata": {
        "colab": {
          "base_uri": "https://localhost:8080/",
          "height": 296
        },
        "id": "ygxfzv14gzsB",
        "outputId": "7d48de9c-a97a-4fa2-bba0-f281099757f7"
      },
      "source": [
        "\n",
        "plt.xlabel('epoch number')\n",
        "plt.ylabel('loss-training')\n",
        "\n",
        "plt.plot(np.arange(num_epochs),train_losses)"
      ],
      "execution_count": 61,
      "outputs": [
        {
          "output_type": "execute_result",
          "data": {
            "text/plain": [
              "[<matplotlib.lines.Line2D at 0x7f9a895a8050>]"
            ]
          },
          "metadata": {
            "tags": []
          },
          "execution_count": 61
        },
        {
          "output_type": "display_data",
          "data": {
            "image/png": "[encoded data removed]",
            "text/plain": [
              "<Figure size 432x288 with 1 Axes>"
            ]
          },
          "metadata": {
            "tags": [],
            "needs_background": "light"
          }
        }
      ]
    },
    {
      "cell_type": "code",
      "metadata": {
        "colab": {
          "base_uri": "https://localhost:8080/"
        },
        "id": "Cqn_TnNlgzsD",
        "outputId": "1d4d3a6b-3df4-4a28-f992-0296863522dd"
      },
      "source": [
        "\n",
        "with torch.no_grad():\n",
        "\n",
        "    modelentropy.eval()\n",
        "    correct = 0\n",
        "    count = 0\n",
        "    m = nn.Sigmoid()\n",
        "\n",
        "    for i in range(5000):\n",
        "      sample=test_data[i]\n",
        "\n",
        "      output1=modelentropy.evaluate(sample[0].unsqueeze(0))\n",
        "      #similarity=[]    \n",
        "      dis_simi=999\n",
        "      pred=-1\n",
        "      for key,values in k_way_dict.items():\n",
        "        \n",
        "        \n",
        "        for value in values:\n",
        "          out2=modelentropy.evaluate(value.unsqueeze(0))\n",
        "          #infer=modelTriplet.evaluate2(output1,out2)\n",
        "          infer= inference(output1,out2)\n",
        "          \n",
        "          #infer=m(infer)\n",
        "          #print(infer)\n",
        "          #print('##################')\n",
        "          if dis_simi > infer[0].item():\n",
        "              dis_simi=infer[0].item()\n",
        "              pred=int(key)\n",
        "      #print(sample[1])\n",
        "      #print(pred)\n",
        "      if sample[1]==pred:\n",
        "        correct+=1\n",
        "\n",
        "      count += 1\n",
        "      if count % 200 == 0:\n",
        "          print(\"Current Count is: {}\".format(count))\n",
        "          print('Accuracy on n way: {}'.format(correct/count))\n",
        "\n",
        "      \n",
        "    print('Final Test Accuracy if {:.4f}'.format(correct*100/count))\n",
        "\n"
      ],
      "execution_count": 62,
      "outputs": [
        {
          "output_type": "stream",
          "text": [
            "Current Count is: 200\n",
            "Accuracy on n way: 0.99\n",
            "Current Count is: 400\n",
            "Accuracy on n way: 0.985\n",
            "Current Count is: 600\n",
            "Accuracy on n way: 0.985\n",
            "Current Count is: 800\n",
            "Accuracy on n way: 0.985\n",
            "Current Count is: 1000\n",
            "Accuracy on n way: 0.985\n",
            "Current Count is: 1200\n",
            "Accuracy on n way: 0.9816666666666667\n",
            "Current Count is: 1400\n",
            "Accuracy on n way: 0.9828571428571429\n",
            "Current Count is: 1600\n",
            "Accuracy on n way: 0.984375\n",
            "Current Count is: 1800\n",
            "Accuracy on n way: 0.9822222222222222\n",
            "Current Count is: 2000\n",
            "Accuracy on n way: 0.982\n",
            "Current Count is: 2200\n",
            "Accuracy on n way: 0.98\n",
            "Current Count is: 2400\n",
            "Accuracy on n way: 0.9795833333333334\n",
            "Current Count is: 2600\n",
            "Accuracy on n way: 0.98\n",
            "Current Count is: 2800\n",
            "Accuracy on n way: 0.98\n",
            "Current Count is: 3000\n",
            "Accuracy on n way: 0.981\n",
            "Current Count is: 3200\n",
            "Accuracy on n way: 0.98125\n",
            "Current Count is: 3400\n",
            "Accuracy on n way: 0.9811764705882353\n",
            "Current Count is: 3600\n",
            "Accuracy on n way: 0.9805555555555555\n",
            "Current Count is: 3800\n",
            "Accuracy on n way: 0.9810526315789474\n",
            "Current Count is: 4000\n",
            "Accuracy on n way: 0.98125\n",
            "Current Count is: 4200\n",
            "Accuracy on n way: 0.9816666666666667\n",
            "Current Count is: 4400\n",
            "Accuracy on n way: 0.9815909090909091\n",
            "Current Count is: 4600\n",
            "Accuracy on n way: 0.9821739130434782\n",
            "Current Count is: 4800\n",
            "Accuracy on n way: 0.9822916666666667\n",
            "Current Count is: 5000\n",
            "Accuracy on n way: 0.9826\n",
            "Final Test Accuracy if 98.2600\n"
          ],
          "name": "stdout"
        }
      ]
    },
    {
      "cell_type": "code",
      "metadata": {
        "colab": {
          "base_uri": "https://localhost:8080/"
        },
        "id": "Ck0d-tISgzsE",
        "outputId": "35cd515e-238c-4a0f-a910-1bbc56e5079d"
      },
      "source": [
        "print('Final Test Accuracy if {:.4f} %'.format(correct*100/count))\n",
        "accuracy= (correct*100/count)"
      ],
      "execution_count": 63,
      "outputs": [
        {
          "output_type": "stream",
          "text": [
            "Final Test Accuracy if 98.2600 %\n"
          ],
          "name": "stdout"
        }
      ]
    },
    {
      "cell_type": "markdown",
      "metadata": {
        "id": "qHB6VHQAhCsA"
      },
      "source": [
        "###  Weight_decay=0.0005"
      ]
    },
    {
      "cell_type": "code",
      "metadata": {
        "colab": {
          "base_uri": "https://localhost:8080/"
        },
        "id": "oImB6dfRhCsB",
        "outputId": "29b64d8b-2177-495c-c9c3-2a6c94e78249"
      },
      "source": [
        "torch.manual_seed(101) \n",
        "modelentropy=SiameseNetwork()\n",
        "modelentropy\n"
      ],
      "execution_count": 65,
      "outputs": [
        {
          "output_type": "execute_result",
          "data": {
            "text/plain": [
              "SiameseNetwork(\n",
              "  (conv1): Conv2d(1, 16, kernel_size=(3, 3), stride=(1, 1))\n",
              "  (batch_norm1): BatchNorm2d(16, eps=1e-05, momentum=0.1, affine=True, track_running_stats=True)\n",
              "  (conv2): Conv2d(16, 32, kernel_size=(2, 2), stride=(1, 1))\n",
              "  (batch_norm2): BatchNorm2d(32, eps=1e-05, momentum=0.1, affine=True, track_running_stats=True)\n",
              "  (conv3): Conv2d(32, 256, kernel_size=(2, 2), stride=(1, 1))\n",
              "  (batch_norm3): BatchNorm2d(256, eps=1e-05, momentum=0.1, affine=True, track_running_stats=True)\n",
              "  (fc1): Linear(in_features=1024, out_features=256, bias=True)\n",
              "  (fc2): Linear(in_features=256, out_features=128, bias=True)\n",
              "  (fcout): Linear(in_features=128, out_features=1, bias=True)\n",
              "  (sigmoid): Sigmoid()\n",
              ")"
            ]
          },
          "metadata": {
            "tags": []
          },
          "execution_count": 65
        }
      ]
    },
    {
      "cell_type": "code",
      "metadata": {
        "id": "RaiuwpUNhCsD"
      },
      "source": [
        "#criterion=Regularised cross rntropy loss adding L2 regularisation factor of 0.0005\n",
        "criterion = nn.BCEWithLogitsLoss()\n",
        "optimizer=torch.optim.Adam(modelentropy.parameters(),lr=0.001,weight_decay=0.0005)"
      ],
      "execution_count": 66,
      "outputs": []
    },
    {
      "cell_type": "code",
      "metadata": {
        "id": "cju9Y-U7hCsE"
      },
      "source": [
        "train_dataset=SiameseNetworkDataset(train_data)\n",
        "test_dataset=SiameseNetworkDataset(test_data)"
      ],
      "execution_count": 67,
      "outputs": []
    },
    {
      "cell_type": "code",
      "metadata": {
        "id": "YEzcjDYDhCsF"
      },
      "source": [
        "\n",
        "torch.manual_seed(101)  # for consistent results\n",
        "\n",
        "train_loader = DataLoader(train_dataset, batch_size=100, shuffle=True)\n",
        "\n",
        "test_loader = DataLoader(test_dataset, batch_size=1, shuffle=False)"
      ],
      "execution_count": 68,
      "outputs": []
    },
    {
      "cell_type": "code",
      "metadata": {
        "colab": {
          "base_uri": "https://localhost:8080/"
        },
        "id": "AnplUh9hhCsG",
        "outputId": "46f10695-46c0-483a-81c2-39fe613cd82a"
      },
      "source": [
        "# training and validation loss were calculated after every epoch\n",
        "import time\n",
        "start_time = time.time()\n",
        "num_epochs=10\n",
        "device='cpu'\n",
        "train_losses = []\n",
        "val_losses = []\n",
        "cur_step = 0\n",
        "for epoch in range(num_epochs):\n",
        "    running_loss = 0.0\n",
        "    modelentropy.train()\n",
        "    print(\"Starting epoch \" + str(epoch+1))\n",
        "    for img1, img2,labels in train_loader:    # , label1,label2\n",
        "        #labels = labels.to(device)\n",
        "        output1,output2 = modelentropy(img1, img2)\n",
        "        out = modelentropy.evaluate2(output1,output2)\n",
        "        #print(out)\n",
        "        #print(labels)\n",
        "       # labels=labels.type(torch.LongTensor)\n",
        "        loss = criterion(out,labels)\n",
        "      \n",
        "        optimizer.zero_grad()\n",
        "        loss.backward()\n",
        "        optimizer.step()\n",
        "        running_loss += loss.item()\n",
        "    avg_train_loss = running_loss / len(train_loader)\n",
        "    train_losses.append(avg_train_loss)\n",
        "    #break\n",
        "\n",
        "    print('Epoch [{}/{}],Train Loss: {:.4f}'\n",
        "        .format(epoch+1, num_epochs, avg_train_loss))\n",
        "print(\"Finished Training\")  \n",
        "print(f'\\nDuration: {time.time() - start_time:.0f} seconds') # print the time elapsed  "
      ],
      "execution_count": 69,
      "outputs": [
        {
          "output_type": "stream",
          "text": [
            "Starting epoch 1\n",
            "Epoch [1/10],Train Loss: 0.2424\n",
            "Starting epoch 2\n",
            "Epoch [2/10],Train Loss: 0.1172\n",
            "Starting epoch 3\n",
            "Epoch [3/10],Train Loss: 0.0874\n",
            "Starting epoch 4\n",
            "Epoch [4/10],Train Loss: 0.0720\n",
            "Starting epoch 5\n",
            "Epoch [5/10],Train Loss: 0.0583\n",
            "Starting epoch 6\n",
            "Epoch [6/10],Train Loss: 0.0536\n",
            "Starting epoch 7\n",
            "Epoch [7/10],Train Loss: 0.0484\n",
            "Starting epoch 8\n",
            "Epoch [8/10],Train Loss: 0.0468\n",
            "Starting epoch 9\n",
            "Epoch [9/10],Train Loss: 0.0431\n",
            "Starting epoch 10\n",
            "Epoch [10/10],Train Loss: 0.0405\n",
            "Finished Training\n",
            "\n",
            "Duration: 1327 seconds\n"
          ],
          "name": "stdout"
        }
      ]
    },
    {
      "cell_type": "code",
      "metadata": {
        "colab": {
          "base_uri": "https://localhost:8080/"
        },
        "id": "ySZeMuAthCsL",
        "outputId": "15459880-49f4-4b5c-e7cb-37e9d5ff35f2"
      },
      "source": [
        "train_losses"
      ],
      "execution_count": 70,
      "outputs": [
        {
          "output_type": "execute_result",
          "data": {
            "text/plain": [
              "[0.24242331803757317,\n",
              " 0.11717706714205596,\n",
              " 0.08735849028263165,\n",
              " 0.07197131377701857,\n",
              " 0.058297194550003935,\n",
              " 0.053564070087230325,\n",
              " 0.048378001955546895,\n",
              " 0.04679545912017324,\n",
              " 0.04311372900799829,\n",
              " 0.04049427752021928]"
            ]
          },
          "metadata": {
            "tags": []
          },
          "execution_count": 70
        }
      ]
    },
    {
      "cell_type": "code",
      "metadata": {
        "colab": {
          "base_uri": "https://localhost:8080/",
          "height": 298
        },
        "id": "nGykOkZDhCsM",
        "outputId": "93d4b417-23a9-400b-96e1-007abb5ff6f9"
      },
      "source": [
        "\n",
        "plt.xlabel('epoch number')\n",
        "plt.ylabel('loss-training')\n",
        "\n",
        "plt.plot(np.arange(num_epochs),train_losses)"
      ],
      "execution_count": 71,
      "outputs": [
        {
          "output_type": "execute_result",
          "data": {
            "text/plain": [
              "[<matplotlib.lines.Line2D at 0x7f9a8949e1d0>]"
            ]
          },
          "metadata": {
            "tags": []
          },
          "execution_count": 71
        },
        {
          "output_type": "display_data",
          "data": {
            "image/png": "[encoded data removed]",
            "text/plain": [
              "<Figure size 432x288 with 1 Axes>"
            ]
          },
          "metadata": {
            "tags": [],
            "needs_background": "light"
          }
        }
      ]
    },
    {
      "cell_type": "code",
      "metadata": {
        "colab": {
          "base_uri": "https://localhost:8080/"
        },
        "id": "_C5rx3TThCsN",
        "outputId": "8c4e6e3a-3be4-488c-e7bc-9af7b18784b6"
      },
      "source": [
        "\n",
        "with torch.no_grad():\n",
        "\n",
        "    modelentropy.eval()\n",
        "    correct = 0\n",
        "    count = 0\n",
        "    m = nn.Sigmoid()\n",
        "\n",
        "    for i in range(5000):\n",
        "      sample=test_data[i]\n",
        "\n",
        "      output1=modelentropy.evaluate(sample[0].unsqueeze(0))\n",
        "      #similarity=[]    \n",
        "      dis_simi=999\n",
        "      pred=-1\n",
        "      for key,values in k_way_dict.items():\n",
        "        \n",
        "        \n",
        "        for value in values:\n",
        "          out2=modelentropy.evaluate(value.unsqueeze(0))\n",
        "          #infer=modelTriplet.evaluate2(output1,out2)\n",
        "          infer= inference(output1,out2)\n",
        "          \n",
        "          #infer=m(infer)\n",
        "          #print(infer)\n",
        "          #print('##################')\n",
        "          if dis_simi > infer[0].item():\n",
        "              dis_simi=infer[0].item()\n",
        "              pred=int(key)\n",
        "      #print(sample[1])\n",
        "      #print(pred)\n",
        "      if sample[1]==pred:\n",
        "        correct+=1\n",
        "\n",
        "      count += 1\n",
        "      if count % 200 == 0:\n",
        "          print(\"Current Count is: {}\".format(count))\n",
        "          print('Accuracy on n way: {}'.format(correct/count))\n",
        "\n",
        "      \n",
        "    print('Final Test Accuracy if {:.4f}'.format(correct*100/count))\n",
        "\n"
      ],
      "execution_count": 72,
      "outputs": [
        {
          "output_type": "stream",
          "text": [
            "Current Count is: 200\n",
            "Accuracy on n way: 0.985\n",
            "Current Count is: 400\n",
            "Accuracy on n way: 0.9775\n",
            "Current Count is: 600\n",
            "Accuracy on n way: 0.975\n",
            "Current Count is: 800\n",
            "Accuracy on n way: 0.9775\n",
            "Current Count is: 1000\n",
            "Accuracy on n way: 0.978\n",
            "Current Count is: 1200\n",
            "Accuracy on n way: 0.975\n",
            "Current Count is: 1400\n",
            "Accuracy on n way: 0.975\n",
            "Current Count is: 1600\n",
            "Accuracy on n way: 0.97625\n",
            "Current Count is: 1800\n",
            "Accuracy on n way: 0.9755555555555555\n",
            "Current Count is: 2000\n",
            "Accuracy on n way: 0.9765\n",
            "Current Count is: 2200\n",
            "Accuracy on n way: 0.9745454545454545\n",
            "Current Count is: 2400\n",
            "Accuracy on n way: 0.97375\n",
            "Current Count is: 2600\n",
            "Accuracy on n way: 0.9738461538461538\n",
            "Current Count is: 2800\n",
            "Accuracy on n way: 0.9742857142857143\n",
            "Current Count is: 3000\n",
            "Accuracy on n way: 0.9753333333333334\n",
            "Current Count is: 3200\n",
            "Accuracy on n way: 0.97625\n",
            "Current Count is: 3400\n",
            "Accuracy on n way: 0.9770588235294118\n",
            "Current Count is: 3600\n",
            "Accuracy on n way: 0.9766666666666667\n",
            "Current Count is: 3800\n",
            "Accuracy on n way: 0.9776315789473684\n",
            "Current Count is: 4000\n",
            "Accuracy on n way: 0.97825\n",
            "Current Count is: 4200\n",
            "Accuracy on n way: 0.9778571428571429\n",
            "Current Count is: 4400\n",
            "Accuracy on n way: 0.9779545454545454\n",
            "Current Count is: 4600\n",
            "Accuracy on n way: 0.9789130434782609\n",
            "Current Count is: 4800\n",
            "Accuracy on n way: 0.9795833333333334\n",
            "Current Count is: 5000\n",
            "Accuracy on n way: 0.98\n",
            "Final Test Accuracy if 98.0000\n"
          ],
          "name": "stdout"
        }
      ]
    },
    {
      "cell_type": "code",
      "metadata": {
        "colab": {
          "base_uri": "https://localhost:8080/"
        },
        "id": "rM5gjoXxhCsO",
        "outputId": "6dc76942-edf8-41f8-d72b-3aa8ae58cefd"
      },
      "source": [
        "print('Final Test Accuracy if {:.4f} %'.format(correct*100/count))\n",
        "accuracy= (correct*100/count)"
      ],
      "execution_count": 73,
      "outputs": [
        {
          "output_type": "stream",
          "text": [
            "Final Test Accuracy if 98.0000 %\n"
          ],
          "name": "stdout"
        }
      ]
    },
    {
      "cell_type": "code",
      "metadata": {
        "id": "pIr2wORUxr0X"
      },
      "source": [
        "hyper_learn_accu=[97.54,98.26,98.00]"
      ],
      "execution_count": 74,
      "outputs": []
    },
    {
      "cell_type": "code",
      "metadata": {
        "colab": {
          "base_uri": "https://localhost:8080/",
          "height": 295
        },
        "id": "mGUASBitxsHw",
        "outputId": "e2a158f4-da8d-4fc1-9e87-aeb6dda307fe"
      },
      "source": [
        "# plotting a bar chart\n",
        "left=[1,2,3]\n",
        "height=hyper_learn_accu\n",
        "tick_label=['0.01','0.001','0.0005']\n",
        "plt.bar(left, height, tick_label = tick_label,\n",
        "        width = 0.8, color = ['red', 'green','yellow'])\n",
        "  \n",
        "# naming the x-axis\n",
        "plt.xlabel('Weight decay rates ')\n",
        "# naming the y-axis\n",
        "plt.ylabel('Test Accuracies')\n",
        "# plot title\n",
        "plt.title('Best Model Test Accuracies vs weight decay rates')\n",
        "  \n",
        "# function to show the plot\n",
        "plt.show()"
      ],
      "execution_count": 75,
      "outputs": [
        {
          "output_type": "display_data",
          "data": {
            "image/png": "[encoded data removed]",
            "text/plain": [
              "<Figure size 432x288 with 1 Axes>"
            ]
          },
          "metadata": {
            "tags": [],
            "needs_background": "light"
          }
        }
      ]
    },
    {
      "cell_type": "markdown",
      "metadata": {
        "id": "PR3v8c_mo-e8"
      },
      "source": [
        "## Pros and cons of siamese networks:\n",
        "    Pros:\n",
        "    1.It is useful to classify even when we have lesser number of images to \n",
        "    compare, as seen above when we have 10 class 10 images also we are able to produce accuracies of 98%.\n",
        "    2.It is useful in feature extraction. We are effectively learning the embeddings \n",
        "    from the images which can be used later to calculate the pairwise distance \n",
        "    3.It can be used for wide range of applications like signature verification,\n",
        "    face verification etc,.\n",
        "    Cons:\n",
        "    1.It takes lot of time for training. we need to extrapolate the data set \n",
        "    to train the model on sufficient pairs. So that it will be able to learn effectively.\n",
        "    2.It does not calculates the probabilities. it just creates embeddings which \n",
        "    should be used for distance calculation.So, a additional step is required for classification\n",
        "    3.If it is few shot learning predicting might take longer time."
      ]
    },
    {
      "cell_type": "markdown",
      "metadata": {
        "id": "og1BV64hqSN5"
      },
      "source": [
        "## Additional functions/ code"
      ]
    },
    {
      "cell_type": "code",
      "metadata": {
        "id": "hyYBMdb7CgFH"
      },
      "source": [
        "def eval(model, test_loader):\n",
        "    with torch.no_grad():\n",
        "\n",
        "        model.eval()\n",
        "        correct = 0\n",
        "        count = 0\n",
        "        for mainImg, imgSets, label in test_loader:\n",
        "            #mainImg = mainImg.to(device)\n",
        "   \n",
        "            predVal = 0\n",
        "            pred = -1\n",
        "            \n",
        "            # determine which category an image belongs to\n",
        "            for i, testImg in enumerate(imgSets):\n",
        "                #testImg = testImg.to(device)\n",
        "\n",
        "                output1,output2 = model(mainImg, testImg)\n",
        "                \n",
        "                output=model.evaluate(output1,output2)\n",
        "                #out=torch.abs(output1 - output2)\n",
        "                #print(output.size())\n",
        "                #print(output)\n",
        "\n",
        "                #print(torch.max(output))\n",
        "                print(output[0].item())\n",
        "                break\n",
        "\n",
        "                if output[0].item() > predVal:\n",
        "                    pred = i\n",
        "                    #predVal=torch.max(output)\n",
        "                    predVal = output[0].item()\n",
        "                    #print(pred)\n",
        "                    #print(predVal)\n",
        "            break\n",
        "            \n",
        "            if pred == label:\n",
        "                correct += 1\n",
        "                #print(correct)\n",
        "                \n",
        "            count += 1\n",
        "            if count % 20 == 0:\n",
        "                print(\"Current Count is: {}\".format(count))\n",
        "                print('Accuracy on n way: {}'.format(correct/count))\n",
        "\n",
        "        return correct*100/count"
      ],
      "execution_count": null,
      "outputs": []
    },
    {
      "cell_type": "code",
      "metadata": {
        "id": "n5BX9YuEwGCm"
      },
      "source": [
        "test_dataset= EvalSet(test_data)\n",
        "eval_loader=DataLoader(test_dataset, batch_size=, shuffle=False)"
      ],
      "execution_count": null,
      "outputs": []
    },
    {
      "cell_type": "code",
      "metadata": {
        "id": "OzDYNZRgCuyI"
      },
      "source": [
        "test_accuracy =eval(model, eval_loader)"
      ],
      "execution_count": null,
      "outputs": []
    }
  ]
}